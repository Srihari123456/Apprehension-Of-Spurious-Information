{
  "metadata": {
    "kernelspec": {
      "language": "python",
      "display_name": "Python 3",
      "name": "python3"
    },
    "language_info": {
      "name": "python",
      "version": "3.7.12",
      "mimetype": "text/x-python",
      "codemirror_mode": {
        "name": "ipython",
        "version": 3
      },
      "pygments_lexer": "ipython3",
      "nbconvert_exporter": "python",
      "file_extension": ".py"
    },
    "colab": {
      "name": "NLP_MINI_PROJECT_DISASTER_TWEETS.ipynb",
      "provenance": [],
      "toc_visible": true
    },
    "accelerator": "GPU"
  },
  "nbformat_minor": 0,
  "nbformat": 4,
  "cells": [
    {
      "cell_type": "code",
      "source": [
        "import nltk\n",
        "nltk.download('stopwords')\n",
        "nltk.download('wordnet')"
      ],
      "metadata": {
        "id": "cC2i_cUmic5x",
        "outputId": "a7c05086-731b-4828-99f5-060eeacf8a14",
        "execution": {
          "iopub.status.busy": "2021-12-26T15:11:22.193046Z",
          "iopub.execute_input": "2021-12-26T15:11:22.193485Z",
          "iopub.status.idle": "2021-12-26T15:11:23.939487Z",
          "shell.execute_reply.started": "2021-12-26T15:11:22.193355Z",
          "shell.execute_reply": "2021-12-26T15:11:23.938528Z"
        },
        "trusted": true,
        "colab": {
          "base_uri": "https://localhost:8080/"
        }
      },
      "execution_count": 1,
      "outputs": [
        {
          "output_type": "stream",
          "name": "stdout",
          "text": [
            "[nltk_data] Downloading package stopwords to /root/nltk_data...\n",
            "[nltk_data]   Unzipping corpora/stopwords.zip.\n",
            "[nltk_data] Downloading package wordnet to /root/nltk_data...\n",
            "[nltk_data]   Unzipping corpora/wordnet.zip.\n"
          ]
        },
        {
          "output_type": "execute_result",
          "data": {
            "text/plain": [
              "True"
            ]
          },
          "metadata": {},
          "execution_count": 1
        }
      ]
    },
    {
      "cell_type": "markdown",
      "source": [
        "### Imports"
      ],
      "metadata": {
        "id": "VQlvDY2Oh5eB"
      }
    },
    {
      "cell_type": "code",
      "source": [
        "import pandas as pd \n",
        "import numpy as np \n",
        "\n",
        "from sklearn.model_selection import train_test_split\n",
        "\n",
        "import tensorflow as tf\n",
        "from tensorflow.keras.preprocessing.text import Tokenizer\n",
        "from tensorflow.keras.preprocessing.sequence import pad_sequences\n",
        "from tensorflow.keras.models import Sequential\n",
        "from tensorflow.keras.layers import Embedding, LSTM, Dense, Bidirectional, Flatten, GlobalAveragePooling1D, Dropout, GRU\n",
        "from tensorflow.keras.callbacks import ModelCheckpoint, EarlyStopping\n",
        "\n",
        "import nltk\n",
        "import re\n",
        "from nltk.corpus import stopwords\n",
        "from textblob import Word, TextBlob\n",
        "\n",
        "import matplotlib.pyplot as plt\n",
        "from sklearn.metrics import classification_report, confusion_matrix, accuracy_score\n",
        "import seaborn as sns"
      ],
      "metadata": {
        "id": "eI8cBmV2h5eG",
        "execution": {
          "iopub.status.busy": "2021-12-26T15:11:25.272544Z",
          "iopub.execute_input": "2021-12-26T15:11:25.273372Z",
          "iopub.status.idle": "2021-12-26T15:11:31.097666Z",
          "shell.execute_reply.started": "2021-12-26T15:11:25.273334Z",
          "shell.execute_reply": "2021-12-26T15:11:31.096629Z"
        },
        "trusted": true
      },
      "execution_count": 2,
      "outputs": []
    },
    {
      "cell_type": "markdown",
      "source": [
        "### Load Dataset"
      ],
      "metadata": {
        "id": "YRNhiXLwh5eH"
      }
    },
    {
      "cell_type": "code",
      "source": [
        "train_df = pd.read_csv('/content/train_data.csv')"
      ],
      "metadata": {
        "id": "rfHBCILeh5eI",
        "execution": {
          "iopub.status.busy": "2021-12-26T15:11:31.099585Z",
          "iopub.execute_input": "2021-12-26T15:11:31.099892Z",
          "iopub.status.idle": "2021-12-26T15:11:31.161186Z",
          "shell.execute_reply.started": "2021-12-26T15:11:31.099850Z",
          "shell.execute_reply": "2021-12-26T15:11:31.160191Z"
        },
        "trusted": true
      },
      "execution_count": 3,
      "outputs": []
    },
    {
      "cell_type": "markdown",
      "source": [
        "### Data Preprocessing"
      ],
      "metadata": {
        "id": "xpskrRPuh5eI"
      }
    },
    {
      "cell_type": "code",
      "source": [
        "train_df.drop(columns=['id','keyword','location'], axis=1, inplace=True)\n",
        "print(train_df.shape)"
      ],
      "metadata": {
        "id": "F8HlgMvSh5eI",
        "outputId": "e3226fea-a8d8-48e7-9e9a-e3b95e07f458",
        "execution": {
          "iopub.status.busy": "2021-12-26T15:11:31.163637Z",
          "iopub.execute_input": "2021-12-26T15:11:31.164143Z",
          "iopub.status.idle": "2021-12-26T15:11:31.183155Z",
          "shell.execute_reply.started": "2021-12-26T15:11:31.164097Z",
          "shell.execute_reply": "2021-12-26T15:11:31.182055Z"
        },
        "trusted": true,
        "colab": {
          "base_uri": "https://localhost:8080/"
        }
      },
      "execution_count": 4,
      "outputs": [
        {
          "output_type": "stream",
          "name": "stdout",
          "text": [
            "(7613, 2)\n"
          ]
        }
      ]
    },
    {
      "cell_type": "code",
      "source": [
        "train_df.head()"
      ],
      "metadata": {
        "id": "wUiMWWZVh5eK",
        "outputId": "9d75bf10-4eba-4382-b7db-95b8fbd30149",
        "execution": {
          "iopub.status.busy": "2021-12-26T15:11:31.185774Z",
          "iopub.execute_input": "2021-12-26T15:11:31.186381Z",
          "iopub.status.idle": "2021-12-26T15:11:31.202877Z",
          "shell.execute_reply.started": "2021-12-26T15:11:31.186337Z",
          "shell.execute_reply": "2021-12-26T15:11:31.201763Z"
        },
        "trusted": true,
        "colab": {
          "base_uri": "https://localhost:8080/",
          "height": 206
        }
      },
      "execution_count": 5,
      "outputs": [
        {
          "output_type": "execute_result",
          "data": {
            "text/html": [
              "\n",
              "  <div id=\"df-636d5364-ec07-48c2-9079-063ec953f9a6\">\n",
              "    <div class=\"colab-df-container\">\n",
              "      <div>\n",
              "<style scoped>\n",
              "    .dataframe tbody tr th:only-of-type {\n",
              "        vertical-align: middle;\n",
              "    }\n",
              "\n",
              "    .dataframe tbody tr th {\n",
              "        vertical-align: top;\n",
              "    }\n",
              "\n",
              "    .dataframe thead th {\n",
              "        text-align: right;\n",
              "    }\n",
              "</style>\n",
              "<table border=\"1\" class=\"dataframe\">\n",
              "  <thead>\n",
              "    <tr style=\"text-align: right;\">\n",
              "      <th></th>\n",
              "      <th>text</th>\n",
              "      <th>target</th>\n",
              "    </tr>\n",
              "  </thead>\n",
              "  <tbody>\n",
              "    <tr>\n",
              "      <th>0</th>\n",
              "      <td>Our Deeds are the Reason of this  # earthquake...</td>\n",
              "      <td>1</td>\n",
              "    </tr>\n",
              "    <tr>\n",
              "      <th>1</th>\n",
              "      <td>Forest fire near La Ronge Sask .  Canada</td>\n",
              "      <td>1</td>\n",
              "    </tr>\n",
              "    <tr>\n",
              "      <th>2</th>\n",
              "      <td>All residents asked to  ' shelter in place '  ...</td>\n",
              "      <td>1</td>\n",
              "    </tr>\n",
              "    <tr>\n",
              "      <th>3</th>\n",
              "      <td>13,000 people receive  # wildfires evacuation ...</td>\n",
              "      <td>1</td>\n",
              "    </tr>\n",
              "    <tr>\n",
              "      <th>4</th>\n",
              "      <td>Just got sent this photo from Ruby  # Alaska a...</td>\n",
              "      <td>1</td>\n",
              "    </tr>\n",
              "  </tbody>\n",
              "</table>\n",
              "</div>\n",
              "      <button class=\"colab-df-convert\" onclick=\"convertToInteractive('df-636d5364-ec07-48c2-9079-063ec953f9a6')\"\n",
              "              title=\"Convert this dataframe to an interactive table.\"\n",
              "              style=\"display:none;\">\n",
              "        \n",
              "  <svg xmlns=\"http://www.w3.org/2000/svg\" height=\"24px\"viewBox=\"0 0 24 24\"\n",
              "       width=\"24px\">\n",
              "    <path d=\"M0 0h24v24H0V0z\" fill=\"none\"/>\n",
              "    <path d=\"M18.56 5.44l.94 2.06.94-2.06 2.06-.94-2.06-.94-.94-2.06-.94 2.06-2.06.94zm-11 1L8.5 8.5l.94-2.06 2.06-.94-2.06-.94L8.5 2.5l-.94 2.06-2.06.94zm10 10l.94 2.06.94-2.06 2.06-.94-2.06-.94-.94-2.06-.94 2.06-2.06.94z\"/><path d=\"M17.41 7.96l-1.37-1.37c-.4-.4-.92-.59-1.43-.59-.52 0-1.04.2-1.43.59L10.3 9.45l-7.72 7.72c-.78.78-.78 2.05 0 2.83L4 21.41c.39.39.9.59 1.41.59.51 0 1.02-.2 1.41-.59l7.78-7.78 2.81-2.81c.8-.78.8-2.07 0-2.86zM5.41 20L4 18.59l7.72-7.72 1.47 1.35L5.41 20z\"/>\n",
              "  </svg>\n",
              "      </button>\n",
              "      \n",
              "  <style>\n",
              "    .colab-df-container {\n",
              "      display:flex;\n",
              "      flex-wrap:wrap;\n",
              "      gap: 12px;\n",
              "    }\n",
              "\n",
              "    .colab-df-convert {\n",
              "      background-color: #E8F0FE;\n",
              "      border: none;\n",
              "      border-radius: 50%;\n",
              "      cursor: pointer;\n",
              "      display: none;\n",
              "      fill: #1967D2;\n",
              "      height: 32px;\n",
              "      padding: 0 0 0 0;\n",
              "      width: 32px;\n",
              "    }\n",
              "\n",
              "    .colab-df-convert:hover {\n",
              "      background-color: #E2EBFA;\n",
              "      box-shadow: 0px 1px 2px rgba(60, 64, 67, 0.3), 0px 1px 3px 1px rgba(60, 64, 67, 0.15);\n",
              "      fill: #174EA6;\n",
              "    }\n",
              "\n",
              "    [theme=dark] .colab-df-convert {\n",
              "      background-color: #3B4455;\n",
              "      fill: #D2E3FC;\n",
              "    }\n",
              "\n",
              "    [theme=dark] .colab-df-convert:hover {\n",
              "      background-color: #434B5C;\n",
              "      box-shadow: 0px 1px 3px 1px rgba(0, 0, 0, 0.15);\n",
              "      filter: drop-shadow(0px 1px 2px rgba(0, 0, 0, 0.3));\n",
              "      fill: #FFFFFF;\n",
              "    }\n",
              "  </style>\n",
              "\n",
              "      <script>\n",
              "        const buttonEl =\n",
              "          document.querySelector('#df-636d5364-ec07-48c2-9079-063ec953f9a6 button.colab-df-convert');\n",
              "        buttonEl.style.display =\n",
              "          google.colab.kernel.accessAllowed ? 'block' : 'none';\n",
              "\n",
              "        async function convertToInteractive(key) {\n",
              "          const element = document.querySelector('#df-636d5364-ec07-48c2-9079-063ec953f9a6');\n",
              "          const dataTable =\n",
              "            await google.colab.kernel.invokeFunction('convertToInteractive',\n",
              "                                                     [key], {});\n",
              "          if (!dataTable) return;\n",
              "\n",
              "          const docLinkHtml = 'Like what you see? Visit the ' +\n",
              "            '<a target=\"_blank\" href=https://colab.research.google.com/notebooks/data_table.ipynb>data table notebook</a>'\n",
              "            + ' to learn more about interactive tables.';\n",
              "          element.innerHTML = '';\n",
              "          dataTable['output_type'] = 'display_data';\n",
              "          await google.colab.output.renderOutput(dataTable, element);\n",
              "          const docLink = document.createElement('div');\n",
              "          docLink.innerHTML = docLinkHtml;\n",
              "          element.appendChild(docLink);\n",
              "        }\n",
              "      </script>\n",
              "    </div>\n",
              "  </div>\n",
              "  "
            ],
            "text/plain": [
              "                                                text  target\n",
              "0  Our Deeds are the Reason of this  # earthquake...       1\n",
              "1           Forest fire near La Ronge Sask .  Canada       1\n",
              "2  All residents asked to  ' shelter in place '  ...       1\n",
              "3  13,000 people receive  # wildfires evacuation ...       1\n",
              "4  Just got sent this photo from Ruby  # Alaska a...       1"
            ]
          },
          "metadata": {},
          "execution_count": 5
        }
      ]
    },
    {
      "cell_type": "code",
      "source": [
        "train_df[\"text\"]=train_df[\"text\"].apply(lambda x: \" \".join(x.lower() for x in x.split()))\n",
        "train_df[\"text\"]=train_df[\"text\"].str.replace('[^\\w\\s]', '').replace('\\d', '')\n",
        "\n",
        "sw=stopwords.words('english')\n",
        "train_df[\"text\"]=train_df[\"text\"].apply(lambda x: \" \".join(x for x in x.split() if x not in sw))\n",
        "train_df[\"text\"]=train_df[\"text\"].apply(lambda x:\" \".join([Word(word).lemmatize() for word in x.split()]))\n",
        "\n",
        "train_df.head()"
      ],
      "metadata": {
        "id": "UJiLFXjIh5eK",
        "outputId": "f4a111e4-66cd-42bd-eecf-08d7d982b58e",
        "execution": {
          "iopub.status.busy": "2021-12-26T15:11:31.204643Z",
          "iopub.execute_input": "2021-12-26T15:11:31.205056Z",
          "iopub.status.idle": "2021-12-26T15:11:34.819434Z",
          "shell.execute_reply.started": "2021-12-26T15:11:31.205010Z",
          "shell.execute_reply": "2021-12-26T15:11:34.818351Z"
        },
        "trusted": true,
        "colab": {
          "base_uri": "https://localhost:8080/",
          "height": 206
        }
      },
      "execution_count": 6,
      "outputs": [
        {
          "output_type": "execute_result",
          "data": {
            "text/html": [
              "\n",
              "  <div id=\"df-594c4cce-944c-440a-ae98-976d5857fdfb\">\n",
              "    <div class=\"colab-df-container\">\n",
              "      <div>\n",
              "<style scoped>\n",
              "    .dataframe tbody tr th:only-of-type {\n",
              "        vertical-align: middle;\n",
              "    }\n",
              "\n",
              "    .dataframe tbody tr th {\n",
              "        vertical-align: top;\n",
              "    }\n",
              "\n",
              "    .dataframe thead th {\n",
              "        text-align: right;\n",
              "    }\n",
              "</style>\n",
              "<table border=\"1\" class=\"dataframe\">\n",
              "  <thead>\n",
              "    <tr style=\"text-align: right;\">\n",
              "      <th></th>\n",
              "      <th>text</th>\n",
              "      <th>target</th>\n",
              "    </tr>\n",
              "  </thead>\n",
              "  <tbody>\n",
              "    <tr>\n",
              "      <th>0</th>\n",
              "      <td>deed reason earthquake may allah forgive u</td>\n",
              "      <td>1</td>\n",
              "    </tr>\n",
              "    <tr>\n",
              "      <th>1</th>\n",
              "      <td>forest fire near la ronge sask canada</td>\n",
              "      <td>1</td>\n",
              "    </tr>\n",
              "    <tr>\n",
              "      <th>2</th>\n",
              "      <td>resident asked shelter place notified officer ...</td>\n",
              "      <td>1</td>\n",
              "    </tr>\n",
              "    <tr>\n",
              "      <th>3</th>\n",
              "      <td>13000 people receive wildfire evacuation order...</td>\n",
              "      <td>1</td>\n",
              "    </tr>\n",
              "    <tr>\n",
              "      <th>4</th>\n",
              "      <td>got sent photo ruby alaska smoke wildfire pour...</td>\n",
              "      <td>1</td>\n",
              "    </tr>\n",
              "  </tbody>\n",
              "</table>\n",
              "</div>\n",
              "      <button class=\"colab-df-convert\" onclick=\"convertToInteractive('df-594c4cce-944c-440a-ae98-976d5857fdfb')\"\n",
              "              title=\"Convert this dataframe to an interactive table.\"\n",
              "              style=\"display:none;\">\n",
              "        \n",
              "  <svg xmlns=\"http://www.w3.org/2000/svg\" height=\"24px\"viewBox=\"0 0 24 24\"\n",
              "       width=\"24px\">\n",
              "    <path d=\"M0 0h24v24H0V0z\" fill=\"none\"/>\n",
              "    <path d=\"M18.56 5.44l.94 2.06.94-2.06 2.06-.94-2.06-.94-.94-2.06-.94 2.06-2.06.94zm-11 1L8.5 8.5l.94-2.06 2.06-.94-2.06-.94L8.5 2.5l-.94 2.06-2.06.94zm10 10l.94 2.06.94-2.06 2.06-.94-2.06-.94-.94-2.06-.94 2.06-2.06.94z\"/><path d=\"M17.41 7.96l-1.37-1.37c-.4-.4-.92-.59-1.43-.59-.52 0-1.04.2-1.43.59L10.3 9.45l-7.72 7.72c-.78.78-.78 2.05 0 2.83L4 21.41c.39.39.9.59 1.41.59.51 0 1.02-.2 1.41-.59l7.78-7.78 2.81-2.81c.8-.78.8-2.07 0-2.86zM5.41 20L4 18.59l7.72-7.72 1.47 1.35L5.41 20z\"/>\n",
              "  </svg>\n",
              "      </button>\n",
              "      \n",
              "  <style>\n",
              "    .colab-df-container {\n",
              "      display:flex;\n",
              "      flex-wrap:wrap;\n",
              "      gap: 12px;\n",
              "    }\n",
              "\n",
              "    .colab-df-convert {\n",
              "      background-color: #E8F0FE;\n",
              "      border: none;\n",
              "      border-radius: 50%;\n",
              "      cursor: pointer;\n",
              "      display: none;\n",
              "      fill: #1967D2;\n",
              "      height: 32px;\n",
              "      padding: 0 0 0 0;\n",
              "      width: 32px;\n",
              "    }\n",
              "\n",
              "    .colab-df-convert:hover {\n",
              "      background-color: #E2EBFA;\n",
              "      box-shadow: 0px 1px 2px rgba(60, 64, 67, 0.3), 0px 1px 3px 1px rgba(60, 64, 67, 0.15);\n",
              "      fill: #174EA6;\n",
              "    }\n",
              "\n",
              "    [theme=dark] .colab-df-convert {\n",
              "      background-color: #3B4455;\n",
              "      fill: #D2E3FC;\n",
              "    }\n",
              "\n",
              "    [theme=dark] .colab-df-convert:hover {\n",
              "      background-color: #434B5C;\n",
              "      box-shadow: 0px 1px 3px 1px rgba(0, 0, 0, 0.15);\n",
              "      filter: drop-shadow(0px 1px 2px rgba(0, 0, 0, 0.3));\n",
              "      fill: #FFFFFF;\n",
              "    }\n",
              "  </style>\n",
              "\n",
              "      <script>\n",
              "        const buttonEl =\n",
              "          document.querySelector('#df-594c4cce-944c-440a-ae98-976d5857fdfb button.colab-df-convert');\n",
              "        buttonEl.style.display =\n",
              "          google.colab.kernel.accessAllowed ? 'block' : 'none';\n",
              "\n",
              "        async function convertToInteractive(key) {\n",
              "          const element = document.querySelector('#df-594c4cce-944c-440a-ae98-976d5857fdfb');\n",
              "          const dataTable =\n",
              "            await google.colab.kernel.invokeFunction('convertToInteractive',\n",
              "                                                     [key], {});\n",
              "          if (!dataTable) return;\n",
              "\n",
              "          const docLinkHtml = 'Like what you see? Visit the ' +\n",
              "            '<a target=\"_blank\" href=https://colab.research.google.com/notebooks/data_table.ipynb>data table notebook</a>'\n",
              "            + ' to learn more about interactive tables.';\n",
              "          element.innerHTML = '';\n",
              "          dataTable['output_type'] = 'display_data';\n",
              "          await google.colab.output.renderOutput(dataTable, element);\n",
              "          const docLink = document.createElement('div');\n",
              "          docLink.innerHTML = docLinkHtml;\n",
              "          element.appendChild(docLink);\n",
              "        }\n",
              "      </script>\n",
              "    </div>\n",
              "  </div>\n",
              "  "
            ],
            "text/plain": [
              "                                                text  target\n",
              "0         deed reason earthquake may allah forgive u       1\n",
              "1              forest fire near la ronge sask canada       1\n",
              "2  resident asked shelter place notified officer ...       1\n",
              "3  13000 people receive wildfire evacuation order...       1\n",
              "4  got sent photo ruby alaska smoke wildfire pour...       1"
            ]
          },
          "metadata": {},
          "execution_count": 6
        }
      ]
    },
    {
      "cell_type": "markdown",
      "source": [
        "# Keras Embeddings"
      ],
      "metadata": {
        "id": "ByEfntu2QjJ0"
      }
    },
    {
      "cell_type": "markdown",
      "source": [
        "### Splitting Data"
      ],
      "metadata": {
        "id": "fde4yqE8h5eL"
      }
    },
    {
      "cell_type": "code",
      "source": [
        "X_train, X_test, y_train, y_test = train_test_split(train_df['text'],train_df['target'], test_size=0.2, random_state=111)\n",
        "print(X_train.shape, y_train.shape, X_test.shape, y_test.shape)"
      ],
      "metadata": {
        "id": "qgPnXPGKh5eM",
        "outputId": "862d1e08-007d-43d5-efbb-c18329fe9ab0",
        "execution": {
          "iopub.status.busy": "2021-12-19T08:25:05.298048Z",
          "iopub.execute_input": "2021-12-19T08:25:05.298306Z",
          "iopub.status.idle": "2021-12-19T08:25:05.308115Z",
          "shell.execute_reply.started": "2021-12-19T08:25:05.298276Z",
          "shell.execute_reply": "2021-12-19T08:25:05.30714Z"
        },
        "trusted": true,
        "colab": {
          "base_uri": "https://localhost:8080/"
        }
      },
      "execution_count": 21,
      "outputs": [
        {
          "output_type": "stream",
          "name": "stdout",
          "text": [
            "(6090,) (6090,) (1523,) (1523,)\n"
          ]
        }
      ]
    },
    {
      "cell_type": "markdown",
      "source": [
        "### Tokenizing"
      ],
      "metadata": {
        "id": "Sn-ovyc0h5eM"
      }
    },
    {
      "cell_type": "code",
      "source": [
        "vocab_size = 10000\n",
        "oov_token = \"<OOV>\"\n",
        "tokenizer = Tokenizer(num_words=vocab_size, oov_token=oov_token)\n",
        "\n",
        "tokenizer.fit_on_texts(X_train)"
      ],
      "metadata": {
        "id": "dgeo55eKh5eN",
        "execution": {
          "iopub.status.busy": "2021-12-19T08:25:08.001309Z",
          "iopub.execute_input": "2021-12-19T08:25:08.001852Z",
          "iopub.status.idle": "2021-12-19T08:25:08.108915Z",
          "shell.execute_reply.started": "2021-12-19T08:25:08.001812Z",
          "shell.execute_reply": "2021-12-19T08:25:08.108208Z"
        },
        "trusted": true
      },
      "execution_count": 22,
      "outputs": []
    },
    {
      "cell_type": "code",
      "source": [
        "X_train = tokenizer.texts_to_sequences(X_train)\n",
        "X_test = tokenizer.texts_to_sequences(X_test)"
      ],
      "metadata": {
        "id": "DdzW8IP5h5eN",
        "execution": {
          "iopub.status.busy": "2021-12-19T08:25:16.396209Z",
          "iopub.execute_input": "2021-12-19T08:25:16.396624Z",
          "iopub.status.idle": "2021-12-19T08:25:16.506213Z",
          "shell.execute_reply.started": "2021-12-19T08:25:16.396585Z",
          "shell.execute_reply": "2021-12-19T08:25:16.505439Z"
        },
        "trusted": true
      },
      "execution_count": 23,
      "outputs": []
    },
    {
      "cell_type": "code",
      "source": [
        "max_length = 120\n",
        "trunc_type = 'post'\n",
        "pad_type = 'post'\n",
        "\n",
        "X_train_padded = pad_sequences(X_train, maxlen=max_length, truncating=trunc_type, padding=pad_type)\n",
        "X_test_padded = pad_sequences(X_test, maxlen=max_length, truncating=trunc_type, padding=pad_type)"
      ],
      "metadata": {
        "id": "3NOIReLQh5eN",
        "execution": {
          "iopub.status.busy": "2021-12-19T08:25:18.289086Z",
          "iopub.execute_input": "2021-12-19T08:25:18.289749Z",
          "iopub.status.idle": "2021-12-19T08:25:18.363588Z",
          "shell.execute_reply.started": "2021-12-19T08:25:18.289704Z",
          "shell.execute_reply": "2021-12-19T08:25:18.362958Z"
        },
        "trusted": true
      },
      "execution_count": 24,
      "outputs": []
    },
    {
      "cell_type": "code",
      "source": [
        "print(X_train_padded.shape, X_test_padded.shape)"
      ],
      "metadata": {
        "id": "GD4X2YVTh5eO",
        "outputId": "d6b01988-360e-48bc-dba1-8378894316be",
        "execution": {
          "iopub.status.busy": "2021-12-19T08:25:19.551897Z",
          "iopub.execute_input": "2021-12-19T08:25:19.55246Z",
          "iopub.status.idle": "2021-12-19T08:25:19.557068Z",
          "shell.execute_reply.started": "2021-12-19T08:25:19.55242Z",
          "shell.execute_reply": "2021-12-19T08:25:19.556357Z"
        },
        "trusted": true,
        "colab": {
          "base_uri": "https://localhost:8080/"
        }
      },
      "execution_count": 25,
      "outputs": [
        {
          "output_type": "stream",
          "name": "stdout",
          "text": [
            "(6090, 120) (1523, 120)\n"
          ]
        }
      ]
    },
    {
      "cell_type": "code",
      "source": [
        "print(type(X_train_padded), type(X_test_padded))\n",
        "print(type(y_train), type(y_test))\n",
        "y_train = np.array(y_train)\n",
        "y_test = np.array(y_test)\n",
        "print(type(X_train_padded), type(X_test_padded))\n",
        "print(type(y_train), type(y_test))"
      ],
      "metadata": {
        "id": "Q7S4mPosh5eO",
        "outputId": "07bdb561-00ff-42b0-8466-372033a7cb24",
        "execution": {
          "iopub.status.busy": "2021-12-19T08:25:20.989052Z",
          "iopub.execute_input": "2021-12-19T08:25:20.989346Z",
          "iopub.status.idle": "2021-12-19T08:25:21.256284Z",
          "shell.execute_reply.started": "2021-12-19T08:25:20.989311Z",
          "shell.execute_reply": "2021-12-19T08:25:21.255516Z"
        },
        "trusted": true,
        "colab": {
          "base_uri": "https://localhost:8080/"
        }
      },
      "execution_count": 26,
      "outputs": [
        {
          "output_type": "stream",
          "name": "stdout",
          "text": [
            "<class 'numpy.ndarray'> <class 'numpy.ndarray'>\n",
            "<class 'pandas.core.series.Series'> <class 'pandas.core.series.Series'>\n",
            "<class 'numpy.ndarray'> <class 'numpy.ndarray'>\n",
            "<class 'numpy.ndarray'> <class 'numpy.ndarray'>\n"
          ]
        }
      ]
    },
    {
      "cell_type": "markdown",
      "source": [
        "### Model Creation"
      ],
      "metadata": {
        "id": "Rj_2lUJVh5eP"
      }
    },
    {
      "cell_type": "code",
      "source": [
        "embedding_dim = 300"
      ],
      "metadata": {
        "id": "z3sA5LRah5eP",
        "execution": {
          "iopub.status.busy": "2021-12-19T08:25:29.095577Z",
          "iopub.execute_input": "2021-12-19T08:25:29.096251Z",
          "iopub.status.idle": "2021-12-19T08:25:29.101321Z",
          "shell.execute_reply.started": "2021-12-19T08:25:29.096217Z",
          "shell.execute_reply": "2021-12-19T08:25:29.100468Z"
        },
        "trusted": true
      },
      "execution_count": 27,
      "outputs": []
    },
    {
      "cell_type": "code",
      "source": [
        "model = Sequential()\n",
        "# define CNN model\n",
        "model.add(Embedding(vocab_size, embedding_dim, input_length=max_length))\n",
        "model.add(tf.keras.layers.Conv1D(filters=32, kernel_size=8, activation='relu'))\n",
        "model.add(tf.keras.layers.MaxPooling1D(pool_size=2))\n",
        "# define LSTM model\n",
        "model.add(Bidirectional(GRU(32, return_sequences=True)))\n",
        "#model.add(GRU(32, return_sequences=True))\n",
        "##model.add(Dropout(0.3))\n",
        "model.add(Flatten())\n",
        "model.add(Dense(32, activation=\"relu\"))\n",
        "##model.add(Dropout(0.3))\n",
        "model.add(Dense(1, activation=\"sigmoid\"))"
      ],
      "metadata": {
        "id": "UyKjPI1Mm1oT",
        "execution": {
          "iopub.status.busy": "2021-12-19T08:25:30.149353Z",
          "iopub.execute_input": "2021-12-19T08:25:30.149616Z",
          "iopub.status.idle": "2021-12-19T08:25:30.533795Z",
          "shell.execute_reply.started": "2021-12-19T08:25:30.149586Z",
          "shell.execute_reply": "2021-12-19T08:25:30.53305Z"
        },
        "trusted": true
      },
      "execution_count": 28,
      "outputs": []
    },
    {
      "cell_type": "markdown",
      "source": [
        "### Model Compilation"
      ],
      "metadata": {
        "id": "OU4eitTIh5eQ"
      }
    },
    {
      "cell_type": "code",
      "source": [
        "optimizer = tf.keras.optimizers.Adam(learning_rate = 0.0001)\n",
        "model.compile(\n",
        "    loss = \"binary_crossentropy\",\n",
        "    optimizer = optimizer,\n",
        "    metrics = [\"accuracy\"]\n",
        ")"
      ],
      "metadata": {
        "id": "C02uyPpah5eQ",
        "execution": {
          "iopub.status.busy": "2021-12-19T08:25:37.011859Z",
          "iopub.execute_input": "2021-12-19T08:25:37.012119Z",
          "iopub.status.idle": "2021-12-19T08:25:37.023995Z",
          "shell.execute_reply.started": "2021-12-19T08:25:37.012087Z",
          "shell.execute_reply": "2021-12-19T08:25:37.023219Z"
        },
        "trusted": true
      },
      "execution_count": 29,
      "outputs": []
    },
    {
      "cell_type": "code",
      "source": [
        "filepath = 'my_checkpoint.ckpt'\n",
        "cp = ModelCheckpoint(\n",
        "    filepath=filepath,\n",
        "    save_weights_only=True,\n",
        "    save_best_only=True,\n",
        "    monitor='val_accuracy',\n",
        "    verbose=1\n",
        ")"
      ],
      "metadata": {
        "id": "aKZeFo3Wh5eR",
        "execution": {
          "iopub.status.busy": "2021-12-19T08:25:38.460711Z",
          "iopub.execute_input": "2021-12-19T08:25:38.461228Z",
          "iopub.status.idle": "2021-12-19T08:25:38.466332Z",
          "shell.execute_reply.started": "2021-12-19T08:25:38.461191Z",
          "shell.execute_reply": "2021-12-19T08:25:38.465616Z"
        },
        "trusted": true
      },
      "execution_count": 30,
      "outputs": []
    },
    {
      "cell_type": "code",
      "source": [
        "ep = EarlyStopping(\n",
        "    monitor='val_accuracy', \n",
        "    patience=7,\n",
        ")"
      ],
      "metadata": {
        "id": "Yrsm8fPph5eR",
        "execution": {
          "iopub.status.busy": "2021-12-19T08:25:48.714431Z",
          "iopub.execute_input": "2021-12-19T08:25:48.715025Z",
          "iopub.status.idle": "2021-12-19T08:25:48.718669Z",
          "shell.execute_reply.started": "2021-12-19T08:25:48.714978Z",
          "shell.execute_reply": "2021-12-19T08:25:48.717918Z"
        },
        "trusted": true
      },
      "execution_count": 31,
      "outputs": []
    },
    {
      "cell_type": "markdown",
      "source": [
        "### Model Training"
      ],
      "metadata": {
        "id": "NMQkutzLh5eR"
      }
    },
    {
      "cell_type": "code",
      "source": [
        "epochs=25\n",
        "history = model.fit(\n",
        "    X_train_padded, y_train,\n",
        "    validation_split = 0.2,\n",
        "    callbacks=[cp,ep],\n",
        "    batch_size=128,\n",
        "    epochs=epochs\n",
        ")"
      ],
      "metadata": {
        "id": "ZgvFgtRJoV3c",
        "outputId": "10d03f21-fc38-476e-c172-17a06469f684",
        "execution": {
          "iopub.status.busy": "2021-12-19T08:25:53.40324Z",
          "iopub.execute_input": "2021-12-19T08:25:53.4038Z",
          "iopub.status.idle": "2021-12-19T08:26:04.753209Z",
          "shell.execute_reply.started": "2021-12-19T08:25:53.403764Z",
          "shell.execute_reply": "2021-12-19T08:26:04.752424Z"
        },
        "trusted": true,
        "colab": {
          "base_uri": "https://localhost:8080/"
        }
      },
      "execution_count": 32,
      "outputs": [
        {
          "output_type": "stream",
          "name": "stdout",
          "text": [
            "Epoch 1/25\n",
            "38/39 [============================>.] - ETA: 0s - loss: 0.6839 - accuracy: 0.5709\n",
            "Epoch 00001: val_accuracy improved from -inf to 0.55993, saving model to my_checkpoint.ckpt\n",
            "39/39 [==============================] - 9s 116ms/step - loss: 0.6838 - accuracy: 0.5712 - val_loss: 0.6842 - val_accuracy: 0.5599\n",
            "Epoch 2/25\n",
            "38/39 [============================>.] - ETA: 0s - loss: 0.6784 - accuracy: 0.5722\n",
            "Epoch 00002: val_accuracy did not improve from 0.55993\n",
            "39/39 [==============================] - 2s 61ms/step - loss: 0.6784 - accuracy: 0.5720 - val_loss: 0.6780 - val_accuracy: 0.5599\n",
            "Epoch 3/25\n",
            "39/39 [==============================] - ETA: 0s - loss: 0.6650 - accuracy: 0.5846\n",
            "Epoch 00003: val_accuracy improved from 0.55993 to 0.66667, saving model to my_checkpoint.ckpt\n",
            "39/39 [==============================] - 3s 77ms/step - loss: 0.6650 - accuracy: 0.5846 - val_loss: 0.6569 - val_accuracy: 0.6667\n",
            "Epoch 4/25\n",
            "38/39 [============================>.] - ETA: 0s - loss: 0.6234 - accuracy: 0.7111\n",
            "Epoch 00004: val_accuracy improved from 0.66667 to 0.70443, saving model to my_checkpoint.ckpt\n",
            "39/39 [==============================] - 3s 80ms/step - loss: 0.6233 - accuracy: 0.7112 - val_loss: 0.6035 - val_accuracy: 0.7044\n",
            "Epoch 5/25\n",
            "38/39 [============================>.] - ETA: 0s - loss: 0.5083 - accuracy: 0.8174\n",
            "Epoch 00005: val_accuracy improved from 0.70443 to 0.78900, saving model to my_checkpoint.ckpt\n",
            "39/39 [==============================] - 3s 65ms/step - loss: 0.5081 - accuracy: 0.8177 - val_loss: 0.5112 - val_accuracy: 0.7890\n",
            "Epoch 6/25\n",
            "39/39 [==============================] - ETA: 0s - loss: 0.3571 - accuracy: 0.8734\n",
            "Epoch 00006: val_accuracy improved from 0.78900 to 0.79803, saving model to my_checkpoint.ckpt\n",
            "39/39 [==============================] - 2s 55ms/step - loss: 0.3571 - accuracy: 0.8734 - val_loss: 0.4674 - val_accuracy: 0.7980\n",
            "Epoch 7/25\n",
            "38/39 [============================>.] - ETA: 0s - loss: 0.2540 - accuracy: 0.9087\n",
            "Epoch 00007: val_accuracy did not improve from 0.79803\n",
            "39/39 [==============================] - 2s 47ms/step - loss: 0.2541 - accuracy: 0.9087 - val_loss: 0.4950 - val_accuracy: 0.7849\n",
            "Epoch 8/25\n",
            "39/39 [==============================] - ETA: 0s - loss: 0.1924 - accuracy: 0.9308\n",
            "Epoch 00008: val_accuracy did not improve from 0.79803\n",
            "39/39 [==============================] - 2s 43ms/step - loss: 0.1924 - accuracy: 0.9308 - val_loss: 0.5401 - val_accuracy: 0.7849\n",
            "Epoch 9/25\n",
            "39/39 [==============================] - ETA: 0s - loss: 0.1483 - accuracy: 0.9466\n",
            "Epoch 00009: val_accuracy did not improve from 0.79803\n",
            "39/39 [==============================] - 2s 41ms/step - loss: 0.1483 - accuracy: 0.9466 - val_loss: 0.5956 - val_accuracy: 0.7775\n",
            "Epoch 10/25\n",
            "38/39 [============================>.] - ETA: 0s - loss: 0.1190 - accuracy: 0.9599\n",
            "Epoch 00010: val_accuracy did not improve from 0.79803\n",
            "39/39 [==============================] - 2s 48ms/step - loss: 0.1189 - accuracy: 0.9600 - val_loss: 0.6600 - val_accuracy: 0.7767\n",
            "Epoch 11/25\n",
            "38/39 [============================>.] - ETA: 0s - loss: 0.0927 - accuracy: 0.9669\n",
            "Epoch 00011: val_accuracy did not improve from 0.79803\n",
            "39/39 [==============================] - 2s 45ms/step - loss: 0.0926 - accuracy: 0.9670 - val_loss: 0.7361 - val_accuracy: 0.7791\n",
            "Epoch 12/25\n",
            "38/39 [============================>.] - ETA: 0s - loss: 0.0798 - accuracy: 0.9698\n",
            "Epoch 00012: val_accuracy did not improve from 0.79803\n",
            "39/39 [==============================] - 2s 41ms/step - loss: 0.0798 - accuracy: 0.9698 - val_loss: 0.8025 - val_accuracy: 0.7775\n",
            "Epoch 13/25\n",
            "38/39 [============================>.] - ETA: 0s - loss: 0.0659 - accuracy: 0.9743\n",
            "Epoch 00013: val_accuracy did not improve from 0.79803\n",
            "39/39 [==============================] - 2s 43ms/step - loss: 0.0658 - accuracy: 0.9743 - val_loss: 0.8768 - val_accuracy: 0.7783\n"
          ]
        }
      ]
    },
    {
      "cell_type": "markdown",
      "source": [
        "### Graphs"
      ],
      "metadata": {
        "id": "GsMck5sVh5eS"
      }
    },
    {
      "cell_type": "code",
      "source": [
        "print(history.history.keys())\n",
        "plt.axes().set(facecolor =\"white\")\n",
        "plt.plot(history.history['accuracy'],color='c')\n",
        "plt.plot(history.history['val_accuracy'],color='m')\n",
        "plt.title('model accuracy').set_color('black')\n",
        "plt.ylabel('accuracy').set_color('black')\n",
        "plt.xlabel('epoch').set_color('black')\n",
        "plt.legend(['train', 'validation'], loc='upper left')\n",
        "\n",
        "plt.show()\n",
        "\n",
        "plt.axes().set(facecolor =\"white\")\n",
        "plt.plot(history.history['loss'])\n",
        "plt.plot(history.history['val_loss'])\n",
        "plt.legend(['train', 'validation'], loc='upper left')\n",
        "plt.title('model loss').set_color('black')\n",
        "plt.ylabel('loss').set_color('black')\n",
        "plt.xlabel('epoch').set_color('black')\n",
        "plt.show()"
      ],
      "metadata": {
        "id": "PDYlkXLbokW4",
        "outputId": "e3d5bdb9-74f4-4c45-e466-65d6d7fbf04d",
        "execution": {
          "iopub.status.busy": "2021-12-19T08:26:18.271246Z",
          "iopub.execute_input": "2021-12-19T08:26:18.27155Z",
          "iopub.status.idle": "2021-12-19T08:26:18.653523Z",
          "shell.execute_reply.started": "2021-12-19T08:26:18.2715Z",
          "shell.execute_reply": "2021-12-19T08:26:18.652902Z"
        },
        "trusted": true,
        "colab": {
          "base_uri": "https://localhost:8080/",
          "height": 591
        }
      },
      "execution_count": 33,
      "outputs": [
        {
          "output_type": "stream",
          "name": "stdout",
          "text": [
            "dict_keys(['loss', 'accuracy', 'val_loss', 'val_accuracy'])\n"
          ]
        },
        {
          "output_type": "display_data",
          "data": {
            "image/png": "[encoded data removed]",
            "text/plain": [
              "<Figure size 432x288 with 1 Axes>"
            ]
          },
          "metadata": {
            "needs_background": "light"
          }
        },
        {
          "output_type": "display_data",
          "data": {
            "image/png": "[encoded data removed]",
            "text/plain": [
              "<Figure size 432x288 with 1 Axes>"
            ]
          },
          "metadata": {
            "needs_background": "light"
          }
        }
      ]
    },
    {
      "cell_type": "markdown",
      "source": [
        "### Model Evaluation"
      ],
      "metadata": {
        "id": "EVnRMGyVh5eT"
      }
    },
    {
      "cell_type": "code",
      "source": [
        "model.evaluate(X_test_padded, y_test)"
      ],
      "metadata": {
        "id": "L6cUJJQPoqKh",
        "outputId": "d202a306-9999-481d-abd6-00648c739392",
        "execution": {
          "iopub.status.busy": "2021-12-19T08:26:28.41626Z",
          "iopub.execute_input": "2021-12-19T08:26:28.416494Z",
          "iopub.status.idle": "2021-12-19T08:26:28.721773Z",
          "shell.execute_reply.started": "2021-12-19T08:26:28.416466Z",
          "shell.execute_reply": "2021-12-19T08:26:28.721101Z"
        },
        "trusted": true,
        "colab": {
          "base_uri": "https://localhost:8080/"
        }
      },
      "execution_count": 34,
      "outputs": [
        {
          "output_type": "stream",
          "name": "stdout",
          "text": [
            "48/48 [==============================] - 1s 11ms/step - loss: 0.8394 - accuracy: 0.7702\n"
          ]
        },
        {
          "output_type": "execute_result",
          "data": {
            "text/plain": [
              "[0.8393506407737732, 0.770190417766571]"
            ]
          },
          "metadata": {},
          "execution_count": 34
        }
      ]
    },
    {
      "cell_type": "markdown",
      "source": [
        "### Predicting Test Data"
      ],
      "metadata": {
        "id": "qW3tKiHLh5eU"
      }
    },
    {
      "cell_type": "code",
      "source": [
        "predictions = (model.predict(X_test_padded) > 0.5).astype(\"int32\")\n",
        "#predict_x=model.predict(X_test_padded) \n",
        "#predictions=np.argmax(predict_x,axis=1)"
      ],
      "metadata": {
        "id": "UCPRPfTZh5eU",
        "execution": {
          "iopub.status.busy": "2021-12-19T08:26:39.60763Z",
          "iopub.execute_input": "2021-12-19T08:26:39.608288Z",
          "iopub.status.idle": "2021-12-19T08:26:40.268546Z",
          "shell.execute_reply.started": "2021-12-19T08:26:39.608247Z",
          "shell.execute_reply": "2021-12-19T08:26:40.26779Z"
        },
        "trusted": true
      },
      "execution_count": 35,
      "outputs": []
    },
    {
      "cell_type": "markdown",
      "source": [
        "### Accuracy"
      ],
      "metadata": {
        "id": "qxn_d-BPh5eU"
      }
    },
    {
      "cell_type": "code",
      "source": [
        "accuracy = accuracy_score(y_test, predictions)\n",
        "print(\"Testing Accuracy: \", accuracy)"
      ],
      "metadata": {
        "id": "Tzl9ym0Ah5eV",
        "outputId": "cec4045b-414e-42fd-de80-fa66e60b6999",
        "execution": {
          "iopub.status.busy": "2021-12-19T08:26:45.295271Z",
          "iopub.execute_input": "2021-12-19T08:26:45.295935Z",
          "iopub.status.idle": "2021-12-19T08:26:45.303227Z",
          "shell.execute_reply.started": "2021-12-19T08:26:45.295896Z",
          "shell.execute_reply": "2021-12-19T08:26:45.302337Z"
        },
        "trusted": true,
        "colab": {
          "base_uri": "https://localhost:8080/"
        }
      },
      "execution_count": 36,
      "outputs": [
        {
          "output_type": "stream",
          "name": "stdout",
          "text": [
            "Testing Accuracy:  0.7701904136572554\n"
          ]
        }
      ]
    },
    {
      "cell_type": "markdown",
      "source": [
        "### Confusion Matrix"
      ],
      "metadata": {
        "id": "ntc_WQtmh5eV"
      }
    },
    {
      "cell_type": "code",
      "source": [
        "print('Confusion Matrix')\n",
        "cm = confusion_matrix(y_test, predictions)\n",
        "print(sns.heatmap(confusion_matrix(y_test, predictions),annot=True,fmt=\"d\"))\n",
        "print(classification_report(y_test, predictions, digits=5))"
      ],
      "metadata": {
        "id": "t88NW386oxZj",
        "outputId": "649f46b8-9463-4488-bb82-d6b36afc3ee6",
        "execution": {
          "iopub.status.busy": "2021-12-19T08:26:46.759015Z",
          "iopub.execute_input": "2021-12-19T08:26:46.759576Z",
          "iopub.status.idle": "2021-12-19T08:26:46.989104Z",
          "shell.execute_reply.started": "2021-12-19T08:26:46.759519Z",
          "shell.execute_reply": "2021-12-19T08:26:46.988364Z"
        },
        "trusted": true,
        "colab": {
          "base_uri": "https://localhost:8080/",
          "height": 466
        }
      },
      "execution_count": 37,
      "outputs": [
        {
          "output_type": "stream",
          "name": "stdout",
          "text": [
            "Confusion Matrix\n",
            "AxesSubplot(0.125,0.125;0.62x0.755)\n",
            "              precision    recall  f1-score   support\n",
            "\n",
            "           0    0.77497   0.84422   0.80811       873\n",
            "           1    0.76224   0.67077   0.71358       650\n",
            "\n",
            "    accuracy                        0.77019      1523\n",
            "   macro avg    0.76861   0.75749   0.76085      1523\n",
            "weighted avg    0.76954   0.77019   0.76777      1523\n",
            "\n"
          ]
        },
        {
          "output_type": "display_data",
          "data": {
            "image/png": "[encoded data removed]",
            "text/plain": [
              "<Figure size 432x288 with 2 Axes>"
            ]
          },
          "metadata": {
            "needs_background": "light"
          }
        }
      ]
    },
    {
      "cell_type": "markdown",
      "source": [
        "### Predicting new tweets"
      ],
      "metadata": {
        "id": "-qrWE0pYh5eX"
      }
    },
    {
      "cell_type": "code",
      "source": [
        "def preprocess_tweet(new_tweet):    \n",
        "    new_tweet = new_tweet.lower()\n",
        "    new_tweet = re.sub('[^\\w\\s]', '', new_tweet)\n",
        "    new_tweet = re.sub('\\d', '', new_tweet)\n",
        "\n",
        "    new_tweet = \" \".join(x for x in new_tweet.split() if x not in sw)\n",
        "    new_tweet = \" \".join([Word(word).lemmatize() for word in new_tweet.split()])\n",
        "    print(\"On preprocessing:\", new_tweet)\n",
        "    \n",
        "    tokenizer.fit_on_texts(new_tweet)\n",
        "\n",
        "    new_tweet = tokenizer.texts_to_sequences([new_tweet])\n",
        "\n",
        "    new_tweet =  pad_sequences(new_tweet, maxlen=max_length, truncating=trunc_type, padding=pad_type)\n",
        "\n",
        "    return new_tweet\n",
        "\n",
        "def predict_newTweet(tweet):\n",
        "    print(\"Input Tweet: \", tweet)\n",
        "    emb_tweet = preprocess_tweet(tweet)\n",
        "    result = (model.predict(emb_tweet) > 0.5).astype(\"int32\")\n",
        "#     print(result)\n",
        "    print(\"Output: \" + \"Real News\" if result[0][0] == 1 else \"Fake News\")\n"
      ],
      "metadata": {
        "id": "l4Uz5fQzh5eX",
        "execution": {
          "iopub.status.busy": "2021-12-19T08:26:52.382023Z",
          "iopub.execute_input": "2021-12-19T08:26:52.382274Z",
          "iopub.status.idle": "2021-12-19T08:26:52.392885Z",
          "shell.execute_reply.started": "2021-12-19T08:26:52.382245Z",
          "shell.execute_reply": "2021-12-19T08:26:52.392181Z"
        },
        "trusted": true
      },
      "execution_count": 38,
      "outputs": []
    },
    {
      "cell_type": "code",
      "source": [
        "new_tweet = \"Fires start in apartment buildings in Chicago; cyclone damaged houses please help us; its an earthquake; injuring 20 civilians #CNN\"\n",
        "predict_newTweet(new_tweet)"
      ],
      "metadata": {
        "id": "J0dVMzOnh5eX",
        "outputId": "f9e9c29f-8617-419d-bc8f-b91f487e401d",
        "execution": {
          "iopub.status.busy": "2021-12-19T08:27:33.600293Z",
          "iopub.execute_input": "2021-12-19T08:27:33.600892Z",
          "iopub.status.idle": "2021-12-19T08:27:33.67581Z",
          "shell.execute_reply.started": "2021-12-19T08:27:33.600849Z",
          "shell.execute_reply": "2021-12-19T08:27:33.675062Z"
        },
        "trusted": true,
        "colab": {
          "base_uri": "https://localhost:8080/"
        }
      },
      "execution_count": 39,
      "outputs": [
        {
          "output_type": "stream",
          "name": "stdout",
          "text": [
            "Input Tweet:  Fires start in apartment buildings in Chicago; cyclone damaged houses please help us; its an earthquake; injuring 20 civilians #CNN\n",
            "On preprocessing: fire start apartment building chicago cyclone damaged house please help u earthquake injuring civilian cnn\n",
            "Output: Real News\n"
          ]
        }
      ]
    },
    {
      "cell_type": "code",
      "source": [
        "new_tweet = \"Car pooling must be incorporated to increase pollution\"\n",
        "predict_newTweet(new_tweet)"
      ],
      "metadata": {
        "id": "kJfNJBCEh5eX",
        "outputId": "abd19b89-0ab1-448e-96d7-fabcf68da87b",
        "execution": {
          "iopub.status.busy": "2021-12-19T08:28:12.65195Z",
          "iopub.execute_input": "2021-12-19T08:28:12.652293Z",
          "iopub.status.idle": "2021-12-19T08:28:12.746142Z",
          "shell.execute_reply.started": "2021-12-19T08:28:12.65225Z",
          "shell.execute_reply": "2021-12-19T08:28:12.745464Z"
        },
        "trusted": true,
        "colab": {
          "base_uri": "https://localhost:8080/"
        }
      },
      "execution_count": 40,
      "outputs": [
        {
          "output_type": "stream",
          "name": "stdout",
          "text": [
            "Input Tweet:  Car pooling must be incorporated to increase pollution\n",
            "On preprocessing: car pooling must incorporated increase pollution\n",
            "Fake News\n"
          ]
        }
      ]
    },
    {
      "cell_type": "markdown",
      "source": [
        "# Word2Vec Exploration"
      ],
      "metadata": {
        "id": "OC7uQBzI93E9"
      }
    },
    {
      "cell_type": "code",
      "source": [
        "import gensim\n",
        "X = [d.split() for d in train_df['text'].tolist()]\n",
        "DIM = 300\n",
        "w2v_model = gensim.models.Word2Vec(sentences = X, size = DIM, window = 10, min_count = 1)"
      ],
      "metadata": {
        "id": "WP9j95r995fD"
      },
      "execution_count": 7,
      "outputs": []
    },
    {
      "cell_type": "code",
      "source": [
        "tokenizer = Tokenizer()\n",
        "tokenizer.fit_on_texts(X)"
      ],
      "metadata": {
        "id": "Oowo1wUX96XK"
      },
      "execution_count": 8,
      "outputs": []
    },
    {
      "cell_type": "code",
      "source": [
        "X = tokenizer.texts_to_sequences(X)"
      ],
      "metadata": {
        "id": "kw_fkWZG96Rz"
      },
      "execution_count": 9,
      "outputs": []
    },
    {
      "cell_type": "code",
      "source": [
        "X = pad_sequences(X, maxlen = 120)\n",
        "vocab_size = len(tokenizer.word_index) + 1"
      ],
      "metadata": {
        "id": "m-kqFia096My"
      },
      "execution_count": 10,
      "outputs": []
    },
    {
      "cell_type": "code",
      "source": [
        "vocab = tokenizer.word_index\n",
        "def get_weight_matrix(model):\n",
        "    weight_matrix = np.zeros((vocab_size, DIM))\n",
        "\n",
        "    for word, i in vocab.items():\n",
        "        weight_matrix[i] = model.wv[word]\n",
        "\n",
        "    return weight_matrix"
      ],
      "metadata": {
        "id": "W6OWPxc696HO"
      },
      "execution_count": 11,
      "outputs": []
    },
    {
      "cell_type": "code",
      "source": [
        "embedding_vectors = get_weight_matrix(w2v_model)\n",
        "embedding_vectors.shape\n",
        "max_length = 120"
      ],
      "metadata": {
        "id": "pI8FVSld96CH"
      },
      "execution_count": 12,
      "outputs": []
    },
    {
      "cell_type": "code",
      "source": [
        "import tensorflow as tf\n",
        "from tensorflow.keras.layers import Embedding, LSTM, Dense, Bidirectional, Flatten, GlobalAveragePooling1D\n",
        "model = Sequential()\n",
        "model.add(Embedding(vocab_size, output_dim = DIM, weights = [embedding_vectors], input_length = max_length, trainable = True))\n",
        "model.add(tf.keras.layers.Conv1D(filters=32, kernel_size=8, activation='relu'))\n",
        "model.add(tf.keras.layers.MaxPooling1D(pool_size=2))\n",
        "model.add(GRU(32, return_sequences=True))\n",
        "#model.add(Bidirectional(GRU(32, return_sequences=True)))\n",
        "model.add(Dropout(0.3))\n",
        "model.add(Flatten())\n",
        "model.add(Dense(32, activation=\"relu\"))\n",
        "model.add(Dropout(0.3))\n",
        "model.add(Dense(1, activation=\"sigmoid\"))\n",
        "model.compile(optimizer = 'adam', loss = 'binary_crossentropy', metrics = ['acc'])"
      ],
      "metadata": {
        "id": "JKAr51hH958b"
      },
      "execution_count": 13,
      "outputs": []
    },
    {
      "cell_type": "code",
      "source": [
        "model.summary()"
      ],
      "metadata": {
        "colab": {
          "base_uri": "https://localhost:8080/"
        },
        "id": "i3_kQGUv-JS1",
        "outputId": "327c7f0d-7e00-4c74-aac8-9dc56c4d1435"
      },
      "execution_count": 14,
      "outputs": [
        {
          "output_type": "stream",
          "name": "stdout",
          "text": [
            "Model: \"sequential\"\n",
            "_________________________________________________________________\n",
            " Layer (type)                Output Shape              Param #   \n",
            "=================================================================\n",
            " embedding (Embedding)       (None, 120, 300)          4661100   \n",
            "                                                                 \n",
            " conv1d (Conv1D)             (None, 113, 32)           76832     \n",
            "                                                                 \n",
            " max_pooling1d (MaxPooling1D  (None, 56, 32)           0         \n",
            " )                                                               \n",
            "                                                                 \n",
            " gru (GRU)                   (None, 56, 32)            6336      \n",
            "                                                                 \n",
            " dropout (Dropout)           (None, 56, 32)            0         \n",
            "                                                                 \n",
            " flatten (Flatten)           (None, 1792)              0         \n",
            "                                                                 \n",
            " dense (Dense)               (None, 32)                57376     \n",
            "                                                                 \n",
            " dropout_1 (Dropout)         (None, 32)                0         \n",
            "                                                                 \n",
            " dense_1 (Dense)             (None, 1)                 33        \n",
            "                                                                 \n",
            "=================================================================\n",
            "Total params: 4,801,677\n",
            "Trainable params: 4,801,677\n",
            "Non-trainable params: 0\n",
            "_________________________________________________________________\n"
          ]
        }
      ]
    },
    {
      "cell_type": "code",
      "source": [
        "X_train, X_test, y_train, y_test = train_test_split(X,train_df['target'], test_size=0.2, random_state=111)\n",
        "print(X_train.shape, y_train.shape, X_test.shape, y_test.shape)"
      ],
      "metadata": {
        "colab": {
          "base_uri": "https://localhost:8080/"
        },
        "id": "Eq0hPcwe-JLl",
        "outputId": "81da0114-3ed9-48ec-9e53-2328f1860135"
      },
      "execution_count": 15,
      "outputs": [
        {
          "output_type": "stream",
          "name": "stdout",
          "text": [
            "(6090, 120) (6090,) (1523, 120) (1523,)\n"
          ]
        }
      ]
    },
    {
      "cell_type": "code",
      "source": [
        "optimizer = tf.keras.optimizers.Adam(learning_rate = 0.0001)\n",
        "model.compile(loss = \"binary_crossentropy\",optimizer = optimizer,metrics = [\"accuracy\"])\n",
        "filepath = 'my_checkpoint.ckpt'\n",
        "cp = ModelCheckpoint(filepath=filepath,save_weights_only=True,save_best_only=True,monitor='val_accuracy',verbose=1)\n",
        "ep = EarlyStopping(monitor='val_accuracy', patience=7,)"
      ],
      "metadata": {
        "id": "a3bZk75o-JIs"
      },
      "execution_count": 16,
      "outputs": []
    },
    {
      "cell_type": "code",
      "source": [
        "epochs=25\n",
        "history = model.fit(\n",
        "    X_train, y_train,\n",
        "    validation_split = 0.2,\n",
        "    callbacks=[cp,ep],\n",
        "    batch_size=128,\n",
        "    epochs=epochs\n",
        ")"
      ],
      "metadata": {
        "colab": {
          "base_uri": "https://localhost:8080/"
        },
        "id": "j7DTsp3B-JFk",
        "outputId": "c7577559-9307-49ab-ae32-52dd4b6d2446"
      },
      "execution_count": 17,
      "outputs": [
        {
          "output_type": "stream",
          "name": "stdout",
          "text": [
            "Epoch 1/25\n",
            "39/39 [==============================] - ETA: 0s - loss: 0.6906 - accuracy: 0.5659\n",
            "Epoch 00001: val_accuracy improved from -inf to 0.55993, saving model to my_checkpoint.ckpt\n",
            "39/39 [==============================] - 18s 83ms/step - loss: 0.6906 - accuracy: 0.5659 - val_loss: 0.6859 - val_accuracy: 0.5599\n",
            "Epoch 2/25\n",
            "37/39 [===========================>..] - ETA: 0s - loss: 0.6816 - accuracy: 0.5720\n",
            "Epoch 00002: val_accuracy did not improve from 0.55993\n",
            "39/39 [==============================] - 1s 33ms/step - loss: 0.6814 - accuracy: 0.5727 - val_loss: 0.6815 - val_accuracy: 0.5599\n",
            "Epoch 3/25\n",
            "39/39 [==============================] - ETA: 0s - loss: 0.6732 - accuracy: 0.5854\n",
            "Epoch 00003: val_accuracy improved from 0.55993 to 0.58456, saving model to my_checkpoint.ckpt\n",
            "39/39 [==============================] - 2s 42ms/step - loss: 0.6732 - accuracy: 0.5854 - val_loss: 0.6707 - val_accuracy: 0.5846\n",
            "Epoch 4/25\n",
            "39/39 [==============================] - ETA: 0s - loss: 0.6601 - accuracy: 0.6039\n",
            "Epoch 00004: val_accuracy improved from 0.58456 to 0.61658, saving model to my_checkpoint.ckpt\n",
            "39/39 [==============================] - 2s 44ms/step - loss: 0.6601 - accuracy: 0.6039 - val_loss: 0.6554 - val_accuracy: 0.6166\n",
            "Epoch 5/25\n",
            "38/39 [============================>.] - ETA: 0s - loss: 0.6320 - accuracy: 0.6515\n",
            "Epoch 00005: val_accuracy improved from 0.61658 to 0.65435, saving model to my_checkpoint.ckpt\n",
            "39/39 [==============================] - 2s 40ms/step - loss: 0.6322 - accuracy: 0.6513 - val_loss: 0.6239 - val_accuracy: 0.6544\n",
            "Epoch 6/25\n",
            "37/39 [===========================>..] - ETA: 0s - loss: 0.5653 - accuracy: 0.7449\n",
            "Epoch 00006: val_accuracy improved from 0.65435 to 0.71757, saving model to my_checkpoint.ckpt\n",
            "39/39 [==============================] - 1s 39ms/step - loss: 0.5630 - accuracy: 0.7463 - val_loss: 0.5585 - val_accuracy: 0.7176\n",
            "Epoch 7/25\n",
            "39/39 [==============================] - ETA: 0s - loss: 0.4436 - accuracy: 0.8261\n",
            "Epoch 00007: val_accuracy improved from 0.71757 to 0.76847, saving model to my_checkpoint.ckpt\n",
            "39/39 [==============================] - 2s 39ms/step - loss: 0.4436 - accuracy: 0.8261 - val_loss: 0.4972 - val_accuracy: 0.7685\n",
            "Epoch 8/25\n",
            "38/39 [============================>.] - ETA: 0s - loss: 0.3320 - accuracy: 0.8754\n",
            "Epoch 00008: val_accuracy improved from 0.76847 to 0.78818, saving model to my_checkpoint.ckpt\n",
            "39/39 [==============================] - 2s 40ms/step - loss: 0.3320 - accuracy: 0.8752 - val_loss: 0.4885 - val_accuracy: 0.7882\n",
            "Epoch 9/25\n",
            "39/39 [==============================] - ETA: 0s - loss: 0.2678 - accuracy: 0.8974\n",
            "Epoch 00009: val_accuracy did not improve from 0.78818\n",
            "39/39 [==============================] - 1s 33ms/step - loss: 0.2678 - accuracy: 0.8974 - val_loss: 0.5120 - val_accuracy: 0.7882\n",
            "Epoch 10/25\n",
            "37/39 [===========================>..] - ETA: 0s - loss: 0.2211 - accuracy: 0.9168\n",
            "Epoch 00010: val_accuracy improved from 0.78818 to 0.78900, saving model to my_checkpoint.ckpt\n",
            "39/39 [==============================] - 1s 38ms/step - loss: 0.2196 - accuracy: 0.9179 - val_loss: 0.5367 - val_accuracy: 0.7890\n",
            "Epoch 11/25\n",
            "37/39 [===========================>..] - ETA: 0s - loss: 0.1781 - accuracy: 0.9377\n",
            "Epoch 00011: val_accuracy did not improve from 0.78900\n",
            "39/39 [==============================] - 1s 35ms/step - loss: 0.1784 - accuracy: 0.9368 - val_loss: 0.5774 - val_accuracy: 0.7824\n",
            "Epoch 12/25\n",
            "37/39 [===========================>..] - ETA: 0s - loss: 0.1554 - accuracy: 0.9449\n",
            "Epoch 00012: val_accuracy did not improve from 0.78900\n",
            "39/39 [==============================] - 1s 34ms/step - loss: 0.1567 - accuracy: 0.9442 - val_loss: 0.6102 - val_accuracy: 0.7759\n",
            "Epoch 13/25\n",
            "39/39 [==============================] - ETA: 0s - loss: 0.1313 - accuracy: 0.9528\n",
            "Epoch 00013: val_accuracy did not improve from 0.78900\n",
            "39/39 [==============================] - 1s 34ms/step - loss: 0.1313 - accuracy: 0.9528 - val_loss: 0.6498 - val_accuracy: 0.7759\n",
            "Epoch 14/25\n",
            "38/39 [============================>.] - ETA: 0s - loss: 0.1137 - accuracy: 0.9622\n",
            "Epoch 00014: val_accuracy did not improve from 0.78900\n",
            "39/39 [==============================] - 1s 37ms/step - loss: 0.1137 - accuracy: 0.9622 - val_loss: 0.6911 - val_accuracy: 0.7742\n",
            "Epoch 15/25\n",
            "39/39 [==============================] - ETA: 0s - loss: 0.1024 - accuracy: 0.9649\n",
            "Epoch 00015: val_accuracy did not improve from 0.78900\n",
            "39/39 [==============================] - 1s 38ms/step - loss: 0.1024 - accuracy: 0.9649 - val_loss: 0.7311 - val_accuracy: 0.7611\n",
            "Epoch 16/25\n",
            "38/39 [============================>.] - ETA: 0s - loss: 0.0957 - accuracy: 0.9624\n",
            "Epoch 00016: val_accuracy did not improve from 0.78900\n",
            "39/39 [==============================] - 2s 40ms/step - loss: 0.0956 - accuracy: 0.9624 - val_loss: 0.7474 - val_accuracy: 0.7627\n",
            "Epoch 17/25\n",
            "39/39 [==============================] - ETA: 0s - loss: 0.0855 - accuracy: 0.9672\n",
            "Epoch 00017: val_accuracy did not improve from 0.78900\n",
            "39/39 [==============================] - 1s 37ms/step - loss: 0.0855 - accuracy: 0.9672 - val_loss: 0.8053 - val_accuracy: 0.7668\n"
          ]
        }
      ]
    },
    {
      "cell_type": "code",
      "source": [
        "model.evaluate(X_test, y_test)"
      ],
      "metadata": {
        "colab": {
          "base_uri": "https://localhost:8080/"
        },
        "id": "BIjwpT7R-JEJ",
        "outputId": "9786cede-4187-40c7-deb6-5fc0bbe2ebbc"
      },
      "execution_count": 18,
      "outputs": [
        {
          "output_type": "stream",
          "name": "stdout",
          "text": [
            "48/48 [==============================] - 1s 11ms/step - loss: 0.7678 - accuracy: 0.7676\n"
          ]
        },
        {
          "output_type": "execute_result",
          "data": {
            "text/plain": [
              "[0.767827570438385, 0.7675639986991882]"
            ]
          },
          "metadata": {},
          "execution_count": 18
        }
      ]
    },
    {
      "cell_type": "code",
      "source": [
        "predictions = (model.predict(X_test) > 0.5).astype(\"int32\")\n",
        "accuracy = accuracy_score(y_test, predictions)\n",
        "print(\"Testing Accuracy: \", accuracy)"
      ],
      "metadata": {
        "colab": {
          "base_uri": "https://localhost:8080/"
        },
        "id": "A7RjkTHl-SOK",
        "outputId": "3cf48861-84c2-4410-e520-c2b8a200febf"
      },
      "execution_count": 19,
      "outputs": [
        {
          "output_type": "stream",
          "name": "stdout",
          "text": [
            "Testing Accuracy:  0.767564018384767\n"
          ]
        }
      ]
    },
    {
      "cell_type": "code",
      "source": [
        "print('Confusion Matrix')\n",
        "cm = confusion_matrix(y_test, predictions)\n",
        "print(sns.heatmap(confusion_matrix(y_test, predictions),annot=True,fmt=\"d\"))\n",
        "print(classification_report(y_test, predictions, digits=5))"
      ],
      "metadata": {
        "colab": {
          "base_uri": "https://localhost:8080/",
          "height": 0
        },
        "id": "xw-GW4iw-SHf",
        "outputId": "930a6c40-3511-4087-d2f8-ce9e8fd42e12"
      },
      "execution_count": 20,
      "outputs": [
        {
          "output_type": "stream",
          "name": "stdout",
          "text": [
            "Confusion Matrix\n",
            "AxesSubplot(0.125,0.125;0.62x0.755)\n",
            "              precision    recall  f1-score   support\n",
            "\n",
            "           0    0.78054   0.82703   0.80311       873\n",
            "           1    0.74749   0.68769   0.71635       650\n",
            "\n",
            "    accuracy                        0.76756      1523\n",
            "   macro avg    0.76402   0.75736   0.75973      1523\n",
            "weighted avg    0.76644   0.76756   0.76608      1523\n",
            "\n"
          ]
        },
        {
          "output_type": "display_data",
          "data": {
            "image/png": "[encoded data removed]",
            "text/plain": [
              "<Figure size 432x288 with 2 Axes>"
            ]
          },
          "metadata": {
            "needs_background": "light"
          }
        }
      ]
    },
    {
      "cell_type": "code",
      "source": [
        ""
      ],
      "metadata": {
        "id": "BelLthJR-R_z"
      },
      "execution_count": null,
      "outputs": []
    },
    {
      "cell_type": "markdown",
      "source": [
        "# Glove Exploration"
      ],
      "metadata": {
        "id": "5OqTd6cJQF1z"
      }
    },
    {
      "cell_type": "code",
      "source": [
        "X_train, X_test, y_train, y_test = train_test_split(train_df['text'],train_df['target'], test_size=0.2, random_state=111)\n",
        "print(X_train.shape, y_train.shape, X_test.shape, y_test.shape)"
      ],
      "metadata": {
        "id": "ugYj21egQJm2",
        "execution": {
          "iopub.status.busy": "2021-12-24T17:40:24.0785Z",
          "iopub.execute_input": "2021-12-24T17:40:24.07899Z",
          "iopub.status.idle": "2021-12-24T17:40:24.088968Z",
          "shell.execute_reply.started": "2021-12-24T17:40:24.078949Z",
          "shell.execute_reply": "2021-12-24T17:40:24.087729Z"
        },
        "trusted": true
      },
      "execution_count": null,
      "outputs": []
    },
    {
      "cell_type": "code",
      "source": [
        "tokenizer = Tokenizer(num_words=5000)\n",
        "tokenizer.fit_on_texts(X_train)\n",
        "\n",
        "words_to_index = tokenizer.word_index"
      ],
      "metadata": {
        "id": "olUUw95TQuuM",
        "execution": {
          "iopub.status.busy": "2021-12-26T15:13:17.056532Z",
          "iopub.execute_input": "2021-12-26T15:13:17.056848Z",
          "iopub.status.idle": "2021-12-26T15:13:17.192266Z",
          "shell.execute_reply.started": "2021-12-26T15:13:17.056816Z",
          "shell.execute_reply": "2021-12-26T15:13:17.191303Z"
        },
        "trusted": true
      },
      "execution_count": null,
      "outputs": []
    },
    {
      "cell_type": "code",
      "source": [
        "def read_glove_vector(glove_vec):\n",
        "  with open(glove_vec, 'r', encoding='UTF-8') as f:\n",
        "    words = set()\n",
        "    word_to_vec_map = {}\n",
        "    for line in f:\n",
        "      w_line = line.split()\n",
        "      curr_word = w_line[0]\n",
        "      word_to_vec_map[curr_word] = np.array(w_line[1:], dtype=np.float64)\n",
        "\n",
        "  return word_to_vec_map"
      ],
      "metadata": {
        "id": "cBaYi9znQ6hG",
        "execution": {
          "iopub.status.busy": "2021-12-19T08:22:33.325503Z",
          "iopub.execute_input": "2021-12-19T08:22:33.326046Z",
          "iopub.status.idle": "2021-12-19T08:22:33.33196Z",
          "shell.execute_reply.started": "2021-12-19T08:22:33.326004Z",
          "shell.execute_reply": "2021-12-19T08:22:33.330454Z"
        },
        "trusted": true
      },
      "execution_count": null,
      "outputs": []
    },
    {
      "cell_type": "code",
      "source": [
        "word_to_vec_map = read_glove_vector('../input/glove6b100dtxt/glove.6B.100d.txt')\n",
        "maxLen = 120"
      ],
      "metadata": {
        "id": "0_e_bE9kRCgw",
        "execution": {
          "iopub.status.busy": "2021-12-19T08:23:28.590704Z",
          "iopub.execute_input": "2021-12-19T08:23:28.591229Z",
          "iopub.status.idle": "2021-12-19T08:23:44.497103Z",
          "shell.execute_reply.started": "2021-12-19T08:23:28.59119Z",
          "shell.execute_reply": "2021-12-19T08:23:44.496378Z"
        },
        "trusted": true
      },
      "execution_count": null,
      "outputs": []
    },
    {
      "cell_type": "code",
      "source": [
        "vocab_len = len(words_to_index)\n",
        "embed_vector_len = word_to_vec_map['moon'].shape[0]\n",
        "\n",
        "emb_matrix = np.zeros((vocab_len, embed_vector_len))\n",
        "\n",
        "for word, index in words_to_index.items():\n",
        "  embedding_vector = word_to_vec_map.get(word)\n",
        "  if embedding_vector is not None:\n",
        "    emb_matrix[index, :] = embedding_vector\n",
        "\n",
        "#embedding_layer = Embedding(input_dim=vocab_len, output_dim=embed_vector_len, input_length=maxLen, weights = [emb_matrix], trainable=False)\n"
      ],
      "metadata": {
        "id": "JriJgkkPRIy-",
        "execution": {
          "iopub.status.busy": "2021-12-19T08:23:48.935085Z",
          "iopub.execute_input": "2021-12-19T08:23:48.935338Z",
          "iopub.status.idle": "2021-12-19T08:23:48.970929Z",
          "shell.execute_reply.started": "2021-12-19T08:23:48.935309Z",
          "shell.execute_reply": "2021-12-19T08:23:48.969995Z"
        },
        "trusted": true
      },
      "execution_count": null,
      "outputs": []
    },
    {
      "cell_type": "code",
      "source": [
        "maxLen = 120\n",
        "X_train_padded = tokenizer.texts_to_sequences(X_train)\n",
        "X_train_padded = pad_sequences(X_train_padded, maxlen=maxLen, padding='post')\n",
        "X_test_padded = tokenizer.texts_to_sequences(X_test)\n",
        "X_test_padded = pad_sequences(X_test_padded, maxlen=maxLen, padding='post')"
      ],
      "metadata": {
        "id": "ZlPOuEFARuqz",
        "execution": {
          "iopub.status.busy": "2021-12-26T15:13:21.729861Z",
          "iopub.execute_input": "2021-12-26T15:13:21.730150Z",
          "iopub.status.idle": "2021-12-26T15:13:21.903669Z",
          "shell.execute_reply.started": "2021-12-26T15:13:21.730106Z",
          "shell.execute_reply": "2021-12-26T15:13:21.902521Z"
        },
        "trusted": true
      },
      "execution_count": null,
      "outputs": []
    },
    {
      "cell_type": "code",
      "source": [
        "model = Sequential()\n",
        "# define CNN model\n",
        "#model.add(Embedding(vocab_size, embedding_dim, input_length=max_length))\n",
        "model.add(Embedding(input_dim=6000, output_dim=768, input_length=120, weights = [emb_matrix], trainable=True))\n",
        "model.add(tf.keras.layers.Conv1D(filters=32, kernel_size=8, activation='relu'))\n",
        "model.add(tf.keras.layers.MaxPooling1D(pool_size=2))\n",
        "# define LSTM model\n",
        "model.add(Bidirectional(GRU(32, return_sequences=True)))\n",
        "#model.add(GRU(32, return_sequences=True))\n",
        "model.add(Dropout(0.3))\n",
        "model.add(Flatten())\n",
        "model.add(Dense(32, activation=\"relu\"))\n",
        "model.add(Dropout(0.3))\n",
        "model.add(Dense(1, activation=\"sigmoid\"))"
      ],
      "metadata": {
        "id": "fDGLGS9yRUdd",
        "execution": {
          "iopub.status.busy": "2021-12-26T15:13:31.292335Z",
          "iopub.execute_input": "2021-12-26T15:13:31.293273Z",
          "iopub.status.idle": "2021-12-26T15:13:31.885866Z",
          "shell.execute_reply.started": "2021-12-26T15:13:31.293233Z",
          "shell.execute_reply": "2021-12-26T15:13:31.884837Z"
        },
        "trusted": true
      },
      "execution_count": null,
      "outputs": []
    },
    {
      "cell_type": "code",
      "source": [
        "optimizer = tf.keras.optimizers.Adam(learning_rate = 0.0001)\n",
        "model.compile(loss = \"binary_crossentropy\",optimizer = optimizer,metrics = [\"accuracy\"])\n",
        "filepath = 'my_checkpoint.ckpt'\n",
        "cp = ModelCheckpoint(filepath=filepath,save_weights_only=True,save_best_only=True,monitor='val_accuracy',verbose=1)\n",
        "ep = EarlyStopping(monitor='val_accuracy', patience=7)"
      ],
      "metadata": {
        "id": "hMhO0cElSdiB",
        "execution": {
          "iopub.status.busy": "2021-12-26T15:13:33.369854Z",
          "iopub.execute_input": "2021-12-26T15:13:33.370341Z",
          "iopub.status.idle": "2021-12-26T15:13:33.397405Z",
          "shell.execute_reply.started": "2021-12-26T15:13:33.370305Z",
          "shell.execute_reply": "2021-12-26T15:13:33.396509Z"
        },
        "trusted": true
      },
      "execution_count": null,
      "outputs": []
    },
    {
      "cell_type": "code",
      "source": [
        "epochs=25\n",
        "history = model.fit(\n",
        "    X_train_padded, y_train,\n",
        "    validation_split = 0.2,\n",
        "    callbacks=[cp,ep],\n",
        "    batch_size=128,\n",
        "    epochs=epochs\n",
        ")"
      ],
      "metadata": {
        "id": "0acS4ym_TLr_",
        "outputId": "8d3ee1da-6832-4589-8130-84c29bb2e722",
        "execution": {
          "iopub.status.busy": "2021-12-26T15:13:37.648866Z",
          "iopub.execute_input": "2021-12-26T15:13:37.649156Z",
          "iopub.status.idle": "2021-12-26T15:14:10.620174Z",
          "shell.execute_reply.started": "2021-12-26T15:13:37.649120Z",
          "shell.execute_reply": "2021-12-26T15:14:10.618525Z"
        },
        "trusted": true
      },
      "execution_count": null,
      "outputs": [
        {
          "name": "stderr",
          "text": "2021-12-26 15:13:37.713096: I tensorflow/compiler/mlir/mlir_graph_optimization_pass.cc:185] None of the MLIR Optimization Passes are enabled (registered 2)\n",
          "output_type": "stream"
        },
        {
          "name": "stdout",
          "text": "Epoch 1/25\n",
          "output_type": "stream"
        },
        {
          "name": "stderr",
          "text": "2021-12-26 15:13:42.314319: I tensorflow/stream_executor/cuda/cuda_dnn.cc:369] Loaded cuDNN version 8005\n",
          "output_type": "stream"
        },
        {
          "name": "stdout",
          "text": "39/39 [==============================] - 11s 43ms/step - loss: 0.6891 - accuracy: 0.5608 - val_loss: 0.6829 - val_accuracy: 0.5599\n\nEpoch 00001: val_accuracy improved from -inf to 0.55993, saving model to my_checkpoint.ckpt\nEpoch 2/25\n39/39 [==============================] - 1s 21ms/step - loss: 0.6817 - accuracy: 0.5686 - val_loss: 0.6747 - val_accuracy: 0.5665\n\nEpoch 00002: val_accuracy improved from 0.55993 to 0.56650, saving model to my_checkpoint.ckpt\nEpoch 3/25\n39/39 [==============================] - 1s 21ms/step - loss: 0.6725 - accuracy: 0.5862 - val_loss: 0.6634 - val_accuracy: 0.6002\n\nEpoch 00003: val_accuracy improved from 0.56650 to 0.60016, saving model to my_checkpoint.ckpt\nEpoch 4/25\n39/39 [==============================] - 1s 21ms/step - loss: 0.6650 - accuracy: 0.5922 - val_loss: 0.6605 - val_accuracy: 0.5920\n\nEpoch 00004: val_accuracy did not improve from 0.60016\nEpoch 5/25\n39/39 [==============================] - 1s 21ms/step - loss: 0.6621 - accuracy: 0.6012 - val_loss: 0.6611 - val_accuracy: 0.6076\n\nEpoch 00005: val_accuracy improved from 0.60016 to 0.60755, saving model to my_checkpoint.ckpt\nEpoch 6/25\n39/39 [==============================] - 1s 21ms/step - loss: 0.6534 - accuracy: 0.6139 - val_loss: 0.6609 - val_accuracy: 0.5936\n\nEpoch 00006: val_accuracy did not improve from 0.60755\nEpoch 7/25\n39/39 [==============================] - 1s 21ms/step - loss: 0.6508 - accuracy: 0.6168 - val_loss: 0.6863 - val_accuracy: 0.6018\n\nEpoch 00007: val_accuracy did not improve from 0.60755\nEpoch 8/25\n39/39 [==============================] - 1s 28ms/step - loss: 0.6520 - accuracy: 0.6240 - val_loss: 0.6436 - val_accuracy: 0.6264\n\nEpoch 00008: val_accuracy improved from 0.60755 to 0.62644, saving model to my_checkpoint.ckpt\nEpoch 9/25\n39/39 [==============================] - 1s 21ms/step - loss: 0.6285 - accuracy: 0.6515 - val_loss: 0.6415 - val_accuracy: 0.6429\n\nEpoch 00009: val_accuracy improved from 0.62644 to 0.64286, saving model to my_checkpoint.ckpt\nEpoch 10/25\n39/39 [==============================] - 1s 21ms/step - loss: 0.6129 - accuracy: 0.6736 - val_loss: 0.6263 - val_accuracy: 0.6470\n\nEpoch 00010: val_accuracy improved from 0.64286 to 0.64696, saving model to my_checkpoint.ckpt\nEpoch 11/25\n39/39 [==============================] - 1s 21ms/step - loss: 0.5699 - accuracy: 0.7317 - val_loss: 0.5693 - val_accuracy: 0.7282\n\nEpoch 00011: val_accuracy improved from 0.64696 to 0.72824, saving model to my_checkpoint.ckpt\nEpoch 12/25\n39/39 [==============================] - 1s 21ms/step - loss: 0.5256 - accuracy: 0.7605 - val_loss: 0.5389 - val_accuracy: 0.7479\n\nEpoch 00012: val_accuracy improved from 0.72824 to 0.74795, saving model to my_checkpoint.ckpt\nEpoch 13/25\n39/39 [==============================] - 1s 21ms/step - loss: 0.4381 - accuracy: 0.8225 - val_loss: 0.5557 - val_accuracy: 0.7077\n\nEpoch 00013: val_accuracy did not improve from 0.74795\nEpoch 14/25\n39/39 [==============================] - 1s 20ms/step - loss: 0.3934 - accuracy: 0.8411 - val_loss: 0.4902 - val_accuracy: 0.7800\n\nEpoch 00014: val_accuracy improved from 0.74795 to 0.77997, saving model to my_checkpoint.ckpt\nEpoch 15/25\n39/39 [==============================] - 1s 20ms/step - loss: 0.3335 - accuracy: 0.8705 - val_loss: 0.5148 - val_accuracy: 0.7512\n\nEpoch 00015: val_accuracy did not improve from 0.77997\nEpoch 16/25\n39/39 [==============================] - 1s 21ms/step - loss: 0.3051 - accuracy: 0.8826 - val_loss: 0.4873 - val_accuracy: 0.7939\n\nEpoch 00016: val_accuracy improved from 0.77997 to 0.79392, saving model to my_checkpoint.ckpt\nEpoch 17/25\n39/39 [==============================] - 1s 21ms/step - loss: 0.2677 - accuracy: 0.8990 - val_loss: 0.5010 - val_accuracy: 0.8021\n\nEpoch 00017: val_accuracy improved from 0.79392 to 0.80213, saving model to my_checkpoint.ckpt\nEpoch 18/25\n39/39 [==============================] - 1s 21ms/step - loss: 0.2347 - accuracy: 0.9111 - val_loss: 0.5569 - val_accuracy: 0.7989\n\nEpoch 00018: val_accuracy did not improve from 0.80213\nEpoch 19/25\n39/39 [==============================] - 1s 24ms/step - loss: 0.2257 - accuracy: 0.9173 - val_loss: 0.5411 - val_accuracy: 0.7718\n\nEpoch 00019: val_accuracy did not improve from 0.80213\nEpoch 20/25\n39/39 [==============================] - 1s 22ms/step - loss: 0.1975 - accuracy: 0.9290 - val_loss: 0.5717 - val_accuracy: 0.7923\n\nEpoch 00020: val_accuracy did not improve from 0.80213\nEpoch 21/25\n39/39 [==============================] - 1s 22ms/step - loss: 0.1898 - accuracy: 0.9321 - val_loss: 0.5765 - val_accuracy: 0.7775\n\nEpoch 00021: val_accuracy did not improve from 0.80213\nEpoch 22/25\n39/39 [==============================] - 1s 21ms/step - loss: 0.1684 - accuracy: 0.9386 - val_loss: 0.6781 - val_accuracy: 0.7323\n\nEpoch 00022: val_accuracy did not improve from 0.80213\nEpoch 23/25\n39/39 [==============================] - 1s 21ms/step - loss: 0.1608 - accuracy: 0.9399 - val_loss: 0.6195 - val_accuracy: 0.7841\n\nEpoch 00023: val_accuracy did not improve from 0.80213\nEpoch 24/25\n39/39 [==============================] - 1s 21ms/step - loss: 0.1326 - accuracy: 0.9532 - val_loss: 0.6689 - val_accuracy: 0.7923\n\nEpoch 00024: val_accuracy did not improve from 0.80213\n",
          "output_type": "stream"
        }
      ]
    },
    {
      "cell_type": "code",
      "source": [
        "model.evaluate(X_test_padded, y_test)"
      ],
      "metadata": {
        "id": "rdi4cYlyUJM5",
        "outputId": "6f1ddb1e-637e-475d-a0fa-6eb943ff197f",
        "execution": {
          "iopub.status.busy": "2021-12-26T15:14:16.551812Z",
          "iopub.execute_input": "2021-12-26T15:14:16.552094Z",
          "iopub.status.idle": "2021-12-26T15:14:22.750985Z",
          "shell.execute_reply.started": "2021-12-26T15:14:16.552062Z",
          "shell.execute_reply": "2021-12-26T15:14:22.749988Z"
        },
        "trusted": true
      },
      "execution_count": null,
      "outputs": [
        {
          "name": "stdout",
          "text": "48/48 [==============================] - 0s 6ms/step - loss: 0.6628 - accuracy: 0.7859\n",
          "output_type": "stream"
        },
        {
          "execution_count": 20,
          "output_type": "execute_result",
          "data": {
            "text/plain": "[0.6627748012542725, 0.7859488129615784]"
          },
          "metadata": {}
        }
      ]
    },
    {
      "cell_type": "code",
      "source": [
        "predictions = (model.predict(X_test_padded) > 0.5).astype(\"int32\")"
      ],
      "metadata": {
        "id": "fJJ9xx52ZZYE",
        "execution": {
          "iopub.status.busy": "2021-12-26T15:17:28.148967Z",
          "iopub.execute_input": "2021-12-26T15:17:28.149841Z",
          "iopub.status.idle": "2021-12-26T15:17:29.146495Z",
          "shell.execute_reply.started": "2021-12-26T15:17:28.149790Z",
          "shell.execute_reply": "2021-12-26T15:17:29.145354Z"
        },
        "trusted": true
      },
      "execution_count": null,
      "outputs": []
    },
    {
      "cell_type": "code",
      "source": [
        "print('Confusion Matrix')\n",
        "cm = confusion_matrix(y_test, predictions)\n",
        "print(sns.heatmap(confusion_matrix(y_test, predictions),annot=True,fmt=\"d\"))\n",
        "print(classification_report(y_test, predictions, digits=5))"
      ],
      "metadata": {
        "id": "WAxrIEuPH8KY",
        "outputId": "93f354fd-8a7d-41ee-873f-ece9b94dcb65",
        "execution": {
          "iopub.status.busy": "2021-12-26T15:17:30.817311Z",
          "iopub.execute_input": "2021-12-26T15:17:30.818263Z",
          "iopub.status.idle": "2021-12-26T15:17:31.456776Z",
          "shell.execute_reply.started": "2021-12-26T15:17:30.818222Z",
          "shell.execute_reply": "2021-12-26T15:17:31.455678Z"
        },
        "trusted": true
      },
      "execution_count": null,
      "outputs": [
        {
          "name": "stdout",
          "text": "Confusion Matrix\nAxesSubplot(0.125,0.125;0.62x0.755)\n              precision    recall  f1-score   support\n\n           0    0.77268   0.88774   0.82623       873\n           1    0.81154   0.64923   0.72137       650\n\n    accuracy                        0.78595      1523\n   macro avg    0.79211   0.76849   0.77380      1523\nweighted avg    0.78927   0.78595   0.78147      1523\n\n",
          "output_type": "stream"
        },
        {
          "output_type": "display_data",
          "data": {
            "text/plain": "<Figure size 432x288 with 2 Axes>",
            "image/png": "[encoded data removed]"
          },
          "metadata": {
            "needs_background": "light"
          }
        }
      ]
    },
    {
      "cell_type": "markdown",
      "source": [
        "# BERT Exploration"
      ],
      "metadata": {
        "id": "RaVomXbX9QSw"
      }
    },
    {
      "cell_type": "code",
      "source": [
        "X_train, X_test, y_train, y_test = train_test_split(train_df['text'],train_df['target'], test_size=0.2, random_state=111)\n",
        "print(X_train.shape, y_train.shape, X_test.shape, y_test.shape)"
      ],
      "metadata": {
        "execution": {
          "iopub.status.busy": "2021-12-26T15:11:56.900678Z",
          "iopub.execute_input": "2021-12-26T15:11:56.901392Z",
          "iopub.status.idle": "2021-12-26T15:11:56.916592Z",
          "shell.execute_reply.started": "2021-12-26T15:11:56.901341Z",
          "shell.execute_reply": "2021-12-26T15:11:56.915302Z"
        },
        "trusted": true,
        "id": "6_09CVN-9QSx",
        "outputId": "2606dc7b-404e-45ec-b9fb-b6bc5fc3cef0"
      },
      "execution_count": null,
      "outputs": [
        {
          "name": "stdout",
          "text": "(6090,) (6090,) (1523,) (1523,)\n",
          "output_type": "stream"
        }
      ]
    },
    {
      "cell_type": "code",
      "source": [
        "bert_abstract = \"\"\n",
        "for sent in X_train:\n",
        "    bert_abstract += sent +\" \""
      ],
      "metadata": {
        "execution": {
          "iopub.status.busy": "2021-12-26T15:11:56.917895Z",
          "iopub.execute_input": "2021-12-26T15:11:56.918242Z",
          "iopub.status.idle": "2021-12-26T15:11:56.930677Z",
          "shell.execute_reply.started": "2021-12-26T15:11:56.918195Z",
          "shell.execute_reply": "2021-12-26T15:11:56.929625Z"
        },
        "trusted": true,
        "id": "i-HMBEti9QSx"
      },
      "execution_count": null,
      "outputs": []
    },
    {
      "cell_type": "code",
      "source": [
        "len(bert_abstract)"
      ],
      "metadata": {
        "execution": {
          "iopub.status.busy": "2021-12-26T15:11:56.933264Z",
          "iopub.execute_input": "2021-12-26T15:11:56.934141Z",
          "iopub.status.idle": "2021-12-26T15:11:56.943587Z",
          "shell.execute_reply.started": "2021-12-26T15:11:56.934084Z",
          "shell.execute_reply": "2021-12-26T15:11:56.942415Z"
        },
        "trusted": true,
        "id": "58t573A39QSy",
        "outputId": "6b6bd18e-ee48-4bc4-d505-d3bf7c603f35"
      },
      "execution_count": null,
      "outputs": [
        {
          "execution_count": 10,
          "output_type": "execute_result",
          "data": {
            "text/plain": "394864"
          },
          "metadata": {}
        }
      ]
    },
    {
      "cell_type": "code",
      "source": [
        "!pip install transformers -U"
      ],
      "metadata": {
        "execution": {
          "iopub.status.busy": "2021-12-26T15:11:56.945576Z",
          "iopub.execute_input": "2021-12-26T15:11:56.946387Z",
          "iopub.status.idle": "2021-12-26T15:12:17.376246Z",
          "shell.execute_reply.started": "2021-12-26T15:11:56.946342Z",
          "shell.execute_reply": "2021-12-26T15:12:17.375135Z"
        },
        "trusted": true,
        "id": "dGSl2m_s9QSy",
        "outputId": "2ce42157-aa0c-4e43-815f-9e849f6d3e57"
      },
      "execution_count": null,
      "outputs": [
        {
          "name": "stdout",
          "text": "Requirement already satisfied: transformers in /opt/conda/lib/python3.7/site-packages (4.12.5)\nCollecting transformers\n  Downloading transformers-4.15.0-py3-none-any.whl (3.4 MB)\n     |████████████████████████████████| 3.4 MB 637 kB/s            \n\u001b[?25hRequirement already satisfied: tqdm>=4.27 in /opt/conda/lib/python3.7/site-packages (from transformers) (4.62.3)\nRequirement already satisfied: requests in /opt/conda/lib/python3.7/site-packages (from transformers) (2.25.1)\nRequirement already satisfied: tokenizers<0.11,>=0.10.1 in /opt/conda/lib/python3.7/site-packages (from transformers) (0.10.3)\nRequirement already satisfied: filelock in /opt/conda/lib/python3.7/site-packages (from transformers) (3.3.2)\nRequirement already satisfied: huggingface-hub<1.0,>=0.1.0 in /opt/conda/lib/python3.7/site-packages (from transformers) (0.1.2)\nRequirement already satisfied: regex!=2019.12.17 in /opt/conda/lib/python3.7/site-packages (from transformers) (2021.11.10)\nRequirement already satisfied: pyyaml>=5.1 in /opt/conda/lib/python3.7/site-packages (from transformers) (6.0)\nRequirement already satisfied: sacremoses in /opt/conda/lib/python3.7/site-packages (from transformers) (0.0.46)\nRequirement already satisfied: packaging>=20.0 in /opt/conda/lib/python3.7/site-packages (from transformers) (21.0)\nRequirement already satisfied: importlib-metadata in /opt/conda/lib/python3.7/site-packages (from transformers) (4.8.2)\nCollecting numpy>=1.17\n  Downloading numpy-1.21.5-cp37-cp37m-manylinux_2_12_x86_64.manylinux2010_x86_64.whl (15.7 MB)\n     |████████████████████████████████| 15.7 MB 33.0 MB/s            \n\u001b[?25hRequirement already satisfied: typing-extensions>=3.7.4.3 in /opt/conda/lib/python3.7/site-packages (from huggingface-hub<1.0,>=0.1.0->transformers) (3.10.0.2)\nRequirement already satisfied: pyparsing>=2.0.2 in /opt/conda/lib/python3.7/site-packages (from packaging>=20.0->transformers) (3.0.6)\nRequirement already satisfied: zipp>=0.5 in /opt/conda/lib/python3.7/site-packages (from importlib-metadata->transformers) (3.6.0)\nRequirement already satisfied: urllib3<1.27,>=1.21.1 in /opt/conda/lib/python3.7/site-packages (from requests->transformers) (1.26.7)\nRequirement already satisfied: idna<3,>=2.5 in /opt/conda/lib/python3.7/site-packages (from requests->transformers) (2.10)\nRequirement already satisfied: certifi>=2017.4.17 in /opt/conda/lib/python3.7/site-packages (from requests->transformers) (2021.10.8)\nRequirement already satisfied: chardet<5,>=3.0.2 in /opt/conda/lib/python3.7/site-packages (from requests->transformers) (4.0.0)\nRequirement already satisfied: six in /opt/conda/lib/python3.7/site-packages (from sacremoses->transformers) (1.16.0)\nRequirement already satisfied: click in /opt/conda/lib/python3.7/site-packages (from sacremoses->transformers) (8.0.3)\nRequirement already satisfied: joblib in /opt/conda/lib/python3.7/site-packages (from sacremoses->transformers) (1.1.0)\nInstalling collected packages: numpy, transformers\n  Attempting uninstall: numpy\n    Found existing installation: numpy 1.14.6\n    Uninstalling numpy-1.14.6:\n      Successfully uninstalled numpy-1.14.6\n  Attempting uninstall: transformers\n    Found existing installation: transformers 4.12.5\n    Uninstalling transformers-4.12.5:\n      Successfully uninstalled transformers-4.12.5\n\u001b[31mERROR: pip's dependency resolver does not currently take into account all the packages that are installed. This behaviour is the source of the following dependency conflicts.\ntensorflow-io 0.21.0 requires tensorflow-io-gcs-filesystem==0.21.0, which is not installed.\nexplainable-ai-sdk 1.3.2 requires xai-image-widget, which is not installed.\ndask-cudf 21.10.1 requires cupy-cuda114, which is not installed.\ncudf 21.10.1 requires cupy-cuda110, which is not installed.\nbeatrix-jupyterlab 3.1.4 requires google-cloud-bigquery-storage, which is not installed.\nyellowbrick 1.3.post1 requires numpy<1.20,>=1.16.0, but you have numpy 1.21.5 which is incompatible.\ntfx-bsl 1.4.0 requires absl-py<0.13,>=0.9, but you have absl-py 0.15.0 which is incompatible.\ntfx-bsl 1.4.0 requires numpy<1.20,>=1.16, but you have numpy 1.21.5 which is incompatible.\ntfx-bsl 1.4.0 requires pyarrow<6,>=1, but you have pyarrow 6.0.0 which is incompatible.\ntensorflow 2.6.2 requires numpy~=1.19.2, but you have numpy 1.21.5 which is incompatible.\ntensorflow 2.6.2 requires six~=1.15.0, but you have six 1.16.0 which is incompatible.\ntensorflow 2.6.2 requires typing-extensions~=3.7.4, but you have typing-extensions 3.10.0.2 which is incompatible.\ntensorflow 2.6.2 requires wrapt~=1.12.1, but you have wrapt 1.13.3 which is incompatible.\ntensorflow-transform 1.4.0 requires absl-py<0.13,>=0.9, but you have absl-py 0.15.0 which is incompatible.\ntensorflow-transform 1.4.0 requires numpy<1.20,>=1.16, but you have numpy 1.21.5 which is incompatible.\ntensorflow-transform 1.4.0 requires pyarrow<6,>=1, but you have pyarrow 6.0.0 which is incompatible.\npdpbox 0.2.1 requires matplotlib==3.1.1, but you have matplotlib 3.5.0 which is incompatible.\nnumba 0.54.1 requires numpy<1.21,>=1.17, but you have numpy 1.21.5 which is incompatible.\nmxnet 1.4.0 requires numpy<1.15.0,>=1.8.2, but you have numpy 1.21.5 which is incompatible.\nimbalanced-learn 0.8.1 requires scikit-learn>=0.24, but you have scikit-learn 0.23.2 which is incompatible.\ndask-cudf 21.10.1 requires dask==2021.09.1, but you have dask 2021.11.2 which is incompatible.\ndask-cudf 21.10.1 requires distributed==2021.09.1, but you have distributed 2021.11.2 which is incompatible.\nbert-embedding 1.0.1 requires numpy==1.14.6, but you have numpy 1.21.5 which is incompatible.\napache-beam 2.34.0 requires dill<0.3.2,>=0.3.1.1, but you have dill 0.3.4 which is incompatible.\napache-beam 2.34.0 requires httplib2<0.20.0,>=0.8, but you have httplib2 0.20.2 which is incompatible.\napache-beam 2.34.0 requires numpy<1.21.0,>=1.14.3, but you have numpy 1.21.5 which is incompatible.\napache-beam 2.34.0 requires pyarrow<6.0.0,>=0.15.1, but you have pyarrow 6.0.0 which is incompatible.\nallennlp 2.8.0 requires transformers<4.13,>=4.1, but you have transformers 4.15.0 which is incompatible.\u001b[0m\nSuccessfully installed numpy-1.21.5 transformers-4.15.0\n\u001b[33mWARNING: Running pip as the 'root' user can result in broken permissions and conflicting behaviour with the system package manager. It is recommended to use a virtual environment instead: https://pip.pypa.io/warnings/venv\u001b[0m\n",
          "output_type": "stream"
        }
      ]
    },
    {
      "cell_type": "code",
      "source": [
        "import tensorflow as tf\n",
        "from transformers import BertTokenizer, TFBertModel\n",
        "\n",
        "tokenizer = BertTokenizer.from_pretrained('bert-base-uncased')\n",
        "model = TFBertModel.from_pretrained('bert-base-uncased')\n",
        "input_ids = tf.constant(tokenizer.encode(bert_abstract))[None, :6000]  # Batch size 1\n",
        "outputs = model(input_ids)\n",
        "last_hidden_states = outputs[0]"
      ],
      "metadata": {
        "execution": {
          "iopub.status.busy": "2021-12-26T15:12:21.244795Z",
          "iopub.execute_input": "2021-12-26T15:12:21.245134Z",
          "iopub.status.idle": "2021-12-26T15:12:58.792413Z",
          "shell.execute_reply.started": "2021-12-26T15:12:21.245084Z",
          "shell.execute_reply": "2021-12-26T15:12:58.791436Z"
        },
        "trusted": true,
        "colab": {
          "referenced_widgets": [
            "8956671bc67344f99be5e86a693fcae0",
            "07f805c635bc485fac1ecd846868507c",
            "d00f616bc3414fcf942b412dba3d4e32",
            "b736fa91999148669c6af55828bbc0de",
            "0320fd7355f249efad88ac319b748d35"
          ]
        },
        "id": "hjnsKBok9QSy",
        "outputId": "1fdb704f-00df-4ba8-86c5-49cb9b3c381c"
      },
      "execution_count": null,
      "outputs": [
        {
          "output_type": "display_data",
          "data": {
            "text/plain": "Downloading:   0%|          | 0.00/226k [00:00<?, ?B/s]",
            "application/vnd.jupyter.widget-view+json": {
              "version_major": 2,
              "version_minor": 0,
              "model_id": "8956671bc67344f99be5e86a693fcae0"
            }
          },
          "metadata": {}
        },
        {
          "output_type": "display_data",
          "data": {
            "text/plain": "Downloading:   0%|          | 0.00/28.0 [00:00<?, ?B/s]",
            "application/vnd.jupyter.widget-view+json": {
              "version_major": 2,
              "version_minor": 0,
              "model_id": "07f805c635bc485fac1ecd846868507c"
            }
          },
          "metadata": {}
        },
        {
          "output_type": "display_data",
          "data": {
            "text/plain": "Downloading:   0%|          | 0.00/455k [00:00<?, ?B/s]",
            "application/vnd.jupyter.widget-view+json": {
              "version_major": 2,
              "version_minor": 0,
              "model_id": "d00f616bc3414fcf942b412dba3d4e32"
            }
          },
          "metadata": {}
        },
        {
          "output_type": "display_data",
          "data": {
            "text/plain": "Downloading:   0%|          | 0.00/570 [00:00<?, ?B/s]",
            "application/vnd.jupyter.widget-view+json": {
              "version_major": 2,
              "version_minor": 0,
              "model_id": "b736fa91999148669c6af55828bbc0de"
            }
          },
          "metadata": {}
        },
        {
          "output_type": "display_data",
          "data": {
            "text/plain": "Downloading:   0%|          | 0.00/511M [00:00<?, ?B/s]",
            "application/vnd.jupyter.widget-view+json": {
              "version_major": 2,
              "version_minor": 0,
              "model_id": "0320fd7355f249efad88ac319b748d35"
            }
          },
          "metadata": {}
        },
        {
          "name": "stderr",
          "text": "2021-12-26 15:12:48.209434: I tensorflow/stream_executor/cuda/cuda_gpu_executor.cc:937] successful NUMA node read from SysFS had negative value (-1), but there must be at least one NUMA node, so returning NUMA node zero\n2021-12-26 15:12:48.210918: I tensorflow/stream_executor/cuda/cuda_gpu_executor.cc:937] successful NUMA node read from SysFS had negative value (-1), but there must be at least one NUMA node, so returning NUMA node zero\n2021-12-26 15:12:48.211992: I tensorflow/stream_executor/cuda/cuda_gpu_executor.cc:937] successful NUMA node read from SysFS had negative value (-1), but there must be at least one NUMA node, so returning NUMA node zero\n2021-12-26 15:12:48.213409: I tensorflow/core/platform/cpu_feature_guard.cc:142] This TensorFlow binary is optimized with oneAPI Deep Neural Network Library (oneDNN) to use the following CPU instructions in performance-critical operations:  AVX2 FMA\nTo enable them in other operations, rebuild TensorFlow with the appropriate compiler flags.\n2021-12-26 15:12:48.214941: I tensorflow/stream_executor/cuda/cuda_gpu_executor.cc:937] successful NUMA node read from SysFS had negative value (-1), but there must be at least one NUMA node, so returning NUMA node zero\n2021-12-26 15:12:48.215916: I tensorflow/stream_executor/cuda/cuda_gpu_executor.cc:937] successful NUMA node read from SysFS had negative value (-1), but there must be at least one NUMA node, so returning NUMA node zero\n2021-12-26 15:12:48.216843: I tensorflow/stream_executor/cuda/cuda_gpu_executor.cc:937] successful NUMA node read from SysFS had negative value (-1), but there must be at least one NUMA node, so returning NUMA node zero\n2021-12-26 15:12:53.458084: I tensorflow/stream_executor/cuda/cuda_gpu_executor.cc:937] successful NUMA node read from SysFS had negative value (-1), but there must be at least one NUMA node, so returning NUMA node zero\n2021-12-26 15:12:53.459392: I tensorflow/stream_executor/cuda/cuda_gpu_executor.cc:937] successful NUMA node read from SysFS had negative value (-1), but there must be at least one NUMA node, so returning NUMA node zero\n2021-12-26 15:12:53.460543: I tensorflow/stream_executor/cuda/cuda_gpu_executor.cc:937] successful NUMA node read from SysFS had negative value (-1), but there must be at least one NUMA node, so returning NUMA node zero\n2021-12-26 15:12:53.461387: I tensorflow/core/common_runtime/gpu/gpu_device.cc:1510] Created device /job:localhost/replica:0/task:0/device:GPU:0 with 14959 MB memory:  -> device: 0, name: Tesla P100-PCIE-16GB, pci bus id: 0000:00:04.0, compute capability: 6.0\nSome layers from the model checkpoint at bert-base-uncased were not used when initializing TFBertModel: ['mlm___cls', 'nsp___cls']\n- This IS expected if you are initializing TFBertModel from the checkpoint of a model trained on another task or with another architecture (e.g. initializing a BertForSequenceClassification model from a BertForPreTraining model).\n- This IS NOT expected if you are initializing TFBertModel from the checkpoint of a model that you expect to be exactly identical (initializing a BertForSequenceClassification model from a BertForSequenceClassification model).\nAll the layers of TFBertModel were initialized from the model checkpoint at bert-base-uncased.\nIf your task is similar to the task the model of the checkpoint was trained on, you can already use TFBertModel for predictions without further training.\nToken indices sequence length is longer than the specified maximum sequence length for this model (76904 > 512). Running this sequence through the model will result in indexing errors\n",
          "output_type": "stream"
        }
      ]
    },
    {
      "cell_type": "code",
      "source": [
        "import numpy as np\n",
        "emb_matrix = np.array(last_hidden_states)\n",
        "emb_matrix = emb_matrix[0]"
      ],
      "metadata": {
        "execution": {
          "iopub.status.busy": "2021-12-26T15:13:08.952097Z",
          "iopub.execute_input": "2021-12-26T15:13:08.952402Z",
          "iopub.status.idle": "2021-12-26T15:13:08.979384Z",
          "shell.execute_reply.started": "2021-12-26T15:13:08.952355Z",
          "shell.execute_reply": "2021-12-26T15:13:08.978408Z"
        },
        "trusted": true,
        "id": "-w-EMK8S9QSz"
      },
      "execution_count": null,
      "outputs": []
    },
    {
      "cell_type": "code",
      "source": [
        "emb_matrix.shape"
      ],
      "metadata": {
        "execution": {
          "iopub.status.busy": "2021-12-26T15:13:10.231919Z",
          "iopub.execute_input": "2021-12-26T15:13:10.232969Z",
          "iopub.status.idle": "2021-12-26T15:13:10.242285Z",
          "shell.execute_reply.started": "2021-12-26T15:13:10.232933Z",
          "shell.execute_reply": "2021-12-26T15:13:10.240887Z"
        },
        "trusted": true,
        "id": "Xa0Mul529QSz",
        "outputId": "b4c8a318-a87b-4286-f6eb-72bf58873dcd"
      },
      "execution_count": null,
      "outputs": [
        {
          "execution_count": 14,
          "output_type": "execute_result",
          "data": {
            "text/plain": "(6000, 768)"
          },
          "metadata": {}
        }
      ]
    },
    {
      "cell_type": "code",
      "source": [
        "tokenizer = Tokenizer(num_words=5000)\n",
        "tokenizer.fit_on_texts(X_train)\n",
        "words_to_index = tokenizer.word_index"
      ],
      "metadata": {
        "execution": {
          "iopub.status.busy": "2021-12-26T15:24:02.052442Z",
          "iopub.execute_input": "2021-12-26T15:24:02.053165Z",
          "iopub.status.idle": "2021-12-26T15:24:02.203878Z",
          "shell.execute_reply.started": "2021-12-26T15:24:02.053129Z",
          "shell.execute_reply": "2021-12-26T15:24:02.202772Z"
        },
        "trusted": true,
        "id": "p9ZBqpb09QSz"
      },
      "execution_count": null,
      "outputs": []
    },
    {
      "cell_type": "code",
      "source": [
        "maxLen = 120\n",
        "X_train_padded = tokenizer.texts_to_sequences(X_train)\n",
        "X_train_padded = pad_sequences(X_train_padded, maxlen=maxLen, padding='post')\n",
        "X_test_padded = tokenizer.texts_to_sequences(X_test)\n",
        "X_test_padded = pad_sequences(X_test_padded, maxlen=maxLen, padding='post')"
      ],
      "metadata": {
        "execution": {
          "iopub.status.busy": "2021-12-26T15:24:03.301524Z",
          "iopub.execute_input": "2021-12-26T15:24:03.302162Z",
          "iopub.status.idle": "2021-12-26T15:24:03.471359Z",
          "shell.execute_reply.started": "2021-12-26T15:24:03.302118Z",
          "shell.execute_reply": "2021-12-26T15:24:03.470336Z"
        },
        "trusted": true,
        "id": "ERFkCAf89QS0"
      },
      "execution_count": null,
      "outputs": []
    },
    {
      "cell_type": "code",
      "source": [
        "model = Sequential()\n",
        "# define CNN model\n",
        "#model.add(Embedding(vocab_size, embedding_dim, input_length=max_length))\n",
        "model.add(Embedding(input_dim=6000, output_dim=768, input_length=120, weights = [emb_matrix], trainable=True))\n",
        "model.add(tf.keras.layers.Conv1D(filters=32, kernel_size=8, activation='relu'))\n",
        "model.add(tf.keras.layers.MaxPooling1D(pool_size=2))\n",
        "model.add(Bidirectional(GRU(32, return_sequences=True)))\n",
        "#model.add(GRU(32, return_sequences=True))\n",
        "#model.add(Dropout(0.3))\n",
        "model.add(Flatten())\n",
        "model.add(Dense(32, activation=\"relu\"))\n",
        "#model.add(Dropout(0.3))\n",
        "model.add(Dense(1, activation=\"sigmoid\"))"
      ],
      "metadata": {
        "execution": {
          "iopub.status.busy": "2021-12-26T15:51:17.627273Z",
          "iopub.execute_input": "2021-12-26T15:51:17.627638Z",
          "iopub.status.idle": "2021-12-26T15:51:18.165913Z",
          "shell.execute_reply.started": "2021-12-26T15:51:17.627590Z",
          "shell.execute_reply": "2021-12-26T15:51:18.164845Z"
        },
        "trusted": true,
        "id": "pPk2gV459QS0"
      },
      "execution_count": null,
      "outputs": []
    },
    {
      "cell_type": "code",
      "source": [
        "optimizer = tf.keras.optimizers.Adam(learning_rate = 0.0001)\n",
        "model.compile(loss = \"binary_crossentropy\",optimizer = optimizer,metrics = [\"accuracy\"])\n",
        "filepath = 'my_checkpoint.ckpt'\n",
        "cp = ModelCheckpoint(filepath=filepath,save_weights_only=True,save_best_only=True,monitor='val_accuracy',verbose=1)\n",
        "ep = EarlyStopping(monitor='val_accuracy', patience=7)"
      ],
      "metadata": {
        "execution": {
          "iopub.status.busy": "2021-12-26T15:51:18.168129Z",
          "iopub.execute_input": "2021-12-26T15:51:18.168437Z",
          "iopub.status.idle": "2021-12-26T15:51:18.183031Z",
          "shell.execute_reply.started": "2021-12-26T15:51:18.168393Z",
          "shell.execute_reply": "2021-12-26T15:51:18.181817Z"
        },
        "trusted": true,
        "id": "9qRqRUQL9QS1"
      },
      "execution_count": null,
      "outputs": []
    },
    {
      "cell_type": "code",
      "source": [
        "epochs=25\n",
        "history = model.fit(\n",
        "    X_train_padded, y_train,\n",
        "    validation_split = 0.2,\n",
        "    callbacks=[cp,ep],\n",
        "    batch_size=128,\n",
        "    epochs=epochs\n",
        ")"
      ],
      "metadata": {
        "execution": {
          "iopub.status.busy": "2021-12-26T15:51:18.486630Z",
          "iopub.execute_input": "2021-12-26T15:51:18.487474Z",
          "iopub.status.idle": "2021-12-26T15:51:44.135151Z",
          "shell.execute_reply.started": "2021-12-26T15:51:18.487414Z",
          "shell.execute_reply": "2021-12-26T15:51:44.134153Z"
        },
        "trusted": true,
        "id": "i4wZV5d89QS1",
        "outputId": "39a259be-7b90-42d3-8810-f8eb4342c8b1"
      },
      "execution_count": null,
      "outputs": [
        {
          "name": "stdout",
          "text": "Epoch 1/25\n39/39 [==============================] - 5s 39ms/step - loss: 0.6764 - accuracy: 0.5807 - val_loss: 0.6667 - val_accuracy: 0.5944\n\nEpoch 00001: val_accuracy improved from -inf to 0.59442, saving model to my_checkpoint.ckpt\nEpoch 2/25\n39/39 [==============================] - 1s 21ms/step - loss: 0.6654 - accuracy: 0.5944 - val_loss: 0.6592 - val_accuracy: 0.5944\n\nEpoch 00002: val_accuracy did not improve from 0.59442\nEpoch 3/25\n39/39 [==============================] - 1s 21ms/step - loss: 0.6611 - accuracy: 0.6041 - val_loss: 0.6547 - val_accuracy: 0.6125\n\nEpoch 00003: val_accuracy improved from 0.59442 to 0.61248, saving model to my_checkpoint.ckpt\nEpoch 4/25\n39/39 [==============================] - 1s 20ms/step - loss: 0.6507 - accuracy: 0.6205 - val_loss: 0.6491 - val_accuracy: 0.6174\n\nEpoch 00004: val_accuracy improved from 0.61248 to 0.61741, saving model to my_checkpoint.ckpt\nEpoch 5/25\n39/39 [==============================] - 1s 20ms/step - loss: 0.6533 - accuracy: 0.6149 - val_loss: 0.6520 - val_accuracy: 0.6125\n\nEpoch 00005: val_accuracy did not improve from 0.61741\nEpoch 6/25\n39/39 [==============================] - 1s 21ms/step - loss: 0.6369 - accuracy: 0.6375 - val_loss: 0.6629 - val_accuracy: 0.6141\n\nEpoch 00006: val_accuracy did not improve from 0.61741\nEpoch 7/25\n39/39 [==============================] - 1s 20ms/step - loss: 0.6295 - accuracy: 0.6472 - val_loss: 0.6339 - val_accuracy: 0.6404\n\nEpoch 00007: val_accuracy improved from 0.61741 to 0.64039, saving model to my_checkpoint.ckpt\nEpoch 8/25\n39/39 [==============================] - 1s 23ms/step - loss: 0.6177 - accuracy: 0.6656 - val_loss: 0.6175 - val_accuracy: 0.6486\n\nEpoch 00008: val_accuracy improved from 0.64039 to 0.64860, saving model to my_checkpoint.ckpt\nEpoch 9/25\n39/39 [==============================] - 1s 22ms/step - loss: 0.5856 - accuracy: 0.7157 - val_loss: 0.6066 - val_accuracy: 0.6461\n\nEpoch 00009: val_accuracy did not improve from 0.64860\nEpoch 10/25\n39/39 [==============================] - 1s 20ms/step - loss: 0.5652 - accuracy: 0.7126 - val_loss: 0.5816 - val_accuracy: 0.6831\n\nEpoch 00010: val_accuracy improved from 0.64860 to 0.68309, saving model to my_checkpoint.ckpt\nEpoch 11/25\n39/39 [==============================] - 1s 21ms/step - loss: 0.5107 - accuracy: 0.7757 - val_loss: 0.5424 - val_accuracy: 0.7414\n\nEpoch 00011: val_accuracy improved from 0.68309 to 0.74138, saving model to my_checkpoint.ckpt\nEpoch 12/25\n39/39 [==============================] - 1s 21ms/step - loss: 0.4590 - accuracy: 0.8186 - val_loss: 0.5100 - val_accuracy: 0.7660\n\nEpoch 00012: val_accuracy improved from 0.74138 to 0.76601, saving model to my_checkpoint.ckpt\nEpoch 13/25\n39/39 [==============================] - 1s 22ms/step - loss: 0.4146 - accuracy: 0.8268 - val_loss: 0.4888 - val_accuracy: 0.7767\n\nEpoch 00013: val_accuracy improved from 0.76601 to 0.77668, saving model to my_checkpoint.ckpt\nEpoch 14/25\n39/39 [==============================] - 1s 27ms/step - loss: 0.3592 - accuracy: 0.8596 - val_loss: 0.4799 - val_accuracy: 0.7915\n\nEpoch 00014: val_accuracy improved from 0.77668 to 0.79146, saving model to my_checkpoint.ckpt\nEpoch 15/25\n39/39 [==============================] - 1s 22ms/step - loss: 0.3159 - accuracy: 0.8795 - val_loss: 0.4924 - val_accuracy: 0.7635\n\nEpoch 00015: val_accuracy did not improve from 0.79146\nEpoch 16/25\n39/39 [==============================] - 1s 21ms/step - loss: 0.2956 - accuracy: 0.8851 - val_loss: 0.4945 - val_accuracy: 0.7997\n\nEpoch 00016: val_accuracy improved from 0.79146 to 0.79967, saving model to my_checkpoint.ckpt\nEpoch 17/25\n39/39 [==============================] - 1s 21ms/step - loss: 0.2594 - accuracy: 0.9035 - val_loss: 0.4901 - val_accuracy: 0.7964\n\nEpoch 00017: val_accuracy did not improve from 0.79967\nEpoch 18/25\n39/39 [==============================] - 1s 20ms/step - loss: 0.2361 - accuracy: 0.9093 - val_loss: 0.5025 - val_accuracy: 0.7956\n\nEpoch 00018: val_accuracy did not improve from 0.79967\nEpoch 19/25\n39/39 [==============================] - 1s 21ms/step - loss: 0.2053 - accuracy: 0.9220 - val_loss: 0.6080 - val_accuracy: 0.7291\n\nEpoch 00019: val_accuracy did not improve from 0.79967\nEpoch 20/25\n39/39 [==============================] - 1s 26ms/step - loss: 0.2067 - accuracy: 0.9234 - val_loss: 0.5224 - val_accuracy: 0.7906\n\nEpoch 00020: val_accuracy did not improve from 0.79967\nEpoch 21/25\n39/39 [==============================] - 1s 20ms/step - loss: 0.1697 - accuracy: 0.9376 - val_loss: 0.5779 - val_accuracy: 0.7865\n\nEpoch 00021: val_accuracy did not improve from 0.79967\nEpoch 22/25\n39/39 [==============================] - 1s 20ms/step - loss: 0.1594 - accuracy: 0.9438 - val_loss: 0.5923 - val_accuracy: 0.7898\n\nEpoch 00022: val_accuracy did not improve from 0.79967\nEpoch 23/25\n39/39 [==============================] - 1s 20ms/step - loss: 0.1403 - accuracy: 0.9481 - val_loss: 0.6206 - val_accuracy: 0.7882\n\nEpoch 00023: val_accuracy did not improve from 0.79967\n",
          "output_type": "stream"
        }
      ]
    },
    {
      "cell_type": "code",
      "source": [
        "model.evaluate(X_test_padded, y_test)"
      ],
      "metadata": {
        "execution": {
          "iopub.status.busy": "2021-12-26T15:51:44.137254Z",
          "iopub.execute_input": "2021-12-26T15:51:44.137553Z",
          "iopub.status.idle": "2021-12-26T15:52:03.291137Z",
          "shell.execute_reply.started": "2021-12-26T15:51:44.137522Z",
          "shell.execute_reply": "2021-12-26T15:52:03.290138Z"
        },
        "trusted": true,
        "id": "bm1HEEzt9QS1",
        "outputId": "7e88d219-c420-4d7c-ccaa-f0ba38076027"
      },
      "execution_count": null,
      "outputs": [
        {
          "name": "stdout",
          "text": "48/48 [==============================] - 0s 9ms/step - loss: 0.5962 - accuracy: 0.7971\n",
          "output_type": "stream"
        },
        {
          "execution_count": 76,
          "output_type": "execute_result",
          "data": {
            "text/plain": "[0.5961766242980957, 0.7971109747886658]"
          },
          "metadata": {}
        }
      ]
    },
    {
      "cell_type": "code",
      "source": [
        "predictions = (model.predict(X_test_padded) > 0.5).astype(\"int32\")"
      ],
      "metadata": {
        "execution": {
          "iopub.status.busy": "2021-12-26T15:52:03.295436Z",
          "iopub.execute_input": "2021-12-26T15:52:03.299018Z",
          "iopub.status.idle": "2021-12-26T15:52:04.281380Z",
          "shell.execute_reply.started": "2021-12-26T15:52:03.298970Z",
          "shell.execute_reply": "2021-12-26T15:52:04.280265Z"
        },
        "trusted": true,
        "id": "e8iELMJn9QS2"
      },
      "execution_count": null,
      "outputs": []
    },
    {
      "cell_type": "code",
      "source": [
        "print('Confusion Matrix')\n",
        "cm = confusion_matrix(y_test, predictions)\n",
        "print(sns.heatmap(confusion_matrix(y_test, predictions),annot=True,fmt=\"d\"))\n",
        "print(classification_report(y_test, predictions, digits=5))"
      ],
      "metadata": {
        "execution": {
          "iopub.status.busy": "2021-12-26T15:52:27.975598Z",
          "iopub.execute_input": "2021-12-26T15:52:27.975893Z",
          "iopub.status.idle": "2021-12-26T15:52:28.263479Z",
          "shell.execute_reply.started": "2021-12-26T15:52:27.975862Z",
          "shell.execute_reply": "2021-12-26T15:52:28.262572Z"
        },
        "trusted": true,
        "id": "ENnDPJXf9QS2",
        "outputId": "72d66171-708a-4f96-8abd-a2defd60dd2e"
      },
      "execution_count": null,
      "outputs": [
        {
          "name": "stdout",
          "text": "Confusion Matrix\nAxesSubplot(0.125,0.125;0.62x0.755)\n              precision    recall  f1-score   support\n\n           0    0.77647   0.90722   0.83677       873\n           1    0.83897   0.64923   0.73200       650\n\n    accuracy                        0.79711      1523\n   macro avg    0.80772   0.77822   0.78439      1523\nweighted avg    0.80314   0.79711   0.79206      1523\n\n",
          "output_type": "stream"
        },
        {
          "output_type": "display_data",
          "data": {
            "text/plain": "<Figure size 432x288 with 2 Axes>",
            "image/png": "[encoded data removed]"
          },
          "metadata": {
            "needs_background": "light"
          }
        }
      ]
    },
    {
      "cell_type": "code",
      "source": [
        ""
      ],
      "metadata": {
        "id": "Bh9fyT0Q9QS2"
      },
      "execution_count": null,
      "outputs": []
    }
  ]
}
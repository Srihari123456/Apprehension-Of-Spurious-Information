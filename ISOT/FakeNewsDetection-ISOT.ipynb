{
  "metadata": {
    "kernelspec": {
      "language": "python",
      "display_name": "Python 3",
      "name": "python3"
    },
    "language_info": {
      "name": "python",
      "version": "3.7.12",
      "mimetype": "text/x-python",
      "codemirror_mode": {
        "name": "ipython",
        "version": 3
      },
      "pygments_lexer": "ipython3",
      "nbconvert_exporter": "python",
      "file_extension": ".py"
    },
    "colab": {
      "name": "NLP_MINI_PROJECT_ISOT.ipynb",
      "provenance": [],
      "toc_visible": true
    },
    "accelerator": "GPU",
    "widgets": {
      "application/vnd.jupyter.widget-state+json": {
        "33287aa8dcff41e6aa1e5bb60db3d496": {
          "model_module": "@jupyter-widgets/controls",
          "model_name": "HBoxModel",
          "model_module_version": "1.5.0",
          "state": {
            "_view_name": "HBoxView",
            "_dom_classes": [],
            "_model_name": "HBoxModel",
            "_view_module": "@jupyter-widgets/controls",
            "_model_module_version": "1.5.0",
            "_view_count": null,
            "_view_module_version": "1.5.0",
            "box_style": "",
            "layout": "IPY_MODEL_2e0df0f763c94dd0b79814797354cce7",
            "_model_module": "@jupyter-widgets/controls",
            "children": [
              "IPY_MODEL_b90e8d09ba2f4d6c846415ac91270176",
              "IPY_MODEL_97229b1b245549dd87857ced87bc4cab",
              "IPY_MODEL_152cd8e89ee449888abdb3fd26df06c7"
            ]
          }
        },
        "2e0df0f763c94dd0b79814797354cce7": {
          "model_module": "@jupyter-widgets/base",
          "model_name": "LayoutModel",
          "model_module_version": "1.2.0",
          "state": {
            "_view_name": "LayoutView",
            "grid_template_rows": null,
            "right": null,
            "justify_content": null,
            "_view_module": "@jupyter-widgets/base",
            "overflow": null,
            "_model_module_version": "1.2.0",
            "_view_count": null,
            "flex_flow": null,
            "width": null,
            "min_width": null,
            "border": null,
            "align_items": null,
            "bottom": null,
            "_model_module": "@jupyter-widgets/base",
            "top": null,
            "grid_column": null,
            "overflow_y": null,
            "overflow_x": null,
            "grid_auto_flow": null,
            "grid_area": null,
            "grid_template_columns": null,
            "flex": null,
            "_model_name": "LayoutModel",
            "justify_items": null,
            "grid_row": null,
            "max_height": null,
            "align_content": null,
            "visibility": null,
            "align_self": null,
            "height": null,
            "min_height": null,
            "padding": null,
            "grid_auto_rows": null,
            "grid_gap": null,
            "max_width": null,
            "order": null,
            "_view_module_version": "1.2.0",
            "grid_template_areas": null,
            "object_position": null,
            "object_fit": null,
            "grid_auto_columns": null,
            "margin": null,
            "display": null,
            "left": null
          }
        },
        "b90e8d09ba2f4d6c846415ac91270176": {
          "model_module": "@jupyter-widgets/controls",
          "model_name": "HTMLModel",
          "model_module_version": "1.5.0",
          "state": {
            "_view_name": "HTMLView",
            "style": "IPY_MODEL_8023b765a93e4764829d9448d46803e8",
            "_dom_classes": [],
            "description": "",
            "_model_name": "HTMLModel",
            "placeholder": "​",
            "_view_module": "@jupyter-widgets/controls",
            "_model_module_version": "1.5.0",
            "value": "Downloading: 100%",
            "_view_count": null,
            "_view_module_version": "1.5.0",
            "description_tooltip": null,
            "_model_module": "@jupyter-widgets/controls",
            "layout": "IPY_MODEL_3c0c02ff0a19431f97f56753096d7cd3"
          }
        },
        "97229b1b245549dd87857ced87bc4cab": {
          "model_module": "@jupyter-widgets/controls",
          "model_name": "FloatProgressModel",
          "model_module_version": "1.5.0",
          "state": {
            "_view_name": "ProgressView",
            "style": "IPY_MODEL_f19e5396e6c64b7cb8ab8ae3ab2abe46",
            "_dom_classes": [],
            "description": "",
            "_model_name": "FloatProgressModel",
            "bar_style": "success",
            "max": 231508,
            "_view_module": "@jupyter-widgets/controls",
            "_model_module_version": "1.5.0",
            "value": 231508,
            "_view_count": null,
            "_view_module_version": "1.5.0",
            "orientation": "horizontal",
            "min": 0,
            "description_tooltip": null,
            "_model_module": "@jupyter-widgets/controls",
            "layout": "IPY_MODEL_00514079fabe4cde822335fba0f338a1"
          }
        },
        "152cd8e89ee449888abdb3fd26df06c7": {
          "model_module": "@jupyter-widgets/controls",
          "model_name": "HTMLModel",
          "model_module_version": "1.5.0",
          "state": {
            "_view_name": "HTMLView",
            "style": "IPY_MODEL_c2e9132d620e434ba4b9148569af7011",
            "_dom_classes": [],
            "description": "",
            "_model_name": "HTMLModel",
            "placeholder": "​",
            "_view_module": "@jupyter-widgets/controls",
            "_model_module_version": "1.5.0",
            "value": " 226k/226k [00:00&lt;00:00, 6.93kB/s]",
            "_view_count": null,
            "_view_module_version": "1.5.0",
            "description_tooltip": null,
            "_model_module": "@jupyter-widgets/controls",
            "layout": "IPY_MODEL_8b1b086f593741cd9b2a590debce27b3"
          }
        },
        "8023b765a93e4764829d9448d46803e8": {
          "model_module": "@jupyter-widgets/controls",
          "model_name": "DescriptionStyleModel",
          "model_module_version": "1.5.0",
          "state": {
            "_view_name": "StyleView",
            "_model_name": "DescriptionStyleModel",
            "description_width": "",
            "_view_module": "@jupyter-widgets/base",
            "_model_module_version": "1.5.0",
            "_view_count": null,
            "_view_module_version": "1.2.0",
            "_model_module": "@jupyter-widgets/controls"
          }
        },
        "3c0c02ff0a19431f97f56753096d7cd3": {
          "model_module": "@jupyter-widgets/base",
          "model_name": "LayoutModel",
          "model_module_version": "1.2.0",
          "state": {
            "_view_name": "LayoutView",
            "grid_template_rows": null,
            "right": null,
            "justify_content": null,
            "_view_module": "@jupyter-widgets/base",
            "overflow": null,
            "_model_module_version": "1.2.0",
            "_view_count": null,
            "flex_flow": null,
            "width": null,
            "min_width": null,
            "border": null,
            "align_items": null,
            "bottom": null,
            "_model_module": "@jupyter-widgets/base",
            "top": null,
            "grid_column": null,
            "overflow_y": null,
            "overflow_x": null,
            "grid_auto_flow": null,
            "grid_area": null,
            "grid_template_columns": null,
            "flex": null,
            "_model_name": "LayoutModel",
            "justify_items": null,
            "grid_row": null,
            "max_height": null,
            "align_content": null,
            "visibility": null,
            "align_self": null,
            "height": null,
            "min_height": null,
            "padding": null,
            "grid_auto_rows": null,
            "grid_gap": null,
            "max_width": null,
            "order": null,
            "_view_module_version": "1.2.0",
            "grid_template_areas": null,
            "object_position": null,
            "object_fit": null,
            "grid_auto_columns": null,
            "margin": null,
            "display": null,
            "left": null
          }
        },
        "f19e5396e6c64b7cb8ab8ae3ab2abe46": {
          "model_module": "@jupyter-widgets/controls",
          "model_name": "ProgressStyleModel",
          "model_module_version": "1.5.0",
          "state": {
            "_view_name": "StyleView",
            "_model_name": "ProgressStyleModel",
            "description_width": "",
            "_view_module": "@jupyter-widgets/base",
            "_model_module_version": "1.5.0",
            "_view_count": null,
            "_view_module_version": "1.2.0",
            "bar_color": null,
            "_model_module": "@jupyter-widgets/controls"
          }
        },
        "00514079fabe4cde822335fba0f338a1": {
          "model_module": "@jupyter-widgets/base",
          "model_name": "LayoutModel",
          "model_module_version": "1.2.0",
          "state": {
            "_view_name": "LayoutView",
            "grid_template_rows": null,
            "right": null,
            "justify_content": null,
            "_view_module": "@jupyter-widgets/base",
            "overflow": null,
            "_model_module_version": "1.2.0",
            "_view_count": null,
            "flex_flow": null,
            "width": null,
            "min_width": null,
            "border": null,
            "align_items": null,
            "bottom": null,
            "_model_module": "@jupyter-widgets/base",
            "top": null,
            "grid_column": null,
            "overflow_y": null,
            "overflow_x": null,
            "grid_auto_flow": null,
            "grid_area": null,
            "grid_template_columns": null,
            "flex": null,
            "_model_name": "LayoutModel",
            "justify_items": null,
            "grid_row": null,
            "max_height": null,
            "align_content": null,
            "visibility": null,
            "align_self": null,
            "height": null,
            "min_height": null,
            "padding": null,
            "grid_auto_rows": null,
            "grid_gap": null,
            "max_width": null,
            "order": null,
            "_view_module_version": "1.2.0",
            "grid_template_areas": null,
            "object_position": null,
            "object_fit": null,
            "grid_auto_columns": null,
            "margin": null,
            "display": null,
            "left": null
          }
        },
        "c2e9132d620e434ba4b9148569af7011": {
          "model_module": "@jupyter-widgets/controls",
          "model_name": "DescriptionStyleModel",
          "model_module_version": "1.5.0",
          "state": {
            "_view_name": "StyleView",
            "_model_name": "DescriptionStyleModel",
            "description_width": "",
            "_view_module": "@jupyter-widgets/base",
            "_model_module_version": "1.5.0",
            "_view_count": null,
            "_view_module_version": "1.2.0",
            "_model_module": "@jupyter-widgets/controls"
          }
        },
        "8b1b086f593741cd9b2a590debce27b3": {
          "model_module": "@jupyter-widgets/base",
          "model_name": "LayoutModel",
          "model_module_version": "1.2.0",
          "state": {
            "_view_name": "LayoutView",
            "grid_template_rows": null,
            "right": null,
            "justify_content": null,
            "_view_module": "@jupyter-widgets/base",
            "overflow": null,
            "_model_module_version": "1.2.0",
            "_view_count": null,
            "flex_flow": null,
            "width": null,
            "min_width": null,
            "border": null,
            "align_items": null,
            "bottom": null,
            "_model_module": "@jupyter-widgets/base",
            "top": null,
            "grid_column": null,
            "overflow_y": null,
            "overflow_x": null,
            "grid_auto_flow": null,
            "grid_area": null,
            "grid_template_columns": null,
            "flex": null,
            "_model_name": "LayoutModel",
            "justify_items": null,
            "grid_row": null,
            "max_height": null,
            "align_content": null,
            "visibility": null,
            "align_self": null,
            "height": null,
            "min_height": null,
            "padding": null,
            "grid_auto_rows": null,
            "grid_gap": null,
            "max_width": null,
            "order": null,
            "_view_module_version": "1.2.0",
            "grid_template_areas": null,
            "object_position": null,
            "object_fit": null,
            "grid_auto_columns": null,
            "margin": null,
            "display": null,
            "left": null
          }
        },
        "2be11f39a730489eb52f7c44ed716d17": {
          "model_module": "@jupyter-widgets/controls",
          "model_name": "HBoxModel",
          "model_module_version": "1.5.0",
          "state": {
            "_view_name": "HBoxView",
            "_dom_classes": [],
            "_model_name": "HBoxModel",
            "_view_module": "@jupyter-widgets/controls",
            "_model_module_version": "1.5.0",
            "_view_count": null,
            "_view_module_version": "1.5.0",
            "box_style": "",
            "layout": "IPY_MODEL_80eb808dfc0e4e23a4f691bc89c8d7e6",
            "_model_module": "@jupyter-widgets/controls",
            "children": [
              "IPY_MODEL_8188f9316be548cab7d0729b5cfc85f7",
              "IPY_MODEL_e2a2608740cd47b6aafa82ff6bca3f46",
              "IPY_MODEL_a89baf4e4cb04057aed7b0e04d172c73"
            ]
          }
        },
        "80eb808dfc0e4e23a4f691bc89c8d7e6": {
          "model_module": "@jupyter-widgets/base",
          "model_name": "LayoutModel",
          "model_module_version": "1.2.0",
          "state": {
            "_view_name": "LayoutView",
            "grid_template_rows": null,
            "right": null,
            "justify_content": null,
            "_view_module": "@jupyter-widgets/base",
            "overflow": null,
            "_model_module_version": "1.2.0",
            "_view_count": null,
            "flex_flow": null,
            "width": null,
            "min_width": null,
            "border": null,
            "align_items": null,
            "bottom": null,
            "_model_module": "@jupyter-widgets/base",
            "top": null,
            "grid_column": null,
            "overflow_y": null,
            "overflow_x": null,
            "grid_auto_flow": null,
            "grid_area": null,
            "grid_template_columns": null,
            "flex": null,
            "_model_name": "LayoutModel",
            "justify_items": null,
            "grid_row": null,
            "max_height": null,
            "align_content": null,
            "visibility": null,
            "align_self": null,
            "height": null,
            "min_height": null,
            "padding": null,
            "grid_auto_rows": null,
            "grid_gap": null,
            "max_width": null,
            "order": null,
            "_view_module_version": "1.2.0",
            "grid_template_areas": null,
            "object_position": null,
            "object_fit": null,
            "grid_auto_columns": null,
            "margin": null,
            "display": null,
            "left": null
          }
        },
        "8188f9316be548cab7d0729b5cfc85f7": {
          "model_module": "@jupyter-widgets/controls",
          "model_name": "HTMLModel",
          "model_module_version": "1.5.0",
          "state": {
            "_view_name": "HTMLView",
            "style": "IPY_MODEL_60c4da5105894685866fa8ca63d27477",
            "_dom_classes": [],
            "description": "",
            "_model_name": "HTMLModel",
            "placeholder": "​",
            "_view_module": "@jupyter-widgets/controls",
            "_model_module_version": "1.5.0",
            "value": "Downloading: 100%",
            "_view_count": null,
            "_view_module_version": "1.5.0",
            "description_tooltip": null,
            "_model_module": "@jupyter-widgets/controls",
            "layout": "IPY_MODEL_55fa4128efb24152855032278cecb769"
          }
        },
        "e2a2608740cd47b6aafa82ff6bca3f46": {
          "model_module": "@jupyter-widgets/controls",
          "model_name": "FloatProgressModel",
          "model_module_version": "1.5.0",
          "state": {
            "_view_name": "ProgressView",
            "style": "IPY_MODEL_b0827e07047e45ce8e7a9d269ace1dc9",
            "_dom_classes": [],
            "description": "",
            "_model_name": "FloatProgressModel",
            "bar_style": "success",
            "max": 28,
            "_view_module": "@jupyter-widgets/controls",
            "_model_module_version": "1.5.0",
            "value": 28,
            "_view_count": null,
            "_view_module_version": "1.5.0",
            "orientation": "horizontal",
            "min": 0,
            "description_tooltip": null,
            "_model_module": "@jupyter-widgets/controls",
            "layout": "IPY_MODEL_e0e29338cd6844f9940489f39173c5df"
          }
        },
        "a89baf4e4cb04057aed7b0e04d172c73": {
          "model_module": "@jupyter-widgets/controls",
          "model_name": "HTMLModel",
          "model_module_version": "1.5.0",
          "state": {
            "_view_name": "HTMLView",
            "style": "IPY_MODEL_9c3421fde448457db6fee1b5b8160172",
            "_dom_classes": [],
            "description": "",
            "_model_name": "HTMLModel",
            "placeholder": "​",
            "_view_module": "@jupyter-widgets/controls",
            "_model_module_version": "1.5.0",
            "value": " 28.0/28.0 [00:00&lt;00:00, 222B/s]",
            "_view_count": null,
            "_view_module_version": "1.5.0",
            "description_tooltip": null,
            "_model_module": "@jupyter-widgets/controls",
            "layout": "IPY_MODEL_a06fd73d5738465f99ff4b660cf2a69f"
          }
        },
        "60c4da5105894685866fa8ca63d27477": {
          "model_module": "@jupyter-widgets/controls",
          "model_name": "DescriptionStyleModel",
          "model_module_version": "1.5.0",
          "state": {
            "_view_name": "StyleView",
            "_model_name": "DescriptionStyleModel",
            "description_width": "",
            "_view_module": "@jupyter-widgets/base",
            "_model_module_version": "1.5.0",
            "_view_count": null,
            "_view_module_version": "1.2.0",
            "_model_module": "@jupyter-widgets/controls"
          }
        },
        "55fa4128efb24152855032278cecb769": {
          "model_module": "@jupyter-widgets/base",
          "model_name": "LayoutModel",
          "model_module_version": "1.2.0",
          "state": {
            "_view_name": "LayoutView",
            "grid_template_rows": null,
            "right": null,
            "justify_content": null,
            "_view_module": "@jupyter-widgets/base",
            "overflow": null,
            "_model_module_version": "1.2.0",
            "_view_count": null,
            "flex_flow": null,
            "width": null,
            "min_width": null,
            "border": null,
            "align_items": null,
            "bottom": null,
            "_model_module": "@jupyter-widgets/base",
            "top": null,
            "grid_column": null,
            "overflow_y": null,
            "overflow_x": null,
            "grid_auto_flow": null,
            "grid_area": null,
            "grid_template_columns": null,
            "flex": null,
            "_model_name": "LayoutModel",
            "justify_items": null,
            "grid_row": null,
            "max_height": null,
            "align_content": null,
            "visibility": null,
            "align_self": null,
            "height": null,
            "min_height": null,
            "padding": null,
            "grid_auto_rows": null,
            "grid_gap": null,
            "max_width": null,
            "order": null,
            "_view_module_version": "1.2.0",
            "grid_template_areas": null,
            "object_position": null,
            "object_fit": null,
            "grid_auto_columns": null,
            "margin": null,
            "display": null,
            "left": null
          }
        },
        "b0827e07047e45ce8e7a9d269ace1dc9": {
          "model_module": "@jupyter-widgets/controls",
          "model_name": "ProgressStyleModel",
          "model_module_version": "1.5.0",
          "state": {
            "_view_name": "StyleView",
            "_model_name": "ProgressStyleModel",
            "description_width": "",
            "_view_module": "@jupyter-widgets/base",
            "_model_module_version": "1.5.0",
            "_view_count": null,
            "_view_module_version": "1.2.0",
            "bar_color": null,
            "_model_module": "@jupyter-widgets/controls"
          }
        },
        "e0e29338cd6844f9940489f39173c5df": {
          "model_module": "@jupyter-widgets/base",
          "model_name": "LayoutModel",
          "model_module_version": "1.2.0",
          "state": {
            "_view_name": "LayoutView",
            "grid_template_rows": null,
            "right": null,
            "justify_content": null,
            "_view_module": "@jupyter-widgets/base",
            "overflow": null,
            "_model_module_version": "1.2.0",
            "_view_count": null,
            "flex_flow": null,
            "width": null,
            "min_width": null,
            "border": null,
            "align_items": null,
            "bottom": null,
            "_model_module": "@jupyter-widgets/base",
            "top": null,
            "grid_column": null,
            "overflow_y": null,
            "overflow_x": null,
            "grid_auto_flow": null,
            "grid_area": null,
            "grid_template_columns": null,
            "flex": null,
            "_model_name": "LayoutModel",
            "justify_items": null,
            "grid_row": null,
            "max_height": null,
            "align_content": null,
            "visibility": null,
            "align_self": null,
            "height": null,
            "min_height": null,
            "padding": null,
            "grid_auto_rows": null,
            "grid_gap": null,
            "max_width": null,
            "order": null,
            "_view_module_version": "1.2.0",
            "grid_template_areas": null,
            "object_position": null,
            "object_fit": null,
            "grid_auto_columns": null,
            "margin": null,
            "display": null,
            "left": null
          }
        },
        "9c3421fde448457db6fee1b5b8160172": {
          "model_module": "@jupyter-widgets/controls",
          "model_name": "DescriptionStyleModel",
          "model_module_version": "1.5.0",
          "state": {
            "_view_name": "StyleView",
            "_model_name": "DescriptionStyleModel",
            "description_width": "",
            "_view_module": "@jupyter-widgets/base",
            "_model_module_version": "1.5.0",
            "_view_count": null,
            "_view_module_version": "1.2.0",
            "_model_module": "@jupyter-widgets/controls"
          }
        },
        "a06fd73d5738465f99ff4b660cf2a69f": {
          "model_module": "@jupyter-widgets/base",
          "model_name": "LayoutModel",
          "model_module_version": "1.2.0",
          "state": {
            "_view_name": "LayoutView",
            "grid_template_rows": null,
            "right": null,
            "justify_content": null,
            "_view_module": "@jupyter-widgets/base",
            "overflow": null,
            "_model_module_version": "1.2.0",
            "_view_count": null,
            "flex_flow": null,
            "width": null,
            "min_width": null,
            "border": null,
            "align_items": null,
            "bottom": null,
            "_model_module": "@jupyter-widgets/base",
            "top": null,
            "grid_column": null,
            "overflow_y": null,
            "overflow_x": null,
            "grid_auto_flow": null,
            "grid_area": null,
            "grid_template_columns": null,
            "flex": null,
            "_model_name": "LayoutModel",
            "justify_items": null,
            "grid_row": null,
            "max_height": null,
            "align_content": null,
            "visibility": null,
            "align_self": null,
            "height": null,
            "min_height": null,
            "padding": null,
            "grid_auto_rows": null,
            "grid_gap": null,
            "max_width": null,
            "order": null,
            "_view_module_version": "1.2.0",
            "grid_template_areas": null,
            "object_position": null,
            "object_fit": null,
            "grid_auto_columns": null,
            "margin": null,
            "display": null,
            "left": null
          }
        },
        "27feacfd86f7445bb801814dc8f64fdf": {
          "model_module": "@jupyter-widgets/controls",
          "model_name": "HBoxModel",
          "model_module_version": "1.5.0",
          "state": {
            "_view_name": "HBoxView",
            "_dom_classes": [],
            "_model_name": "HBoxModel",
            "_view_module": "@jupyter-widgets/controls",
            "_model_module_version": "1.5.0",
            "_view_count": null,
            "_view_module_version": "1.5.0",
            "box_style": "",
            "layout": "IPY_MODEL_4d995839c6cb461e94c5bab5a1463806",
            "_model_module": "@jupyter-widgets/controls",
            "children": [
              "IPY_MODEL_79fc2fd92a304910b94283c44b8e6454",
              "IPY_MODEL_9a0d1f44bcda4a53a3e851a834a72679",
              "IPY_MODEL_62f4c42f41064df4ad1fca1a094d8cb2"
            ]
          }
        },
        "4d995839c6cb461e94c5bab5a1463806": {
          "model_module": "@jupyter-widgets/base",
          "model_name": "LayoutModel",
          "model_module_version": "1.2.0",
          "state": {
            "_view_name": "LayoutView",
            "grid_template_rows": null,
            "right": null,
            "justify_content": null,
            "_view_module": "@jupyter-widgets/base",
            "overflow": null,
            "_model_module_version": "1.2.0",
            "_view_count": null,
            "flex_flow": null,
            "width": null,
            "min_width": null,
            "border": null,
            "align_items": null,
            "bottom": null,
            "_model_module": "@jupyter-widgets/base",
            "top": null,
            "grid_column": null,
            "overflow_y": null,
            "overflow_x": null,
            "grid_auto_flow": null,
            "grid_area": null,
            "grid_template_columns": null,
            "flex": null,
            "_model_name": "LayoutModel",
            "justify_items": null,
            "grid_row": null,
            "max_height": null,
            "align_content": null,
            "visibility": null,
            "align_self": null,
            "height": null,
            "min_height": null,
            "padding": null,
            "grid_auto_rows": null,
            "grid_gap": null,
            "max_width": null,
            "order": null,
            "_view_module_version": "1.2.0",
            "grid_template_areas": null,
            "object_position": null,
            "object_fit": null,
            "grid_auto_columns": null,
            "margin": null,
            "display": null,
            "left": null
          }
        },
        "79fc2fd92a304910b94283c44b8e6454": {
          "model_module": "@jupyter-widgets/controls",
          "model_name": "HTMLModel",
          "model_module_version": "1.5.0",
          "state": {
            "_view_name": "HTMLView",
            "style": "IPY_MODEL_57677aed2c7f4538b673d8b5e49f6a07",
            "_dom_classes": [],
            "description": "",
            "_model_name": "HTMLModel",
            "placeholder": "​",
            "_view_module": "@jupyter-widgets/controls",
            "_model_module_version": "1.5.0",
            "value": "Downloading: 100%",
            "_view_count": null,
            "_view_module_version": "1.5.0",
            "description_tooltip": null,
            "_model_module": "@jupyter-widgets/controls",
            "layout": "IPY_MODEL_2a5b1b040e1a42fe8c809eec3a162617"
          }
        },
        "9a0d1f44bcda4a53a3e851a834a72679": {
          "model_module": "@jupyter-widgets/controls",
          "model_name": "FloatProgressModel",
          "model_module_version": "1.5.0",
          "state": {
            "_view_name": "ProgressView",
            "style": "IPY_MODEL_78c3b2fe53404ec4aa68bd79cb53647b",
            "_dom_classes": [],
            "description": "",
            "_model_name": "FloatProgressModel",
            "bar_style": "success",
            "max": 466062,
            "_view_module": "@jupyter-widgets/controls",
            "_model_module_version": "1.5.0",
            "value": 466062,
            "_view_count": null,
            "_view_module_version": "1.5.0",
            "orientation": "horizontal",
            "min": 0,
            "description_tooltip": null,
            "_model_module": "@jupyter-widgets/controls",
            "layout": "IPY_MODEL_74ad70d1539048158afaccf54e52fd50"
          }
        },
        "62f4c42f41064df4ad1fca1a094d8cb2": {
          "model_module": "@jupyter-widgets/controls",
          "model_name": "HTMLModel",
          "model_module_version": "1.5.0",
          "state": {
            "_view_name": "HTMLView",
            "style": "IPY_MODEL_067365b972424a2d979112293a068e4b",
            "_dom_classes": [],
            "description": "",
            "_model_name": "HTMLModel",
            "placeholder": "​",
            "_view_module": "@jupyter-widgets/controls",
            "_model_module_version": "1.5.0",
            "value": " 455k/455k [00:00&lt;00:00, 1.25MB/s]",
            "_view_count": null,
            "_view_module_version": "1.5.0",
            "description_tooltip": null,
            "_model_module": "@jupyter-widgets/controls",
            "layout": "IPY_MODEL_a1e041b7b9f141a899f7e61a8222d098"
          }
        },
        "57677aed2c7f4538b673d8b5e49f6a07": {
          "model_module": "@jupyter-widgets/controls",
          "model_name": "DescriptionStyleModel",
          "model_module_version": "1.5.0",
          "state": {
            "_view_name": "StyleView",
            "_model_name": "DescriptionStyleModel",
            "description_width": "",
            "_view_module": "@jupyter-widgets/base",
            "_model_module_version": "1.5.0",
            "_view_count": null,
            "_view_module_version": "1.2.0",
            "_model_module": "@jupyter-widgets/controls"
          }
        },
        "2a5b1b040e1a42fe8c809eec3a162617": {
          "model_module": "@jupyter-widgets/base",
          "model_name": "LayoutModel",
          "model_module_version": "1.2.0",
          "state": {
            "_view_name": "LayoutView",
            "grid_template_rows": null,
            "right": null,
            "justify_content": null,
            "_view_module": "@jupyter-widgets/base",
            "overflow": null,
            "_model_module_version": "1.2.0",
            "_view_count": null,
            "flex_flow": null,
            "width": null,
            "min_width": null,
            "border": null,
            "align_items": null,
            "bottom": null,
            "_model_module": "@jupyter-widgets/base",
            "top": null,
            "grid_column": null,
            "overflow_y": null,
            "overflow_x": null,
            "grid_auto_flow": null,
            "grid_area": null,
            "grid_template_columns": null,
            "flex": null,
            "_model_name": "LayoutModel",
            "justify_items": null,
            "grid_row": null,
            "max_height": null,
            "align_content": null,
            "visibility": null,
            "align_self": null,
            "height": null,
            "min_height": null,
            "padding": null,
            "grid_auto_rows": null,
            "grid_gap": null,
            "max_width": null,
            "order": null,
            "_view_module_version": "1.2.0",
            "grid_template_areas": null,
            "object_position": null,
            "object_fit": null,
            "grid_auto_columns": null,
            "margin": null,
            "display": null,
            "left": null
          }
        },
        "78c3b2fe53404ec4aa68bd79cb53647b": {
          "model_module": "@jupyter-widgets/controls",
          "model_name": "ProgressStyleModel",
          "model_module_version": "1.5.0",
          "state": {
            "_view_name": "StyleView",
            "_model_name": "ProgressStyleModel",
            "description_width": "",
            "_view_module": "@jupyter-widgets/base",
            "_model_module_version": "1.5.0",
            "_view_count": null,
            "_view_module_version": "1.2.0",
            "bar_color": null,
            "_model_module": "@jupyter-widgets/controls"
          }
        },
        "74ad70d1539048158afaccf54e52fd50": {
          "model_module": "@jupyter-widgets/base",
          "model_name": "LayoutModel",
          "model_module_version": "1.2.0",
          "state": {
            "_view_name": "LayoutView",
            "grid_template_rows": null,
            "right": null,
            "justify_content": null,
            "_view_module": "@jupyter-widgets/base",
            "overflow": null,
            "_model_module_version": "1.2.0",
            "_view_count": null,
            "flex_flow": null,
            "width": null,
            "min_width": null,
            "border": null,
            "align_items": null,
            "bottom": null,
            "_model_module": "@jupyter-widgets/base",
            "top": null,
            "grid_column": null,
            "overflow_y": null,
            "overflow_x": null,
            "grid_auto_flow": null,
            "grid_area": null,
            "grid_template_columns": null,
            "flex": null,
            "_model_name": "LayoutModel",
            "justify_items": null,
            "grid_row": null,
            "max_height": null,
            "align_content": null,
            "visibility": null,
            "align_self": null,
            "height": null,
            "min_height": null,
            "padding": null,
            "grid_auto_rows": null,
            "grid_gap": null,
            "max_width": null,
            "order": null,
            "_view_module_version": "1.2.0",
            "grid_template_areas": null,
            "object_position": null,
            "object_fit": null,
            "grid_auto_columns": null,
            "margin": null,
            "display": null,
            "left": null
          }
        },
        "067365b972424a2d979112293a068e4b": {
          "model_module": "@jupyter-widgets/controls",
          "model_name": "DescriptionStyleModel",
          "model_module_version": "1.5.0",
          "state": {
            "_view_name": "StyleView",
            "_model_name": "DescriptionStyleModel",
            "description_width": "",
            "_view_module": "@jupyter-widgets/base",
            "_model_module_version": "1.5.0",
            "_view_count": null,
            "_view_module_version": "1.2.0",
            "_model_module": "@jupyter-widgets/controls"
          }
        },
        "a1e041b7b9f141a899f7e61a8222d098": {
          "model_module": "@jupyter-widgets/base",
          "model_name": "LayoutModel",
          "model_module_version": "1.2.0",
          "state": {
            "_view_name": "LayoutView",
            "grid_template_rows": null,
            "right": null,
            "justify_content": null,
            "_view_module": "@jupyter-widgets/base",
            "overflow": null,
            "_model_module_version": "1.2.0",
            "_view_count": null,
            "flex_flow": null,
            "width": null,
            "min_width": null,
            "border": null,
            "align_items": null,
            "bottom": null,
            "_model_module": "@jupyter-widgets/base",
            "top": null,
            "grid_column": null,
            "overflow_y": null,
            "overflow_x": null,
            "grid_auto_flow": null,
            "grid_area": null,
            "grid_template_columns": null,
            "flex": null,
            "_model_name": "LayoutModel",
            "justify_items": null,
            "grid_row": null,
            "max_height": null,
            "align_content": null,
            "visibility": null,
            "align_self": null,
            "height": null,
            "min_height": null,
            "padding": null,
            "grid_auto_rows": null,
            "grid_gap": null,
            "max_width": null,
            "order": null,
            "_view_module_version": "1.2.0",
            "grid_template_areas": null,
            "object_position": null,
            "object_fit": null,
            "grid_auto_columns": null,
            "margin": null,
            "display": null,
            "left": null
          }
        },
        "8711d1d87b764ef7aa85efa003e1d2fc": {
          "model_module": "@jupyter-widgets/controls",
          "model_name": "HBoxModel",
          "model_module_version": "1.5.0",
          "state": {
            "_view_name": "HBoxView",
            "_dom_classes": [],
            "_model_name": "HBoxModel",
            "_view_module": "@jupyter-widgets/controls",
            "_model_module_version": "1.5.0",
            "_view_count": null,
            "_view_module_version": "1.5.0",
            "box_style": "",
            "layout": "IPY_MODEL_06a46890d47049bab6fe17de46bc1d33",
            "_model_module": "@jupyter-widgets/controls",
            "children": [
              "IPY_MODEL_0c022c24cd6e42e9bba20b570e54604a",
              "IPY_MODEL_eb8a74ba5a5246f18e510a0115a74dcc",
              "IPY_MODEL_adbc24e75e6e4e0fa9bfa16a9fad77ff"
            ]
          }
        },
        "06a46890d47049bab6fe17de46bc1d33": {
          "model_module": "@jupyter-widgets/base",
          "model_name": "LayoutModel",
          "model_module_version": "1.2.0",
          "state": {
            "_view_name": "LayoutView",
            "grid_template_rows": null,
            "right": null,
            "justify_content": null,
            "_view_module": "@jupyter-widgets/base",
            "overflow": null,
            "_model_module_version": "1.2.0",
            "_view_count": null,
            "flex_flow": null,
            "width": null,
            "min_width": null,
            "border": null,
            "align_items": null,
            "bottom": null,
            "_model_module": "@jupyter-widgets/base",
            "top": null,
            "grid_column": null,
            "overflow_y": null,
            "overflow_x": null,
            "grid_auto_flow": null,
            "grid_area": null,
            "grid_template_columns": null,
            "flex": null,
            "_model_name": "LayoutModel",
            "justify_items": null,
            "grid_row": null,
            "max_height": null,
            "align_content": null,
            "visibility": null,
            "align_self": null,
            "height": null,
            "min_height": null,
            "padding": null,
            "grid_auto_rows": null,
            "grid_gap": null,
            "max_width": null,
            "order": null,
            "_view_module_version": "1.2.0",
            "grid_template_areas": null,
            "object_position": null,
            "object_fit": null,
            "grid_auto_columns": null,
            "margin": null,
            "display": null,
            "left": null
          }
        },
        "0c022c24cd6e42e9bba20b570e54604a": {
          "model_module": "@jupyter-widgets/controls",
          "model_name": "HTMLModel",
          "model_module_version": "1.5.0",
          "state": {
            "_view_name": "HTMLView",
            "style": "IPY_MODEL_41d74d74daa3406987c87ca8648cb45f",
            "_dom_classes": [],
            "description": "",
            "_model_name": "HTMLModel",
            "placeholder": "​",
            "_view_module": "@jupyter-widgets/controls",
            "_model_module_version": "1.5.0",
            "value": "Downloading: 100%",
            "_view_count": null,
            "_view_module_version": "1.5.0",
            "description_tooltip": null,
            "_model_module": "@jupyter-widgets/controls",
            "layout": "IPY_MODEL_378f9a0a9e04442297030225b0db1838"
          }
        },
        "eb8a74ba5a5246f18e510a0115a74dcc": {
          "model_module": "@jupyter-widgets/controls",
          "model_name": "FloatProgressModel",
          "model_module_version": "1.5.0",
          "state": {
            "_view_name": "ProgressView",
            "style": "IPY_MODEL_583d8127c0f943b4a6559a75437aa6ef",
            "_dom_classes": [],
            "description": "",
            "_model_name": "FloatProgressModel",
            "bar_style": "success",
            "max": 570,
            "_view_module": "@jupyter-widgets/controls",
            "_model_module_version": "1.5.0",
            "value": 570,
            "_view_count": null,
            "_view_module_version": "1.5.0",
            "orientation": "horizontal",
            "min": 0,
            "description_tooltip": null,
            "_model_module": "@jupyter-widgets/controls",
            "layout": "IPY_MODEL_6d86d1b1c7b644c2b40ffd61b8cfd8ab"
          }
        },
        "adbc24e75e6e4e0fa9bfa16a9fad77ff": {
          "model_module": "@jupyter-widgets/controls",
          "model_name": "HTMLModel",
          "model_module_version": "1.5.0",
          "state": {
            "_view_name": "HTMLView",
            "style": "IPY_MODEL_4a15d52f835d460d89f0b8c2d2752158",
            "_dom_classes": [],
            "description": "",
            "_model_name": "HTMLModel",
            "placeholder": "​",
            "_view_module": "@jupyter-widgets/controls",
            "_model_module_version": "1.5.0",
            "value": " 570/570 [00:00&lt;00:00, 4.35kB/s]",
            "_view_count": null,
            "_view_module_version": "1.5.0",
            "description_tooltip": null,
            "_model_module": "@jupyter-widgets/controls",
            "layout": "IPY_MODEL_1dc98cfd024d418e9410610f18d84e40"
          }
        },
        "41d74d74daa3406987c87ca8648cb45f": {
          "model_module": "@jupyter-widgets/controls",
          "model_name": "DescriptionStyleModel",
          "model_module_version": "1.5.0",
          "state": {
            "_view_name": "StyleView",
            "_model_name": "DescriptionStyleModel",
            "description_width": "",
            "_view_module": "@jupyter-widgets/base",
            "_model_module_version": "1.5.0",
            "_view_count": null,
            "_view_module_version": "1.2.0",
            "_model_module": "@jupyter-widgets/controls"
          }
        },
        "378f9a0a9e04442297030225b0db1838": {
          "model_module": "@jupyter-widgets/base",
          "model_name": "LayoutModel",
          "model_module_version": "1.2.0",
          "state": {
            "_view_name": "LayoutView",
            "grid_template_rows": null,
            "right": null,
            "justify_content": null,
            "_view_module": "@jupyter-widgets/base",
            "overflow": null,
            "_model_module_version": "1.2.0",
            "_view_count": null,
            "flex_flow": null,
            "width": null,
            "min_width": null,
            "border": null,
            "align_items": null,
            "bottom": null,
            "_model_module": "@jupyter-widgets/base",
            "top": null,
            "grid_column": null,
            "overflow_y": null,
            "overflow_x": null,
            "grid_auto_flow": null,
            "grid_area": null,
            "grid_template_columns": null,
            "flex": null,
            "_model_name": "LayoutModel",
            "justify_items": null,
            "grid_row": null,
            "max_height": null,
            "align_content": null,
            "visibility": null,
            "align_self": null,
            "height": null,
            "min_height": null,
            "padding": null,
            "grid_auto_rows": null,
            "grid_gap": null,
            "max_width": null,
            "order": null,
            "_view_module_version": "1.2.0",
            "grid_template_areas": null,
            "object_position": null,
            "object_fit": null,
            "grid_auto_columns": null,
            "margin": null,
            "display": null,
            "left": null
          }
        },
        "583d8127c0f943b4a6559a75437aa6ef": {
          "model_module": "@jupyter-widgets/controls",
          "model_name": "ProgressStyleModel",
          "model_module_version": "1.5.0",
          "state": {
            "_view_name": "StyleView",
            "_model_name": "ProgressStyleModel",
            "description_width": "",
            "_view_module": "@jupyter-widgets/base",
            "_model_module_version": "1.5.0",
            "_view_count": null,
            "_view_module_version": "1.2.0",
            "bar_color": null,
            "_model_module": "@jupyter-widgets/controls"
          }
        },
        "6d86d1b1c7b644c2b40ffd61b8cfd8ab": {
          "model_module": "@jupyter-widgets/base",
          "model_name": "LayoutModel",
          "model_module_version": "1.2.0",
          "state": {
            "_view_name": "LayoutView",
            "grid_template_rows": null,
            "right": null,
            "justify_content": null,
            "_view_module": "@jupyter-widgets/base",
            "overflow": null,
            "_model_module_version": "1.2.0",
            "_view_count": null,
            "flex_flow": null,
            "width": null,
            "min_width": null,
            "border": null,
            "align_items": null,
            "bottom": null,
            "_model_module": "@jupyter-widgets/base",
            "top": null,
            "grid_column": null,
            "overflow_y": null,
            "overflow_x": null,
            "grid_auto_flow": null,
            "grid_area": null,
            "grid_template_columns": null,
            "flex": null,
            "_model_name": "LayoutModel",
            "justify_items": null,
            "grid_row": null,
            "max_height": null,
            "align_content": null,
            "visibility": null,
            "align_self": null,
            "height": null,
            "min_height": null,
            "padding": null,
            "grid_auto_rows": null,
            "grid_gap": null,
            "max_width": null,
            "order": null,
            "_view_module_version": "1.2.0",
            "grid_template_areas": null,
            "object_position": null,
            "object_fit": null,
            "grid_auto_columns": null,
            "margin": null,
            "display": null,
            "left": null
          }
        },
        "4a15d52f835d460d89f0b8c2d2752158": {
          "model_module": "@jupyter-widgets/controls",
          "model_name": "DescriptionStyleModel",
          "model_module_version": "1.5.0",
          "state": {
            "_view_name": "StyleView",
            "_model_name": "DescriptionStyleModel",
            "description_width": "",
            "_view_module": "@jupyter-widgets/base",
            "_model_module_version": "1.5.0",
            "_view_count": null,
            "_view_module_version": "1.2.0",
            "_model_module": "@jupyter-widgets/controls"
          }
        },
        "1dc98cfd024d418e9410610f18d84e40": {
          "model_module": "@jupyter-widgets/base",
          "model_name": "LayoutModel",
          "model_module_version": "1.2.0",
          "state": {
            "_view_name": "LayoutView",
            "grid_template_rows": null,
            "right": null,
            "justify_content": null,
            "_view_module": "@jupyter-widgets/base",
            "overflow": null,
            "_model_module_version": "1.2.0",
            "_view_count": null,
            "flex_flow": null,
            "width": null,
            "min_width": null,
            "border": null,
            "align_items": null,
            "bottom": null,
            "_model_module": "@jupyter-widgets/base",
            "top": null,
            "grid_column": null,
            "overflow_y": null,
            "overflow_x": null,
            "grid_auto_flow": null,
            "grid_area": null,
            "grid_template_columns": null,
            "flex": null,
            "_model_name": "LayoutModel",
            "justify_items": null,
            "grid_row": null,
            "max_height": null,
            "align_content": null,
            "visibility": null,
            "align_self": null,
            "height": null,
            "min_height": null,
            "padding": null,
            "grid_auto_rows": null,
            "grid_gap": null,
            "max_width": null,
            "order": null,
            "_view_module_version": "1.2.0",
            "grid_template_areas": null,
            "object_position": null,
            "object_fit": null,
            "grid_auto_columns": null,
            "margin": null,
            "display": null,
            "left": null
          }
        },
        "00ac556eab5149cfb690c2803ffbdb59": {
          "model_module": "@jupyter-widgets/controls",
          "model_name": "HBoxModel",
          "model_module_version": "1.5.0",
          "state": {
            "_view_name": "HBoxView",
            "_dom_classes": [],
            "_model_name": "HBoxModel",
            "_view_module": "@jupyter-widgets/controls",
            "_model_module_version": "1.5.0",
            "_view_count": null,
            "_view_module_version": "1.5.0",
            "box_style": "",
            "layout": "IPY_MODEL_16db3cccdebf4819b864ddb049786a28",
            "_model_module": "@jupyter-widgets/controls",
            "children": [
              "IPY_MODEL_e54285c4b2b54d9aa70a5d9d63bcec06",
              "IPY_MODEL_4c5204dc50664f6eb2f99d5db8a411ea",
              "IPY_MODEL_361398002a8b4692a65a830c576e2643"
            ]
          }
        },
        "16db3cccdebf4819b864ddb049786a28": {
          "model_module": "@jupyter-widgets/base",
          "model_name": "LayoutModel",
          "model_module_version": "1.2.0",
          "state": {
            "_view_name": "LayoutView",
            "grid_template_rows": null,
            "right": null,
            "justify_content": null,
            "_view_module": "@jupyter-widgets/base",
            "overflow": null,
            "_model_module_version": "1.2.0",
            "_view_count": null,
            "flex_flow": null,
            "width": null,
            "min_width": null,
            "border": null,
            "align_items": null,
            "bottom": null,
            "_model_module": "@jupyter-widgets/base",
            "top": null,
            "grid_column": null,
            "overflow_y": null,
            "overflow_x": null,
            "grid_auto_flow": null,
            "grid_area": null,
            "grid_template_columns": null,
            "flex": null,
            "_model_name": "LayoutModel",
            "justify_items": null,
            "grid_row": null,
            "max_height": null,
            "align_content": null,
            "visibility": null,
            "align_self": null,
            "height": null,
            "min_height": null,
            "padding": null,
            "grid_auto_rows": null,
            "grid_gap": null,
            "max_width": null,
            "order": null,
            "_view_module_version": "1.2.0",
            "grid_template_areas": null,
            "object_position": null,
            "object_fit": null,
            "grid_auto_columns": null,
            "margin": null,
            "display": null,
            "left": null
          }
        },
        "e54285c4b2b54d9aa70a5d9d63bcec06": {
          "model_module": "@jupyter-widgets/controls",
          "model_name": "HTMLModel",
          "model_module_version": "1.5.0",
          "state": {
            "_view_name": "HTMLView",
            "style": "IPY_MODEL_641c2a88762a426ca488367bdafd8c64",
            "_dom_classes": [],
            "description": "",
            "_model_name": "HTMLModel",
            "placeholder": "​",
            "_view_module": "@jupyter-widgets/controls",
            "_model_module_version": "1.5.0",
            "value": "Downloading: 100%",
            "_view_count": null,
            "_view_module_version": "1.5.0",
            "description_tooltip": null,
            "_model_module": "@jupyter-widgets/controls",
            "layout": "IPY_MODEL_73a21a6e3e3c414f9b0d8daba555de4b"
          }
        },
        "4c5204dc50664f6eb2f99d5db8a411ea": {
          "model_module": "@jupyter-widgets/controls",
          "model_name": "FloatProgressModel",
          "model_module_version": "1.5.0",
          "state": {
            "_view_name": "ProgressView",
            "style": "IPY_MODEL_7d502e3fba64495eafad5e4c6cd99041",
            "_dom_classes": [],
            "description": "",
            "_model_name": "FloatProgressModel",
            "bar_style": "success",
            "max": 536063208,
            "_view_module": "@jupyter-widgets/controls",
            "_model_module_version": "1.5.0",
            "value": 536063208,
            "_view_count": null,
            "_view_module_version": "1.5.0",
            "orientation": "horizontal",
            "min": 0,
            "description_tooltip": null,
            "_model_module": "@jupyter-widgets/controls",
            "layout": "IPY_MODEL_235c4bd5f06b441e86776a8a1cd25a28"
          }
        },
        "361398002a8b4692a65a830c576e2643": {
          "model_module": "@jupyter-widgets/controls",
          "model_name": "HTMLModel",
          "model_module_version": "1.5.0",
          "state": {
            "_view_name": "HTMLView",
            "style": "IPY_MODEL_98f7c37f627a45319effba199ac5a1d0",
            "_dom_classes": [],
            "description": "",
            "_model_name": "HTMLModel",
            "placeholder": "​",
            "_view_module": "@jupyter-widgets/controls",
            "_model_module_version": "1.5.0",
            "value": " 511M/511M [00:46&lt;00:00, 17.0MB/s]",
            "_view_count": null,
            "_view_module_version": "1.5.0",
            "description_tooltip": null,
            "_model_module": "@jupyter-widgets/controls",
            "layout": "IPY_MODEL_37bf2fa0fb444d15a7394aa871f98544"
          }
        },
        "641c2a88762a426ca488367bdafd8c64": {
          "model_module": "@jupyter-widgets/controls",
          "model_name": "DescriptionStyleModel",
          "model_module_version": "1.5.0",
          "state": {
            "_view_name": "StyleView",
            "_model_name": "DescriptionStyleModel",
            "description_width": "",
            "_view_module": "@jupyter-widgets/base",
            "_model_module_version": "1.5.0",
            "_view_count": null,
            "_view_module_version": "1.2.0",
            "_model_module": "@jupyter-widgets/controls"
          }
        },
        "73a21a6e3e3c414f9b0d8daba555de4b": {
          "model_module": "@jupyter-widgets/base",
          "model_name": "LayoutModel",
          "model_module_version": "1.2.0",
          "state": {
            "_view_name": "LayoutView",
            "grid_template_rows": null,
            "right": null,
            "justify_content": null,
            "_view_module": "@jupyter-widgets/base",
            "overflow": null,
            "_model_module_version": "1.2.0",
            "_view_count": null,
            "flex_flow": null,
            "width": null,
            "min_width": null,
            "border": null,
            "align_items": null,
            "bottom": null,
            "_model_module": "@jupyter-widgets/base",
            "top": null,
            "grid_column": null,
            "overflow_y": null,
            "overflow_x": null,
            "grid_auto_flow": null,
            "grid_area": null,
            "grid_template_columns": null,
            "flex": null,
            "_model_name": "LayoutModel",
            "justify_items": null,
            "grid_row": null,
            "max_height": null,
            "align_content": null,
            "visibility": null,
            "align_self": null,
            "height": null,
            "min_height": null,
            "padding": null,
            "grid_auto_rows": null,
            "grid_gap": null,
            "max_width": null,
            "order": null,
            "_view_module_version": "1.2.0",
            "grid_template_areas": null,
            "object_position": null,
            "object_fit": null,
            "grid_auto_columns": null,
            "margin": null,
            "display": null,
            "left": null
          }
        },
        "7d502e3fba64495eafad5e4c6cd99041": {
          "model_module": "@jupyter-widgets/controls",
          "model_name": "ProgressStyleModel",
          "model_module_version": "1.5.0",
          "state": {
            "_view_name": "StyleView",
            "_model_name": "ProgressStyleModel",
            "description_width": "",
            "_view_module": "@jupyter-widgets/base",
            "_model_module_version": "1.5.0",
            "_view_count": null,
            "_view_module_version": "1.2.0",
            "bar_color": null,
            "_model_module": "@jupyter-widgets/controls"
          }
        },
        "235c4bd5f06b441e86776a8a1cd25a28": {
          "model_module": "@jupyter-widgets/base",
          "model_name": "LayoutModel",
          "model_module_version": "1.2.0",
          "state": {
            "_view_name": "LayoutView",
            "grid_template_rows": null,
            "right": null,
            "justify_content": null,
            "_view_module": "@jupyter-widgets/base",
            "overflow": null,
            "_model_module_version": "1.2.0",
            "_view_count": null,
            "flex_flow": null,
            "width": null,
            "min_width": null,
            "border": null,
            "align_items": null,
            "bottom": null,
            "_model_module": "@jupyter-widgets/base",
            "top": null,
            "grid_column": null,
            "overflow_y": null,
            "overflow_x": null,
            "grid_auto_flow": null,
            "grid_area": null,
            "grid_template_columns": null,
            "flex": null,
            "_model_name": "LayoutModel",
            "justify_items": null,
            "grid_row": null,
            "max_height": null,
            "align_content": null,
            "visibility": null,
            "align_self": null,
            "height": null,
            "min_height": null,
            "padding": null,
            "grid_auto_rows": null,
            "grid_gap": null,
            "max_width": null,
            "order": null,
            "_view_module_version": "1.2.0",
            "grid_template_areas": null,
            "object_position": null,
            "object_fit": null,
            "grid_auto_columns": null,
            "margin": null,
            "display": null,
            "left": null
          }
        },
        "98f7c37f627a45319effba199ac5a1d0": {
          "model_module": "@jupyter-widgets/controls",
          "model_name": "DescriptionStyleModel",
          "model_module_version": "1.5.0",
          "state": {
            "_view_name": "StyleView",
            "_model_name": "DescriptionStyleModel",
            "description_width": "",
            "_view_module": "@jupyter-widgets/base",
            "_model_module_version": "1.5.0",
            "_view_count": null,
            "_view_module_version": "1.2.0",
            "_model_module": "@jupyter-widgets/controls"
          }
        },
        "37bf2fa0fb444d15a7394aa871f98544": {
          "model_module": "@jupyter-widgets/base",
          "model_name": "LayoutModel",
          "model_module_version": "1.2.0",
          "state": {
            "_view_name": "LayoutView",
            "grid_template_rows": null,
            "right": null,
            "justify_content": null,
            "_view_module": "@jupyter-widgets/base",
            "overflow": null,
            "_model_module_version": "1.2.0",
            "_view_count": null,
            "flex_flow": null,
            "width": null,
            "min_width": null,
            "border": null,
            "align_items": null,
            "bottom": null,
            "_model_module": "@jupyter-widgets/base",
            "top": null,
            "grid_column": null,
            "overflow_y": null,
            "overflow_x": null,
            "grid_auto_flow": null,
            "grid_area": null,
            "grid_template_columns": null,
            "flex": null,
            "_model_name": "LayoutModel",
            "justify_items": null,
            "grid_row": null,
            "max_height": null,
            "align_content": null,
            "visibility": null,
            "align_self": null,
            "height": null,
            "min_height": null,
            "padding": null,
            "grid_auto_rows": null,
            "grid_gap": null,
            "max_width": null,
            "order": null,
            "_view_module_version": "1.2.0",
            "grid_template_areas": null,
            "object_position": null,
            "object_fit": null,
            "grid_auto_columns": null,
            "margin": null,
            "display": null,
            "left": null
          }
        }
      }
    }
  },
  "nbformat_minor": 0,
  "nbformat": 4,
  "cells": [
    {
      "cell_type": "code",
      "source": [
        "import numpy as np\n",
        "import pandas as pd\n",
        "import matplotlib.pyplot as plt\n",
        "import seaborn as sns\n",
        "import nltk\n",
        "import re\n",
        "from wordcloud import WordCloud\n",
        "from tensorflow.keras.callbacks import ModelCheckpoint, EarlyStopping\n",
        "from sklearn.metrics import classification_report, confusion_matrix, accuracy_score"
      ],
      "metadata": {
        "id": "kzaEXGiNw517",
        "execution": {
          "iopub.status.busy": "2021-12-29T19:24:35.437692Z",
          "iopub.execute_input": "2021-12-29T19:24:35.438501Z",
          "iopub.status.idle": "2021-12-29T19:24:35.445584Z",
          "shell.execute_reply.started": "2021-12-29T19:24:35.438463Z",
          "shell.execute_reply": "2021-12-29T19:24:35.444305Z"
        },
        "trusted": true
      },
      "execution_count": 1,
      "outputs": []
    },
    {
      "cell_type": "code",
      "source": [
        "from tensorflow.keras.preprocessing.text import Tokenizer\n",
        "from tensorflow.keras.preprocessing.sequence import pad_sequences\n",
        "from tensorflow.keras.models import Sequential\n",
        "from tensorflow.keras.layers import Dense, Embedding, LSTM, Conv1D, MaxPool1D, Bidirectional, GRU, Flatten, Dropout\n",
        "import tensorflow as tf\n",
        "from sklearn.model_selection import train_test_split\n",
        "from sklearn.metrics import classification_report, accuracy_score"
      ],
      "metadata": {
        "id": "jdjfFCCTxNmO",
        "execution": {
          "iopub.status.busy": "2021-12-29T19:07:52.146941Z",
          "iopub.execute_input": "2021-12-29T19:07:52.147223Z",
          "iopub.status.idle": "2021-12-29T19:07:52.159183Z",
          "shell.execute_reply.started": "2021-12-29T19:07:52.147188Z",
          "shell.execute_reply": "2021-12-29T19:07:52.157807Z"
        },
        "trusted": true
      },
      "execution_count": 2,
      "outputs": []
    },
    {
      "cell_type": "markdown",
      "source": [
        "## Import Dataset"
      ],
      "metadata": {
        "id": "_8ZHzdy-z9AO"
      }
    },
    {
      "cell_type": "code",
      "source": [
        "fake = pd.read_csv('https://raw.githubusercontent.com/laxmimerit/fake-real-news-dataset/main/data/Fake.csv')\n",
        "fake.head()"
      ],
      "metadata": {
        "id": "0rq0tLFLx9UF",
        "outputId": "0e0f7d9b-93c4-43e1-9f4d-2f04b8760bc3",
        "execution": {
          "iopub.status.busy": "2021-12-29T19:07:56.588536Z",
          "iopub.execute_input": "2021-12-29T19:07:56.589110Z",
          "iopub.status.idle": "2021-12-29T19:07:59.776715Z",
          "shell.execute_reply.started": "2021-12-29T19:07:56.589077Z",
          "shell.execute_reply": "2021-12-29T19:07:59.775688Z"
        },
        "trusted": true,
        "colab": {
          "base_uri": "https://localhost:8080/",
          "height": 206
        }
      },
      "execution_count": 3,
      "outputs": [
        {
          "output_type": "execute_result",
          "data": {
            "text/html": [
              "\n",
              "  <div id=\"df-78a5666f-ffc2-43ad-bb50-af7f55ca22f1\">\n",
              "    <div class=\"colab-df-container\">\n",
              "      <div>\n",
              "<style scoped>\n",
              "    .dataframe tbody tr th:only-of-type {\n",
              "        vertical-align: middle;\n",
              "    }\n",
              "\n",
              "    .dataframe tbody tr th {\n",
              "        vertical-align: top;\n",
              "    }\n",
              "\n",
              "    .dataframe thead th {\n",
              "        text-align: right;\n",
              "    }\n",
              "</style>\n",
              "<table border=\"1\" class=\"dataframe\">\n",
              "  <thead>\n",
              "    <tr style=\"text-align: right;\">\n",
              "      <th></th>\n",
              "      <th>title</th>\n",
              "      <th>text</th>\n",
              "      <th>subject</th>\n",
              "      <th>date</th>\n",
              "    </tr>\n",
              "  </thead>\n",
              "  <tbody>\n",
              "    <tr>\n",
              "      <th>0</th>\n",
              "      <td>Donald Trump Sends Out Embarrassing New Year’...</td>\n",
              "      <td>Donald Trump just couldn t wish all Americans ...</td>\n",
              "      <td>News</td>\n",
              "      <td>December 31, 2017</td>\n",
              "    </tr>\n",
              "    <tr>\n",
              "      <th>1</th>\n",
              "      <td>Drunk Bragging Trump Staffer Started Russian ...</td>\n",
              "      <td>House Intelligence Committee Chairman Devin Nu...</td>\n",
              "      <td>News</td>\n",
              "      <td>December 31, 2017</td>\n",
              "    </tr>\n",
              "    <tr>\n",
              "      <th>2</th>\n",
              "      <td>Sheriff David Clarke Becomes An Internet Joke...</td>\n",
              "      <td>On Friday, it was revealed that former Milwauk...</td>\n",
              "      <td>News</td>\n",
              "      <td>December 30, 2017</td>\n",
              "    </tr>\n",
              "    <tr>\n",
              "      <th>3</th>\n",
              "      <td>Trump Is So Obsessed He Even Has Obama’s Name...</td>\n",
              "      <td>On Christmas day, Donald Trump announced that ...</td>\n",
              "      <td>News</td>\n",
              "      <td>December 29, 2017</td>\n",
              "    </tr>\n",
              "    <tr>\n",
              "      <th>4</th>\n",
              "      <td>Pope Francis Just Called Out Donald Trump Dur...</td>\n",
              "      <td>Pope Francis used his annual Christmas Day mes...</td>\n",
              "      <td>News</td>\n",
              "      <td>December 25, 2017</td>\n",
              "    </tr>\n",
              "  </tbody>\n",
              "</table>\n",
              "</div>\n",
              "      <button class=\"colab-df-convert\" onclick=\"convertToInteractive('df-78a5666f-ffc2-43ad-bb50-af7f55ca22f1')\"\n",
              "              title=\"Convert this dataframe to an interactive table.\"\n",
              "              style=\"display:none;\">\n",
              "        \n",
              "  <svg xmlns=\"http://www.w3.org/2000/svg\" height=\"24px\"viewBox=\"0 0 24 24\"\n",
              "       width=\"24px\">\n",
              "    <path d=\"M0 0h24v24H0V0z\" fill=\"none\"/>\n",
              "    <path d=\"M18.56 5.44l.94 2.06.94-2.06 2.06-.94-2.06-.94-.94-2.06-.94 2.06-2.06.94zm-11 1L8.5 8.5l.94-2.06 2.06-.94-2.06-.94L8.5 2.5l-.94 2.06-2.06.94zm10 10l.94 2.06.94-2.06 2.06-.94-2.06-.94-.94-2.06-.94 2.06-2.06.94z\"/><path d=\"M17.41 7.96l-1.37-1.37c-.4-.4-.92-.59-1.43-.59-.52 0-1.04.2-1.43.59L10.3 9.45l-7.72 7.72c-.78.78-.78 2.05 0 2.83L4 21.41c.39.39.9.59 1.41.59.51 0 1.02-.2 1.41-.59l7.78-7.78 2.81-2.81c.8-.78.8-2.07 0-2.86zM5.41 20L4 18.59l7.72-7.72 1.47 1.35L5.41 20z\"/>\n",
              "  </svg>\n",
              "      </button>\n",
              "      \n",
              "  <style>\n",
              "    .colab-df-container {\n",
              "      display:flex;\n",
              "      flex-wrap:wrap;\n",
              "      gap: 12px;\n",
              "    }\n",
              "\n",
              "    .colab-df-convert {\n",
              "      background-color: #E8F0FE;\n",
              "      border: none;\n",
              "      border-radius: 50%;\n",
              "      cursor: pointer;\n",
              "      display: none;\n",
              "      fill: #1967D2;\n",
              "      height: 32px;\n",
              "      padding: 0 0 0 0;\n",
              "      width: 32px;\n",
              "    }\n",
              "\n",
              "    .colab-df-convert:hover {\n",
              "      background-color: #E2EBFA;\n",
              "      box-shadow: 0px 1px 2px rgba(60, 64, 67, 0.3), 0px 1px 3px 1px rgba(60, 64, 67, 0.15);\n",
              "      fill: #174EA6;\n",
              "    }\n",
              "\n",
              "    [theme=dark] .colab-df-convert {\n",
              "      background-color: #3B4455;\n",
              "      fill: #D2E3FC;\n",
              "    }\n",
              "\n",
              "    [theme=dark] .colab-df-convert:hover {\n",
              "      background-color: #434B5C;\n",
              "      box-shadow: 0px 1px 3px 1px rgba(0, 0, 0, 0.15);\n",
              "      filter: drop-shadow(0px 1px 2px rgba(0, 0, 0, 0.3));\n",
              "      fill: #FFFFFF;\n",
              "    }\n",
              "  </style>\n",
              "\n",
              "      <script>\n",
              "        const buttonEl =\n",
              "          document.querySelector('#df-78a5666f-ffc2-43ad-bb50-af7f55ca22f1 button.colab-df-convert');\n",
              "        buttonEl.style.display =\n",
              "          google.colab.kernel.accessAllowed ? 'block' : 'none';\n",
              "\n",
              "        async function convertToInteractive(key) {\n",
              "          const element = document.querySelector('#df-78a5666f-ffc2-43ad-bb50-af7f55ca22f1');\n",
              "          const dataTable =\n",
              "            await google.colab.kernel.invokeFunction('convertToInteractive',\n",
              "                                                     [key], {});\n",
              "          if (!dataTable) return;\n",
              "\n",
              "          const docLinkHtml = 'Like what you see? Visit the ' +\n",
              "            '<a target=\"_blank\" href=https://colab.research.google.com/notebooks/data_table.ipynb>data table notebook</a>'\n",
              "            + ' to learn more about interactive tables.';\n",
              "          element.innerHTML = '';\n",
              "          dataTable['output_type'] = 'display_data';\n",
              "          await google.colab.output.renderOutput(dataTable, element);\n",
              "          const docLink = document.createElement('div');\n",
              "          docLink.innerHTML = docLinkHtml;\n",
              "          element.appendChild(docLink);\n",
              "        }\n",
              "      </script>\n",
              "    </div>\n",
              "  </div>\n",
              "  "
            ],
            "text/plain": [
              "                                               title  ...               date\n",
              "0   Donald Trump Sends Out Embarrassing New Year’...  ...  December 31, 2017\n",
              "1   Drunk Bragging Trump Staffer Started Russian ...  ...  December 31, 2017\n",
              "2   Sheriff David Clarke Becomes An Internet Joke...  ...  December 30, 2017\n",
              "3   Trump Is So Obsessed He Even Has Obama’s Name...  ...  December 29, 2017\n",
              "4   Pope Francis Just Called Out Donald Trump Dur...  ...  December 25, 2017\n",
              "\n",
              "[5 rows x 4 columns]"
            ]
          },
          "metadata": {},
          "execution_count": 3
        }
      ]
    },
    {
      "cell_type": "code",
      "source": [
        "fake['subject'].value_counts()"
      ],
      "metadata": {
        "id": "VXvjy0qT0skf",
        "outputId": "20463a14-27c3-4129-9718-796daed88efb",
        "execution": {
          "iopub.status.busy": "2021-12-29T19:07:59.779061Z",
          "iopub.execute_input": "2021-12-29T19:07:59.779432Z",
          "iopub.status.idle": "2021-12-29T19:07:59.792226Z",
          "shell.execute_reply.started": "2021-12-29T19:07:59.779384Z",
          "shell.execute_reply": "2021-12-29T19:07:59.791118Z"
        },
        "trusted": true,
        "colab": {
          "base_uri": "https://localhost:8080/"
        }
      },
      "execution_count": 4,
      "outputs": [
        {
          "output_type": "execute_result",
          "data": {
            "text/plain": [
              "News               9050\n",
              "politics           6841\n",
              "left-news          4459\n",
              "Government News    1570\n",
              "US_News             783\n",
              "Middle-east         778\n",
              "Name: subject, dtype: int64"
            ]
          },
          "metadata": {},
          "execution_count": 4
        }
      ]
    },
    {
      "cell_type": "code",
      "source": [
        "real = pd.read_csv('https://raw.githubusercontent.com/laxmimerit/fake-real-news-dataset/main/data/True.csv')\n",
        "real.head()"
      ],
      "metadata": {
        "id": "_z2p8rcg7AhJ",
        "outputId": "3130048f-87fb-406d-856e-56ea028b9234",
        "execution": {
          "iopub.status.busy": "2021-12-29T19:07:59.794252Z",
          "iopub.execute_input": "2021-12-29T19:07:59.795066Z",
          "iopub.status.idle": "2021-12-29T19:08:03.367641Z",
          "shell.execute_reply.started": "2021-12-29T19:07:59.795010Z",
          "shell.execute_reply": "2021-12-29T19:08:03.366666Z"
        },
        "trusted": true,
        "colab": {
          "base_uri": "https://localhost:8080/",
          "height": 206
        }
      },
      "execution_count": 5,
      "outputs": [
        {
          "output_type": "execute_result",
          "data": {
            "text/html": [
              "\n",
              "  <div id=\"df-eacaaf93-e3b6-45cb-a1de-6d1e0e3895e0\">\n",
              "    <div class=\"colab-df-container\">\n",
              "      <div>\n",
              "<style scoped>\n",
              "    .dataframe tbody tr th:only-of-type {\n",
              "        vertical-align: middle;\n",
              "    }\n",
              "\n",
              "    .dataframe tbody tr th {\n",
              "        vertical-align: top;\n",
              "    }\n",
              "\n",
              "    .dataframe thead th {\n",
              "        text-align: right;\n",
              "    }\n",
              "</style>\n",
              "<table border=\"1\" class=\"dataframe\">\n",
              "  <thead>\n",
              "    <tr style=\"text-align: right;\">\n",
              "      <th></th>\n",
              "      <th>title</th>\n",
              "      <th>text</th>\n",
              "      <th>subject</th>\n",
              "      <th>date</th>\n",
              "    </tr>\n",
              "  </thead>\n",
              "  <tbody>\n",
              "    <tr>\n",
              "      <th>0</th>\n",
              "      <td>As U.S. budget fight looms, Republicans flip t...</td>\n",
              "      <td>WASHINGTON (Reuters) - The head of a conservat...</td>\n",
              "      <td>politicsNews</td>\n",
              "      <td>December 31, 2017</td>\n",
              "    </tr>\n",
              "    <tr>\n",
              "      <th>1</th>\n",
              "      <td>U.S. military to accept transgender recruits o...</td>\n",
              "      <td>WASHINGTON (Reuters) - Transgender people will...</td>\n",
              "      <td>politicsNews</td>\n",
              "      <td>December 29, 2017</td>\n",
              "    </tr>\n",
              "    <tr>\n",
              "      <th>2</th>\n",
              "      <td>Senior U.S. Republican senator: 'Let Mr. Muell...</td>\n",
              "      <td>WASHINGTON (Reuters) - The special counsel inv...</td>\n",
              "      <td>politicsNews</td>\n",
              "      <td>December 31, 2017</td>\n",
              "    </tr>\n",
              "    <tr>\n",
              "      <th>3</th>\n",
              "      <td>FBI Russia probe helped by Australian diplomat...</td>\n",
              "      <td>WASHINGTON (Reuters) - Trump campaign adviser ...</td>\n",
              "      <td>politicsNews</td>\n",
              "      <td>December 30, 2017</td>\n",
              "    </tr>\n",
              "    <tr>\n",
              "      <th>4</th>\n",
              "      <td>Trump wants Postal Service to charge 'much mor...</td>\n",
              "      <td>SEATTLE/WASHINGTON (Reuters) - President Donal...</td>\n",
              "      <td>politicsNews</td>\n",
              "      <td>December 29, 2017</td>\n",
              "    </tr>\n",
              "  </tbody>\n",
              "</table>\n",
              "</div>\n",
              "      <button class=\"colab-df-convert\" onclick=\"convertToInteractive('df-eacaaf93-e3b6-45cb-a1de-6d1e0e3895e0')\"\n",
              "              title=\"Convert this dataframe to an interactive table.\"\n",
              "              style=\"display:none;\">\n",
              "        \n",
              "  <svg xmlns=\"http://www.w3.org/2000/svg\" height=\"24px\"viewBox=\"0 0 24 24\"\n",
              "       width=\"24px\">\n",
              "    <path d=\"M0 0h24v24H0V0z\" fill=\"none\"/>\n",
              "    <path d=\"M18.56 5.44l.94 2.06.94-2.06 2.06-.94-2.06-.94-.94-2.06-.94 2.06-2.06.94zm-11 1L8.5 8.5l.94-2.06 2.06-.94-2.06-.94L8.5 2.5l-.94 2.06-2.06.94zm10 10l.94 2.06.94-2.06 2.06-.94-2.06-.94-.94-2.06-.94 2.06-2.06.94z\"/><path d=\"M17.41 7.96l-1.37-1.37c-.4-.4-.92-.59-1.43-.59-.52 0-1.04.2-1.43.59L10.3 9.45l-7.72 7.72c-.78.78-.78 2.05 0 2.83L4 21.41c.39.39.9.59 1.41.59.51 0 1.02-.2 1.41-.59l7.78-7.78 2.81-2.81c.8-.78.8-2.07 0-2.86zM5.41 20L4 18.59l7.72-7.72 1.47 1.35L5.41 20z\"/>\n",
              "  </svg>\n",
              "      </button>\n",
              "      \n",
              "  <style>\n",
              "    .colab-df-container {\n",
              "      display:flex;\n",
              "      flex-wrap:wrap;\n",
              "      gap: 12px;\n",
              "    }\n",
              "\n",
              "    .colab-df-convert {\n",
              "      background-color: #E8F0FE;\n",
              "      border: none;\n",
              "      border-radius: 50%;\n",
              "      cursor: pointer;\n",
              "      display: none;\n",
              "      fill: #1967D2;\n",
              "      height: 32px;\n",
              "      padding: 0 0 0 0;\n",
              "      width: 32px;\n",
              "    }\n",
              "\n",
              "    .colab-df-convert:hover {\n",
              "      background-color: #E2EBFA;\n",
              "      box-shadow: 0px 1px 2px rgba(60, 64, 67, 0.3), 0px 1px 3px 1px rgba(60, 64, 67, 0.15);\n",
              "      fill: #174EA6;\n",
              "    }\n",
              "\n",
              "    [theme=dark] .colab-df-convert {\n",
              "      background-color: #3B4455;\n",
              "      fill: #D2E3FC;\n",
              "    }\n",
              "\n",
              "    [theme=dark] .colab-df-convert:hover {\n",
              "      background-color: #434B5C;\n",
              "      box-shadow: 0px 1px 3px 1px rgba(0, 0, 0, 0.15);\n",
              "      filter: drop-shadow(0px 1px 2px rgba(0, 0, 0, 0.3));\n",
              "      fill: #FFFFFF;\n",
              "    }\n",
              "  </style>\n",
              "\n",
              "      <script>\n",
              "        const buttonEl =\n",
              "          document.querySelector('#df-eacaaf93-e3b6-45cb-a1de-6d1e0e3895e0 button.colab-df-convert');\n",
              "        buttonEl.style.display =\n",
              "          google.colab.kernel.accessAllowed ? 'block' : 'none';\n",
              "\n",
              "        async function convertToInteractive(key) {\n",
              "          const element = document.querySelector('#df-eacaaf93-e3b6-45cb-a1de-6d1e0e3895e0');\n",
              "          const dataTable =\n",
              "            await google.colab.kernel.invokeFunction('convertToInteractive',\n",
              "                                                     [key], {});\n",
              "          if (!dataTable) return;\n",
              "\n",
              "          const docLinkHtml = 'Like what you see? Visit the ' +\n",
              "            '<a target=\"_blank\" href=https://colab.research.google.com/notebooks/data_table.ipynb>data table notebook</a>'\n",
              "            + ' to learn more about interactive tables.';\n",
              "          element.innerHTML = '';\n",
              "          dataTable['output_type'] = 'display_data';\n",
              "          await google.colab.output.renderOutput(dataTable, element);\n",
              "          const docLink = document.createElement('div');\n",
              "          docLink.innerHTML = docLinkHtml;\n",
              "          element.appendChild(docLink);\n",
              "        }\n",
              "      </script>\n",
              "    </div>\n",
              "  </div>\n",
              "  "
            ],
            "text/plain": [
              "                                               title  ...                date\n",
              "0  As U.S. budget fight looms, Republicans flip t...  ...  December 31, 2017 \n",
              "1  U.S. military to accept transgender recruits o...  ...  December 29, 2017 \n",
              "2  Senior U.S. Republican senator: 'Let Mr. Muell...  ...  December 31, 2017 \n",
              "3  FBI Russia probe helped by Australian diplomat...  ...  December 30, 2017 \n",
              "4  Trump wants Postal Service to charge 'much mor...  ...  December 29, 2017 \n",
              "\n",
              "[5 rows x 4 columns]"
            ]
          },
          "metadata": {},
          "execution_count": 5
        }
      ]
    },
    {
      "cell_type": "code",
      "source": [
        "unknown_publishers = []\n",
        "for index, row in enumerate(real.text.values):\n",
        "    try:\n",
        "        record = row.split('-',maxsplit=1)\n",
        "        record[1]\n",
        "        assert(len(record[0]) < 120)\n",
        "    except:\n",
        "        unknown_publishers.append(index)"
      ],
      "metadata": {
        "id": "mZuUjBr7-l3M",
        "execution": {
          "iopub.status.busy": "2021-12-29T19:08:03.385593Z",
          "iopub.execute_input": "2021-12-29T19:08:03.386205Z",
          "iopub.status.idle": "2021-12-29T19:08:03.442364Z",
          "shell.execute_reply.started": "2021-12-29T19:08:03.386158Z",
          "shell.execute_reply": "2021-12-29T19:08:03.441363Z"
        },
        "trusted": true
      },
      "execution_count": 6,
      "outputs": []
    },
    {
      "cell_type": "code",
      "source": [
        "len(unknown_publishers)"
      ],
      "metadata": {
        "id": "keuQj4ap_6lX",
        "outputId": "db4dc232-f187-4904-fd73-998328935ace",
        "execution": {
          "iopub.status.busy": "2021-12-29T19:08:03.444054Z",
          "iopub.execute_input": "2021-12-29T19:08:03.444354Z",
          "iopub.status.idle": "2021-12-29T19:08:03.453326Z",
          "shell.execute_reply.started": "2021-12-29T19:08:03.444310Z",
          "shell.execute_reply": "2021-12-29T19:08:03.452040Z"
        },
        "trusted": true,
        "colab": {
          "base_uri": "https://localhost:8080/"
        }
      },
      "execution_count": 7,
      "outputs": [
        {
          "output_type": "execute_result",
          "data": {
            "text/plain": [
              "222"
            ]
          },
          "metadata": {},
          "execution_count": 7
        }
      ]
    },
    {
      "cell_type": "code",
      "source": [
        "real.iloc[unknown_publishers].text"
      ],
      "metadata": {
        "id": "vi63ONVQAIyh",
        "outputId": "e15ce0c0-ec5e-4cd9-90f1-836732d09961",
        "execution": {
          "iopub.status.busy": "2021-12-29T19:08:03.455597Z",
          "iopub.execute_input": "2021-12-29T19:08:03.456678Z",
          "iopub.status.idle": "2021-12-29T19:08:03.469005Z",
          "shell.execute_reply.started": "2021-12-29T19:08:03.456633Z",
          "shell.execute_reply": "2021-12-29T19:08:03.467828Z"
        },
        "trusted": true,
        "colab": {
          "base_uri": "https://localhost:8080/"
        }
      },
      "execution_count": 8,
      "outputs": [
        {
          "output_type": "execute_result",
          "data": {
            "text/plain": [
              "7        The following statements were posted to the ve...\n",
              "8        The following statements were posted to the ve...\n",
              "12       The following statements were posted to the ve...\n",
              "13       The following statements were posted to the ve...\n",
              "14        (In Dec. 25 story, in second paragraph, corre...\n",
              "                               ...                        \n",
              "20135     (Story corrects to million from billion in pa...\n",
              "20500     (This Sept 8 story corrects headline, clarifi...\n",
              "20667     (Story refiles to add dropped word  not , in ...\n",
              "21246     (Story corrects third paragraph to show Mosul...\n",
              "21339     (Story corrects to fix spelling in paragraph ...\n",
              "Name: text, Length: 222, dtype: object"
            ]
          },
          "metadata": {},
          "execution_count": 8
        }
      ]
    },
    {
      "cell_type": "code",
      "source": [
        "real.iloc[8970]"
      ],
      "metadata": {
        "id": "4R_2b7IEHBWK",
        "outputId": "ea496b69-88b0-4ca5-cb6b-df7f315d019a",
        "execution": {
          "iopub.status.busy": "2021-12-29T19:08:03.470609Z",
          "iopub.execute_input": "2021-12-29T19:08:03.471048Z",
          "iopub.status.idle": "2021-12-29T19:08:03.480104Z",
          "shell.execute_reply.started": "2021-12-29T19:08:03.471001Z",
          "shell.execute_reply": "2021-12-29T19:08:03.478898Z"
        },
        "trusted": true
      },
      "execution_count": null,
      "outputs": [
        {
          "execution_count": 12,
          "output_type": "execute_result",
          "data": {
            "text/plain": "title      Graphic: Supreme Court roundup\ntext                                     \nsubject                      politicsNews\ndate                       June 16, 2016 \nName: 8970, dtype: object"
          },
          "metadata": {}
        }
      ]
    },
    {
      "cell_type": "code",
      "source": [
        "real = real.drop(8970, axis = 0)"
      ],
      "metadata": {
        "id": "n6SqditUHDwU",
        "execution": {
          "iopub.status.busy": "2021-12-29T19:08:03.481782Z",
          "iopub.execute_input": "2021-12-29T19:08:03.482628Z",
          "iopub.status.idle": "2021-12-29T19:08:03.493081Z",
          "shell.execute_reply.started": "2021-12-29T19:08:03.482580Z",
          "shell.execute_reply": "2021-12-29T19:08:03.491995Z"
        },
        "trusted": true
      },
      "execution_count": null,
      "outputs": []
    },
    {
      "cell_type": "code",
      "source": [
        "publisher = []\n",
        "tmp_text = []\n",
        "\n",
        "for index,row in enumerate(real.text.values):\n",
        "    if index in unknown_publishers:\n",
        "        tmp_text.append(row)\n",
        "        publisher.append('unknown')\n",
        "    else:\n",
        "        record = row.split('-',maxsplit=1)\n",
        "        publisher.append(record[0].strip())\n",
        "        tmp_text.append(record[1].strip())"
      ],
      "metadata": {
        "id": "qIr92ZrdAWXB",
        "execution": {
          "iopub.status.busy": "2021-12-29T19:08:03.496664Z",
          "iopub.execute_input": "2021-12-29T19:08:03.497275Z",
          "iopub.status.idle": "2021-12-29T19:08:03.623069Z",
          "shell.execute_reply.started": "2021-12-29T19:08:03.497227Z",
          "shell.execute_reply": "2021-12-29T19:08:03.622079Z"
        },
        "trusted": true
      },
      "execution_count": 9,
      "outputs": []
    },
    {
      "cell_type": "code",
      "source": [
        "real['publisher'] = publisher\n",
        "real['text'] = tmp_text"
      ],
      "metadata": {
        "id": "PZpPvOA3H5I3",
        "execution": {
          "iopub.status.busy": "2021-12-29T19:08:04.088744Z",
          "iopub.execute_input": "2021-12-29T19:08:04.089052Z",
          "iopub.status.idle": "2021-12-29T19:08:04.100431Z",
          "shell.execute_reply.started": "2021-12-29T19:08:04.089020Z",
          "shell.execute_reply": "2021-12-29T19:08:04.099180Z"
        },
        "trusted": true
      },
      "execution_count": 10,
      "outputs": []
    },
    {
      "cell_type": "code",
      "source": [
        "real.head()"
      ],
      "metadata": {
        "id": "l8xG6JJVISJn",
        "outputId": "25132b8c-bcb6-46f0-ec79-577d397cc9e4",
        "execution": {
          "iopub.status.busy": "2021-12-29T19:08:04.493059Z",
          "iopub.execute_input": "2021-12-29T19:08:04.493364Z",
          "iopub.status.idle": "2021-12-29T19:08:04.508509Z",
          "shell.execute_reply.started": "2021-12-29T19:08:04.493332Z",
          "shell.execute_reply": "2021-12-29T19:08:04.507194Z"
        },
        "trusted": true,
        "colab": {
          "base_uri": "https://localhost:8080/",
          "height": 206
        }
      },
      "execution_count": 11,
      "outputs": [
        {
          "output_type": "execute_result",
          "data": {
            "text/html": [
              "\n",
              "  <div id=\"df-c47ea7c7-c0fc-4dac-b4fd-faff56968e00\">\n",
              "    <div class=\"colab-df-container\">\n",
              "      <div>\n",
              "<style scoped>\n",
              "    .dataframe tbody tr th:only-of-type {\n",
              "        vertical-align: middle;\n",
              "    }\n",
              "\n",
              "    .dataframe tbody tr th {\n",
              "        vertical-align: top;\n",
              "    }\n",
              "\n",
              "    .dataframe thead th {\n",
              "        text-align: right;\n",
              "    }\n",
              "</style>\n",
              "<table border=\"1\" class=\"dataframe\">\n",
              "  <thead>\n",
              "    <tr style=\"text-align: right;\">\n",
              "      <th></th>\n",
              "      <th>title</th>\n",
              "      <th>text</th>\n",
              "      <th>subject</th>\n",
              "      <th>date</th>\n",
              "      <th>publisher</th>\n",
              "    </tr>\n",
              "  </thead>\n",
              "  <tbody>\n",
              "    <tr>\n",
              "      <th>0</th>\n",
              "      <td>As U.S. budget fight looms, Republicans flip t...</td>\n",
              "      <td>The head of a conservative Republican faction ...</td>\n",
              "      <td>politicsNews</td>\n",
              "      <td>December 31, 2017</td>\n",
              "      <td>WASHINGTON (Reuters)</td>\n",
              "    </tr>\n",
              "    <tr>\n",
              "      <th>1</th>\n",
              "      <td>U.S. military to accept transgender recruits o...</td>\n",
              "      <td>Transgender people will be allowed for the fir...</td>\n",
              "      <td>politicsNews</td>\n",
              "      <td>December 29, 2017</td>\n",
              "      <td>WASHINGTON (Reuters)</td>\n",
              "    </tr>\n",
              "    <tr>\n",
              "      <th>2</th>\n",
              "      <td>Senior U.S. Republican senator: 'Let Mr. Muell...</td>\n",
              "      <td>The special counsel investigation of links bet...</td>\n",
              "      <td>politicsNews</td>\n",
              "      <td>December 31, 2017</td>\n",
              "      <td>WASHINGTON (Reuters)</td>\n",
              "    </tr>\n",
              "    <tr>\n",
              "      <th>3</th>\n",
              "      <td>FBI Russia probe helped by Australian diplomat...</td>\n",
              "      <td>Trump campaign adviser George Papadopoulos tol...</td>\n",
              "      <td>politicsNews</td>\n",
              "      <td>December 30, 2017</td>\n",
              "      <td>WASHINGTON (Reuters)</td>\n",
              "    </tr>\n",
              "    <tr>\n",
              "      <th>4</th>\n",
              "      <td>Trump wants Postal Service to charge 'much mor...</td>\n",
              "      <td>President Donald Trump called on the U.S. Post...</td>\n",
              "      <td>politicsNews</td>\n",
              "      <td>December 29, 2017</td>\n",
              "      <td>SEATTLE/WASHINGTON (Reuters)</td>\n",
              "    </tr>\n",
              "  </tbody>\n",
              "</table>\n",
              "</div>\n",
              "      <button class=\"colab-df-convert\" onclick=\"convertToInteractive('df-c47ea7c7-c0fc-4dac-b4fd-faff56968e00')\"\n",
              "              title=\"Convert this dataframe to an interactive table.\"\n",
              "              style=\"display:none;\">\n",
              "        \n",
              "  <svg xmlns=\"http://www.w3.org/2000/svg\" height=\"24px\"viewBox=\"0 0 24 24\"\n",
              "       width=\"24px\">\n",
              "    <path d=\"M0 0h24v24H0V0z\" fill=\"none\"/>\n",
              "    <path d=\"M18.56 5.44l.94 2.06.94-2.06 2.06-.94-2.06-.94-.94-2.06-.94 2.06-2.06.94zm-11 1L8.5 8.5l.94-2.06 2.06-.94-2.06-.94L8.5 2.5l-.94 2.06-2.06.94zm10 10l.94 2.06.94-2.06 2.06-.94-2.06-.94-.94-2.06-.94 2.06-2.06.94z\"/><path d=\"M17.41 7.96l-1.37-1.37c-.4-.4-.92-.59-1.43-.59-.52 0-1.04.2-1.43.59L10.3 9.45l-7.72 7.72c-.78.78-.78 2.05 0 2.83L4 21.41c.39.39.9.59 1.41.59.51 0 1.02-.2 1.41-.59l7.78-7.78 2.81-2.81c.8-.78.8-2.07 0-2.86zM5.41 20L4 18.59l7.72-7.72 1.47 1.35L5.41 20z\"/>\n",
              "  </svg>\n",
              "      </button>\n",
              "      \n",
              "  <style>\n",
              "    .colab-df-container {\n",
              "      display:flex;\n",
              "      flex-wrap:wrap;\n",
              "      gap: 12px;\n",
              "    }\n",
              "\n",
              "    .colab-df-convert {\n",
              "      background-color: #E8F0FE;\n",
              "      border: none;\n",
              "      border-radius: 50%;\n",
              "      cursor: pointer;\n",
              "      display: none;\n",
              "      fill: #1967D2;\n",
              "      height: 32px;\n",
              "      padding: 0 0 0 0;\n",
              "      width: 32px;\n",
              "    }\n",
              "\n",
              "    .colab-df-convert:hover {\n",
              "      background-color: #E2EBFA;\n",
              "      box-shadow: 0px 1px 2px rgba(60, 64, 67, 0.3), 0px 1px 3px 1px rgba(60, 64, 67, 0.15);\n",
              "      fill: #174EA6;\n",
              "    }\n",
              "\n",
              "    [theme=dark] .colab-df-convert {\n",
              "      background-color: #3B4455;\n",
              "      fill: #D2E3FC;\n",
              "    }\n",
              "\n",
              "    [theme=dark] .colab-df-convert:hover {\n",
              "      background-color: #434B5C;\n",
              "      box-shadow: 0px 1px 3px 1px rgba(0, 0, 0, 0.15);\n",
              "      filter: drop-shadow(0px 1px 2px rgba(0, 0, 0, 0.3));\n",
              "      fill: #FFFFFF;\n",
              "    }\n",
              "  </style>\n",
              "\n",
              "      <script>\n",
              "        const buttonEl =\n",
              "          document.querySelector('#df-c47ea7c7-c0fc-4dac-b4fd-faff56968e00 button.colab-df-convert');\n",
              "        buttonEl.style.display =\n",
              "          google.colab.kernel.accessAllowed ? 'block' : 'none';\n",
              "\n",
              "        async function convertToInteractive(key) {\n",
              "          const element = document.querySelector('#df-c47ea7c7-c0fc-4dac-b4fd-faff56968e00');\n",
              "          const dataTable =\n",
              "            await google.colab.kernel.invokeFunction('convertToInteractive',\n",
              "                                                     [key], {});\n",
              "          if (!dataTable) return;\n",
              "\n",
              "          const docLinkHtml = 'Like what you see? Visit the ' +\n",
              "            '<a target=\"_blank\" href=https://colab.research.google.com/notebooks/data_table.ipynb>data table notebook</a>'\n",
              "            + ' to learn more about interactive tables.';\n",
              "          element.innerHTML = '';\n",
              "          dataTable['output_type'] = 'display_data';\n",
              "          await google.colab.output.renderOutput(dataTable, element);\n",
              "          const docLink = document.createElement('div');\n",
              "          docLink.innerHTML = docLinkHtml;\n",
              "          element.appendChild(docLink);\n",
              "        }\n",
              "      </script>\n",
              "    </div>\n",
              "  </div>\n",
              "  "
            ],
            "text/plain": [
              "                                               title  ...                     publisher\n",
              "0  As U.S. budget fight looms, Republicans flip t...  ...          WASHINGTON (Reuters)\n",
              "1  U.S. military to accept transgender recruits o...  ...          WASHINGTON (Reuters)\n",
              "2  Senior U.S. Republican senator: 'Let Mr. Muell...  ...          WASHINGTON (Reuters)\n",
              "3  FBI Russia probe helped by Australian diplomat...  ...          WASHINGTON (Reuters)\n",
              "4  Trump wants Postal Service to charge 'much mor...  ...  SEATTLE/WASHINGTON (Reuters)\n",
              "\n",
              "[5 rows x 5 columns]"
            ]
          },
          "metadata": {},
          "execution_count": 11
        }
      ]
    },
    {
      "cell_type": "code",
      "source": [
        "real.shape"
      ],
      "metadata": {
        "id": "PG4GqGPVIV8d",
        "outputId": "ff4920e5-36a9-4d39-b114-cc3b874f62d8",
        "execution": {
          "iopub.status.busy": "2021-12-29T18:07:46.871444Z",
          "iopub.execute_input": "2021-12-29T18:07:46.872424Z",
          "iopub.status.idle": "2021-12-29T18:07:46.879577Z",
          "shell.execute_reply.started": "2021-12-29T18:07:46.872363Z",
          "shell.execute_reply": "2021-12-29T18:07:46.878359Z"
        },
        "trusted": true,
        "colab": {
          "base_uri": "https://localhost:8080/"
        }
      },
      "execution_count": 12,
      "outputs": [
        {
          "output_type": "execute_result",
          "data": {
            "text/plain": [
              "(21417, 5)"
            ]
          },
          "metadata": {},
          "execution_count": 12
        }
      ]
    },
    {
      "cell_type": "code",
      "source": [
        "empty_fake_index = [index for index,text in enumerate(fake.text.tolist()) if str(text).strip() == \"\"]"
      ],
      "metadata": {
        "id": "OJ-EqCBcIbHh",
        "execution": {
          "iopub.status.busy": "2021-12-29T19:08:09.145298Z",
          "iopub.execute_input": "2021-12-29T19:08:09.145623Z",
          "iopub.status.idle": "2021-12-29T19:08:09.163644Z",
          "shell.execute_reply.started": "2021-12-29T19:08:09.145577Z",
          "shell.execute_reply": "2021-12-29T19:08:09.162478Z"
        },
        "trusted": true
      },
      "execution_count": 13,
      "outputs": []
    },
    {
      "cell_type": "code",
      "source": [
        "fake.iloc[empty_fake_index]"
      ],
      "metadata": {
        "id": "b89ug3n5J7AA",
        "outputId": "aaaa724c-0da4-477a-9487-9de32cf0b705",
        "execution": {
          "iopub.status.busy": "2021-12-29T18:07:51.383701Z",
          "iopub.execute_input": "2021-12-29T18:07:51.384406Z",
          "iopub.status.idle": "2021-12-29T18:07:51.401124Z",
          "shell.execute_reply.started": "2021-12-29T18:07:51.384371Z",
          "shell.execute_reply": "2021-12-29T18:07:51.399803Z"
        },
        "trusted": true,
        "colab": {
          "base_uri": "https://localhost:8080/",
          "height": 423
        }
      },
      "execution_count": 14,
      "outputs": [
        {
          "output_type": "execute_result",
          "data": {
            "text/html": [
              "\n",
              "  <div id=\"df-3522cad2-8572-44e9-8a26-da8d86831f9b\">\n",
              "    <div class=\"colab-df-container\">\n",
              "      <div>\n",
              "<style scoped>\n",
              "    .dataframe tbody tr th:only-of-type {\n",
              "        vertical-align: middle;\n",
              "    }\n",
              "\n",
              "    .dataframe tbody tr th {\n",
              "        vertical-align: top;\n",
              "    }\n",
              "\n",
              "    .dataframe thead th {\n",
              "        text-align: right;\n",
              "    }\n",
              "</style>\n",
              "<table border=\"1\" class=\"dataframe\">\n",
              "  <thead>\n",
              "    <tr style=\"text-align: right;\">\n",
              "      <th></th>\n",
              "      <th>title</th>\n",
              "      <th>text</th>\n",
              "      <th>subject</th>\n",
              "      <th>date</th>\n",
              "    </tr>\n",
              "  </thead>\n",
              "  <tbody>\n",
              "    <tr>\n",
              "      <th>10923</th>\n",
              "      <td>TAKE OUR POLL: Who Do You Think President Trum...</td>\n",
              "      <td></td>\n",
              "      <td>politics</td>\n",
              "      <td>May 10, 2017</td>\n",
              "    </tr>\n",
              "    <tr>\n",
              "      <th>11041</th>\n",
              "      <td>Joe Scarborough BERATES Mika Brzezinski Over “...</td>\n",
              "      <td></td>\n",
              "      <td>politics</td>\n",
              "      <td>Apr 26, 2017</td>\n",
              "    </tr>\n",
              "    <tr>\n",
              "      <th>11190</th>\n",
              "      <td>WATCH TUCKER CARLSON Scorch Sanctuary City May...</td>\n",
              "      <td></td>\n",
              "      <td>politics</td>\n",
              "      <td>Apr 6, 2017</td>\n",
              "    </tr>\n",
              "    <tr>\n",
              "      <th>11225</th>\n",
              "      <td>MAYOR OF SANCTUARY CITY: Trump Trying To Make ...</td>\n",
              "      <td></td>\n",
              "      <td>politics</td>\n",
              "      <td>Apr 2, 2017</td>\n",
              "    </tr>\n",
              "    <tr>\n",
              "      <th>11236</th>\n",
              "      <td>SHOCKER: Public School Turns Computer Lab Into...</td>\n",
              "      <td></td>\n",
              "      <td>politics</td>\n",
              "      <td>Apr 1, 2017</td>\n",
              "    </tr>\n",
              "    <tr>\n",
              "      <th>...</th>\n",
              "      <td>...</td>\n",
              "      <td>...</td>\n",
              "      <td>...</td>\n",
              "      <td>...</td>\n",
              "    </tr>\n",
              "    <tr>\n",
              "      <th>21816</th>\n",
              "      <td>BALTIMORE BURNS: MARYLAND GOVERNOR BRINGS IN N...</td>\n",
              "      <td></td>\n",
              "      <td>left-news</td>\n",
              "      <td>Apr 27, 2015</td>\n",
              "    </tr>\n",
              "    <tr>\n",
              "      <th>21826</th>\n",
              "      <td>FULL VIDEO: THE BLOCKBUSTER INVESTIGATION INTO...</td>\n",
              "      <td></td>\n",
              "      <td>left-news</td>\n",
              "      <td>Apr 25, 2015</td>\n",
              "    </tr>\n",
              "    <tr>\n",
              "      <th>21827</th>\n",
              "      <td>(VIDEO) HILLARY CLINTON: RELIGIOUS BELIEFS MUS...</td>\n",
              "      <td></td>\n",
              "      <td>left-news</td>\n",
              "      <td>Apr 25, 2015</td>\n",
              "    </tr>\n",
              "    <tr>\n",
              "      <th>21857</th>\n",
              "      <td>(VIDEO)ICE PROTECTING OBAMA: WON’T RELEASE NAM...</td>\n",
              "      <td></td>\n",
              "      <td>left-news</td>\n",
              "      <td>Apr 14, 2015</td>\n",
              "    </tr>\n",
              "    <tr>\n",
              "      <th>21873</th>\n",
              "      <td>(VIDEO) HYSTERICAL SNL TAKE ON HILLARY’S ANNOU...</td>\n",
              "      <td></td>\n",
              "      <td>left-news</td>\n",
              "      <td>Apr 12, 2015</td>\n",
              "    </tr>\n",
              "  </tbody>\n",
              "</table>\n",
              "<p>630 rows × 4 columns</p>\n",
              "</div>\n",
              "      <button class=\"colab-df-convert\" onclick=\"convertToInteractive('df-3522cad2-8572-44e9-8a26-da8d86831f9b')\"\n",
              "              title=\"Convert this dataframe to an interactive table.\"\n",
              "              style=\"display:none;\">\n",
              "        \n",
              "  <svg xmlns=\"http://www.w3.org/2000/svg\" height=\"24px\"viewBox=\"0 0 24 24\"\n",
              "       width=\"24px\">\n",
              "    <path d=\"M0 0h24v24H0V0z\" fill=\"none\"/>\n",
              "    <path d=\"M18.56 5.44l.94 2.06.94-2.06 2.06-.94-2.06-.94-.94-2.06-.94 2.06-2.06.94zm-11 1L8.5 8.5l.94-2.06 2.06-.94-2.06-.94L8.5 2.5l-.94 2.06-2.06.94zm10 10l.94 2.06.94-2.06 2.06-.94-2.06-.94-.94-2.06-.94 2.06-2.06.94z\"/><path d=\"M17.41 7.96l-1.37-1.37c-.4-.4-.92-.59-1.43-.59-.52 0-1.04.2-1.43.59L10.3 9.45l-7.72 7.72c-.78.78-.78 2.05 0 2.83L4 21.41c.39.39.9.59 1.41.59.51 0 1.02-.2 1.41-.59l7.78-7.78 2.81-2.81c.8-.78.8-2.07 0-2.86zM5.41 20L4 18.59l7.72-7.72 1.47 1.35L5.41 20z\"/>\n",
              "  </svg>\n",
              "      </button>\n",
              "      \n",
              "  <style>\n",
              "    .colab-df-container {\n",
              "      display:flex;\n",
              "      flex-wrap:wrap;\n",
              "      gap: 12px;\n",
              "    }\n",
              "\n",
              "    .colab-df-convert {\n",
              "      background-color: #E8F0FE;\n",
              "      border: none;\n",
              "      border-radius: 50%;\n",
              "      cursor: pointer;\n",
              "      display: none;\n",
              "      fill: #1967D2;\n",
              "      height: 32px;\n",
              "      padding: 0 0 0 0;\n",
              "      width: 32px;\n",
              "    }\n",
              "\n",
              "    .colab-df-convert:hover {\n",
              "      background-color: #E2EBFA;\n",
              "      box-shadow: 0px 1px 2px rgba(60, 64, 67, 0.3), 0px 1px 3px 1px rgba(60, 64, 67, 0.15);\n",
              "      fill: #174EA6;\n",
              "    }\n",
              "\n",
              "    [theme=dark] .colab-df-convert {\n",
              "      background-color: #3B4455;\n",
              "      fill: #D2E3FC;\n",
              "    }\n",
              "\n",
              "    [theme=dark] .colab-df-convert:hover {\n",
              "      background-color: #434B5C;\n",
              "      box-shadow: 0px 1px 3px 1px rgba(0, 0, 0, 0.15);\n",
              "      filter: drop-shadow(0px 1px 2px rgba(0, 0, 0, 0.3));\n",
              "      fill: #FFFFFF;\n",
              "    }\n",
              "  </style>\n",
              "\n",
              "      <script>\n",
              "        const buttonEl =\n",
              "          document.querySelector('#df-3522cad2-8572-44e9-8a26-da8d86831f9b button.colab-df-convert');\n",
              "        buttonEl.style.display =\n",
              "          google.colab.kernel.accessAllowed ? 'block' : 'none';\n",
              "\n",
              "        async function convertToInteractive(key) {\n",
              "          const element = document.querySelector('#df-3522cad2-8572-44e9-8a26-da8d86831f9b');\n",
              "          const dataTable =\n",
              "            await google.colab.kernel.invokeFunction('convertToInteractive',\n",
              "                                                     [key], {});\n",
              "          if (!dataTable) return;\n",
              "\n",
              "          const docLinkHtml = 'Like what you see? Visit the ' +\n",
              "            '<a target=\"_blank\" href=https://colab.research.google.com/notebooks/data_table.ipynb>data table notebook</a>'\n",
              "            + ' to learn more about interactive tables.';\n",
              "          element.innerHTML = '';\n",
              "          dataTable['output_type'] = 'display_data';\n",
              "          await google.colab.output.renderOutput(dataTable, element);\n",
              "          const docLink = document.createElement('div');\n",
              "          docLink.innerHTML = docLinkHtml;\n",
              "          element.appendChild(docLink);\n",
              "        }\n",
              "      </script>\n",
              "    </div>\n",
              "  </div>\n",
              "  "
            ],
            "text/plain": [
              "                                                   title  ...          date\n",
              "10923  TAKE OUR POLL: Who Do You Think President Trum...  ...  May 10, 2017\n",
              "11041  Joe Scarborough BERATES Mika Brzezinski Over “...  ...  Apr 26, 2017\n",
              "11190  WATCH TUCKER CARLSON Scorch Sanctuary City May...  ...   Apr 6, 2017\n",
              "11225  MAYOR OF SANCTUARY CITY: Trump Trying To Make ...  ...   Apr 2, 2017\n",
              "11236  SHOCKER: Public School Turns Computer Lab Into...  ...   Apr 1, 2017\n",
              "...                                                  ...  ...           ...\n",
              "21816  BALTIMORE BURNS: MARYLAND GOVERNOR BRINGS IN N...  ...  Apr 27, 2015\n",
              "21826  FULL VIDEO: THE BLOCKBUSTER INVESTIGATION INTO...  ...  Apr 25, 2015\n",
              "21827  (VIDEO) HILLARY CLINTON: RELIGIOUS BELIEFS MUS...  ...  Apr 25, 2015\n",
              "21857  (VIDEO)ICE PROTECTING OBAMA: WON’T RELEASE NAM...  ...  Apr 14, 2015\n",
              "21873  (VIDEO) HYSTERICAL SNL TAKE ON HILLARY’S ANNOU...  ...  Apr 12, 2015\n",
              "\n",
              "[630 rows x 4 columns]"
            ]
          },
          "metadata": {},
          "execution_count": 14
        }
      ]
    },
    {
      "cell_type": "code",
      "source": [
        "real['text'] = real['title'] + \" \" + real['text']\n",
        "fake['text'] = fake['title'] + \" \" + fake['text']"
      ],
      "metadata": {
        "id": "jICK-AjsKhUE",
        "execution": {
          "iopub.status.busy": "2021-12-29T19:08:11.246176Z",
          "iopub.execute_input": "2021-12-29T19:08:11.246941Z",
          "iopub.status.idle": "2021-12-29T19:08:11.349350Z",
          "shell.execute_reply.started": "2021-12-29T19:08:11.246904Z",
          "shell.execute_reply": "2021-12-29T19:08:11.348048Z"
        },
        "trusted": true
      },
      "execution_count": 15,
      "outputs": []
    },
    {
      "cell_type": "code",
      "source": [
        "real['text'] = real['text'].apply(lambda x: str(x).lower())\n",
        "fake['text'] = fake['text'].apply(lambda x: str(x).lower())"
      ],
      "metadata": {
        "id": "r1_GwtKOLSkq",
        "execution": {
          "iopub.status.busy": "2021-12-29T18:07:55.232404Z",
          "iopub.execute_input": "2021-12-29T18:07:55.232690Z",
          "iopub.status.idle": "2021-12-29T18:07:55.582109Z",
          "shell.execute_reply.started": "2021-12-29T18:07:55.232658Z",
          "shell.execute_reply": "2021-12-29T18:07:55.581108Z"
        },
        "trusted": true
      },
      "execution_count": 16,
      "outputs": []
    },
    {
      "cell_type": "markdown",
      "source": [
        "## Preprocessing Text"
      ],
      "metadata": {
        "id": "ZYdV_q-PMsVK"
      }
    },
    {
      "cell_type": "code",
      "source": [
        "real['class'] = 1\n",
        "fake['class'] = 0"
      ],
      "metadata": {
        "id": "MdzIXXUHLsHO",
        "execution": {
          "iopub.status.busy": "2021-12-29T19:08:14.286323Z",
          "iopub.execute_input": "2021-12-29T19:08:14.286675Z",
          "iopub.status.idle": "2021-12-29T19:08:14.295919Z",
          "shell.execute_reply.started": "2021-12-29T19:08:14.286640Z",
          "shell.execute_reply": "2021-12-29T19:08:14.294638Z"
        },
        "trusted": true
      },
      "execution_count": 17,
      "outputs": []
    },
    {
      "cell_type": "code",
      "source": [
        "real.columns"
      ],
      "metadata": {
        "id": "fwpfHMqAMxy3",
        "outputId": "d2f15f96-0e7f-4aaf-fb2f-4131302bb1c3",
        "execution": {
          "iopub.status.busy": "2021-12-29T18:08:00.103916Z",
          "iopub.execute_input": "2021-12-29T18:08:00.104201Z",
          "iopub.status.idle": "2021-12-29T18:08:00.111147Z",
          "shell.execute_reply.started": "2021-12-29T18:08:00.104156Z",
          "shell.execute_reply": "2021-12-29T18:08:00.109876Z"
        },
        "trusted": true,
        "colab": {
          "base_uri": "https://localhost:8080/"
        }
      },
      "execution_count": 18,
      "outputs": [
        {
          "output_type": "execute_result",
          "data": {
            "text/plain": [
              "Index(['title', 'text', 'subject', 'date', 'publisher', 'class'], dtype='object')"
            ]
          },
          "metadata": {},
          "execution_count": 18
        }
      ]
    },
    {
      "cell_type": "code",
      "source": [
        "real = real[['text','class']]\n",
        "fake = fake[['text','class']]"
      ],
      "metadata": {
        "id": "oy67c5S7NBvR",
        "execution": {
          "iopub.status.busy": "2021-12-29T19:08:20.336544Z",
          "iopub.execute_input": "2021-12-29T19:08:20.336863Z",
          "iopub.status.idle": "2021-12-29T19:08:20.351359Z",
          "shell.execute_reply.started": "2021-12-29T19:08:20.336832Z",
          "shell.execute_reply": "2021-12-29T19:08:20.350377Z"
        },
        "trusted": true
      },
      "execution_count": 19,
      "outputs": []
    },
    {
      "cell_type": "code",
      "source": [
        "data = real.append(fake,ignore_index = True)\n",
        "data.sample(6)"
      ],
      "metadata": {
        "id": "BDhVfc7iNCBK",
        "outputId": "61f2d5c4-d2d4-42b5-f516-058e81641bd3",
        "execution": {
          "iopub.status.busy": "2021-12-29T19:08:39.261031Z",
          "iopub.execute_input": "2021-12-29T19:08:39.261356Z",
          "iopub.status.idle": "2021-12-29T19:08:39.281282Z",
          "shell.execute_reply.started": "2021-12-29T19:08:39.261310Z",
          "shell.execute_reply": "2021-12-29T19:08:39.280267Z"
        },
        "trusted": true,
        "colab": {
          "base_uri": "https://localhost:8080/",
          "height": 237
        }
      },
      "execution_count": 20,
      "outputs": [
        {
          "output_type": "execute_result",
          "data": {
            "text/html": [
              "\n",
              "  <div id=\"df-57aa426e-0444-4f3e-937e-4671dff23bfb\">\n",
              "    <div class=\"colab-df-container\">\n",
              "      <div>\n",
              "<style scoped>\n",
              "    .dataframe tbody tr th:only-of-type {\n",
              "        vertical-align: middle;\n",
              "    }\n",
              "\n",
              "    .dataframe tbody tr th {\n",
              "        vertical-align: top;\n",
              "    }\n",
              "\n",
              "    .dataframe thead th {\n",
              "        text-align: right;\n",
              "    }\n",
              "</style>\n",
              "<table border=\"1\" class=\"dataframe\">\n",
              "  <thead>\n",
              "    <tr style=\"text-align: right;\">\n",
              "      <th></th>\n",
              "      <th>text</th>\n",
              "      <th>class</th>\n",
              "    </tr>\n",
              "  </thead>\n",
              "  <tbody>\n",
              "    <tr>\n",
              "      <th>36857</th>\n",
              "      <td>(video) huckster al sharpton: climate change i...</td>\n",
              "      <td>0</td>\n",
              "    </tr>\n",
              "    <tr>\n",
              "      <th>15276</th>\n",
              "      <td>spain could again revise down 2018 growth fore...</td>\n",
              "      <td>1</td>\n",
              "    </tr>\n",
              "    <tr>\n",
              "      <th>23075</th>\n",
              "      <td>paul ryan breaks down, admits gop’s trumpcare...</td>\n",
              "      <td>0</td>\n",
              "    </tr>\n",
              "    <tr>\n",
              "      <th>30817</th>\n",
              "      <td>crooked democrat congresswoman corrine brown f...</td>\n",
              "      <td>0</td>\n",
              "    </tr>\n",
              "    <tr>\n",
              "      <th>2138</th>\n",
              "      <td>trump adviser bannon says u.s. in economic war...</td>\n",
              "      <td>1</td>\n",
              "    </tr>\n",
              "    <tr>\n",
              "      <th>33401</th>\n",
              "      <td>paul joseph watson exposes lunacy of leftists ...</td>\n",
              "      <td>0</td>\n",
              "    </tr>\n",
              "  </tbody>\n",
              "</table>\n",
              "</div>\n",
              "      <button class=\"colab-df-convert\" onclick=\"convertToInteractive('df-57aa426e-0444-4f3e-937e-4671dff23bfb')\"\n",
              "              title=\"Convert this dataframe to an interactive table.\"\n",
              "              style=\"display:none;\">\n",
              "        \n",
              "  <svg xmlns=\"http://www.w3.org/2000/svg\" height=\"24px\"viewBox=\"0 0 24 24\"\n",
              "       width=\"24px\">\n",
              "    <path d=\"M0 0h24v24H0V0z\" fill=\"none\"/>\n",
              "    <path d=\"M18.56 5.44l.94 2.06.94-2.06 2.06-.94-2.06-.94-.94-2.06-.94 2.06-2.06.94zm-11 1L8.5 8.5l.94-2.06 2.06-.94-2.06-.94L8.5 2.5l-.94 2.06-2.06.94zm10 10l.94 2.06.94-2.06 2.06-.94-2.06-.94-.94-2.06-.94 2.06-2.06.94z\"/><path d=\"M17.41 7.96l-1.37-1.37c-.4-.4-.92-.59-1.43-.59-.52 0-1.04.2-1.43.59L10.3 9.45l-7.72 7.72c-.78.78-.78 2.05 0 2.83L4 21.41c.39.39.9.59 1.41.59.51 0 1.02-.2 1.41-.59l7.78-7.78 2.81-2.81c.8-.78.8-2.07 0-2.86zM5.41 20L4 18.59l7.72-7.72 1.47 1.35L5.41 20z\"/>\n",
              "  </svg>\n",
              "      </button>\n",
              "      \n",
              "  <style>\n",
              "    .colab-df-container {\n",
              "      display:flex;\n",
              "      flex-wrap:wrap;\n",
              "      gap: 12px;\n",
              "    }\n",
              "\n",
              "    .colab-df-convert {\n",
              "      background-color: #E8F0FE;\n",
              "      border: none;\n",
              "      border-radius: 50%;\n",
              "      cursor: pointer;\n",
              "      display: none;\n",
              "      fill: #1967D2;\n",
              "      height: 32px;\n",
              "      padding: 0 0 0 0;\n",
              "      width: 32px;\n",
              "    }\n",
              "\n",
              "    .colab-df-convert:hover {\n",
              "      background-color: #E2EBFA;\n",
              "      box-shadow: 0px 1px 2px rgba(60, 64, 67, 0.3), 0px 1px 3px 1px rgba(60, 64, 67, 0.15);\n",
              "      fill: #174EA6;\n",
              "    }\n",
              "\n",
              "    [theme=dark] .colab-df-convert {\n",
              "      background-color: #3B4455;\n",
              "      fill: #D2E3FC;\n",
              "    }\n",
              "\n",
              "    [theme=dark] .colab-df-convert:hover {\n",
              "      background-color: #434B5C;\n",
              "      box-shadow: 0px 1px 3px 1px rgba(0, 0, 0, 0.15);\n",
              "      filter: drop-shadow(0px 1px 2px rgba(0, 0, 0, 0.3));\n",
              "      fill: #FFFFFF;\n",
              "    }\n",
              "  </style>\n",
              "\n",
              "      <script>\n",
              "        const buttonEl =\n",
              "          document.querySelector('#df-57aa426e-0444-4f3e-937e-4671dff23bfb button.colab-df-convert');\n",
              "        buttonEl.style.display =\n",
              "          google.colab.kernel.accessAllowed ? 'block' : 'none';\n",
              "\n",
              "        async function convertToInteractive(key) {\n",
              "          const element = document.querySelector('#df-57aa426e-0444-4f3e-937e-4671dff23bfb');\n",
              "          const dataTable =\n",
              "            await google.colab.kernel.invokeFunction('convertToInteractive',\n",
              "                                                     [key], {});\n",
              "          if (!dataTable) return;\n",
              "\n",
              "          const docLinkHtml = 'Like what you see? Visit the ' +\n",
              "            '<a target=\"_blank\" href=https://colab.research.google.com/notebooks/data_table.ipynb>data table notebook</a>'\n",
              "            + ' to learn more about interactive tables.';\n",
              "          element.innerHTML = '';\n",
              "          dataTable['output_type'] = 'display_data';\n",
              "          await google.colab.output.renderOutput(dataTable, element);\n",
              "          const docLink = document.createElement('div');\n",
              "          docLink.innerHTML = docLinkHtml;\n",
              "          element.appendChild(docLink);\n",
              "        }\n",
              "      </script>\n",
              "    </div>\n",
              "  </div>\n",
              "  "
            ],
            "text/plain": [
              "                                                    text  class\n",
              "36857  (video) huckster al sharpton: climate change i...      0\n",
              "15276  spain could again revise down 2018 growth fore...      1\n",
              "23075   paul ryan breaks down, admits gop’s trumpcare...      0\n",
              "30817  crooked democrat congresswoman corrine brown f...      0\n",
              "2138   trump adviser bannon says u.s. in economic war...      1\n",
              "33401  paul joseph watson exposes lunacy of leftists ...      0"
            ]
          },
          "metadata": {},
          "execution_count": 20
        }
      ]
    },
    {
      "cell_type": "code",
      "source": [
        "!pip install spacy==2.2.3\n",
        "!python -m spacy download en_core_web_sm\n",
        "!pip install beautifulsoup4==4.9.1\n",
        "!pip install textblob==0.15.3"
      ],
      "metadata": {
        "id": "T6_UM2EVQzXF",
        "outputId": "9639f865-cc03-44ca-f810-c9a7cb916d22",
        "execution": {
          "iopub.status.busy": "2021-12-29T18:08:32.101901Z",
          "iopub.execute_input": "2021-12-29T18:08:32.102164Z",
          "iopub.status.idle": "2021-12-29T18:09:47.170357Z",
          "shell.execute_reply.started": "2021-12-29T18:08:32.102135Z",
          "shell.execute_reply": "2021-12-29T18:09:47.169182Z"
        },
        "trusted": true
      },
      "execution_count": null,
      "outputs": [
        {
          "name": "stdout",
          "text": "Collecting spacy==2.2.3\n  Downloading spacy-2.2.3-cp37-cp37m-manylinux1_x86_64.whl (10.4 MB)\n     |████████████████████████████████| 10.4 MB 532 kB/s            \n\u001b[?25hRequirement already satisfied: setuptools in /opt/conda/lib/python3.7/site-packages (from spacy==2.2.3) (59.1.1)\nCollecting plac<1.2.0,>=0.9.6\n  Downloading plac-1.1.3-py2.py3-none-any.whl (20 kB)\nRequirement already satisfied: requests<3.0.0,>=2.13.0 in /opt/conda/lib/python3.7/site-packages (from spacy==2.2.3) (2.25.1)\nRequirement already satisfied: murmurhash<1.1.0,>=0.28.0 in /opt/conda/lib/python3.7/site-packages (from spacy==2.2.3) (1.0.6)\nRequirement already satisfied: preshed<3.1.0,>=3.0.2 in /opt/conda/lib/python3.7/site-packages (from spacy==2.2.3) (3.0.6)\nRequirement already satisfied: wasabi<1.1.0,>=0.4.0 in /opt/conda/lib/python3.7/site-packages (from spacy==2.2.3) (0.8.2)\nCollecting srsly<1.1.0,>=0.1.0\n  Downloading srsly-1.0.5-cp37-cp37m-manylinux2014_x86_64.whl (184 kB)\n     |████████████████████████████████| 184 kB 45.4 MB/s            \n\u001b[?25hCollecting thinc<7.4.0,>=7.3.0\n  Downloading thinc-7.3.1-cp37-cp37m-manylinux1_x86_64.whl (2.2 MB)\n     |████████████████████████████████| 2.2 MB 39.9 MB/s            \n\u001b[?25hRequirement already satisfied: numpy>=1.15.0 in /opt/conda/lib/python3.7/site-packages (from spacy==2.2.3) (1.19.5)\nCollecting blis<0.5.0,>=0.4.0\n  Downloading blis-0.4.1-cp37-cp37m-manylinux1_x86_64.whl (3.7 MB)\n     |████████████████████████████████| 3.7 MB 23.0 MB/s            \n\u001b[?25hCollecting catalogue<1.1.0,>=0.0.7\n  Downloading catalogue-1.0.0-py2.py3-none-any.whl (7.7 kB)\nRequirement already satisfied: cymem<2.1.0,>=2.0.2 in /opt/conda/lib/python3.7/site-packages (from spacy==2.2.3) (2.0.6)\nRequirement already satisfied: importlib-metadata>=0.20 in /opt/conda/lib/python3.7/site-packages (from catalogue<1.1.0,>=0.0.7->spacy==2.2.3) (4.8.2)\nRequirement already satisfied: urllib3<1.27,>=1.21.1 in /opt/conda/lib/python3.7/site-packages (from requests<3.0.0,>=2.13.0->spacy==2.2.3) (1.26.7)\nRequirement already satisfied: idna<3,>=2.5 in /opt/conda/lib/python3.7/site-packages (from requests<3.0.0,>=2.13.0->spacy==2.2.3) (2.10)\nRequirement already satisfied: chardet<5,>=3.0.2 in /opt/conda/lib/python3.7/site-packages (from requests<3.0.0,>=2.13.0->spacy==2.2.3) (4.0.0)\nRequirement already satisfied: certifi>=2017.4.17 in /opt/conda/lib/python3.7/site-packages (from requests<3.0.0,>=2.13.0->spacy==2.2.3) (2021.10.8)\nRequirement already satisfied: tqdm<5.0.0,>=4.10.0 in /opt/conda/lib/python3.7/site-packages (from thinc<7.4.0,>=7.3.0->spacy==2.2.3) (4.62.3)\nRequirement already satisfied: zipp>=0.5 in /opt/conda/lib/python3.7/site-packages (from importlib-metadata>=0.20->catalogue<1.1.0,>=0.0.7->spacy==2.2.3) (3.6.0)\nRequirement already satisfied: typing-extensions>=3.6.4 in /opt/conda/lib/python3.7/site-packages (from importlib-metadata>=0.20->catalogue<1.1.0,>=0.0.7->spacy==2.2.3) (3.10.0.2)\nInstalling collected packages: srsly, plac, blis, thinc, catalogue, spacy\n  Attempting uninstall: srsly\n    Found existing installation: srsly 2.4.2\n    Uninstalling srsly-2.4.2:\n      Successfully uninstalled srsly-2.4.2\n  Attempting uninstall: blis\n    Found existing installation: blis 0.7.5\n    Uninstalling blis-0.7.5:\n      Successfully uninstalled blis-0.7.5\n  Attempting uninstall: thinc\n    Found existing installation: thinc 8.0.13\n    Uninstalling thinc-8.0.13:\n      Successfully uninstalled thinc-8.0.13\n  Attempting uninstall: catalogue\n    Found existing installation: catalogue 2.0.6\n    Uninstalling catalogue-2.0.6:\n      Successfully uninstalled catalogue-2.0.6\n  Attempting uninstall: spacy\n    Found existing installation: spacy 3.1.4\n    Uninstalling spacy-3.1.4:\n      Successfully uninstalled spacy-3.1.4\n\u001b[31mERROR: pip's dependency resolver does not currently take into account all the packages that are installed. This behaviour is the source of the following dependency conflicts.\nen-core-web-sm 3.1.0 requires spacy<3.2.0,>=3.1.0, but you have spacy 2.2.3 which is incompatible.\nen-core-web-lg 3.1.0 requires spacy<3.2.0,>=3.1.0, but you have spacy 2.2.3 which is incompatible.\u001b[0m\nSuccessfully installed blis-0.4.1 catalogue-1.0.0 plac-1.1.3 spacy-2.2.3 srsly-1.0.5 thinc-7.3.1\n\u001b[33mWARNING: Running pip as the 'root' user can result in broken permissions and conflicting behaviour with the system package manager. It is recommended to use a virtual environment instead: https://pip.pypa.io/warnings/venv\u001b[0m\nCollecting en_core_web_sm==2.2.5\n  Downloading https://github.com/explosion/spacy-models/releases/download/en_core_web_sm-2.2.5/en_core_web_sm-2.2.5.tar.gz (12.0 MB)\n     |████████████████████████████████| 12.0 MB 438 kB/s            \n\u001b[?25h  Preparing metadata (setup.py) ... \u001b[?25ldone\n\u001b[?25hRequirement already satisfied: spacy>=2.2.2 in /opt/conda/lib/python3.7/site-packages (from en_core_web_sm==2.2.5) (2.2.3)\nRequirement already satisfied: murmurhash<1.1.0,>=0.28.0 in /opt/conda/lib/python3.7/site-packages (from spacy>=2.2.2->en_core_web_sm==2.2.5) (1.0.6)\nRequirement already satisfied: srsly<1.1.0,>=0.1.0 in /opt/conda/lib/python3.7/site-packages (from spacy>=2.2.2->en_core_web_sm==2.2.5) (1.0.5)\nRequirement already satisfied: requests<3.0.0,>=2.13.0 in /opt/conda/lib/python3.7/site-packages (from spacy>=2.2.2->en_core_web_sm==2.2.5) (2.25.1)\nRequirement already satisfied: blis<0.5.0,>=0.4.0 in /opt/conda/lib/python3.7/site-packages (from spacy>=2.2.2->en_core_web_sm==2.2.5) (0.4.1)\nRequirement already satisfied: cymem<2.1.0,>=2.0.2 in /opt/conda/lib/python3.7/site-packages (from spacy>=2.2.2->en_core_web_sm==2.2.5) (2.0.6)\nRequirement already satisfied: preshed<3.1.0,>=3.0.2 in /opt/conda/lib/python3.7/site-packages (from spacy>=2.2.2->en_core_web_sm==2.2.5) (3.0.6)\nRequirement already satisfied: numpy>=1.15.0 in /opt/conda/lib/python3.7/site-packages (from spacy>=2.2.2->en_core_web_sm==2.2.5) (1.19.5)\nRequirement already satisfied: thinc<7.4.0,>=7.3.0 in /opt/conda/lib/python3.7/site-packages (from spacy>=2.2.2->en_core_web_sm==2.2.5) (7.3.1)\nRequirement already satisfied: catalogue<1.1.0,>=0.0.7 in /opt/conda/lib/python3.7/site-packages (from spacy>=2.2.2->en_core_web_sm==2.2.5) (1.0.0)\nRequirement already satisfied: setuptools in /opt/conda/lib/python3.7/site-packages (from spacy>=2.2.2->en_core_web_sm==2.2.5) (59.1.1)\nRequirement already satisfied: wasabi<1.1.0,>=0.4.0 in /opt/conda/lib/python3.7/site-packages (from spacy>=2.2.2->en_core_web_sm==2.2.5) (0.8.2)\nRequirement already satisfied: plac<1.2.0,>=0.9.6 in /opt/conda/lib/python3.7/site-packages (from spacy>=2.2.2->en_core_web_sm==2.2.5) (1.1.3)\nRequirement already satisfied: importlib-metadata>=0.20 in /opt/conda/lib/python3.7/site-packages (from catalogue<1.1.0,>=0.0.7->spacy>=2.2.2->en_core_web_sm==2.2.5) (4.8.2)\nRequirement already satisfied: urllib3<1.27,>=1.21.1 in /opt/conda/lib/python3.7/site-packages (from requests<3.0.0,>=2.13.0->spacy>=2.2.2->en_core_web_sm==2.2.5) (1.26.7)\nRequirement already satisfied: idna<3,>=2.5 in /opt/conda/lib/python3.7/site-packages (from requests<3.0.0,>=2.13.0->spacy>=2.2.2->en_core_web_sm==2.2.5) (2.10)\nRequirement already satisfied: chardet<5,>=3.0.2 in /opt/conda/lib/python3.7/site-packages (from requests<3.0.0,>=2.13.0->spacy>=2.2.2->en_core_web_sm==2.2.5) (4.0.0)\nRequirement already satisfied: certifi>=2017.4.17 in /opt/conda/lib/python3.7/site-packages (from requests<3.0.0,>=2.13.0->spacy>=2.2.2->en_core_web_sm==2.2.5) (2021.10.8)\nRequirement already satisfied: tqdm<5.0.0,>=4.10.0 in /opt/conda/lib/python3.7/site-packages (from thinc<7.4.0,>=7.3.0->spacy>=2.2.2->en_core_web_sm==2.2.5) (4.62.3)\nRequirement already satisfied: typing-extensions>=3.6.4 in /opt/conda/lib/python3.7/site-packages (from importlib-metadata>=0.20->catalogue<1.1.0,>=0.0.7->spacy>=2.2.2->en_core_web_sm==2.2.5) (3.10.0.2)\nRequirement already satisfied: zipp>=0.5 in /opt/conda/lib/python3.7/site-packages (from importlib-metadata>=0.20->catalogue<1.1.0,>=0.0.7->spacy>=2.2.2->en_core_web_sm==2.2.5) (3.6.0)\nBuilding wheels for collected packages: en-core-web-sm\n  Building wheel for en-core-web-sm (setup.py) ... \u001b[?25ldone\n\u001b[?25h  Created wheel for en-core-web-sm: filename=en_core_web_sm-2.2.5-py3-none-any.whl size=12011736 sha256=a2beea96e65fd7e73b89133b33f62c23184a6629fde5e1d92ecad21bf9ede851\n  Stored in directory: /tmp/pip-ephem-wheel-cache-83rd_nbz/wheels/51/19/da/a3885266a3c241aff0ad2eb674ae058fd34a4870fef1c0a5a0\nSuccessfully built en-core-web-sm\nInstalling collected packages: en-core-web-sm\n  Attempting uninstall: en-core-web-sm\n    Found existing installation: en-core-web-sm 3.1.0\n    Uninstalling en-core-web-sm-3.1.0:\n      Successfully uninstalled en-core-web-sm-3.1.0\nSuccessfully installed en-core-web-sm-2.2.5\n\u001b[33mWARNING: Running pip as the 'root' user can result in broken permissions and conflicting behaviour with the system package manager. It is recommended to use a virtual environment instead: https://pip.pypa.io/warnings/venv\u001b[0m\n\u001b[38;5;2m✔ Download and installation successful\u001b[0m\nYou can now load the model via spacy.load('en_core_web_sm')\nCollecting beautifulsoup4==4.9.1\n  Downloading beautifulsoup4-4.9.1-py3-none-any.whl (115 kB)\n     |████████████████████████████████| 115 kB 626 kB/s            \n\u001b[?25hRequirement already satisfied: soupsieve>1.2 in /opt/conda/lib/python3.7/site-packages (from beautifulsoup4==4.9.1) (2.3.1)\nInstalling collected packages: beautifulsoup4\n  Attempting uninstall: beautifulsoup4\n    Found existing installation: beautifulsoup4 4.10.0\n    Uninstalling beautifulsoup4-4.10.0:\n      Successfully uninstalled beautifulsoup4-4.10.0\nSuccessfully installed beautifulsoup4-4.9.1\n\u001b[33mWARNING: Running pip as the 'root' user can result in broken permissions and conflicting behaviour with the system package manager. It is recommended to use a virtual environment instead: https://pip.pypa.io/warnings/venv\u001b[0m\nCollecting textblob==0.15.3\n  Downloading textblob-0.15.3-py2.py3-none-any.whl (636 kB)\n     |████████████████████████████████| 636 kB 627 kB/s            \n\u001b[?25hRequirement already satisfied: nltk>=3.1 in /opt/conda/lib/python3.7/site-packages (from textblob==0.15.3) (3.2.4)\nRequirement already satisfied: six in /opt/conda/lib/python3.7/site-packages (from nltk>=3.1->textblob==0.15.3) (1.16.0)\nInstalling collected packages: textblob\n  Attempting uninstall: textblob\n    Found existing installation: textblob 0.17.1\n    Uninstalling textblob-0.17.1:\n      Successfully uninstalled textblob-0.17.1\nSuccessfully installed textblob-0.15.3\n\u001b[33mWARNING: Running pip as the 'root' user can result in broken permissions and conflicting behaviour with the system package manager. It is recommended to use a virtual environment instead: https://pip.pypa.io/warnings/venv\u001b[0m\n",
          "output_type": "stream"
        }
      ]
    },
    {
      "cell_type": "code",
      "source": [
        "def _remove_special_chars(x):\n",
        "    x = re.sub(r'[^\\w ]+', \"\", x)\n",
        "    x = ' '.join(x.split())\n",
        "    return x"
      ],
      "metadata": {
        "execution": {
          "iopub.status.busy": "2021-12-29T19:08:24.621580Z",
          "iopub.execute_input": "2021-12-29T19:08:24.622406Z",
          "iopub.status.idle": "2021-12-29T19:08:24.633336Z",
          "shell.execute_reply.started": "2021-12-29T19:08:24.622361Z",
          "shell.execute_reply": "2021-12-29T19:08:24.631835Z"
        },
        "trusted": true,
        "id": "F9CYIi0fwUQU"
      },
      "execution_count": 21,
      "outputs": []
    },
    {
      "cell_type": "code",
      "source": [
        "data['text'] = data['text'].apply(lambda x: _remove_special_chars(x))"
      ],
      "metadata": {
        "id": "SSmSS4IfbNhp",
        "execution": {
          "iopub.status.busy": "2021-12-29T19:08:45.995916Z",
          "iopub.execute_input": "2021-12-29T19:08:45.996277Z",
          "iopub.status.idle": "2021-12-29T19:08:53.889980Z",
          "shell.execute_reply.started": "2021-12-29T19:08:45.996246Z",
          "shell.execute_reply": "2021-12-29T19:08:53.888819Z"
        },
        "trusted": true
      },
      "execution_count": 22,
      "outputs": []
    },
    {
      "cell_type": "markdown",
      "source": [
        "# Keras Embeddings"
      ],
      "metadata": {
        "id": "lsD6RBH3ZCx1"
      }
    },
    {
      "cell_type": "code",
      "source": [
        "X_train, X_test, y_train, y_test = train_test_split(data['text'],data['class'], test_size=0.2, random_state=111)\n",
        "print(X_train.shape, y_train.shape, X_test.shape, y_test.shape)"
      ],
      "metadata": {
        "execution": {
          "iopub.status.busy": "2021-12-29T18:36:13.050648Z",
          "iopub.execute_input": "2021-12-29T18:36:13.051266Z",
          "iopub.status.idle": "2021-12-29T18:36:13.071930Z",
          "shell.execute_reply.started": "2021-12-29T18:36:13.051228Z",
          "shell.execute_reply": "2021-12-29T18:36:13.070965Z"
        },
        "trusted": true,
        "colab": {
          "base_uri": "https://localhost:8080/"
        },
        "id": "BtwYkl24wUQk",
        "outputId": "232ab266-5363-467b-c4c8-e45a07dae683"
      },
      "execution_count": 23,
      "outputs": [
        {
          "output_type": "stream",
          "name": "stdout",
          "text": [
            "(35918,) (35918,) (8980,) (8980,)\n"
          ]
        }
      ]
    },
    {
      "cell_type": "code",
      "source": [
        "vocab_size = 10000\n",
        "oov_token = \"<OOV>\"\n",
        "tokenizer = Tokenizer(num_words=vocab_size, oov_token=oov_token)\n",
        "tokenizer.fit_on_texts(X_train)"
      ],
      "metadata": {
        "execution": {
          "iopub.status.busy": "2021-12-29T18:36:29.857465Z",
          "iopub.execute_input": "2021-12-29T18:36:29.858153Z",
          "iopub.status.idle": "2021-12-29T18:36:43.939425Z",
          "shell.execute_reply.started": "2021-12-29T18:36:29.858117Z",
          "shell.execute_reply": "2021-12-29T18:36:43.938313Z"
        },
        "trusted": true,
        "id": "zyj2wlI7wUQk"
      },
      "execution_count": 24,
      "outputs": []
    },
    {
      "cell_type": "code",
      "source": [
        "X_train = tokenizer.texts_to_sequences(X_train)\n",
        "X_test = tokenizer.texts_to_sequences(X_test)"
      ],
      "metadata": {
        "execution": {
          "iopub.status.busy": "2021-12-29T18:36:55.323716Z",
          "iopub.execute_input": "2021-12-29T18:36:55.324045Z",
          "iopub.status.idle": "2021-12-29T18:37:07.628356Z",
          "shell.execute_reply.started": "2021-12-29T18:36:55.324013Z",
          "shell.execute_reply": "2021-12-29T18:37:07.627328Z"
        },
        "trusted": true,
        "id": "Oy9DMeeMwUQk"
      },
      "execution_count": 25,
      "outputs": []
    },
    {
      "cell_type": "code",
      "source": [
        "max_length = 120\n",
        "trunc_type = 'post'\n",
        "pad_type = 'post'\n",
        "\n",
        "X_train_padded = pad_sequences(X_train, maxlen=max_length, truncating=trunc_type, padding=pad_type)\n",
        "X_test_padded = pad_sequences(X_test, maxlen=max_length, truncating=trunc_type, padding=pad_type)"
      ],
      "metadata": {
        "execution": {
          "iopub.status.busy": "2021-12-29T18:37:09.347075Z",
          "iopub.execute_input": "2021-12-29T18:37:09.347429Z",
          "iopub.status.idle": "2021-12-29T18:37:10.565589Z",
          "shell.execute_reply.started": "2021-12-29T18:37:09.347397Z",
          "shell.execute_reply": "2021-12-29T18:37:10.564652Z"
        },
        "trusted": true,
        "id": "PDg6I6i-wUQl"
      },
      "execution_count": 26,
      "outputs": []
    },
    {
      "cell_type": "code",
      "source": [
        "print(X_train_padded.shape, X_test_padded.shape)"
      ],
      "metadata": {
        "execution": {
          "iopub.status.busy": "2021-12-29T18:37:18.843503Z",
          "iopub.execute_input": "2021-12-29T18:37:18.843838Z",
          "iopub.status.idle": "2021-12-29T18:37:18.849639Z",
          "shell.execute_reply.started": "2021-12-29T18:37:18.843802Z",
          "shell.execute_reply": "2021-12-29T18:37:18.848353Z"
        },
        "trusted": true,
        "colab": {
          "base_uri": "https://localhost:8080/"
        },
        "id": "97WMM-DmwUQl",
        "outputId": "8a9f9c2f-0863-4096-8da9-0e4fa2db09d2"
      },
      "execution_count": 27,
      "outputs": [
        {
          "output_type": "stream",
          "name": "stdout",
          "text": [
            "(35918, 120) (8980, 120)\n"
          ]
        }
      ]
    },
    {
      "cell_type": "code",
      "source": [
        "print(type(X_train_padded), type(X_test_padded))\n",
        "print(type(y_train), type(y_test))\n",
        "y_train = np.array(y_train)\n",
        "y_test = np.array(y_test)\n",
        "print(type(X_train_padded), type(X_test_padded))\n",
        "print(type(y_train), type(y_test))"
      ],
      "metadata": {
        "execution": {
          "iopub.status.busy": "2021-12-29T18:37:31.181658Z",
          "iopub.execute_input": "2021-12-29T18:37:31.182004Z",
          "iopub.status.idle": "2021-12-29T18:37:31.191730Z",
          "shell.execute_reply.started": "2021-12-29T18:37:31.181973Z",
          "shell.execute_reply": "2021-12-29T18:37:31.190673Z"
        },
        "trusted": true,
        "colab": {
          "base_uri": "https://localhost:8080/"
        },
        "id": "Hmt9qcEnwUQl",
        "outputId": "75fd0d9b-2ecc-4f00-bf1a-72fe3a432b65"
      },
      "execution_count": 28,
      "outputs": [
        {
          "output_type": "stream",
          "name": "stdout",
          "text": [
            "<class 'numpy.ndarray'> <class 'numpy.ndarray'>\n",
            "<class 'pandas.core.series.Series'> <class 'pandas.core.series.Series'>\n",
            "<class 'numpy.ndarray'> <class 'numpy.ndarray'>\n",
            "<class 'numpy.ndarray'> <class 'numpy.ndarray'>\n"
          ]
        }
      ]
    },
    {
      "cell_type": "code",
      "source": [
        "embedding_dim = 300\n",
        "model = Sequential()\n",
        "# define CNN model\n",
        "model.add(Embedding(vocab_size, embedding_dim, input_length=max_length))\n",
        "model.add(tf.keras.layers.Conv1D(filters=32, kernel_size=8, activation='relu'))\n",
        "model.add(tf.keras.layers.MaxPooling1D(pool_size=2))\n",
        "# define LSTM model\n",
        "model.add(Bidirectional(GRU(32, return_sequences=True)))\n",
        "#model.add(GRU(32, return_sequences=True))\n",
        "##model.add(Dropout(0.3))\n",
        "model.add(Flatten())\n",
        "model.add(Dense(32, activation=\"relu\"))\n",
        "##model.add(Dropout(0.3))\n",
        "model.add(Dense(1, activation=\"sigmoid\"))"
      ],
      "metadata": {
        "execution": {
          "iopub.status.busy": "2021-12-29T18:37:56.470751Z",
          "iopub.execute_input": "2021-12-29T18:37:56.471089Z",
          "iopub.status.idle": "2021-12-29T18:37:57.028733Z",
          "shell.execute_reply.started": "2021-12-29T18:37:56.471057Z",
          "shell.execute_reply": "2021-12-29T18:37:57.027772Z"
        },
        "trusted": true,
        "id": "3UaW9pRtwUQl"
      },
      "execution_count": 29,
      "outputs": []
    },
    {
      "cell_type": "code",
      "source": [
        "optimizer = tf.keras.optimizers.Adam(learning_rate = 0.0001)\n",
        "model.compile(\n",
        "    loss = \"binary_crossentropy\",\n",
        "    optimizer = optimizer,\n",
        "    metrics = [\"accuracy\"]\n",
        ")"
      ],
      "metadata": {
        "execution": {
          "iopub.status.busy": "2021-12-29T18:38:11.750483Z",
          "iopub.execute_input": "2021-12-29T18:38:11.750815Z",
          "iopub.status.idle": "2021-12-29T18:38:11.763231Z",
          "shell.execute_reply.started": "2021-12-29T18:38:11.750753Z",
          "shell.execute_reply": "2021-12-29T18:38:11.761967Z"
        },
        "trusted": true,
        "id": "1X_dG7APwUQm"
      },
      "execution_count": 30,
      "outputs": []
    },
    {
      "cell_type": "code",
      "source": [
        "filepath = 'my_checkpoint.ckpt'\n",
        "cp = ModelCheckpoint(\n",
        "    filepath=filepath,\n",
        "    save_weights_only=True,\n",
        "    save_best_only=True,\n",
        "    monitor='val_accuracy',\n",
        "    verbose=1\n",
        ")"
      ],
      "metadata": {
        "execution": {
          "iopub.status.busy": "2021-12-29T18:38:21.686636Z",
          "iopub.execute_input": "2021-12-29T18:38:21.687538Z",
          "iopub.status.idle": "2021-12-29T18:38:21.693843Z",
          "shell.execute_reply.started": "2021-12-29T18:38:21.687501Z",
          "shell.execute_reply": "2021-12-29T18:38:21.692856Z"
        },
        "trusted": true,
        "id": "lP4XtUq0wUQm"
      },
      "execution_count": 31,
      "outputs": []
    },
    {
      "cell_type": "code",
      "source": [
        "ep = EarlyStopping(\n",
        "    monitor='val_accuracy', \n",
        "    patience=7,\n",
        ")"
      ],
      "metadata": {
        "execution": {
          "iopub.status.busy": "2021-12-29T18:38:30.468667Z",
          "iopub.execute_input": "2021-12-29T18:38:30.469220Z",
          "iopub.status.idle": "2021-12-29T18:38:30.475144Z",
          "shell.execute_reply.started": "2021-12-29T18:38:30.469185Z",
          "shell.execute_reply": "2021-12-29T18:38:30.474087Z"
        },
        "trusted": true,
        "id": "8ElmeDPgwUQm"
      },
      "execution_count": 32,
      "outputs": []
    },
    {
      "cell_type": "code",
      "source": [
        "epochs=25\n",
        "history = model.fit(\n",
        "    X_train_padded, y_train,\n",
        "    validation_split = 0.2,\n",
        "    callbacks=[cp,ep],\n",
        "    batch_size=128,\n",
        "    epochs=epochs\n",
        ")"
      ],
      "metadata": {
        "execution": {
          "iopub.status.busy": "2021-12-29T18:38:45.656407Z",
          "iopub.execute_input": "2021-12-29T18:38:45.656725Z",
          "iopub.status.idle": "2021-12-29T18:39:59.871465Z",
          "shell.execute_reply.started": "2021-12-29T18:38:45.656692Z",
          "shell.execute_reply": "2021-12-29T18:39:59.870229Z"
        },
        "trusted": true,
        "colab": {
          "base_uri": "https://localhost:8080/"
        },
        "id": "sKriGUh1wUQm",
        "outputId": "62429a86-7d79-45c2-deca-6fea1ce83797"
      },
      "execution_count": 33,
      "outputs": [
        {
          "output_type": "stream",
          "name": "stdout",
          "text": [
            "Epoch 1/25\n",
            "225/225 [==============================] - ETA: 0s - loss: 0.2860 - accuracy: 0.8756\n",
            "Epoch 00001: val_accuracy improved from -inf to 0.97842, saving model to my_checkpoint.ckpt\n",
            "225/225 [==============================] - 24s 46ms/step - loss: 0.2860 - accuracy: 0.8756 - val_loss: 0.0653 - val_accuracy: 0.9784\n",
            "Epoch 2/25\n",
            "225/225 [==============================] - ETA: 0s - loss: 0.0327 - accuracy: 0.9898\n",
            "Epoch 00002: val_accuracy improved from 0.97842 to 0.98524, saving model to my_checkpoint.ckpt\n",
            "225/225 [==============================] - 9s 39ms/step - loss: 0.0327 - accuracy: 0.9898 - val_loss: 0.0443 - val_accuracy: 0.9852\n",
            "Epoch 3/25\n",
            "225/225 [==============================] - ETA: 0s - loss: 0.0117 - accuracy: 0.9976\n",
            "Epoch 00003: val_accuracy improved from 0.98524 to 0.98650, saving model to my_checkpoint.ckpt\n",
            "225/225 [==============================] - 9s 39ms/step - loss: 0.0117 - accuracy: 0.9976 - val_loss: 0.0418 - val_accuracy: 0.9865\n",
            "Epoch 4/25\n",
            "225/225 [==============================] - ETA: 0s - loss: 0.0043 - accuracy: 0.9994\n",
            "Epoch 00004: val_accuracy did not improve from 0.98650\n",
            "225/225 [==============================] - 9s 40ms/step - loss: 0.0043 - accuracy: 0.9994 - val_loss: 0.0440 - val_accuracy: 0.9859\n",
            "Epoch 5/25\n",
            "224/225 [============================>.] - ETA: 0s - loss: 0.0020 - accuracy: 0.9998\n",
            "Epoch 00005: val_accuracy did not improve from 0.98650\n",
            "225/225 [==============================] - 9s 39ms/step - loss: 0.0020 - accuracy: 0.9998 - val_loss: 0.0493 - val_accuracy: 0.9845\n",
            "Epoch 6/25\n",
            "225/225 [==============================] - ETA: 0s - loss: 0.0012 - accuracy: 0.9998\n",
            "Epoch 00006: val_accuracy improved from 0.98650 to 0.98719, saving model to my_checkpoint.ckpt\n",
            "225/225 [==============================] - 9s 39ms/step - loss: 0.0012 - accuracy: 0.9998 - val_loss: 0.0456 - val_accuracy: 0.9872\n",
            "Epoch 7/25\n",
            "225/225 [==============================] - ETA: 0s - loss: 6.1620e-04 - accuracy: 0.9999\n",
            "Epoch 00007: val_accuracy improved from 0.98719 to 0.98761, saving model to my_checkpoint.ckpt\n",
            "225/225 [==============================] - 9s 39ms/step - loss: 6.1620e-04 - accuracy: 0.9999 - val_loss: 0.0480 - val_accuracy: 0.9876\n",
            "Epoch 8/25\n",
            "225/225 [==============================] - ETA: 0s - loss: 7.0861e-04 - accuracy: 0.9999\n",
            "Epoch 00008: val_accuracy did not improve from 0.98761\n",
            "225/225 [==============================] - 9s 39ms/step - loss: 7.0861e-04 - accuracy: 0.9999 - val_loss: 0.0498 - val_accuracy: 0.9876\n",
            "Epoch 9/25\n",
            "225/225 [==============================] - ETA: 0s - loss: 5.7176e-04 - accuracy: 0.9999\n",
            "Epoch 00009: val_accuracy did not improve from 0.98761\n",
            "225/225 [==============================] - 9s 38ms/step - loss: 5.7176e-04 - accuracy: 0.9999 - val_loss: 0.0519 - val_accuracy: 0.9871\n",
            "Epoch 10/25\n",
            "225/225 [==============================] - ETA: 0s - loss: 4.1916e-04 - accuracy: 0.9999\n",
            "Epoch 00010: val_accuracy did not improve from 0.98761\n",
            "225/225 [==============================] - 9s 39ms/step - loss: 4.1916e-04 - accuracy: 0.9999 - val_loss: 0.0528 - val_accuracy: 0.9872\n",
            "Epoch 11/25\n",
            "225/225 [==============================] - ETA: 0s - loss: 4.3976e-04 - accuracy: 1.0000\n",
            "Epoch 00011: val_accuracy did not improve from 0.98761\n",
            "225/225 [==============================] - 9s 38ms/step - loss: 4.3976e-04 - accuracy: 1.0000 - val_loss: 0.0544 - val_accuracy: 0.9868\n",
            "Epoch 12/25\n",
            "225/225 [==============================] - ETA: 0s - loss: 3.1228e-04 - accuracy: 0.9999\n",
            "Epoch 00012: val_accuracy did not improve from 0.98761\n",
            "225/225 [==============================] - 9s 38ms/step - loss: 3.1228e-04 - accuracy: 0.9999 - val_loss: 0.0565 - val_accuracy: 0.9868\n",
            "Epoch 13/25\n",
            "225/225 [==============================] - ETA: 0s - loss: 3.5254e-04 - accuracy: 0.9999\n",
            "Epoch 00013: val_accuracy did not improve from 0.98761\n",
            "225/225 [==============================] - 9s 39ms/step - loss: 3.5254e-04 - accuracy: 0.9999 - val_loss: 0.0571 - val_accuracy: 0.9873\n",
            "Epoch 14/25\n",
            "225/225 [==============================] - ETA: 0s - loss: 4.6593e-04 - accuracy: 0.9999\n",
            "Epoch 00014: val_accuracy did not improve from 0.98761\n",
            "225/225 [==============================] - 9s 38ms/step - loss: 4.6593e-04 - accuracy: 0.9999 - val_loss: 0.0572 - val_accuracy: 0.9869\n"
          ]
        }
      ]
    },
    {
      "cell_type": "code",
      "source": [
        "model.evaluate(X_test_padded, y_test)"
      ],
      "metadata": {
        "execution": {
          "iopub.status.busy": "2021-12-29T18:39:59.875439Z",
          "iopub.execute_input": "2021-12-29T18:39:59.875776Z",
          "iopub.status.idle": "2021-12-29T18:40:01.673849Z",
          "shell.execute_reply.started": "2021-12-29T18:39:59.875714Z",
          "shell.execute_reply": "2021-12-29T18:40:01.672923Z"
        },
        "trusted": true,
        "colab": {
          "base_uri": "https://localhost:8080/"
        },
        "id": "InnaaBUDwUQn",
        "outputId": "28658702-8cd9-466f-870f-0d3058be8c2b"
      },
      "execution_count": 34,
      "outputs": [
        {
          "output_type": "stream",
          "name": "stdout",
          "text": [
            "281/281 [==============================] - 3s 10ms/step - loss: 0.0498 - accuracy: 0.9884\n"
          ]
        },
        {
          "output_type": "execute_result",
          "data": {
            "text/plain": [
              "[0.04979019612073898, 0.988418698310852]"
            ]
          },
          "metadata": {},
          "execution_count": 34
        }
      ]
    },
    {
      "cell_type": "code",
      "source": [
        "predictions = (model.predict(X_test_padded) > 0.5).astype(\"int32\")\n",
        "accuracy = accuracy_score(y_test, predictions)\n",
        "print(\"Testing Accuracy: \", accuracy)"
      ],
      "metadata": {
        "execution": {
          "iopub.status.busy": "2021-12-29T18:40:06.905753Z",
          "iopub.execute_input": "2021-12-29T18:40:06.906245Z",
          "iopub.status.idle": "2021-12-29T18:40:08.722452Z",
          "shell.execute_reply.started": "2021-12-29T18:40:06.906210Z",
          "shell.execute_reply": "2021-12-29T18:40:08.721458Z"
        },
        "trusted": true,
        "colab": {
          "base_uri": "https://localhost:8080/"
        },
        "id": "ZSrX8utpwUQn",
        "outputId": "9fd90c66-2026-4f71-d1fb-e31d3ecd7089"
      },
      "execution_count": 35,
      "outputs": [
        {
          "output_type": "stream",
          "name": "stdout",
          "text": [
            "Testing Accuracy:  0.9884187082405346\n"
          ]
        }
      ]
    },
    {
      "cell_type": "code",
      "source": [
        "print(history.history.keys())\n",
        "plt.axes().set(facecolor =\"white\")\n",
        "plt.plot(history.history['accuracy'],color='c')\n",
        "plt.plot(history.history['val_accuracy'],color='m')\n",
        "plt.title('model accuracy').set_color('black')\n",
        "plt.ylabel('accuracy').set_color('black')\n",
        "plt.xlabel('epoch').set_color('black')\n",
        "plt.legend(['train', 'validation'], loc='upper left')\n",
        "\n",
        "plt.show()\n",
        "\n",
        "plt.axes().set(facecolor =\"white\")\n",
        "plt.plot(history.history['loss'])\n",
        "plt.plot(history.history['val_loss'])\n",
        "plt.legend(['train', 'validation'], loc='upper left')\n",
        "plt.title('model loss').set_color('black')\n",
        "plt.ylabel('loss').set_color('black')\n",
        "plt.xlabel('epoch').set_color('black')\n",
        "plt.show()"
      ],
      "metadata": {
        "execution": {
          "iopub.status.busy": "2021-12-29T18:40:10.369545Z",
          "iopub.execute_input": "2021-12-29T18:40:10.370036Z",
          "iopub.status.idle": "2021-12-29T18:40:11.074935Z",
          "shell.execute_reply.started": "2021-12-29T18:40:10.369999Z",
          "shell.execute_reply": "2021-12-29T18:40:11.073884Z"
        },
        "trusted": true,
        "colab": {
          "base_uri": "https://localhost:8080/",
          "height": 591
        },
        "id": "DQIzvAtMwUQn",
        "outputId": "4cf67d70-274e-45eb-fed6-ed10b8ca83cf"
      },
      "execution_count": 36,
      "outputs": [
        {
          "output_type": "stream",
          "name": "stdout",
          "text": [
            "dict_keys(['loss', 'accuracy', 'val_loss', 'val_accuracy'])\n"
          ]
        },
        {
          "output_type": "display_data",
          "data": {
            "image/png": "[encoded data removed]",
            "text/plain": [
              "<Figure size 432x288 with 1 Axes>"
            ]
          },
          "metadata": {
            "needs_background": "light"
          }
        },
        {
          "output_type": "display_data",
          "data": {
            "image/png": "[encoded data removed]",
            "text/plain": [
              "<Figure size 432x288 with 1 Axes>"
            ]
          },
          "metadata": {
            "needs_background": "light"
          }
        }
      ]
    },
    {
      "cell_type": "code",
      "source": [
        "print('Confusion Matrix')\n",
        "cm = confusion_matrix(y_test, predictions)\n",
        "print(sns.heatmap(confusion_matrix(y_test, predictions),annot=True,fmt=\"d\"))\n",
        "print(classification_report(y_test, predictions, digits=5))"
      ],
      "metadata": {
        "execution": {
          "iopub.status.busy": "2021-12-29T18:42:56.410254Z",
          "iopub.execute_input": "2021-12-29T18:42:56.410557Z",
          "iopub.status.idle": "2021-12-29T18:42:56.714990Z",
          "shell.execute_reply.started": "2021-12-29T18:42:56.410524Z",
          "shell.execute_reply": "2021-12-29T18:42:56.713964Z"
        },
        "trusted": true,
        "colab": {
          "base_uri": "https://localhost:8080/",
          "height": 466
        },
        "id": "dQjKdt3XwUQn",
        "outputId": "749958a1-615c-4722-cde3-1815a44f83da"
      },
      "execution_count": 37,
      "outputs": [
        {
          "output_type": "stream",
          "name": "stdout",
          "text": [
            "Confusion Matrix\n",
            "AxesSubplot(0.125,0.125;0.62x0.755)\n",
            "              precision    recall  f1-score   support\n",
            "\n",
            "           0    0.98799   0.98969   0.98884      4656\n",
            "           1    0.98888   0.98705   0.98796      4324\n",
            "\n",
            "    accuracy                        0.98842      8980\n",
            "   macro avg    0.98844   0.98837   0.98840      8980\n",
            "weighted avg    0.98842   0.98842   0.98842      8980\n",
            "\n"
          ]
        },
        {
          "output_type": "display_data",
          "data": {
            "image/png": "[encoded data removed]",
            "text/plain": [
              "<Figure size 432x288 with 2 Axes>"
            ]
          },
          "metadata": {
            "needs_background": "light"
          }
        }
      ]
    },
    {
      "cell_type": "code",
      "source": [
        "import nltk\n",
        "nltk.download('stopwords')\n",
        "nltk.download('wordnet')\n",
        "from nltk.corpus import stopwords\n",
        "from textblob import Word\n",
        "sw=stopwords.words('english')"
      ],
      "metadata": {
        "execution": {
          "iopub.status.busy": "2021-12-29T18:45:09.456487Z",
          "iopub.execute_input": "2021-12-29T18:45:09.456839Z",
          "iopub.status.idle": "2021-12-29T18:45:09.503697Z",
          "shell.execute_reply.started": "2021-12-29T18:45:09.456801Z",
          "shell.execute_reply": "2021-12-29T18:45:09.502445Z"
        },
        "trusted": true,
        "colab": {
          "base_uri": "https://localhost:8080/"
        },
        "id": "4cGVaDv2wUQo",
        "outputId": "4e1d66a8-29ce-4745-eac1-e9c14e5214a3"
      },
      "execution_count": 38,
      "outputs": [
        {
          "output_type": "stream",
          "name": "stdout",
          "text": [
            "[nltk_data] Downloading package stopwords to /root/nltk_data...\n",
            "[nltk_data]   Unzipping corpora/stopwords.zip.\n",
            "[nltk_data] Downloading package wordnet to /root/nltk_data...\n",
            "[nltk_data]   Unzipping corpora/wordnet.zip.\n"
          ]
        }
      ]
    },
    {
      "cell_type": "code",
      "source": [
        "def preprocess_tweet(new_tweet):    \n",
        "    new_tweet = new_tweet.lower()\n",
        "    new_tweet = re.sub('[^\\w\\s]', '', new_tweet)\n",
        "    new_tweet = re.sub('\\d', '', new_tweet)\n",
        "\n",
        "    new_tweet = \" \".join(x for x in new_tweet.split() if x not in sw)\n",
        "    new_tweet = \" \".join([Word(word).lemmatize() for word in new_tweet.split()])\n",
        "    print(\"On processing:\", new_tweet)\n",
        "    \n",
        "    tokenizer.fit_on_texts(new_tweet)\n",
        "\n",
        "    new_tweet = tokenizer.texts_to_sequences([new_tweet])\n",
        "\n",
        "    new_tweet =  pad_sequences(new_tweet, maxlen=max_length, truncating=trunc_type, padding=pad_type)\n",
        "\n",
        "    return new_tweet\n",
        "\n",
        "def predict_newTweet(tweet):\n",
        "    print(\"Input Tweet: \", tweet)\n",
        "    emb_tweet = preprocess_tweet(tweet)\n",
        "    result = (model.predict(emb_tweet) > 0.5).astype(\"int32\")\n",
        "#     print(result)\n",
        "    print(\"Output: \" + \"Real News\" if result[0][0] == 1 else \"Fake News\")"
      ],
      "metadata": {
        "execution": {
          "iopub.status.busy": "2021-12-29T18:44:43.955706Z",
          "iopub.execute_input": "2021-12-29T18:44:43.956209Z",
          "iopub.status.idle": "2021-12-29T18:44:43.966132Z",
          "shell.execute_reply.started": "2021-12-29T18:44:43.956175Z",
          "shell.execute_reply": "2021-12-29T18:44:43.964663Z"
        },
        "trusted": true,
        "id": "D4vLBXcnwUQo"
      },
      "execution_count": 39,
      "outputs": []
    },
    {
      "cell_type": "code",
      "source": [
        "new_tweet = \"The Senior US Republican said Congressional Republicans reached a deal on final tax legislation on Wednesday, clearing the way for final votes next week on a package that would slash the U.S. corporate tax rate to 21 percent and cut taxes for wealthy Americans.  Under an agreement between the House of Representatives and the Senate, the corporate tax would be 1 percentage point higher than the 20 percent rate earlier proposed, but still far below the current headline rate of 35 percent, a deep tax reduction that corporations have sought for years. As they finalized the biggest tax overhaul in 30 years, Republicans wavered for weeks on whether to slash the top income tax rate for the wealthy..\"\n",
        "predict_newTweet(new_tweet)"
      ],
      "metadata": {
        "execution": {
          "iopub.status.busy": "2021-12-29T18:45:12.601014Z",
          "iopub.execute_input": "2021-12-29T18:45:12.601334Z",
          "iopub.status.idle": "2021-12-29T18:45:16.075161Z",
          "shell.execute_reply.started": "2021-12-29T18:45:12.601301Z",
          "shell.execute_reply": "2021-12-29T18:45:16.074055Z"
        },
        "trusted": true,
        "colab": {
          "base_uri": "https://localhost:8080/"
        },
        "id": "a-BQYCHdwUQo",
        "outputId": "0b150220-87f8-4fc1-d9e8-6e37d2efdfe3"
      },
      "execution_count": 42,
      "outputs": [
        {
          "output_type": "stream",
          "name": "stdout",
          "text": [
            "Input Tweet:  The Senior US Republican said Congressional Republicans reached a deal on final tax legislation on Wednesday, clearing the way for final votes next week on a package that would slash the U.S. corporate tax rate to 21 percent and cut taxes for wealthy Americans.  Under an agreement between the House of Representatives and the Senate, the corporate tax would be 1 percentage point higher than the 20 percent rate earlier proposed, but still far below the current headline rate of 35 percent, a deep tax reduction that corporations have sought for years. As they finalized the biggest tax overhaul in 30 years, Republicans wavered for weeks on whether to slash the top income tax rate for the wealthy..\n",
            "On processing: senior u republican said congressional republican reached deal final tax legislation wednesday clearing way final vote next week package would slash u corporate tax rate percent cut tax wealthy american agreement house representative senate corporate tax would percentage point higher percent rate earlier proposed still far current headline rate percent deep tax reduction corporation sought year finalized biggest tax overhaul year republican wavered week whether slash top income tax rate wealthy\n",
            "Output: Real News\n"
          ]
        }
      ]
    },
    {
      "cell_type": "code",
      "source": [
        "new_tweet = \"Fox Host Calls For A ‘Cleansing’ Of The FBI, And To Arrest Everyone Investigating Trump\"\n",
        "predict_newTweet(new_tweet)"
      ],
      "metadata": {
        "execution": {
          "iopub.status.busy": "2021-12-29T18:45:37.003656Z",
          "iopub.execute_input": "2021-12-29T18:45:37.004316Z",
          "iopub.status.idle": "2021-12-29T18:45:37.489848Z",
          "shell.execute_reply.started": "2021-12-29T18:45:37.004280Z",
          "shell.execute_reply": "2021-12-29T18:45:37.488641Z"
        },
        "trusted": true,
        "colab": {
          "base_uri": "https://localhost:8080/"
        },
        "id": "crbrk6-GwUQo",
        "outputId": "78376cf3-40e3-42c8-8c8e-eea0220a2231"
      },
      "execution_count": 43,
      "outputs": [
        {
          "output_type": "stream",
          "name": "stdout",
          "text": [
            "Input Tweet:  Fox Host Calls For A ‘Cleansing’ Of The FBI, And To Arrest Everyone Investigating Trump\n",
            "On processing: fox host call cleansing fbi arrest everyone investigating trump\n",
            "Fake News\n"
          ]
        }
      ]
    },
    {
      "cell_type": "markdown",
      "source": [
        "# Word2Vec Exploration"
      ],
      "metadata": {
        "id": "9eavJYAJwUQV"
      }
    },
    {
      "cell_type": "code",
      "source": [
        "import gensim"
      ],
      "metadata": {
        "id": "zJcBpVA7cYLU",
        "execution": {
          "iopub.status.busy": "2021-12-29T18:13:42.114557Z",
          "iopub.execute_input": "2021-12-29T18:13:42.114870Z",
          "iopub.status.idle": "2021-12-29T18:13:42.283365Z",
          "shell.execute_reply.started": "2021-12-29T18:13:42.114839Z",
          "shell.execute_reply": "2021-12-29T18:13:42.282378Z"
        },
        "trusted": true
      },
      "execution_count": 45,
      "outputs": []
    },
    {
      "cell_type": "code",
      "source": [
        "y = data['class'].values"
      ],
      "metadata": {
        "id": "-ynlSQqFdAWJ",
        "execution": {
          "iopub.status.busy": "2021-12-29T18:13:44.402845Z",
          "iopub.execute_input": "2021-12-29T18:13:44.403145Z",
          "iopub.status.idle": "2021-12-29T18:13:44.408270Z",
          "shell.execute_reply.started": "2021-12-29T18:13:44.403113Z",
          "shell.execute_reply": "2021-12-29T18:13:44.407221Z"
        },
        "trusted": true
      },
      "execution_count": null,
      "outputs": []
    },
    {
      "cell_type": "code",
      "source": [
        "DIM = 100\n",
        "X = [d.split() for d in data['text'].tolist()]\n",
        "w2v_model = gensim.models.Word2Vec(sentences = X, size = DIM, window = 10, min_count = 1)"
      ],
      "metadata": {
        "id": "YXgIjkLediXq",
        "execution": {
          "iopub.status.busy": "2021-12-29T18:14:53.781638Z",
          "iopub.execute_input": "2021-12-29T18:14:53.782416Z",
          "iopub.status.idle": "2021-12-29T18:18:18.991871Z",
          "shell.execute_reply.started": "2021-12-29T18:14:53.782381Z",
          "shell.execute_reply": "2021-12-29T18:18:18.990807Z"
        },
        "trusted": true
      },
      "execution_count": 47,
      "outputs": []
    },
    {
      "cell_type": "code",
      "source": [
        "w2v_model.wv['highest']"
      ],
      "metadata": {
        "id": "FIy4kha9gMLs",
        "execution": {
          "iopub.status.busy": "2021-12-29T18:19:32.908302Z",
          "iopub.execute_input": "2021-12-29T18:19:32.908620Z",
          "iopub.status.idle": "2021-12-29T18:19:32.918261Z",
          "shell.execute_reply.started": "2021-12-29T18:19:32.908590Z",
          "shell.execute_reply": "2021-12-29T18:19:32.917091Z"
        },
        "trusted": true,
        "colab": {
          "base_uri": "https://localhost:8080/"
        },
        "outputId": "dff1f26b-ee9c-4524-dd5e-5d4a4f0dc155"
      },
      "execution_count": 49,
      "outputs": [
        {
          "output_type": "execute_result",
          "data": {
            "text/plain": [
              "array([-2.9916635 ,  0.01718235, -0.5264771 ,  3.5512083 , -6.671092  ,\n",
              "        0.20187782,  2.3779604 ,  2.6860175 ,  2.6145847 ,  1.4013104 ,\n",
              "        1.2728559 ,  2.2969406 , -2.513135  ,  4.095384  , -1.1309563 ,\n",
              "       -1.2912122 , -2.0007958 , -1.2550261 , -0.3442755 , -3.889283  ,\n",
              "        0.5752788 ,  1.5680388 , -1.2938542 , -2.1342666 ,  0.41933268,\n",
              "       -0.44769186,  0.39326653, -1.5151919 , -2.5724049 , -0.6375334 ,\n",
              "       -2.2897658 , -5.1715283 ,  0.43699786, -1.1319838 ,  0.52900225,\n",
              "       -1.0870613 ,  2.9763718 , -2.9031022 ,  1.6371266 ,  1.6656125 ,\n",
              "       -0.49394664,  2.0570576 ,  0.42930976, -1.3735886 ,  0.9747827 ,\n",
              "       -0.20243476,  0.5211709 ,  3.0723488 , -1.933673  ,  0.6460346 ,\n",
              "       -1.8143846 , -2.2666173 ,  1.714728  , -1.5124353 ,  1.0023245 ,\n",
              "        0.4268633 ,  1.4563121 , -0.21842648, -0.8396776 ,  0.39580983,\n",
              "       -2.0375907 , -1.8397175 , -3.7094326 , -1.5035176 ,  0.18860479,\n",
              "       -0.80386287, -1.9836057 ,  1.856323  ,  2.146316  ,  0.07875594,\n",
              "       -2.2511299 , -3.8235643 , -2.7027287 ,  1.205245  , -4.2651396 ,\n",
              "        0.5687023 , -1.1133866 ,  1.3466476 ,  3.028361  , -0.22902974,\n",
              "        0.04391509,  1.6125494 ,  1.962139  , -1.0925953 , -3.673244  ,\n",
              "       -0.03249967,  0.76181513, -1.9309962 , -0.0112833 ,  2.304431  ,\n",
              "       -4.6001472 , -2.945688  , -0.15135539, -0.20796369, -3.101847  ,\n",
              "        0.3666264 ,  3.0628862 , -2.0540159 , -3.6817787 , -2.10046   ],\n",
              "      dtype=float32)"
            ]
          },
          "metadata": {},
          "execution_count": 49
        }
      ]
    },
    {
      "cell_type": "code",
      "source": [
        "tokenizer = Tokenizer()\n",
        "tokenizer.fit_on_texts(X)"
      ],
      "metadata": {
        "id": "NlEkCndwglYL",
        "execution": {
          "iopub.status.busy": "2021-12-29T18:19:37.985646Z",
          "iopub.execute_input": "2021-12-29T18:19:37.985977Z",
          "iopub.status.idle": "2021-12-29T18:19:53.112998Z",
          "shell.execute_reply.started": "2021-12-29T18:19:37.985946Z",
          "shell.execute_reply": "2021-12-29T18:19:53.111945Z"
        },
        "trusted": true
      },
      "execution_count": 50,
      "outputs": []
    },
    {
      "cell_type": "code",
      "source": [
        "X = tokenizer.texts_to_sequences(X)"
      ],
      "metadata": {
        "id": "pg6AY9Oclkqz",
        "execution": {
          "iopub.status.busy": "2021-12-29T18:20:02.687231Z",
          "iopub.execute_input": "2021-12-29T18:20:02.687718Z",
          "iopub.status.idle": "2021-12-29T18:20:13.658210Z",
          "shell.execute_reply.started": "2021-12-29T18:20:02.687673Z",
          "shell.execute_reply": "2021-12-29T18:20:13.657207Z"
        },
        "trusted": true
      },
      "execution_count": 51,
      "outputs": []
    },
    {
      "cell_type": "code",
      "source": [
        "tokenizer.word_index"
      ],
      "metadata": {
        "id": "pNUEQGEMl22_",
        "execution": {
          "iopub.status.busy": "2021-12-29T18:21:16.442292Z",
          "iopub.execute_input": "2021-12-29T18:21:16.442581Z",
          "iopub.status.idle": "2021-12-29T18:21:16.490564Z",
          "shell.execute_reply.started": "2021-12-29T18:21:16.442549Z",
          "shell.execute_reply": "2021-12-29T18:21:16.489576Z"
        },
        "trusted": true,
        "colab": {
          "base_uri": "https://localhost:8080/"
        },
        "outputId": "46c9f51d-0f9b-4e03-8700-acfeede3807d"
      },
      "execution_count": 52,
      "outputs": [
        {
          "output_type": "execute_result",
          "data": {
            "text/plain": [
              "{'the': 1,\n",
              " 'to': 2,\n",
              " 'of': 3,\n",
              " 'a': 4,\n",
              " 'and': 5,\n",
              " 'in': 6,\n",
              " 'that': 7,\n",
              " 'on': 8,\n",
              " 'for': 9,\n",
              " 's': 10,\n",
              " 'is': 11,\n",
              " 'he': 12,\n",
              " 'said': 13,\n",
              " 'trump': 14,\n",
              " 'it': 15,\n",
              " 'with': 16,\n",
              " 'was': 17,\n",
              " 'as': 18,\n",
              " 'his': 19,\n",
              " 'by': 20,\n",
              " 'has': 21,\n",
              " 'be': 22,\n",
              " 'have': 23,\n",
              " 'not': 24,\n",
              " 'from': 25,\n",
              " 'this': 26,\n",
              " 'at': 27,\n",
              " 'are': 28,\n",
              " 'who': 29,\n",
              " 'us': 30,\n",
              " 'an': 31,\n",
              " 'they': 32,\n",
              " 'i': 33,\n",
              " 'but': 34,\n",
              " 'we': 35,\n",
              " 'would': 36,\n",
              " 'president': 37,\n",
              " 'about': 38,\n",
              " 'will': 39,\n",
              " 'their': 40,\n",
              " 'had': 41,\n",
              " 'you': 42,\n",
              " 't': 43,\n",
              " 'been': 44,\n",
              " 'were': 45,\n",
              " 'people': 46,\n",
              " 'more': 47,\n",
              " 'or': 48,\n",
              " 'after': 49,\n",
              " 'which': 50,\n",
              " 'she': 51,\n",
              " 'her': 52,\n",
              " 'one': 53,\n",
              " 'if': 54,\n",
              " 'its': 55,\n",
              " 'out': 56,\n",
              " 'all': 57,\n",
              " 'what': 58,\n",
              " 'state': 59,\n",
              " 'when': 60,\n",
              " 'new': 61,\n",
              " 'also': 62,\n",
              " 'up': 63,\n",
              " 'there': 64,\n",
              " 'over': 65,\n",
              " 'no': 66,\n",
              " 'house': 67,\n",
              " 'donald': 68,\n",
              " 'our': 69,\n",
              " 'states': 70,\n",
              " 'clinton': 71,\n",
              " 'obama': 72,\n",
              " 'government': 73,\n",
              " 'can': 74,\n",
              " 'just': 75,\n",
              " 'him': 76,\n",
              " 'so': 77,\n",
              " 'than': 78,\n",
              " 'republican': 79,\n",
              " 'other': 80,\n",
              " 'some': 81,\n",
              " 'could': 82,\n",
              " 'white': 83,\n",
              " 'into': 84,\n",
              " 'told': 85,\n",
              " 'united': 86,\n",
              " 'against': 87,\n",
              " 'like': 88,\n",
              " 'do': 89,\n",
              " 'because': 90,\n",
              " 'campaign': 91,\n",
              " 'them': 92,\n",
              " 'news': 93,\n",
              " 'any': 94,\n",
              " 'last': 95,\n",
              " 'election': 96,\n",
              " 'two': 97,\n",
              " 'time': 98,\n",
              " 'now': 99,\n",
              " 'how': 100,\n",
              " 'party': 101,\n",
              " 'first': 102,\n",
              " 'only': 103,\n",
              " 'former': 104,\n",
              " 'hillary': 105,\n",
              " 'should': 106,\n",
              " 'even': 107,\n",
              " 'being': 108,\n",
              " 'year': 109,\n",
              " 'while': 110,\n",
              " 'country': 111,\n",
              " 'video': 112,\n",
              " 'did': 113,\n",
              " 'before': 114,\n",
              " 'years': 115,\n",
              " 'during': 116,\n",
              " 'many': 117,\n",
              " 'media': 118,\n",
              " 'security': 119,\n",
              " 'may': 120,\n",
              " 'most': 121,\n",
              " 'say': 122,\n",
              " 'political': 123,\n",
              " 'national': 124,\n",
              " 'police': 125,\n",
              " 'get': 126,\n",
              " 'law': 127,\n",
              " 'made': 128,\n",
              " 'court': 129,\n",
              " 'make': 130,\n",
              " 'those': 131,\n",
              " 'american': 132,\n",
              " 'republicans': 133,\n",
              " 'since': 134,\n",
              " 'going': 135,\n",
              " 'where': 136,\n",
              " 'percent': 137,\n",
              " 'trumps': 138,\n",
              " 'bill': 139,\n",
              " 'presidential': 140,\n",
              " 'under': 141,\n",
              " 'very': 142,\n",
              " 'back': 143,\n",
              " 'these': 144,\n",
              " 'says': 145,\n",
              " 'russia': 146,\n",
              " 'north': 147,\n",
              " 'senate': 148,\n",
              " 'support': 149,\n",
              " 'democratic': 150,\n",
              " 'administration': 151,\n",
              " 'vote': 152,\n",
              " 'america': 153,\n",
              " 'down': 154,\n",
              " 'week': 155,\n",
              " 'between': 156,\n",
              " 'including': 157,\n",
              " 'group': 158,\n",
              " 'then': 159,\n",
              " 'know': 160,\n",
              " 'officials': 161,\n",
              " 'think': 162,\n",
              " 'according': 163,\n",
              " 'way': 164,\n",
              " 'take': 165,\n",
              " 'public': 166,\n",
              " 'office': 167,\n",
              " 'federal': 168,\n",
              " 'military': 169,\n",
              " 'such': 170,\n",
              " 'my': 171,\n",
              " 'foreign': 172,\n",
              " 'called': 173,\n",
              " 're': 174,\n",
              " 'via': 175,\n",
              " 'right': 176,\n",
              " 'million': 177,\n",
              " 'world': 178,\n",
              " 'statement': 179,\n",
              " 'department': 180,\n",
              " 'washington': 181,\n",
              " 'want': 182,\n",
              " 'saying': 183,\n",
              " 'tax': 184,\n",
              " 'don': 185,\n",
              " 'well': 186,\n",
              " 'see': 187,\n",
              " 'here': 188,\n",
              " 'congress': 189,\n",
              " 'still': 190,\n",
              " 'russian': 191,\n",
              " 'tuesday': 192,\n",
              " 'both': 193,\n",
              " 'your': 194,\n",
              " 'much': 195,\n",
              " 'democrats': 196,\n",
              " 'image': 197,\n",
              " 'another': 198,\n",
              " 'minister': 199,\n",
              " 'day': 200,\n",
              " 'women': 201,\n",
              " 'part': 202,\n",
              " 'wednesday': 203,\n",
              " 'go': 204,\n",
              " 'work': 205,\n",
              " 'through': 206,\n",
              " 'china': 207,\n",
              " 'policy': 208,\n",
              " 'friday': 209,\n",
              " 'thursday': 210,\n",
              " 'asked': 211,\n",
              " 'war': 212,\n",
              " 'own': 213,\n",
              " 'black': 214,\n",
              " 'deal': 215,\n",
              " 'rights': 216,\n",
              " 'off': 217,\n",
              " 'city': 218,\n",
              " 'official': 219,\n",
              " 'secretary': 220,\n",
              " 'why': 221,\n",
              " 'monday': 222,\n",
              " '2016': 223,\n",
              " 'americans': 224,\n",
              " 'committee': 225,\n",
              " 'next': 226,\n",
              " 'me': 227,\n",
              " 'help': 228,\n",
              " 'general': 229,\n",
              " 'need': 230,\n",
              " 'korea': 231,\n",
              " 'three': 232,\n",
              " 'whether': 233,\n",
              " 'leader': 234,\n",
              " 'case': 235,\n",
              " 'senator': 236,\n",
              " 'show': 237,\n",
              " 'never': 238,\n",
              " 'man': 239,\n",
              " 'around': 240,\n",
              " 'york': 241,\n",
              " 'does': 242,\n",
              " 'order': 243,\n",
              " 'fbi': 244,\n",
              " 'members': 245,\n",
              " 'use': 246,\n",
              " 'candidate': 247,\n",
              " 'report': 248,\n",
              " 'same': 249,\n",
              " 'meeting': 250,\n",
              " 'took': 251,\n",
              " 'good': 252,\n",
              " 'come': 253,\n",
              " 'every': 254,\n",
              " 'iran': 255,\n",
              " 'end': 256,\n",
              " 'left': 257,\n",
              " 'without': 258,\n",
              " 'reuters': 259,\n",
              " 'power': 260,\n",
              " 'used': 261,\n",
              " 'really': 262,\n",
              " 'top': 263,\n",
              " 'twitter': 264,\n",
              " 'attack': 265,\n",
              " 'put': 266,\n",
              " 'investigation': 267,\n",
              " 'intelligence': 268,\n",
              " 'times': 269,\n",
              " 'countries': 270,\n",
              " 'justice': 271,\n",
              " 'money': 272,\n",
              " 'nuclear': 273,\n",
              " 'syria': 274,\n",
              " 'change': 275,\n",
              " 'voters': 276,\n",
              " 'plan': 277,\n",
              " 'trade': 278,\n",
              " 'month': 279,\n",
              " 'information': 280,\n",
              " 'leaders': 281,\n",
              " 'south': 282,\n",
              " 'family': 283,\n",
              " 'speech': 284,\n",
              " 'decision': 285,\n",
              " 'business': 286,\n",
              " 'international': 287,\n",
              " 'groups': 288,\n",
              " 'reported': 289,\n",
              " 'fact': 290,\n",
              " 'days': 291,\n",
              " 'interview': 292,\n",
              " 'long': 293,\n",
              " 'already': 294,\n",
              " 'director': 295,\n",
              " 'story': 296,\n",
              " 'several': 297,\n",
              " 'again': 298,\n",
              " 'far': 299,\n",
              " 'too': 300,\n",
              " 'conservative': 301,\n",
              " 'fox': 302,\n",
              " 'chief': 303,\n",
              " 'likely': 304,\n",
              " 'must': 305,\n",
              " 'health': 306,\n",
              " 'call': 307,\n",
              " 'border': 308,\n",
              " 'john': 309,\n",
              " 'something': 310,\n",
              " 'place': 311,\n",
              " 'months': 312,\n",
              " 'immigration': 313,\n",
              " 'clear': 314,\n",
              " 'supporters': 315,\n",
              " 'agency': 316,\n",
              " 'social': 317,\n",
              " 'home': 318,\n",
              " 'islamic': 319,\n",
              " 'among': 320,\n",
              " 'watch': 321,\n",
              " 'sanders': 322,\n",
              " 'move': 323,\n",
              " 'press': 324,\n",
              " 'post': 325,\n",
              " 'believe': 326,\n",
              " 'however': 327,\n",
              " 'barack': 328,\n",
              " 'got': 329,\n",
              " 'program': 330,\n",
              " 'issue': 331,\n",
              " 'billion': 332,\n",
              " 'won': 333,\n",
              " 'act': 334,\n",
              " 'might': 335,\n",
              " 'children': 336,\n",
              " 'major': 337,\n",
              " 'came': 338,\n",
              " 'muslim': 339,\n",
              " 'recent': 340,\n",
              " 'least': 341,\n",
              " 'sunday': 342,\n",
              " 'killed': 343,\n",
              " 'seen': 344,\n",
              " 'found': 345,\n",
              " 'things': 346,\n",
              " 'number': 347,\n",
              " 'great': 348,\n",
              " 'control': 349,\n",
              " 'trying': 350,\n",
              " 've': 351,\n",
              " 'democrat': 352,\n",
              " 'matter': 353,\n",
              " 'today': 354,\n",
              " 'though': 355,\n",
              " 'didn': 356,\n",
              " 'reporters': 357,\n",
              " 'later': 358,\n",
              " 'win': 359,\n",
              " 'defense': 360,\n",
              " 'm': 361,\n",
              " 'attacks': 362,\n",
              " 'yet': 363,\n",
              " 'economic': 364,\n",
              " 'eu': 365,\n",
              " 'march': 366,\n",
              " 'making': 367,\n",
              " 'spokesman': 368,\n",
              " 'working': 369,\n",
              " 'went': 370,\n",
              " 'executive': 371,\n",
              " 'become': 372,\n",
              " 'actually': 373,\n",
              " 'school': 374,\n",
              " 'look': 375,\n",
              " 'cnn': 376,\n",
              " 'keep': 377,\n",
              " 'stop': 378,\n",
              " 'big': 379,\n",
              " 'free': 380,\n",
              " 'give': 381,\n",
              " 'little': 382,\n",
              " 'nation': 383,\n",
              " 'system': 384,\n",
              " 'legal': 385,\n",
              " 'un': 386,\n",
              " 'set': 387,\n",
              " 'past': 388,\n",
              " 'violence': 389,\n",
              " 'cruz': 390,\n",
              " 'until': 391,\n",
              " 'real': 392,\n",
              " 'forces': 393,\n",
              " 'himself': 394,\n",
              " 'senior': 395,\n",
              " 'earlier': 396,\n",
              " 'away': 397,\n",
              " 'doesn': 398,\n",
              " 'let': 399,\n",
              " 'four': 400,\n",
              " 'thing': 401,\n",
              " 'point': 402,\n",
              " 'added': 403,\n",
              " 'governor': 404,\n",
              " 'talks': 405,\n",
              " 'member': 406,\n",
              " 'doing': 407,\n",
              " 'lawmakers': 408,\n",
              " 'nothing': 409,\n",
              " 'january': 410,\n",
              " 'comment': 411,\n",
              " 'illegal': 412,\n",
              " 'sanctions': 413,\n",
              " 'woman': 414,\n",
              " 'ever': 415,\n",
              " 'wall': 416,\n",
              " 'few': 417,\n",
              " 'opposition': 418,\n",
              " 'head': 419,\n",
              " 'european': 420,\n",
              " 'local': 421,\n",
              " 'taking': 422,\n",
              " 'nations': 423,\n",
              " 'force': 424,\n",
              " 'known': 425,\n",
              " 'issues': 426,\n",
              " 'human': 427,\n",
              " 'following': 428,\n",
              " 'nominee': 429,\n",
              " 'july': 430,\n",
              " 'prime': 431,\n",
              " 'companies': 432,\n",
              " 'possible': 433,\n",
              " 'held': 434,\n",
              " 'gun': 435,\n",
              " 'gop': 436,\n",
              " 'attorney': 437,\n",
              " 'care': 438,\n",
              " 'supreme': 439,\n",
              " 'wants': 440,\n",
              " 'action': 441,\n",
              " 'across': 442,\n",
              " '2015': 443,\n",
              " 'judge': 444,\n",
              " 'team': 445,\n",
              " 'released': 446,\n",
              " 'pay': 447,\n",
              " 'person': 448,\n",
              " 'expected': 449,\n",
              " 'union': 450,\n",
              " 'men': 451,\n",
              " 'continue': 452,\n",
              " 'job': 453,\n",
              " 'community': 454,\n",
              " 'better': 455,\n",
              " 'company': 456,\n",
              " 'enough': 457,\n",
              " 'others': 458,\n",
              " 'given': 459,\n",
              " 'high': 460,\n",
              " 'night': 461,\n",
              " 'once': 462,\n",
              " 'legislation': 463,\n",
              " 'evidence': 464,\n",
              " 'ban': 465,\n",
              " 'financial': 466,\n",
              " '10': 467,\n",
              " 'response': 468,\n",
              " 'history': 469,\n",
              " 'reports': 470,\n",
              " 'taken': 471,\n",
              " 'source': 472,\n",
              " 'budget': 473,\n",
              " 'process': 474,\n",
              " 'question': 475,\n",
              " 'face': 476,\n",
              " 'open': 477,\n",
              " 'images': 478,\n",
              " 'close': 479,\n",
              " 'fight': 480,\n",
              " 'done': 481,\n",
              " 'wrote': 482,\n",
              " 'debate': 483,\n",
              " '20': 484,\n",
              " 'special': 485,\n",
              " 'plans': 486,\n",
              " 'important': 487,\n",
              " 'life': 488,\n",
              " 'syrian': 489,\n",
              " 'june': 490,\n",
              " 'course': 491,\n",
              " 'having': 492,\n",
              " 'university': 493,\n",
              " 'refugees': 494,\n",
              " 'anyone': 495,\n",
              " 'lot': 496,\n",
              " 'race': 497,\n",
              " 'run': 498,\n",
              " 'majority': 499,\n",
              " 'private': 500,\n",
              " 'email': 501,\n",
              " 'iraq': 502,\n",
              " 'using': 503,\n",
              " 'second': 504,\n",
              " 'death': 505,\n",
              " 'air': 506,\n",
              " 'crisis': 507,\n",
              " 'putin': 508,\n",
              " 'staff': 509,\n",
              " 'despite': 510,\n",
              " 'conference': 511,\n",
              " 'saturday': 512,\n",
              " 'further': 513,\n",
              " 'comments': 514,\n",
              " 'november': 515,\n",
              " 'anything': 516,\n",
              " 'efforts': 517,\n",
              " 'behind': 518,\n",
              " 'accused': 519,\n",
              " 'along': 520,\n",
              " 'lives': 521,\n",
              " 'ago': 522,\n",
              " 'able': 523,\n",
              " 'ryan': 524,\n",
              " 'mexico': 525,\n",
              " 'best': 526,\n",
              " 'saudi': 527,\n",
              " '1': 528,\n",
              " 'agreement': 529,\n",
              " 'mr': 530,\n",
              " 'role': 531,\n",
              " 'early': 532,\n",
              " 'find': 533,\n",
              " 'full': 534,\n",
              " 'future': 535,\n",
              " 'am': 536,\n",
              " 'less': 537,\n",
              " 'region': 538,\n",
              " 'lead': 539,\n",
              " 'instead': 540,\n",
              " 'letter': 541,\n",
              " 'comes': 542,\n",
              " 'council': 543,\n",
              " 'weeks': 544,\n",
              " 'five': 545,\n",
              " 'jobs': 546,\n",
              " 'current': 547,\n",
              " 'within': 548,\n",
              " 'due': 549,\n",
              " 'someone': 550,\n",
              " 'civil': 551,\n",
              " 'visit': 552,\n",
              " 'facebook': 553,\n",
              " 'calling': 554,\n",
              " 'sure': 555,\n",
              " 'sources': 556,\n",
              " 'comey': 557,\n",
              " 'service': 558,\n",
              " 'hard': 559,\n",
              " 'coalition': 560,\n",
              " 'students': 561,\n",
              " 'getting': 562,\n",
              " 'texas': 563,\n",
              " 'live': 564,\n",
              " 'name': 565,\n",
              " 'britain': 566,\n",
              " 'rules': 567,\n",
              " 'center': 568,\n",
              " 'young': 569,\n",
              " 'congressional': 570,\n",
              " 'votes': 571,\n",
              " 'israel': 572,\n",
              " 'economy': 573,\n",
              " 'coming': 574,\n",
              " 'effort': 575,\n",
              " 'll': 576,\n",
              " 'elections': 577,\n",
              " 'calls': 578,\n",
              " 'muslims': 579,\n",
              " 'candidates': 580,\n",
              " 'emails': 581,\n",
              " 'announced': 582,\n",
              " 'weapons': 583,\n",
              " 'army': 584,\n",
              " 'global': 585,\n",
              " 'paul': 586,\n",
              " 'thousands': 587,\n",
              " 'ties': 588,\n",
              " 'line': 589,\n",
              " 'healthcare': 590,\n",
              " 'citizens': 591,\n",
              " 'event': 592,\n",
              " 'running': 593,\n",
              " 'chairman': 594,\n",
              " 'nearly': 595,\n",
              " 'sent': 596,\n",
              " 'climate': 597,\n",
              " 'talk': 598,\n",
              " '8': 599,\n",
              " 'obamacare': 600,\n",
              " 'racist': 601,\n",
              " 'fake': 602,\n",
              " 'claims': 603,\n",
              " 'street': 604,\n",
              " '2014': 605,\n",
              " 'allow': 606,\n",
              " 'rule': 607,\n",
              " 'daily': 608,\n",
              " 'capital': 609,\n",
              " 'poll': 610,\n",
              " 'position': 611,\n",
              " 'each': 612,\n",
              " 'workers': 613,\n",
              " 'december': 614,\n",
              " 'whose': 615,\n",
              " 'october': 616,\n",
              " 'middle': 617,\n",
              " 'ruling': 618,\n",
              " 'led': 619,\n",
              " 'hold': 620,\n",
              " 'wanted': 621,\n",
              " 'tell': 622,\n",
              " 'needs': 623,\n",
              " 'message': 624,\n",
              " 'latest': 625,\n",
              " 'outside': 626,\n",
              " 'april': 627,\n",
              " 'everyone': 628,\n",
              " 'late': 629,\n",
              " 'threat': 630,\n",
              " 'authorities': 631,\n",
              " 'gave': 632,\n",
              " 'east': 633,\n",
              " 'liberal': 634,\n",
              " 'began': 635,\n",
              " 'turkey': 636,\n",
              " 'problem': 637,\n",
              " 'florida': 638,\n",
              " 'makes': 639,\n",
              " 'bad': 640,\n",
              " 'showed': 641,\n",
              " 'reform': 642,\n",
              " 'politics': 643,\n",
              " '15': 644,\n",
              " 'officers': 645,\n",
              " 'leave': 646,\n",
              " 'rally': 647,\n",
              " 'september': 648,\n",
              " 'immigrants': 649,\n",
              " 'bush': 650,\n",
              " 'd': 651,\n",
              " 'criminal': 652,\n",
              " 'questions': 653,\n",
              " 'voting': 654,\n",
              " 'failed': 655,\n",
              " 'means': 656,\n",
              " 'organization': 657,\n",
              " 'august': 658,\n",
              " 'isn': 659,\n",
              " 'start': 660,\n",
              " 'representatives': 661,\n",
              " 'relations': 662,\n",
              " 'meet': 663,\n",
              " 'reason': 664,\n",
              " 'immediately': 665,\n",
              " 'peace': 666,\n",
              " 'lost': 667,\n",
              " 'list': 668,\n",
              " 'words': 669,\n",
              " 'parliament': 670,\n",
              " 'together': 671,\n",
              " 'cut': 672,\n",
              " 'release': 673,\n",
              " 'access': 674,\n",
              " 'speaking': 675,\n",
              " 'policies': 676,\n",
              " 'services': 677,\n",
              " 'hope': 678,\n",
              " 'stand': 679,\n",
              " 'germany': 680,\n",
              " 'funding': 681,\n",
              " 'february': 682,\n",
              " 'different': 683,\n",
              " 'rather': 684,\n",
              " 'central': 685,\n",
              " 'conservatives': 686,\n",
              " 'agencies': 687,\n",
              " 'george': 688,\n",
              " '2': 689,\n",
              " 'ahead': 690,\n",
              " 'spending': 691,\n",
              " 'based': 692,\n",
              " 'tried': 693,\n",
              " 'allies': 694,\n",
              " 'strong': 695,\n",
              " 'read': 696,\n",
              " 'ministry': 697,\n",
              " 'laws': 698,\n",
              " 'sexual': 699,\n",
              " 'planned': 700,\n",
              " 'almost': 701,\n",
              " 'try': 702,\n",
              " '2017': 703,\n",
              " 'millions': 704,\n",
              " 'cannot': 705,\n",
              " 'thought': 706,\n",
              " 'received': 707,\n",
              " 'oil': 708,\n",
              " 'six': 709,\n",
              " 'recently': 710,\n",
              " 'allowed': 711,\n",
              " 'morning': 712,\n",
              " 'host': 713,\n",
              " '30': 714,\n",
              " 'elected': 715,\n",
              " 'protect': 716,\n",
              " 'idea': 717,\n",
              " 'shows': 718,\n",
              " 'enforcement': 719,\n",
              " 'bring': 720,\n",
              " 'shooting': 721,\n",
              " 'charges': 722,\n",
              " 'decided': 723,\n",
              " 'missile': 724,\n",
              " 'old': 725,\n",
              " 'fire': 726,\n",
              " 'key': 727,\n",
              " 'room': 728,\n",
              " 'europe': 729,\n",
              " 'concerns': 730,\n",
              " 'parties': 731,\n",
              " 'provide': 732,\n",
              " 'chinese': 733,\n",
              " 'entire': 734,\n",
              " 'often': 735,\n",
              " 'talking': 736,\n",
              " 'met': 737,\n",
              " 'always': 738,\n",
              " 'near': 739,\n",
              " 'involved': 740,\n",
              " 'situation': 741,\n",
              " 'hate': 742,\n",
              " 'obamas': 743,\n",
              " 'energy': 744,\n",
              " 'happened': 745,\n",
              " 'officer': 746,\n",
              " 'district': 747,\n",
              " 'kind': 748,\n",
              " '3': 749,\n",
              " 'shot': 750,\n",
              " 'bank': 751,\n",
              " 'allegations': 752,\n",
              " 'denied': 753,\n",
              " 'tweet': 754,\n",
              " 'everything': 755,\n",
              " 'presidency': 756,\n",
              " 'california': 757,\n",
              " 'small': 758,\n",
              " 'movement': 759,\n",
              " 'james': 760,\n",
              " 'looking': 761,\n",
              " 'terrorist': 762,\n",
              " 'vice': 763,\n",
              " 'century': 764,\n",
              " 'travel': 765,\n",
              " 'needed': 766,\n",
              " 'arrested': 767,\n",
              " 'myanmar': 768,\n",
              " 'freedom': 769,\n",
              " 'especially': 770,\n",
              " 'agreed': 771,\n",
              " 'side': 772,\n",
              " 'voted': 773,\n",
              " 'include': 774,\n",
              " 'water': 775,\n",
              " 'return': 776,\n",
              " 'bernie': 777,\n",
              " 'nomination': 778,\n",
              " 'hours': 779,\n",
              " 'large': 780,\n",
              " 'protesters': 781,\n",
              " 'documents': 782,\n",
              " 'area': 783,\n",
              " 'potential': 784,\n",
              " 'industry': 785,\n",
              " 'korean': 786,\n",
              " 'crime': 787,\n",
              " 'data': 788,\n",
              " 'request': 789,\n",
              " 'british': 790,\n",
              " 'west': 791,\n",
              " '12': 792,\n",
              " 'themselves': 793,\n",
              " 'market': 794,\n",
              " 'seems': 795,\n",
              " 'although': 796,\n",
              " 'fired': 797,\n",
              " 'representative': 798,\n",
              " 'personal': 799,\n",
              " 'fighting': 800,\n",
              " 'county': 801,\n",
              " 'hearing': 802,\n",
              " 'claim': 803,\n",
              " 'adviser': 804,\n",
              " 'polls': 805,\n",
              " 'wife': 806,\n",
              " 'hit': 807,\n",
              " 'western': 808,\n",
              " 'cases': 809,\n",
              " '2012': 810,\n",
              " 'adding': 811,\n",
              " 'actions': 812,\n",
              " 'foundation': 813,\n",
              " 'either': 814,\n",
              " 'insurance': 815,\n",
              " 'confirmed': 816,\n",
              " 'worked': 817,\n",
              " 'true': 818,\n",
              " 'interest': 819,\n",
              " 'serious': 820,\n",
              " 'decades': 821,\n",
              " 'pressure': 822,\n",
              " 'wrong': 823,\n",
              " 'forward': 824,\n",
              " 'alleged': 825,\n",
              " 'building': 826,\n",
              " 'realdonaldtrump': 827,\n",
              " 'step': 828,\n",
              " '11': 829,\n",
              " 'front': 830,\n",
              " 'term': 831,\n",
              " 'commission': 832,\n",
              " '5': 833,\n",
              " 'address': 834,\n",
              " 'leading': 835,\n",
              " 'details': 836,\n",
              " 'j': 837,\n",
              " 'spoke': 838,\n",
              " 'claimed': 839,\n",
              " 'tillerson': 840,\n",
              " 'paid': 841,\n",
              " 'biggest': 842,\n",
              " 'probably': 843,\n",
              " 'nov': 844,\n",
              " 'lawyer': 845,\n",
              " 'love': 846,\n",
              " 'passed': 847,\n",
              " 'college': 848,\n",
              " 'continued': 849,\n",
              " 'clearly': 850,\n",
              " '4': 851,\n",
              " 'review': 852,\n",
              " 'feel': 853,\n",
              " 'board': 854,\n",
              " 'truth': 855,\n",
              " 'main': 856,\n",
              " 'families': 857,\n",
              " 'appeared': 858,\n",
              " 'final': 859,\n",
              " 'primary': 860,\n",
              " 'victory': 861,\n",
              " 'ted': 862,\n",
              " 'soon': 863,\n",
              " 'moscow': 864,\n",
              " 'leadership': 865,\n",
              " 'michael': 866,\n",
              " 'son': 867,\n",
              " 'mean': 868,\n",
              " 'protest': 869,\n",
              " 'father': 870,\n",
              " 'mike': 871,\n",
              " 'taxes': 872,\n",
              " 'turn': 873,\n",
              " 'terrorism': 874,\n",
              " 'network': 875,\n",
              " 'dont': 876,\n",
              " 'aid': 877,\n",
              " 'record': 878,\n",
              " 'brought': 879,\n",
              " 'dollars': 880,\n",
              " 'sessions': 881,\n",
              " 'declined': 882,\n",
              " 'cia': 883,\n",
              " 'result': 884,\n",
              " 'deputy': 885,\n",
              " 'wasn': 886,\n",
              " 'simply': 887,\n",
              " 'goes': 888,\n",
              " 'toward': 889,\n",
              " 'points': 890,\n",
              " 'remarks': 891,\n",
              " 'turned': 892,\n",
              " 'issued': 893,\n",
              " 'sign': 894,\n",
              " 'became': 895,\n",
              " 'started': 896,\n",
              " 'independence': 897,\n",
              " 'spent': 898,\n",
              " 'arabia': 899,\n",
              " 'protests': 900,\n",
              " 'pence': 901,\n",
              " 'david': 902,\n",
              " 'posted': 903,\n",
              " 'flynn': 904,\n",
              " 'included': 905,\n",
              " 'mayor': 906,\n",
              " 'agenda': 907,\n",
              " 'signed': 908,\n",
              " 'secret': 909,\n",
              " 'view': 910,\n",
              " 'isis': 911,\n",
              " '25': 912,\n",
              " 'religious': 913,\n",
              " 'influence': 914,\n",
              " 'attempt': 915,\n",
              " 'mccain': 916,\n",
              " 'article': 917,\n",
              " 'push': 918,\n",
              " 'town': 919,\n",
              " 'popular': 920,\n",
              " 'mark': 921,\n",
              " 'previously': 922,\n",
              " 'rubio': 923,\n",
              " 'forced': 924,\n",
              " 'german': 925,\n",
              " 'raised': 926,\n",
              " 'merkel': 927,\n",
              " 'below': 928,\n",
              " 'pass': 929,\n",
              " 'fund': 930,\n",
              " 'relationship': 931,\n",
              " 'guy': 932,\n",
              " 'pretty': 933,\n",
              " 'food': 934,\n",
              " 'child': 935,\n",
              " 'level': 936,\n",
              " '2013': 937,\n",
              " 'giving': 938,\n",
              " 'clintons': 939,\n",
              " 'seeking': 940,\n",
              " 'half': 941,\n",
              " 'al': 942,\n",
              " 'saw': 943,\n",
              " 'militants': 944,\n",
              " 'account': 945,\n",
              " 'website': 946,\n",
              " 'short': 947,\n",
              " 'convention': 948,\n",
              " 'gets': 949,\n",
              " 'speak': 950,\n",
              " 'cost': 951,\n",
              " 'conflict': 952,\n",
              " 'helped': 953,\n",
              " 'debt': 954,\n",
              " 'speaker': 955,\n",
              " 'friends': 956,\n",
              " 'proposed': 957,\n",
              " 'total': 958,\n",
              " 'increase': 959,\n",
              " 'firm': 960,\n",
              " 'hundreds': 961,\n",
              " 'voter': 962,\n",
              " 'ask': 963,\n",
              " 'ambassador': 964,\n",
              " 'reality': 965,\n",
              " 'armed': 966,\n",
              " 'wire': 967,\n",
              " 'described': 968,\n",
              " 'longer': 969,\n",
              " 'repeatedly': 970,\n",
              " 'phone': 971,\n",
              " 'remain': 972,\n",
              " 'created': 973,\n",
              " 'largest': 974,\n",
              " 'regional': 975,\n",
              " 'independent': 976,\n",
              " 'fear': 977,\n",
              " 'areas': 978,\n",
              " 'heard': 979,\n",
              " 'violent': 980,\n",
              " 'constitution': 981,\n",
              " 'discuss': 982,\n",
              " 'tv': 983,\n",
              " 'hand': 984,\n",
              " 'troops': 985,\n",
              " 'changes': 986,\n",
              " 'respond': 987,\n",
              " 'education': 988,\n",
              " 'currently': 989,\n",
              " 'criticized': 990,\n",
              " 'similar': 991,\n",
              " 'funds': 992,\n",
              " 'flag': 993,\n",
              " 'victims': 994,\n",
              " 'brexit': 995,\n",
              " 'build': 996,\n",
              " 'whole': 997,\n",
              " 'carolina': 998,\n",
              " 'crowd': 999,\n",
              " 'senators': 1000,\n",
              " ...}"
            ]
          },
          "metadata": {},
          "execution_count": 52
        }
      ]
    },
    {
      "cell_type": "code",
      "source": [
        "plt.hist([len(x) for x in X ], bins = 700 )\n",
        "plt.show()"
      ],
      "metadata": {
        "id": "ZOO2pbNrmJn3",
        "outputId": "44fc87ba-b0d8-454f-8640-2fbecb80daf3",
        "execution": {
          "iopub.status.busy": "2021-12-29T18:20:13.660443Z",
          "iopub.execute_input": "2021-12-29T18:20:13.660777Z",
          "iopub.status.idle": "2021-12-29T18:20:16.273582Z",
          "shell.execute_reply.started": "2021-12-29T18:20:13.660716Z",
          "shell.execute_reply": "2021-12-29T18:20:16.272684Z"
        },
        "trusted": true,
        "colab": {
          "base_uri": "https://localhost:8080/",
          "height": 265
        }
      },
      "execution_count": 53,
      "outputs": [
        {
          "output_type": "display_data",
          "data": {
            "image/png": "[encoded data removed]",
            "text/plain": [
              "<Figure size 432x288 with 1 Axes>"
            ]
          },
          "metadata": {
            "needs_background": "light"
          }
        }
      ]
    },
    {
      "cell_type": "code",
      "source": [
        "nos = np.array([len(x) for x in X])\n",
        "len(nos[nos>1000])"
      ],
      "metadata": {
        "id": "eE9eQ9iDmjAj",
        "outputId": "666da2ab-f811-4668-c7d3-68b5054343b4",
        "execution": {
          "iopub.status.busy": "2021-12-29T18:21:28.287754Z",
          "iopub.execute_input": "2021-12-29T18:21:28.288099Z",
          "iopub.status.idle": "2021-12-29T18:21:28.309783Z",
          "shell.execute_reply.started": "2021-12-29T18:21:28.288056Z",
          "shell.execute_reply": "2021-12-29T18:21:28.308739Z"
        },
        "trusted": true,
        "colab": {
          "base_uri": "https://localhost:8080/"
        }
      },
      "execution_count": 54,
      "outputs": [
        {
          "output_type": "execute_result",
          "data": {
            "text/plain": [
              "1584"
            ]
          },
          "metadata": {},
          "execution_count": 54
        }
      ]
    },
    {
      "cell_type": "code",
      "source": [
        "max_len = 1000\n",
        "X = pad_sequences(X, maxlen = max_len)"
      ],
      "metadata": {
        "id": "X7myCmL_nS3I",
        "execution": {
          "iopub.status.busy": "2021-12-29T18:21:29.897527Z",
          "iopub.execute_input": "2021-12-29T18:21:29.897864Z",
          "iopub.status.idle": "2021-12-29T18:21:33.596310Z",
          "shell.execute_reply.started": "2021-12-29T18:21:29.897832Z",
          "shell.execute_reply": "2021-12-29T18:21:33.595324Z"
        },
        "trusted": true
      },
      "execution_count": 55,
      "outputs": []
    },
    {
      "cell_type": "code",
      "source": [
        "vocab_size = len(tokenizer.word_index) + 1 # for unknown words"
      ],
      "metadata": {
        "id": "LRyWwvDBntS-",
        "execution": {
          "iopub.status.busy": "2021-12-29T18:21:40.656410Z",
          "iopub.execute_input": "2021-12-29T18:21:40.656714Z",
          "iopub.status.idle": "2021-12-29T18:21:40.661055Z",
          "shell.execute_reply.started": "2021-12-29T18:21:40.656684Z",
          "shell.execute_reply": "2021-12-29T18:21:40.660030Z"
        },
        "trusted": true
      },
      "execution_count": 56,
      "outputs": []
    },
    {
      "cell_type": "code",
      "source": [
        "vocab = tokenizer.word_index"
      ],
      "metadata": {
        "id": "Eat1i2nWoRVc",
        "execution": {
          "iopub.status.busy": "2021-12-29T18:21:42.122644Z",
          "iopub.execute_input": "2021-12-29T18:21:42.123349Z",
          "iopub.status.idle": "2021-12-29T18:21:42.129317Z",
          "shell.execute_reply.started": "2021-12-29T18:21:42.123313Z",
          "shell.execute_reply": "2021-12-29T18:21:42.127933Z"
        },
        "trusted": true
      },
      "execution_count": 57,
      "outputs": []
    },
    {
      "cell_type": "code",
      "source": [
        "def get_weight_matrix(model):\n",
        "    weight_matrix = np.zeros((vocab_size, DIM))\n",
        "\n",
        "    for word, i in vocab.items():\n",
        "        weight_matrix[i] = model.wv[word]\n",
        "\n",
        "    return weight_matrix"
      ],
      "metadata": {
        "id": "nKTE7fPnBwAc",
        "execution": {
          "iopub.status.busy": "2021-12-29T18:21:44.764109Z",
          "iopub.execute_input": "2021-12-29T18:21:44.765046Z",
          "iopub.status.idle": "2021-12-29T18:21:44.771176Z",
          "shell.execute_reply.started": "2021-12-29T18:21:44.765004Z",
          "shell.execute_reply": "2021-12-29T18:21:44.769822Z"
        },
        "trusted": true
      },
      "execution_count": 58,
      "outputs": []
    },
    {
      "cell_type": "code",
      "source": [
        "embedding_vectors = get_weight_matrix(w2v_model)"
      ],
      "metadata": {
        "id": "XIHve0L9CZko",
        "execution": {
          "iopub.status.busy": "2021-12-29T18:21:47.208829Z",
          "iopub.execute_input": "2021-12-29T18:21:47.209809Z",
          "iopub.status.idle": "2021-12-29T18:21:48.166126Z",
          "shell.execute_reply.started": "2021-12-29T18:21:47.209774Z",
          "shell.execute_reply": "2021-12-29T18:21:48.165042Z"
        },
        "trusted": true
      },
      "execution_count": 59,
      "outputs": []
    },
    {
      "cell_type": "code",
      "source": [
        "embedding_vectors.shape"
      ],
      "metadata": {
        "id": "fjYc0uEMC89_",
        "outputId": "ed68c333-8ea9-4cf8-9bcd-2cdc02514a6f",
        "execution": {
          "iopub.status.busy": "2021-12-29T18:21:50.112512Z",
          "iopub.execute_input": "2021-12-29T18:21:50.112839Z",
          "iopub.status.idle": "2021-12-29T18:21:50.122239Z",
          "shell.execute_reply.started": "2021-12-29T18:21:50.112801Z",
          "shell.execute_reply": "2021-12-29T18:21:50.120958Z"
        },
        "trusted": true,
        "colab": {
          "base_uri": "https://localhost:8080/"
        }
      },
      "execution_count": 60,
      "outputs": [
        {
          "output_type": "execute_result",
          "data": {
            "text/plain": [
              "(231912, 100)"
            ]
          },
          "metadata": {},
          "execution_count": 60
        }
      ]
    },
    {
      "cell_type": "code",
      "source": [
        "import tensorflow as tf\n",
        "from tensorflow.keras.layers import Embedding, LSTM, Dense, Bidirectional, Flatten, GlobalAveragePooling1D\n",
        "model = Sequential()\n",
        "model.add(Embedding(vocab_size, output_dim = DIM, weights = [embedding_vectors], input_length = max_len, trainable = True))\n",
        "model.add(tf.keras.layers.Conv1D(filters=32, kernel_size=8, activation='relu'))\n",
        "model.add(tf.keras.layers.MaxPooling1D(pool_size=2))\n",
        "model.add(Bidirectional(LSTM(32, return_sequences=True)))\n",
        "#model.add(Dropout(0.3))\n",
        "model.add(Flatten())\n",
        "model.add(Dense(32, activation=\"relu\"))\n",
        "#model.add(Dropout(0.3))\n",
        "model.add(Dense(1, activation=\"sigmoid\"))\n",
        "model.compile(optimizer = 'adam', loss = 'binary_crossentropy', metrics = ['acc'])"
      ],
      "metadata": {
        "execution": {
          "iopub.status.busy": "2021-12-29T18:22:36.805276Z",
          "iopub.execute_input": "2021-12-29T18:22:36.805563Z",
          "iopub.status.idle": "2021-12-29T18:22:40.302223Z",
          "shell.execute_reply.started": "2021-12-29T18:22:36.805532Z",
          "shell.execute_reply": "2021-12-29T18:22:40.301227Z"
        },
        "trusted": true,
        "id": "M7Q990OEwUQc"
      },
      "execution_count": 61,
      "outputs": []
    },
    {
      "cell_type": "code",
      "source": [
        "model.summary()"
      ],
      "metadata": {
        "execution": {
          "iopub.status.busy": "2021-12-29T18:23:44.733663Z",
          "iopub.execute_input": "2021-12-29T18:23:44.734429Z",
          "iopub.status.idle": "2021-12-29T18:23:44.748584Z",
          "shell.execute_reply.started": "2021-12-29T18:23:44.734371Z",
          "shell.execute_reply": "2021-12-29T18:23:44.744302Z"
        },
        "trusted": true,
        "colab": {
          "base_uri": "https://localhost:8080/"
        },
        "id": "1nBm541fwUQd",
        "outputId": "a91d4318-fac9-4509-938a-3ebcecb55b28"
      },
      "execution_count": 62,
      "outputs": [
        {
          "output_type": "stream",
          "name": "stdout",
          "text": [
            "Model: \"sequential_1\"\n",
            "_________________________________________________________________\n",
            " Layer (type)                Output Shape              Param #   \n",
            "=================================================================\n",
            " embedding_1 (Embedding)     (None, 1000, 100)         23191200  \n",
            "                                                                 \n",
            " conv1d_1 (Conv1D)           (None, 993, 32)           25632     \n",
            "                                                                 \n",
            " max_pooling1d_1 (MaxPooling  (None, 496, 32)          0         \n",
            " 1D)                                                             \n",
            "                                                                 \n",
            " bidirectional_1 (Bidirectio  (None, 496, 64)          16640     \n",
            " nal)                                                            \n",
            "                                                                 \n",
            " flatten_1 (Flatten)         (None, 31744)             0         \n",
            "                                                                 \n",
            " dense_2 (Dense)             (None, 32)                1015840   \n",
            "                                                                 \n",
            " dense_3 (Dense)             (None, 1)                 33        \n",
            "                                                                 \n",
            "=================================================================\n",
            "Total params: 24,249,345\n",
            "Trainable params: 24,249,345\n",
            "Non-trainable params: 0\n",
            "_________________________________________________________________\n"
          ]
        }
      ]
    },
    {
      "cell_type": "code",
      "source": [
        "X_train, X_test, y_train, y_test = train_test_split(X,data['class'], test_size=0.2, random_state=111)\n",
        "print(X_train.shape, y_train.shape, X_test.shape, y_test.shape)"
      ],
      "metadata": {
        "execution": {
          "iopub.status.busy": "2021-12-29T18:27:18.116707Z",
          "iopub.execute_input": "2021-12-29T18:27:18.117047Z",
          "iopub.status.idle": "2021-12-29T18:27:18.205131Z",
          "shell.execute_reply.started": "2021-12-29T18:27:18.117005Z",
          "shell.execute_reply": "2021-12-29T18:27:18.203911Z"
        },
        "trusted": true,
        "colab": {
          "base_uri": "https://localhost:8080/"
        },
        "id": "kctJ3z6VwUQd",
        "outputId": "a9358a98-204d-4717-acd6-c2510cebb1bd"
      },
      "execution_count": 63,
      "outputs": [
        {
          "output_type": "stream",
          "name": "stdout",
          "text": [
            "(35918, 1000) (35918,) (8980, 1000) (8980,)\n"
          ]
        }
      ]
    },
    {
      "cell_type": "code",
      "source": [
        "optimizer = tf.keras.optimizers.Adam(learning_rate = 0.0001)\n",
        "model.compile(loss = \"binary_crossentropy\",optimizer = optimizer,metrics = [\"accuracy\"])\n",
        "filepath = 'my_checkpoint.ckpt'\n",
        "cp = ModelCheckpoint(filepath=filepath,save_weights_only=True,save_best_only=True,monitor='val_accuracy',verbose=1)\n",
        "ep = EarlyStopping(monitor='val_accuracy', patience=7,)"
      ],
      "metadata": {
        "execution": {
          "iopub.status.busy": "2021-12-29T18:27:31.641257Z",
          "iopub.execute_input": "2021-12-29T18:27:31.641744Z",
          "iopub.status.idle": "2021-12-29T18:27:31.664962Z",
          "shell.execute_reply.started": "2021-12-29T18:27:31.641691Z",
          "shell.execute_reply": "2021-12-29T18:27:31.663580Z"
        },
        "trusted": true,
        "id": "rKLtJgRcwUQe"
      },
      "execution_count": 64,
      "outputs": []
    },
    {
      "cell_type": "code",
      "source": [
        "epochs=25\n",
        "history = model.fit(\n",
        "    X_train, y_train,\n",
        "    validation_split = 0.2,\n",
        "    callbacks=[cp,ep],\n",
        "    batch_size=128,\n",
        "    epochs=epochs\n",
        ")"
      ],
      "metadata": {
        "execution": {
          "iopub.status.busy": "2021-12-29T18:27:41.913623Z",
          "iopub.execute_input": "2021-12-29T18:27:41.914563Z",
          "iopub.status.idle": "2021-12-29T18:32:58.941577Z",
          "shell.execute_reply.started": "2021-12-29T18:27:41.914521Z",
          "shell.execute_reply": "2021-12-29T18:32:58.940488Z"
        },
        "trusted": true,
        "colab": {
          "base_uri": "https://localhost:8080/"
        },
        "id": "LfJ1q4iQwUQe",
        "outputId": "0345cba5-570a-4aa7-e59a-ad5d781eb80a"
      },
      "execution_count": 65,
      "outputs": [
        {
          "output_type": "stream",
          "name": "stdout",
          "text": [
            "Epoch 1/25\n",
            "225/225 [==============================] - ETA: 0s - loss: 0.2362 - accuracy: 0.9052\n",
            "Epoch 00001: val_accuracy improved from -inf to 0.95045, saving model to my_checkpoint.ckpt\n",
            "225/225 [==============================] - 49s 196ms/step - loss: 0.2362 - accuracy: 0.9052 - val_loss: 0.1418 - val_accuracy: 0.9504\n",
            "Epoch 2/25\n",
            "225/225 [==============================] - ETA: 0s - loss: 0.0981 - accuracy: 0.9653\n",
            "Epoch 00002: val_accuracy improved from 0.95045 to 0.96214, saving model to my_checkpoint.ckpt\n",
            "225/225 [==============================] - 42s 189ms/step - loss: 0.0981 - accuracy: 0.9653 - val_loss: 0.1085 - val_accuracy: 0.9621\n",
            "Epoch 3/25\n",
            "225/225 [==============================] - ETA: 0s - loss: 0.0607 - accuracy: 0.9790\n",
            "Epoch 00003: val_accuracy improved from 0.96214 to 0.97355, saving model to my_checkpoint.ckpt\n",
            "225/225 [==============================] - 42s 187ms/step - loss: 0.0607 - accuracy: 0.9790 - val_loss: 0.0791 - val_accuracy: 0.9736\n",
            "Epoch 4/25\n",
            "225/225 [==============================] - ETA: 0s - loss: 0.0404 - accuracy: 0.9863\n",
            "Epoch 00004: val_accuracy improved from 0.97355 to 0.97982, saving model to my_checkpoint.ckpt\n",
            "225/225 [==============================] - 42s 189ms/step - loss: 0.0404 - accuracy: 0.9863 - val_loss: 0.0680 - val_accuracy: 0.9798\n",
            "Epoch 5/25\n",
            "225/225 [==============================] - ETA: 0s - loss: 0.0264 - accuracy: 0.9917\n",
            "Epoch 00005: val_accuracy improved from 0.97982 to 0.98037, saving model to my_checkpoint.ckpt\n",
            "225/225 [==============================] - 42s 188ms/step - loss: 0.0264 - accuracy: 0.9917 - val_loss: 0.0649 - val_accuracy: 0.9804\n",
            "Epoch 6/25\n",
            "225/225 [==============================] - ETA: 0s - loss: 0.0175 - accuracy: 0.9948\n",
            "Epoch 00006: val_accuracy improved from 0.98037 to 0.98149, saving model to my_checkpoint.ckpt\n",
            "225/225 [==============================] - 43s 189ms/step - loss: 0.0175 - accuracy: 0.9948 - val_loss: 0.0636 - val_accuracy: 0.9815\n",
            "Epoch 7/25\n",
            "225/225 [==============================] - ETA: 0s - loss: 0.0113 - accuracy: 0.9972\n",
            "Epoch 00007: val_accuracy improved from 0.98149 to 0.98316, saving model to my_checkpoint.ckpt\n",
            "225/225 [==============================] - 42s 188ms/step - loss: 0.0113 - accuracy: 0.9972 - val_loss: 0.0607 - val_accuracy: 0.9832\n",
            "Epoch 8/25\n",
            "225/225 [==============================] - ETA: 0s - loss: 0.0069 - accuracy: 0.9986\n",
            "Epoch 00008: val_accuracy did not improve from 0.98316\n",
            "225/225 [==============================] - 42s 185ms/step - loss: 0.0069 - accuracy: 0.9986 - val_loss: 0.0689 - val_accuracy: 0.9825\n",
            "Epoch 9/25\n",
            "225/225 [==============================] - ETA: 0s - loss: 0.0051 - accuracy: 0.9990\n",
            "Epoch 00009: val_accuracy improved from 0.98316 to 0.98511, saving model to my_checkpoint.ckpt\n",
            "225/225 [==============================] - 42s 189ms/step - loss: 0.0051 - accuracy: 0.9990 - val_loss: 0.0664 - val_accuracy: 0.9851\n",
            "Epoch 10/25\n",
            "225/225 [==============================] - ETA: 0s - loss: 0.0037 - accuracy: 0.9995\n",
            "Epoch 00010: val_accuracy did not improve from 0.98511\n",
            "225/225 [==============================] - 42s 185ms/step - loss: 0.0037 - accuracy: 0.9995 - val_loss: 0.0693 - val_accuracy: 0.9847\n",
            "Epoch 11/25\n",
            "225/225 [==============================] - ETA: 0s - loss: 0.0018 - accuracy: 0.9999\n",
            "Epoch 00011: val_accuracy did not improve from 0.98511\n",
            "225/225 [==============================] - 42s 185ms/step - loss: 0.0018 - accuracy: 0.9999 - val_loss: 0.0751 - val_accuracy: 0.9829\n",
            "Epoch 12/25\n",
            "225/225 [==============================] - ETA: 0s - loss: 0.0062 - accuracy: 0.9978\n",
            "Epoch 00012: val_accuracy did not improve from 0.98511\n",
            "225/225 [==============================] - 42s 185ms/step - loss: 0.0062 - accuracy: 0.9978 - val_loss: 0.0762 - val_accuracy: 0.9836\n",
            "Epoch 13/25\n",
            "225/225 [==============================] - ETA: 0s - loss: 0.0016 - accuracy: 0.9999\n",
            "Epoch 00013: val_accuracy did not improve from 0.98511\n",
            "225/225 [==============================] - 41s 184ms/step - loss: 0.0016 - accuracy: 0.9999 - val_loss: 0.0749 - val_accuracy: 0.9847\n",
            "Epoch 14/25\n",
            "225/225 [==============================] - ETA: 0s - loss: 7.7614e-04 - accuracy: 1.0000\n",
            "Epoch 00014: val_accuracy improved from 0.98511 to 0.98524, saving model to my_checkpoint.ckpt\n",
            "225/225 [==============================] - 42s 188ms/step - loss: 7.7614e-04 - accuracy: 1.0000 - val_loss: 0.0749 - val_accuracy: 0.9852\n",
            "Epoch 15/25\n",
            "225/225 [==============================] - ETA: 0s - loss: 5.8690e-04 - accuracy: 1.0000\n",
            "Epoch 00015: val_accuracy did not improve from 0.98524\n",
            "225/225 [==============================] - 42s 185ms/step - loss: 5.8690e-04 - accuracy: 1.0000 - val_loss: 0.0769 - val_accuracy: 0.9851\n",
            "Epoch 16/25\n",
            "225/225 [==============================] - ETA: 0s - loss: 4.7539e-04 - accuracy: 1.0000\n",
            "Epoch 00016: val_accuracy did not improve from 0.98524\n",
            "225/225 [==============================] - 41s 184ms/step - loss: 4.7539e-04 - accuracy: 1.0000 - val_loss: 0.0903 - val_accuracy: 0.9834\n",
            "Epoch 17/25\n",
            "225/225 [==============================] - ETA: 0s - loss: 4.0067e-04 - accuracy: 1.0000\n",
            "Epoch 00017: val_accuracy did not improve from 0.98524\n",
            "225/225 [==============================] - 42s 185ms/step - loss: 4.0067e-04 - accuracy: 1.0000 - val_loss: 0.0853 - val_accuracy: 0.9850\n",
            "Epoch 18/25\n",
            "225/225 [==============================] - ETA: 0s - loss: 3.3762e-04 - accuracy: 1.0000\n",
            "Epoch 00018: val_accuracy did not improve from 0.98524\n",
            "225/225 [==============================] - 42s 185ms/step - loss: 3.3762e-04 - accuracy: 1.0000 - val_loss: 0.0910 - val_accuracy: 0.9850\n",
            "Epoch 19/25\n",
            "225/225 [==============================] - ETA: 0s - loss: 2.9513e-04 - accuracy: 1.0000\n",
            "Epoch 00019: val_accuracy did not improve from 0.98524\n",
            "225/225 [==============================] - 42s 185ms/step - loss: 2.9513e-04 - accuracy: 1.0000 - val_loss: 0.0886 - val_accuracy: 0.9851\n",
            "Epoch 20/25\n",
            "225/225 [==============================] - ETA: 0s - loss: 2.5637e-04 - accuracy: 1.0000\n",
            "Epoch 00020: val_accuracy did not improve from 0.98524\n",
            "225/225 [==============================] - 42s 186ms/step - loss: 2.5637e-04 - accuracy: 1.0000 - val_loss: 0.0936 - val_accuracy: 0.9848\n",
            "Epoch 21/25\n",
            "225/225 [==============================] - ETA: 0s - loss: 2.2067e-04 - accuracy: 1.0000\n",
            "Epoch 00021: val_accuracy did not improve from 0.98524\n",
            "225/225 [==============================] - 42s 185ms/step - loss: 2.2067e-04 - accuracy: 1.0000 - val_loss: 0.0933 - val_accuracy: 0.9850\n"
          ]
        }
      ]
    },
    {
      "cell_type": "code",
      "source": [
        "model.evaluate(X_test, y_test)"
      ],
      "metadata": {
        "execution": {
          "iopub.status.busy": "2021-12-29T18:32:58.943719Z",
          "iopub.execute_input": "2021-12-29T18:32:58.943991Z",
          "iopub.status.idle": "2021-12-29T18:33:18.288868Z",
          "shell.execute_reply.started": "2021-12-29T18:32:58.943959Z",
          "shell.execute_reply": "2021-12-29T18:33:18.287643Z"
        },
        "trusted": true,
        "colab": {
          "base_uri": "https://localhost:8080/"
        },
        "id": "8lUV1pQCwUQi",
        "outputId": "3a6df977-8d92-40ec-cb21-d7a8d3b973d9"
      },
      "execution_count": 66,
      "outputs": [
        {
          "output_type": "stream",
          "name": "stdout",
          "text": [
            "281/281 [==============================] - 17s 62ms/step - loss: 0.0627 - accuracy: 0.9886\n"
          ]
        },
        {
          "output_type": "execute_result",
          "data": {
            "text/plain": [
              "[0.06270843744277954, 0.9886414408683777]"
            ]
          },
          "metadata": {},
          "execution_count": 66
        }
      ]
    },
    {
      "cell_type": "code",
      "source": [
        "predictions = (model.predict(X_test) > 0.5).astype(\"int32\")\n",
        "accuracy = accuracy_score(y_test, predictions)\n",
        "print(\"Testing Accuracy: \", accuracy)"
      ],
      "metadata": {
        "execution": {
          "iopub.status.busy": "2021-12-29T18:33:18.290372Z",
          "iopub.execute_input": "2021-12-29T18:33:18.290805Z",
          "iopub.status.idle": "2021-12-29T18:33:23.302190Z",
          "shell.execute_reply.started": "2021-12-29T18:33:18.290740Z",
          "shell.execute_reply": "2021-12-29T18:33:23.301049Z"
        },
        "trusted": true,
        "colab": {
          "base_uri": "https://localhost:8080/"
        },
        "id": "Y62USoKHwUQj",
        "outputId": "8bc2a701-0a1b-4da3-d9ed-44139d6311e9"
      },
      "execution_count": 67,
      "outputs": [
        {
          "output_type": "stream",
          "name": "stdout",
          "text": [
            "Testing Accuracy:  0.988641425389755\n"
          ]
        }
      ]
    },
    {
      "cell_type": "code",
      "source": [
        "\n",
        "print('Confusion Matrix')\n",
        "cm = confusion_matrix(y_test, predictions)\n",
        "print(sns.heatmap(confusion_matrix(y_test, predictions),annot=True,fmt=\"d\"))\n",
        "print(classification_report(y_test, predictions, digits=5))"
      ],
      "metadata": {
        "execution": {
          "iopub.status.busy": "2021-12-29T18:34:27.538411Z",
          "iopub.execute_input": "2021-12-29T18:34:27.538822Z",
          "iopub.status.idle": "2021-12-29T18:34:27.842600Z",
          "shell.execute_reply.started": "2021-12-29T18:34:27.538754Z",
          "shell.execute_reply": "2021-12-29T18:34:27.841654Z"
        },
        "trusted": true,
        "colab": {
          "base_uri": "https://localhost:8080/",
          "height": 466
        },
        "id": "7js72alawUQj",
        "outputId": "3d8a7131-e8bf-49a5-aa91-f333faf473b9"
      },
      "execution_count": 68,
      "outputs": [
        {
          "output_type": "stream",
          "name": "stdout",
          "text": [
            "Confusion Matrix\n",
            "AxesSubplot(0.125,0.125;0.62x0.755)\n",
            "              precision    recall  f1-score   support\n",
            "\n",
            "           0    0.98926   0.98883   0.98904      4656\n",
            "           1    0.98798   0.98844   0.98821      4324\n",
            "\n",
            "    accuracy                        0.98864      8980\n",
            "   macro avg    0.98862   0.98863   0.98863      8980\n",
            "weighted avg    0.98864   0.98864   0.98864      8980\n",
            "\n"
          ]
        },
        {
          "output_type": "display_data",
          "data": {
            "image/png": "[encoded data removed]",
            "text/plain": [
              "<Figure size 432x288 with 2 Axes>"
            ]
          },
          "metadata": {
            "needs_background": "light"
          }
        }
      ]
    },
    {
      "cell_type": "markdown",
      "source": [
        "# Glove Exploration"
      ],
      "metadata": {
        "id": "j-ev-4yOqi9H"
      }
    },
    {
      "cell_type": "code",
      "source": [
        "X_train, X_test, y_train, y_test = train_test_split(data['text'],data['class'], test_size=0.2, random_state=111)\n",
        "print(X_train.shape, y_train.shape, X_test.shape, y_test.shape)"
      ],
      "metadata": {
        "id": "qkFuyr7UIdJ6",
        "outputId": "31916bff-3891-4d67-b8a2-d0106f4e50e4",
        "execution": {
          "iopub.status.busy": "2021-12-29T18:47:57.722274Z",
          "iopub.execute_input": "2021-12-29T18:47:57.722566Z",
          "iopub.status.idle": "2021-12-29T18:47:57.798463Z",
          "shell.execute_reply.started": "2021-12-29T18:47:57.722537Z",
          "shell.execute_reply": "2021-12-29T18:47:57.797290Z"
        },
        "trusted": true,
        "colab": {
          "base_uri": "https://localhost:8080/"
        }
      },
      "execution_count": 69,
      "outputs": [
        {
          "output_type": "stream",
          "name": "stdout",
          "text": [
            "(35918,) (35918,) (8980,) (8980,)\n"
          ]
        }
      ]
    },
    {
      "cell_type": "code",
      "source": [
        "tokenizer = Tokenizer(num_words=5000)\n",
        "tokenizer.fit_on_texts(X_train)\n",
        "words_to_index = tokenizer.word_index"
      ],
      "metadata": {
        "id": "YD4qgFqgqzIX",
        "execution": {
          "iopub.status.busy": "2021-12-29T18:47:58.462911Z",
          "iopub.execute_input": "2021-12-29T18:47:58.463187Z",
          "iopub.status.idle": "2021-12-29T18:48:10.920172Z",
          "shell.execute_reply.started": "2021-12-29T18:47:58.463157Z",
          "shell.execute_reply": "2021-12-29T18:48:10.919279Z"
        },
        "trusted": true
      },
      "execution_count": 70,
      "outputs": []
    },
    {
      "cell_type": "code",
      "source": [
        "def read_glove_vector(glove_vec):\n",
        "  with open(glove_vec, 'r', encoding='UTF-8') as f:\n",
        "    words = set()\n",
        "    word_to_vec_map = {}\n",
        "    for line in f:\n",
        "      w_line = line.split()\n",
        "      curr_word = w_line[0]\n",
        "      word_to_vec_map[curr_word] = np.array(w_line[1:], dtype=np.float64)\n",
        "\n",
        "  return word_to_vec_map"
      ],
      "metadata": {
        "id": "PsVFPsFIq2Ow",
        "execution": {
          "iopub.status.busy": "2021-12-29T18:48:10.921879Z",
          "iopub.execute_input": "2021-12-29T18:48:10.922164Z",
          "iopub.status.idle": "2021-12-29T18:48:10.929732Z",
          "shell.execute_reply.started": "2021-12-29T18:48:10.922095Z",
          "shell.execute_reply": "2021-12-29T18:48:10.928800Z"
        },
        "trusted": true
      },
      "execution_count": 71,
      "outputs": []
    },
    {
      "cell_type": "code",
      "source": [
        "word_to_vec_map = read_glove_vector('../input/glove6b100dtxt/glove.6B.100d.txt')\n",
        "maxLen = 120"
      ],
      "metadata": {
        "id": "ISK-28gTq4ww",
        "execution": {
          "iopub.status.busy": "2021-12-29T18:50:26.972723Z",
          "iopub.execute_input": "2021-12-29T18:50:26.973060Z",
          "iopub.status.idle": "2021-12-29T18:50:45.527637Z",
          "shell.execute_reply.started": "2021-12-29T18:50:26.973027Z",
          "shell.execute_reply": "2021-12-29T18:50:45.526647Z"
        },
        "trusted": true
      },
      "execution_count": null,
      "outputs": []
    },
    {
      "cell_type": "code",
      "source": [
        "vocab_len = len(words_to_index) + 1\n",
        "embed_vector_len = word_to_vec_map['moon'].shape[0]\n",
        "\n",
        "emb_matrix = np.zeros((vocab_len, embed_vector_len))\n",
        "\n",
        "for word, index in words_to_index.items():\n",
        "  embedding_vector = word_to_vec_map.get(word)\n",
        "  if embedding_vector is not None:\n",
        "    emb_matrix[index, :] = embedding_vector\n",
        "\n",
        "#embedding_layer = Embedding(input_dim=vocab_len, output_dim=embed_vector_len, input_length=maxLen, weights = [emb_matrix], trainable=False)\n"
      ],
      "metadata": {
        "id": "-F_679s4q8EY",
        "execution": {
          "iopub.status.busy": "2021-12-29T18:50:52.020623Z",
          "iopub.execute_input": "2021-12-29T18:50:52.021246Z",
          "iopub.status.idle": "2021-12-29T18:50:52.339306Z",
          "shell.execute_reply.started": "2021-12-29T18:50:52.021194Z",
          "shell.execute_reply": "2021-12-29T18:50:52.338149Z"
        },
        "trusted": true
      },
      "execution_count": null,
      "outputs": []
    },
    {
      "cell_type": "code",
      "source": [
        "X_train_padded = tokenizer.texts_to_sequences(X_train)\n",
        "X_train_padded = pad_sequences(X_train_padded, maxlen=maxLen, padding='post')\n",
        "X_test_padded = tokenizer.texts_to_sequences(X_test)\n",
        "X_test_padded = pad_sequences(X_test_padded, maxlen=maxLen, padding='post')"
      ],
      "metadata": {
        "id": "lEcZBxoBrLnk",
        "execution": {
          "iopub.status.busy": "2021-12-29T18:50:54.847890Z",
          "iopub.execute_input": "2021-12-29T18:50:54.848825Z",
          "iopub.status.idle": "2021-12-29T18:51:07.218692Z",
          "shell.execute_reply.started": "2021-12-29T18:50:54.848771Z",
          "shell.execute_reply": "2021-12-29T18:51:07.217666Z"
        },
        "trusted": true
      },
      "execution_count": null,
      "outputs": []
    },
    {
      "cell_type": "code",
      "source": [
        "model = Sequential()\n",
        "# define CNN model\n",
        "#model.add(Embedding(vocab_size, embedding_dim, input_length=max_length))\n",
        "model.add(Embedding(input_dim=vocab_len, output_dim=embed_vector_len, input_length=120, weights = [emb_matrix], trainable=True))\n",
        "model.add(tf.keras.layers.Conv1D(filters=32, kernel_size=8, activation='relu'))\n",
        "model.add(tf.keras.layers.MaxPooling1D(pool_size=2))\n",
        "# define LSTM model\n",
        "#model.add(Bidirectional(GRU(32, return_sequences=True)))\n",
        "model.add(LSTM(32, return_sequences=True))\n",
        "model.add(Dropout(0.3))\n",
        "model.add(Flatten())\n",
        "model.add(Dense(32, activation=\"relu\"))\n",
        "model.add(Dropout(0.3))\n",
        "model.add(Dense(1, activation=\"sigmoid\"))"
      ],
      "metadata": {
        "id": "eON10aHUrOnN",
        "execution": {
          "iopub.status.busy": "2021-12-29T18:51:19.002642Z",
          "iopub.execute_input": "2021-12-29T18:51:19.003011Z",
          "iopub.status.idle": "2021-12-29T18:51:19.468860Z",
          "shell.execute_reply.started": "2021-12-29T18:51:19.002979Z",
          "shell.execute_reply": "2021-12-29T18:51:19.467896Z"
        },
        "trusted": true
      },
      "execution_count": null,
      "outputs": []
    },
    {
      "cell_type": "code",
      "source": [
        "optimizer = tf.keras.optimizers.Adam(learning_rate = 0.0001)\n",
        "model.compile(loss = \"binary_crossentropy\",optimizer = optimizer,metrics = [\"accuracy\"])\n",
        "filepath = 'my_checkpoint.ckpt'\n",
        "cp = ModelCheckpoint(filepath=filepath,save_weights_only=True,save_best_only=True,monitor='val_accuracy',verbose=1)\n",
        "ep = EarlyStopping(monitor='val_accuracy', patience=7)"
      ],
      "metadata": {
        "execution": {
          "iopub.status.busy": "2021-12-29T18:56:56.895531Z",
          "iopub.execute_input": "2021-12-29T18:56:56.895862Z",
          "iopub.status.idle": "2021-12-29T18:56:56.911350Z",
          "shell.execute_reply.started": "2021-12-29T18:56:56.895831Z",
          "shell.execute_reply": "2021-12-29T18:56:56.910401Z"
        },
        "trusted": true,
        "id": "E9SqrMqXwUQs"
      },
      "execution_count": null,
      "outputs": []
    },
    {
      "cell_type": "code",
      "source": [
        "epochs=25\n",
        "history = model.fit(\n",
        "    X_train_padded, y_train,\n",
        "    validation_split = 0.2,\n",
        "    callbacks=[cp,ep],\n",
        "    batch_size=128,\n",
        "    epochs=epochs\n",
        ")"
      ],
      "metadata": {
        "execution": {
          "iopub.status.busy": "2021-12-29T18:57:09.671320Z",
          "iopub.execute_input": "2021-12-29T18:57:09.671852Z",
          "iopub.status.idle": "2021-12-29T18:59:33.978978Z",
          "shell.execute_reply.started": "2021-12-29T18:57:09.671804Z",
          "shell.execute_reply": "2021-12-29T18:59:33.977923Z"
        },
        "trusted": true,
        "id": "FIwSeGddwUQs",
        "outputId": "8d2d0a3b-992a-472c-e7cb-ab63fe30945b"
      },
      "execution_count": null,
      "outputs": [
        {
          "name": "stdout",
          "text": "Epoch 1/25\n225/225 [==============================] - 7s 20ms/step - loss: 0.4107 - accuracy: 0.8088 - val_loss: 0.2496 - val_accuracy: 0.9035\n\nEpoch 00001: val_accuracy improved from -inf to 0.90354, saving model to my_checkpoint.ckpt\nEpoch 2/25\n225/225 [==============================] - 3s 15ms/step - loss: 0.2337 - accuracy: 0.9107 - val_loss: 0.2086 - val_accuracy: 0.9182\n\nEpoch 00002: val_accuracy improved from 0.90354 to 0.91815, saving model to my_checkpoint.ckpt\nEpoch 3/25\n225/225 [==============================] - 4s 16ms/step - loss: 0.1981 - accuracy: 0.9250 - val_loss: 0.1887 - val_accuracy: 0.9266\n\nEpoch 00003: val_accuracy improved from 0.91815 to 0.92664, saving model to my_checkpoint.ckpt\nEpoch 4/25\n225/225 [==============================] - 3s 15ms/step - loss: 0.1737 - accuracy: 0.9346 - val_loss: 0.1807 - val_accuracy: 0.9304\n\nEpoch 00004: val_accuracy improved from 0.92664 to 0.93040, saving model to my_checkpoint.ckpt\nEpoch 5/25\n225/225 [==============================] - 3s 15ms/step - loss: 0.1625 - accuracy: 0.9404 - val_loss: 0.1636 - val_accuracy: 0.9376\n\nEpoch 00005: val_accuracy improved from 0.93040 to 0.93764, saving model to my_checkpoint.ckpt\nEpoch 6/25\n225/225 [==============================] - 4s 16ms/step - loss: 0.1372 - accuracy: 0.9500 - val_loss: 0.1541 - val_accuracy: 0.9415\n\nEpoch 00006: val_accuracy improved from 0.93764 to 0.94154, saving model to my_checkpoint.ckpt\nEpoch 7/25\n225/225 [==============================] - 4s 16ms/step - loss: 0.1208 - accuracy: 0.9569 - val_loss: 0.1520 - val_accuracy: 0.9436\n\nEpoch 00007: val_accuracy improved from 0.94154 to 0.94362, saving model to my_checkpoint.ckpt\nEpoch 8/25\n225/225 [==============================] - 4s 16ms/step - loss: 0.1158 - accuracy: 0.9583 - val_loss: 0.1405 - val_accuracy: 0.9489\n\nEpoch 00008: val_accuracy improved from 0.94362 to 0.94891, saving model to my_checkpoint.ckpt\nEpoch 9/25\n225/225 [==============================] - 3s 15ms/step - loss: 0.1038 - accuracy: 0.9637 - val_loss: 0.1638 - val_accuracy: 0.9403\n\nEpoch 00009: val_accuracy did not improve from 0.94891\nEpoch 10/25\n225/225 [==============================] - 3s 15ms/step - loss: 0.0905 - accuracy: 0.9681 - val_loss: 0.1317 - val_accuracy: 0.9543\n\nEpoch 00010: val_accuracy improved from 0.94891 to 0.95434, saving model to my_checkpoint.ckpt\nEpoch 11/25\n225/225 [==============================] - 4s 16ms/step - loss: 0.0774 - accuracy: 0.9749 - val_loss: 0.1308 - val_accuracy: 0.9557\n\nEpoch 00011: val_accuracy improved from 0.95434 to 0.95573, saving model to my_checkpoint.ckpt\nEpoch 12/25\n225/225 [==============================] - 3s 15ms/step - loss: 0.0721 - accuracy: 0.9756 - val_loss: 0.1647 - val_accuracy: 0.9453\n\nEpoch 00012: val_accuracy did not improve from 0.95573\nEpoch 13/25\n225/225 [==============================] - 3s 15ms/step - loss: 0.0669 - accuracy: 0.9776 - val_loss: 0.1199 - val_accuracy: 0.9585\n\nEpoch 00013: val_accuracy improved from 0.95573 to 0.95852, saving model to my_checkpoint.ckpt\nEpoch 14/25\n225/225 [==============================] - 4s 17ms/step - loss: 0.0595 - accuracy: 0.9810 - val_loss: 0.1440 - val_accuracy: 0.9542\n\nEpoch 00014: val_accuracy did not improve from 0.95852\nEpoch 15/25\n225/225 [==============================] - 4s 16ms/step - loss: 0.0524 - accuracy: 0.9834 - val_loss: 0.1415 - val_accuracy: 0.9545\n\nEpoch 00015: val_accuracy did not improve from 0.95852\nEpoch 16/25\n225/225 [==============================] - 4s 16ms/step - loss: 0.0489 - accuracy: 0.9841 - val_loss: 0.1513 - val_accuracy: 0.9525\n\nEpoch 00016: val_accuracy did not improve from 0.95852\nEpoch 17/25\n225/225 [==============================] - 4s 16ms/step - loss: 0.0412 - accuracy: 0.9871 - val_loss: 0.1305 - val_accuracy: 0.9607\n\nEpoch 00017: val_accuracy improved from 0.95852 to 0.96075, saving model to my_checkpoint.ckpt\nEpoch 18/25\n225/225 [==============================] - 3s 15ms/step - loss: 0.0338 - accuracy: 0.9896 - val_loss: 0.1426 - val_accuracy: 0.9599\n\nEpoch 00018: val_accuracy did not improve from 0.96075\nEpoch 19/25\n225/225 [==============================] - 3s 15ms/step - loss: 0.0311 - accuracy: 0.9908 - val_loss: 0.1394 - val_accuracy: 0.9606\n\nEpoch 00019: val_accuracy did not improve from 0.96075\nEpoch 20/25\n225/225 [==============================] - 4s 16ms/step - loss: 0.0325 - accuracy: 0.9899 - val_loss: 0.1346 - val_accuracy: 0.9637\n\nEpoch 00020: val_accuracy improved from 0.96075 to 0.96367, saving model to my_checkpoint.ckpt\nEpoch 21/25\n225/225 [==============================] - 3s 15ms/step - loss: 0.0240 - accuracy: 0.9931 - val_loss: 0.1758 - val_accuracy: 0.9580\n\nEpoch 00021: val_accuracy did not improve from 0.96367\nEpoch 22/25\n225/225 [==============================] - 3s 15ms/step - loss: 0.0197 - accuracy: 0.9948 - val_loss: 0.1542 - val_accuracy: 0.9616\n\nEpoch 00022: val_accuracy did not improve from 0.96367\nEpoch 23/25\n225/225 [==============================] - 4s 16ms/step - loss: 0.0162 - accuracy: 0.9956 - val_loss: 0.1498 - val_accuracy: 0.9644\n\nEpoch 00023: val_accuracy improved from 0.96367 to 0.96437, saving model to my_checkpoint.ckpt\nEpoch 24/25\n225/225 [==============================] - 4s 16ms/step - loss: 0.0168 - accuracy: 0.9951 - val_loss: 0.1446 - val_accuracy: 0.9635\n\nEpoch 00024: val_accuracy did not improve from 0.96437\nEpoch 25/25\n225/225 [==============================] - 4s 16ms/step - loss: 0.0151 - accuracy: 0.9955 - val_loss: 0.1553 - val_accuracy: 0.9649\n\nEpoch 00025: val_accuracy improved from 0.96437 to 0.96492, saving model to my_checkpoint.ckpt\n",
          "output_type": "stream"
        }
      ]
    },
    {
      "cell_type": "code",
      "source": [
        "model.evaluate(X_test_padded, y_test)"
      ],
      "metadata": {
        "execution": {
          "iopub.status.busy": "2021-12-29T18:59:33.981830Z",
          "iopub.execute_input": "2021-12-29T18:59:33.982250Z",
          "iopub.status.idle": "2021-12-29T18:59:35.313111Z",
          "shell.execute_reply.started": "2021-12-29T18:59:33.982201Z",
          "shell.execute_reply": "2021-12-29T18:59:35.312070Z"
        },
        "trusted": true,
        "id": "Jr_5KSq3wUQs",
        "outputId": "068131e9-3585-4204-c841-b7898f5ad659"
      },
      "execution_count": null,
      "outputs": [
        {
          "name": "stdout",
          "text": "281/281 [==============================] - 1s 4ms/step - loss: 0.1360 - accuracy: 0.9673\n",
          "output_type": "stream"
        },
        {
          "execution_count": 95,
          "output_type": "execute_result",
          "data": {
            "text/plain": "[0.1359717696905136, 0.9672605991363525]"
          },
          "metadata": {}
        }
      ]
    },
    {
      "cell_type": "code",
      "source": [
        "predictions = (model.predict(X_test_padded) > 0.5).astype(\"int32\")"
      ],
      "metadata": {
        "execution": {
          "iopub.status.busy": "2021-12-29T18:59:35.314702Z",
          "iopub.execute_input": "2021-12-29T18:59:35.315240Z",
          "iopub.status.idle": "2021-12-29T18:59:36.578501Z",
          "shell.execute_reply.started": "2021-12-29T18:59:35.315193Z",
          "shell.execute_reply": "2021-12-29T18:59:36.573902Z"
        },
        "trusted": true,
        "id": "WQ_QKleAwUQs"
      },
      "execution_count": null,
      "outputs": []
    },
    {
      "cell_type": "code",
      "source": [
        "accuracy = accuracy_score(y_test, predictions)\n",
        "print(\"Testing Accuracy: \", accuracy)"
      ],
      "metadata": {
        "execution": {
          "iopub.status.busy": "2021-12-29T18:59:36.596722Z",
          "iopub.execute_input": "2021-12-29T18:59:36.597401Z",
          "iopub.status.idle": "2021-12-29T18:59:36.618872Z",
          "shell.execute_reply.started": "2021-12-29T18:59:36.597352Z",
          "shell.execute_reply": "2021-12-29T18:59:36.617722Z"
        },
        "trusted": true,
        "id": "GuJLDkGuwUQt",
        "outputId": "427266cb-aa44-4856-dc9a-0a50e7e3a72d"
      },
      "execution_count": null,
      "outputs": [
        {
          "name": "stdout",
          "text": "Testing Accuracy:  0.967260579064588\n",
          "output_type": "stream"
        }
      ]
    },
    {
      "cell_type": "code",
      "source": [
        "print('Confusion Matrix')\n",
        "cm = confusion_matrix(y_test, predictions)\n",
        "print(sns.heatmap(confusion_matrix(y_test, predictions),annot=True,fmt=\"d\"))\n",
        "print(classification_report(y_test, predictions, digits=5))"
      ],
      "metadata": {
        "execution": {
          "iopub.status.busy": "2021-12-29T18:59:36.620576Z",
          "iopub.execute_input": "2021-12-29T18:59:36.620965Z",
          "iopub.status.idle": "2021-12-29T18:59:37.096809Z",
          "shell.execute_reply.started": "2021-12-29T18:59:36.620918Z",
          "shell.execute_reply": "2021-12-29T18:59:37.095828Z"
        },
        "trusted": true,
        "id": "ZbyYZDkowUQt",
        "outputId": "b1852573-8293-44ce-e945-61d4567ec2d4"
      },
      "execution_count": null,
      "outputs": [
        {
          "name": "stdout",
          "text": "Confusion Matrix\nAxesSubplot(0.125,0.125;0.62x0.755)\n              precision    recall  f1-score   support\n\n           0    0.97745   0.95898   0.96813      4656\n           1    0.95671   0.97618   0.96635      4324\n\n    accuracy                        0.96726      8980\n   macro avg    0.96708   0.96758   0.96724      8980\nweighted avg    0.96746   0.96726   0.96727      8980\n\n",
          "output_type": "stream"
        },
        {
          "output_type": "display_data",
          "data": {
            "text/plain": "<Figure size 432x288 with 2 Axes>",
            "image/png": "[encoded data removed]"
          },
          "metadata": {
            "needs_background": "light"
          }
        }
      ]
    },
    {
      "cell_type": "markdown",
      "source": [
        "# BERT Exploration"
      ],
      "metadata": {
        "id": "pvh37kmrclCp"
      }
    },
    {
      "cell_type": "code",
      "source": [
        "X_train, X_test, y_train, y_test = train_test_split(data['text'],data['class'], test_size=0.2, random_state=111)\n",
        "print(X_train.shape, y_train.shape, X_test.shape, y_test.shape)"
      ],
      "metadata": {
        "id": "qpJE6IFsea9U",
        "execution": {
          "iopub.status.busy": "2021-12-29T19:09:15.036828Z",
          "iopub.execute_input": "2021-12-29T19:09:15.037131Z",
          "iopub.status.idle": "2021-12-29T19:09:15.058817Z",
          "shell.execute_reply.started": "2021-12-29T19:09:15.037101Z",
          "shell.execute_reply": "2021-12-29T19:09:15.057695Z"
        },
        "trusted": true,
        "colab": {
          "base_uri": "https://localhost:8080/"
        },
        "outputId": "11b76b34-cefd-4ed0-c3fd-1df643b21534"
      },
      "execution_count": 72,
      "outputs": [
        {
          "output_type": "stream",
          "name": "stdout",
          "text": [
            "(35918,) (35918,) (8980,) (8980,)\n"
          ]
        }
      ]
    },
    {
      "cell_type": "code",
      "source": [
        "bert_abstract = \"\"\n",
        "for sent in X_train:\n",
        "    bert_abstract += sent +\" \"\n",
        "\n",
        "len(bert_abstract)"
      ],
      "metadata": {
        "id": "8NN1-BuAxLni",
        "execution": {
          "iopub.status.busy": "2021-12-29T19:09:16.560003Z",
          "iopub.execute_input": "2021-12-29T19:09:16.560981Z",
          "iopub.status.idle": "2021-12-29T19:09:17.074329Z",
          "shell.execute_reply.started": "2021-12-29T19:09:16.560929Z",
          "shell.execute_reply": "2021-12-29T19:09:17.073304Z"
        },
        "trusted": true,
        "colab": {
          "base_uri": "https://localhost:8080/"
        },
        "outputId": "0ea866f5-9a57-4696-ebcb-30058e45d7fc"
      },
      "execution_count": 73,
      "outputs": [
        {
          "output_type": "execute_result",
          "data": {
            "text/plain": [
              "88880413"
            ]
          },
          "metadata": {},
          "execution_count": 73
        }
      ]
    },
    {
      "cell_type": "code",
      "source": [
        "!pip install transformers -U"
      ],
      "metadata": {
        "id": "6CHzAdy41A4X",
        "outputId": "211b2427-80fe-4e24-a0dc-12312b024717",
        "execution": {
          "iopub.status.busy": "2021-12-29T19:09:18.398293Z",
          "iopub.execute_input": "2021-12-29T19:09:18.398608Z",
          "iopub.status.idle": "2021-12-29T19:09:28.195264Z",
          "shell.execute_reply.started": "2021-12-29T19:09:18.398576Z",
          "shell.execute_reply": "2021-12-29T19:09:28.194165Z"
        },
        "trusted": true,
        "colab": {
          "base_uri": "https://localhost:8080/"
        }
      },
      "execution_count": 74,
      "outputs": [
        {
          "output_type": "stream",
          "name": "stdout",
          "text": [
            "Collecting transformers\n",
            "  Downloading transformers-4.15.0-py3-none-any.whl (3.4 MB)\n",
            "\u001b[K     |████████████████████████████████| 3.4 MB 5.4 MB/s \n",
            "\u001b[?25hRequirement already satisfied: importlib-metadata in /usr/local/lib/python3.7/dist-packages (from transformers) (4.8.2)\n",
            "Collecting tokenizers<0.11,>=0.10.1\n",
            "  Downloading tokenizers-0.10.3-cp37-cp37m-manylinux_2_5_x86_64.manylinux1_x86_64.manylinux_2_12_x86_64.manylinux2010_x86_64.whl (3.3 MB)\n",
            "\u001b[K     |████████████████████████████████| 3.3 MB 24.8 MB/s \n",
            "\u001b[?25hCollecting huggingface-hub<1.0,>=0.1.0\n",
            "  Downloading huggingface_hub-0.2.1-py3-none-any.whl (61 kB)\n",
            "\u001b[K     |████████████████████████████████| 61 kB 451 kB/s \n",
            "\u001b[?25hCollecting pyyaml>=5.1\n",
            "  Downloading PyYAML-6.0-cp37-cp37m-manylinux_2_5_x86_64.manylinux1_x86_64.manylinux_2_12_x86_64.manylinux2010_x86_64.whl (596 kB)\n",
            "\u001b[K     |████████████████████████████████| 596 kB 45.3 MB/s \n",
            "\u001b[?25hRequirement already satisfied: packaging>=20.0 in /usr/local/lib/python3.7/dist-packages (from transformers) (21.3)\n",
            "Requirement already satisfied: tqdm>=4.27 in /usr/local/lib/python3.7/dist-packages (from transformers) (4.62.3)\n",
            "Requirement already satisfied: numpy>=1.17 in /usr/local/lib/python3.7/dist-packages (from transformers) (1.19.5)\n",
            "Requirement already satisfied: regex!=2019.12.17 in /usr/local/lib/python3.7/dist-packages (from transformers) (2019.12.20)\n",
            "Requirement already satisfied: requests in /usr/local/lib/python3.7/dist-packages (from transformers) (2.23.0)\n",
            "Collecting sacremoses\n",
            "  Downloading sacremoses-0.0.46-py3-none-any.whl (895 kB)\n",
            "\u001b[K     |████████████████████████████████| 895 kB 45.8 MB/s \n",
            "\u001b[?25hRequirement already satisfied: filelock in /usr/local/lib/python3.7/dist-packages (from transformers) (3.4.0)\n",
            "Requirement already satisfied: typing-extensions>=3.7.4.3 in /usr/local/lib/python3.7/dist-packages (from huggingface-hub<1.0,>=0.1.0->transformers) (3.10.0.2)\n",
            "Requirement already satisfied: pyparsing!=3.0.5,>=2.0.2 in /usr/local/lib/python3.7/dist-packages (from packaging>=20.0->transformers) (3.0.6)\n",
            "Requirement already satisfied: zipp>=0.5 in /usr/local/lib/python3.7/dist-packages (from importlib-metadata->transformers) (3.6.0)\n",
            "Requirement already satisfied: idna<3,>=2.5 in /usr/local/lib/python3.7/dist-packages (from requests->transformers) (2.10)\n",
            "Requirement already satisfied: certifi>=2017.4.17 in /usr/local/lib/python3.7/dist-packages (from requests->transformers) (2021.10.8)\n",
            "Requirement already satisfied: chardet<4,>=3.0.2 in /usr/local/lib/python3.7/dist-packages (from requests->transformers) (3.0.4)\n",
            "Requirement already satisfied: urllib3!=1.25.0,!=1.25.1,<1.26,>=1.21.1 in /usr/local/lib/python3.7/dist-packages (from requests->transformers) (1.24.3)\n",
            "Requirement already satisfied: joblib in /usr/local/lib/python3.7/dist-packages (from sacremoses->transformers) (1.1.0)\n",
            "Requirement already satisfied: click in /usr/local/lib/python3.7/dist-packages (from sacremoses->transformers) (7.1.2)\n",
            "Requirement already satisfied: six in /usr/local/lib/python3.7/dist-packages (from sacremoses->transformers) (1.15.0)\n",
            "Installing collected packages: pyyaml, tokenizers, sacremoses, huggingface-hub, transformers\n",
            "  Attempting uninstall: pyyaml\n",
            "    Found existing installation: PyYAML 3.13\n",
            "    Uninstalling PyYAML-3.13:\n",
            "      Successfully uninstalled PyYAML-3.13\n",
            "Successfully installed huggingface-hub-0.2.1 pyyaml-6.0 sacremoses-0.0.46 tokenizers-0.10.3 transformers-4.15.0\n"
          ]
        }
      ]
    },
    {
      "cell_type": "code",
      "source": [
        "import tensorflow as tf\n",
        "from transformers import BertTokenizer, TFBertModel\n",
        "\n",
        "tokenizer = BertTokenizer.from_pretrained('bert-base-uncased')\n",
        "model = TFBertModel.from_pretrained('bert-base-uncased')\n",
        "input_ids = tf.constant(tokenizer.encode(bert_abstract))[None, :6000]\n",
        "outputs = model(input_ids)\n",
        "last_hidden_states = outputs[0]"
      ],
      "metadata": {
        "id": "muAjniD1z30o",
        "outputId": "11933e04-ce20-4cac-f2ce-662126516c5b",
        "execution": {
          "iopub.status.busy": "2021-12-29T19:09:28.199683Z",
          "iopub.execute_input": "2021-12-29T19:09:28.199969Z",
          "iopub.status.idle": "2021-12-29T19:19:45.308994Z",
          "shell.execute_reply.started": "2021-12-29T19:09:28.199937Z",
          "shell.execute_reply": "2021-12-29T19:19:45.308011Z"
        },
        "trusted": true,
        "colab": {
          "base_uri": "https://localhost:8080/",
          "height": 288,
          "referenced_widgets": [
            "33287aa8dcff41e6aa1e5bb60db3d496",
            "2e0df0f763c94dd0b79814797354cce7",
            "b90e8d09ba2f4d6c846415ac91270176",
            "97229b1b245549dd87857ced87bc4cab",
            "152cd8e89ee449888abdb3fd26df06c7",
            "8023b765a93e4764829d9448d46803e8",
            "3c0c02ff0a19431f97f56753096d7cd3",
            "f19e5396e6c64b7cb8ab8ae3ab2abe46",
            "00514079fabe4cde822335fba0f338a1",
            "c2e9132d620e434ba4b9148569af7011",
            "8b1b086f593741cd9b2a590debce27b3",
            "2be11f39a730489eb52f7c44ed716d17",
            "80eb808dfc0e4e23a4f691bc89c8d7e6",
            "8188f9316be548cab7d0729b5cfc85f7",
            "e2a2608740cd47b6aafa82ff6bca3f46",
            "a89baf4e4cb04057aed7b0e04d172c73",
            "60c4da5105894685866fa8ca63d27477",
            "55fa4128efb24152855032278cecb769",
            "b0827e07047e45ce8e7a9d269ace1dc9",
            "e0e29338cd6844f9940489f39173c5df",
            "9c3421fde448457db6fee1b5b8160172",
            "a06fd73d5738465f99ff4b660cf2a69f",
            "27feacfd86f7445bb801814dc8f64fdf",
            "4d995839c6cb461e94c5bab5a1463806",
            "79fc2fd92a304910b94283c44b8e6454",
            "9a0d1f44bcda4a53a3e851a834a72679",
            "62f4c42f41064df4ad1fca1a094d8cb2",
            "57677aed2c7f4538b673d8b5e49f6a07",
            "2a5b1b040e1a42fe8c809eec3a162617",
            "78c3b2fe53404ec4aa68bd79cb53647b",
            "74ad70d1539048158afaccf54e52fd50",
            "067365b972424a2d979112293a068e4b",
            "a1e041b7b9f141a899f7e61a8222d098",
            "8711d1d87b764ef7aa85efa003e1d2fc",
            "06a46890d47049bab6fe17de46bc1d33",
            "0c022c24cd6e42e9bba20b570e54604a",
            "eb8a74ba5a5246f18e510a0115a74dcc",
            "adbc24e75e6e4e0fa9bfa16a9fad77ff",
            "41d74d74daa3406987c87ca8648cb45f",
            "378f9a0a9e04442297030225b0db1838",
            "583d8127c0f943b4a6559a75437aa6ef",
            "6d86d1b1c7b644c2b40ffd61b8cfd8ab",
            "4a15d52f835d460d89f0b8c2d2752158",
            "1dc98cfd024d418e9410610f18d84e40",
            "00ac556eab5149cfb690c2803ffbdb59",
            "16db3cccdebf4819b864ddb049786a28",
            "e54285c4b2b54d9aa70a5d9d63bcec06",
            "4c5204dc50664f6eb2f99d5db8a411ea",
            "361398002a8b4692a65a830c576e2643",
            "641c2a88762a426ca488367bdafd8c64",
            "73a21a6e3e3c414f9b0d8daba555de4b",
            "7d502e3fba64495eafad5e4c6cd99041",
            "235c4bd5f06b441e86776a8a1cd25a28",
            "98f7c37f627a45319effba199ac5a1d0",
            "37bf2fa0fb444d15a7394aa871f98544"
          ]
        }
      },
      "execution_count": null,
      "outputs": [
        {
          "data": {
            "application/vnd.jupyter.widget-view+json": {
              "model_id": "33287aa8dcff41e6aa1e5bb60db3d496",
              "version_major": 2,
              "version_minor": 0
            },
            "text/plain": [
              "Downloading:   0%|          | 0.00/226k [00:00<?, ?B/s]"
            ]
          },
          "metadata": {},
          "output_type": "display_data"
        },
        {
          "data": {
            "application/vnd.jupyter.widget-view+json": {
              "model_id": "2be11f39a730489eb52f7c44ed716d17",
              "version_major": 2,
              "version_minor": 0
            },
            "text/plain": [
              "Downloading:   0%|          | 0.00/28.0 [00:00<?, ?B/s]"
            ]
          },
          "metadata": {},
          "output_type": "display_data"
        },
        {
          "data": {
            "application/vnd.jupyter.widget-view+json": {
              "model_id": "27feacfd86f7445bb801814dc8f64fdf",
              "version_major": 2,
              "version_minor": 0
            },
            "text/plain": [
              "Downloading:   0%|          | 0.00/455k [00:00<?, ?B/s]"
            ]
          },
          "metadata": {},
          "output_type": "display_data"
        },
        {
          "data": {
            "application/vnd.jupyter.widget-view+json": {
              "model_id": "8711d1d87b764ef7aa85efa003e1d2fc",
              "version_major": 2,
              "version_minor": 0
            },
            "text/plain": [
              "Downloading:   0%|          | 0.00/570 [00:00<?, ?B/s]"
            ]
          },
          "metadata": {},
          "output_type": "display_data"
        },
        {
          "data": {
            "application/vnd.jupyter.widget-view+json": {
              "model_id": "00ac556eab5149cfb690c2803ffbdb59",
              "version_major": 2,
              "version_minor": 0
            },
            "text/plain": [
              "Downloading:   0%|          | 0.00/511M [00:00<?, ?B/s]"
            ]
          },
          "metadata": {},
          "output_type": "display_data"
        },
        {
          "metadata": {
            "tags": null
          },
          "name": "stderr",
          "output_type": "stream",
          "text": [
            "Some layers from the model checkpoint at bert-base-uncased were not used when initializing TFBertModel: ['nsp___cls', 'mlm___cls']\n",
            "- This IS expected if you are initializing TFBertModel from the checkpoint of a model trained on another task or with another architecture (e.g. initializing a BertForSequenceClassification model from a BertForPreTraining model).\n",
            "- This IS NOT expected if you are initializing TFBertModel from the checkpoint of a model that you expect to be exactly identical (initializing a BertForSequenceClassification model from a BertForSequenceClassification model).\n",
            "All the layers of TFBertModel were initialized from the model checkpoint at bert-base-uncased.\n",
            "If your task is similar to the task the model of the checkpoint was trained on, you can already use TFBertModel for predictions without further training.\n"
          ]
        }
      ]
    },
    {
      "cell_type": "code",
      "source": [
        "import numpy as np\n",
        "emb_matrix = np.array(last_hidden_states)\n",
        "emb_matrix = emb_matrix[0]\n",
        "print(emb_matrix.shape)"
      ],
      "metadata": {
        "id": "4KLz0Wii1Xx2",
        "execution": {
          "iopub.status.busy": "2021-12-29T19:20:15.861817Z",
          "iopub.execute_input": "2021-12-29T19:20:15.862369Z",
          "iopub.status.idle": "2021-12-29T19:20:15.877635Z",
          "shell.execute_reply.started": "2021-12-29T19:20:15.862333Z",
          "shell.execute_reply": "2021-12-29T19:20:15.876209Z"
        },
        "trusted": true,
        "outputId": "9417a3dc-a4d0-4ea2-a486-684d8daa3b62"
      },
      "execution_count": null,
      "outputs": [
        {
          "name": "stdout",
          "text": "(6000, 768)\n",
          "output_type": "stream"
        }
      ]
    },
    {
      "cell_type": "code",
      "source": [
        "tokenizer = Tokenizer(num_words=5000)\n",
        "tokenizer.fit_on_texts(X_train)\n",
        "words_to_index = tokenizer.word_index"
      ],
      "metadata": {
        "id": "QCWSbcsm1Xti",
        "execution": {
          "iopub.status.busy": "2021-12-29T19:20:43.217035Z",
          "iopub.execute_input": "2021-12-29T19:20:43.217362Z",
          "iopub.status.idle": "2021-12-29T19:20:55.768579Z",
          "shell.execute_reply.started": "2021-12-29T19:20:43.217331Z",
          "shell.execute_reply": "2021-12-29T19:20:55.767542Z"
        },
        "trusted": true
      },
      "execution_count": null,
      "outputs": []
    },
    {
      "cell_type": "code",
      "source": [
        "maxLen = 120\n",
        "X_train_padded = tokenizer.texts_to_sequences(X_train)\n",
        "X_train_padded = pad_sequences(X_train_padded, maxlen=maxLen, padding='post')\n",
        "X_test_padded = tokenizer.texts_to_sequences(X_test)\n",
        "X_test_padded = pad_sequences(X_test_padded, maxlen=maxLen, padding='post')"
      ],
      "metadata": {
        "id": "7Kv_XFdn1XfV",
        "execution": {
          "iopub.status.busy": "2021-12-29T19:20:55.770901Z",
          "iopub.execute_input": "2021-12-29T19:20:55.771226Z",
          "iopub.status.idle": "2021-12-29T19:21:09.136055Z",
          "shell.execute_reply.started": "2021-12-29T19:20:55.771182Z",
          "shell.execute_reply": "2021-12-29T19:21:09.134928Z"
        },
        "trusted": true
      },
      "execution_count": null,
      "outputs": []
    },
    {
      "cell_type": "code",
      "source": [
        "model = Sequential()\n",
        "# define CNN model\n",
        "#model.add(Embedding(vocab_size, embedding_dim, input_length=max_length))\n",
        "model.add(Embedding(input_dim=6000, output_dim=768, input_length=120, weights = [emb_matrix], trainable=True))\n",
        "model.add(tf.keras.layers.Conv1D(filters=32, kernel_size=8, activation='relu'))\n",
        "model.add(tf.keras.layers.MaxPooling1D(pool_size=2))\n",
        "model.add(Bidirectional(GRU(32, return_sequences=True)))\n",
        "#model.add(GRU(32, return_sequences=True))\n",
        "model.add(Dropout(0.3))\n",
        "model.add(Flatten())\n",
        "model.add(Dense(32, activation=\"relu\"))\n",
        "model.add(Dropout(0.3))\n",
        "model.add(Dense(1, activation=\"sigmoid\"))"
      ],
      "metadata": {
        "id": "rTJqtiRX_8a6",
        "execution": {
          "iopub.status.busy": "2021-12-29T19:21:09.138062Z",
          "iopub.execute_input": "2021-12-29T19:21:09.138528Z",
          "iopub.status.idle": "2021-12-29T19:21:09.740356Z",
          "shell.execute_reply.started": "2021-12-29T19:21:09.138479Z",
          "shell.execute_reply": "2021-12-29T19:21:09.739327Z"
        },
        "trusted": true
      },
      "execution_count": null,
      "outputs": []
    },
    {
      "cell_type": "code",
      "source": [
        "optimizer = tf.keras.optimizers.Adam(learning_rate = 0.0001)\n",
        "model.compile(loss = \"binary_crossentropy\",optimizer = optimizer,metrics = [\"accuracy\"])\n",
        "filepath = 'my_checkpoint.ckpt'\n",
        "cp = ModelCheckpoint(filepath=filepath,save_weights_only=True,save_best_only=True,monitor='val_accuracy',verbose=1)\n",
        "ep = EarlyStopping(monitor='val_accuracy', patience=7)"
      ],
      "metadata": {
        "id": "sUZHk6Ca7syD",
        "execution": {
          "iopub.status.busy": "2021-12-29T19:21:17.999668Z",
          "iopub.execute_input": "2021-12-29T19:21:18.000479Z",
          "iopub.status.idle": "2021-12-29T19:21:18.019335Z",
          "shell.execute_reply.started": "2021-12-29T19:21:18.000445Z",
          "shell.execute_reply": "2021-12-29T19:21:18.018358Z"
        },
        "trusted": true
      },
      "execution_count": null,
      "outputs": []
    },
    {
      "cell_type": "code",
      "source": [
        "epochs=25\n",
        "history = model.fit(\n",
        "    X_train_padded, y_train,\n",
        "    validation_split = 0.2,\n",
        "    callbacks=[cp,ep],\n",
        "    batch_size=128,\n",
        "    epochs=epochs\n",
        ")"
      ],
      "metadata": {
        "id": "mvRcrYVb7WhB",
        "outputId": "53a148c2-efcf-4fb2-df35-e8a67115001e",
        "execution": {
          "iopub.status.busy": "2021-12-29T19:21:34.137059Z",
          "iopub.execute_input": "2021-12-29T19:21:34.137407Z",
          "iopub.status.idle": "2021-12-29T19:24:00.254260Z",
          "shell.execute_reply.started": "2021-12-29T19:21:34.137376Z",
          "shell.execute_reply": "2021-12-29T19:24:00.253195Z"
        },
        "trusted": true
      },
      "execution_count": null,
      "outputs": [
        {
          "name": "stderr",
          "text": "2021-12-29 19:21:34.190607: I tensorflow/compiler/mlir/mlir_graph_optimization_pass.cc:185] None of the MLIR Optimization Passes are enabled (registered 2)\n",
          "output_type": "stream"
        },
        {
          "name": "stdout",
          "text": "Epoch 1/25\n",
          "output_type": "stream"
        },
        {
          "name": "stderr",
          "text": "2021-12-29 19:21:38.824731: I tensorflow/stream_executor/cuda/cuda_dnn.cc:369] Loaded cuDNN version 8005\n",
          "output_type": "stream"
        },
        {
          "name": "stdout",
          "text": "225/225 [==============================] - 12s 23ms/step - loss: 0.5799 - accuracy: 0.6737 - val_loss: 0.4681 - val_accuracy: 0.7561\n\nEpoch 00001: val_accuracy improved from -inf to 0.75612, saving model to my_checkpoint.ckpt\nEpoch 2/25\n225/225 [==============================] - 5s 20ms/step - loss: 0.2905 - accuracy: 0.8803 - val_loss: 0.1995 - val_accuracy: 0.9202\n\nEpoch 00002: val_accuracy improved from 0.75612 to 0.92024, saving model to my_checkpoint.ckpt\nEpoch 3/25\n225/225 [==============================] - 4s 19ms/step - loss: 0.1857 - accuracy: 0.9303 - val_loss: 0.1489 - val_accuracy: 0.9433\n\nEpoch 00003: val_accuracy improved from 0.92024 to 0.94335, saving model to my_checkpoint.ckpt\nEpoch 4/25\n225/225 [==============================] - 5s 20ms/step - loss: 0.1309 - accuracy: 0.9534 - val_loss: 0.1332 - val_accuracy: 0.9496\n\nEpoch 00004: val_accuracy improved from 0.94335 to 0.94961, saving model to my_checkpoint.ckpt\nEpoch 5/25\n225/225 [==============================] - 4s 19ms/step - loss: 0.1068 - accuracy: 0.9622 - val_loss: 0.1582 - val_accuracy: 0.9400\n\nEpoch 00005: val_accuracy did not improve from 0.94961\nEpoch 6/25\n225/225 [==============================] - 4s 19ms/step - loss: 0.0880 - accuracy: 0.9697 - val_loss: 0.0940 - val_accuracy: 0.9649\n\nEpoch 00006: val_accuracy improved from 0.94961 to 0.96492, saving model to my_checkpoint.ckpt\nEpoch 7/25\n225/225 [==============================] - 5s 22ms/step - loss: 0.0883 - accuracy: 0.9695 - val_loss: 0.1571 - val_accuracy: 0.9424\n\nEpoch 00007: val_accuracy did not improve from 0.96492\nEpoch 8/25\n225/225 [==============================] - 4s 19ms/step - loss: 0.0687 - accuracy: 0.9770 - val_loss: 0.0851 - val_accuracy: 0.9706\n\nEpoch 00008: val_accuracy improved from 0.96492 to 0.97063, saving model to my_checkpoint.ckpt\nEpoch 9/25\n225/225 [==============================] - 5s 20ms/step - loss: 0.0536 - accuracy: 0.9824 - val_loss: 0.0790 - val_accuracy: 0.9724\n\nEpoch 00009: val_accuracy improved from 0.97063 to 0.97244, saving model to my_checkpoint.ckpt\nEpoch 10/25\n225/225 [==============================] - 4s 19ms/step - loss: 0.0502 - accuracy: 0.9832 - val_loss: 0.0995 - val_accuracy: 0.9659\n\nEpoch 00010: val_accuracy did not improve from 0.97244\nEpoch 11/25\n225/225 [==============================] - 5s 20ms/step - loss: 0.0395 - accuracy: 0.9868 - val_loss: 0.1085 - val_accuracy: 0.9616\n\nEpoch 00011: val_accuracy did not improve from 0.97244\nEpoch 12/25\n225/225 [==============================] - 4s 19ms/step - loss: 0.0295 - accuracy: 0.9913 - val_loss: 0.0762 - val_accuracy: 0.9761\n\nEpoch 00012: val_accuracy improved from 0.97244 to 0.97606, saving model to my_checkpoint.ckpt\nEpoch 13/25\n225/225 [==============================] - 4s 19ms/step - loss: 0.0320 - accuracy: 0.9901 - val_loss: 0.0724 - val_accuracy: 0.9762\n\nEpoch 00013: val_accuracy improved from 0.97606 to 0.97620, saving model to my_checkpoint.ckpt\nEpoch 14/25\n225/225 [==============================] - 5s 22ms/step - loss: 0.0235 - accuracy: 0.9926 - val_loss: 0.2224 - val_accuracy: 0.9246\n\nEpoch 00014: val_accuracy did not improve from 0.97620\nEpoch 15/25\n225/225 [==============================] - 4s 19ms/step - loss: 0.0202 - accuracy: 0.9940 - val_loss: 0.0795 - val_accuracy: 0.9761\n\nEpoch 00015: val_accuracy did not improve from 0.97620\nEpoch 16/25\n225/225 [==============================] - 5s 20ms/step - loss: 0.0163 - accuracy: 0.9955 - val_loss: 0.0804 - val_accuracy: 0.9744\n\nEpoch 00016: val_accuracy did not improve from 0.97620\nEpoch 17/25\n225/225 [==============================] - 4s 19ms/step - loss: 0.0205 - accuracy: 0.9935 - val_loss: 0.1400 - val_accuracy: 0.9486\n\nEpoch 00017: val_accuracy did not improve from 0.97620\nEpoch 18/25\n225/225 [==============================] - 4s 19ms/step - loss: 0.0168 - accuracy: 0.9948 - val_loss: 0.0880 - val_accuracy: 0.9726\n\nEpoch 00018: val_accuracy did not improve from 0.97620\nEpoch 19/25\n225/225 [==============================] - 5s 20ms/step - loss: 0.0103 - accuracy: 0.9970 - val_loss: 0.1211 - val_accuracy: 0.9633\n\nEpoch 00019: val_accuracy did not improve from 0.97620\nEpoch 20/25\n225/225 [==============================] - 4s 19ms/step - loss: 0.0156 - accuracy: 0.9956 - val_loss: 0.0706 - val_accuracy: 0.9769\n\nEpoch 00020: val_accuracy improved from 0.97620 to 0.97689, saving model to my_checkpoint.ckpt\nEpoch 21/25\n225/225 [==============================] - 5s 23ms/step - loss: 0.0044 - accuracy: 0.9993 - val_loss: 0.0873 - val_accuracy: 0.9790\n\nEpoch 00021: val_accuracy improved from 0.97689 to 0.97898, saving model to my_checkpoint.ckpt\nEpoch 22/25\n225/225 [==============================] - 4s 19ms/step - loss: 0.0165 - accuracy: 0.9940 - val_loss: 0.0821 - val_accuracy: 0.9729\n\nEpoch 00022: val_accuracy did not improve from 0.97898\nEpoch 23/25\n225/225 [==============================] - 5s 20ms/step - loss: 0.0081 - accuracy: 0.9977 - val_loss: 0.1167 - val_accuracy: 0.9690\n\nEpoch 00023: val_accuracy did not improve from 0.97898\nEpoch 24/25\n225/225 [==============================] - 4s 19ms/step - loss: 0.0023 - accuracy: 0.9995 - val_loss: 0.0986 - val_accuracy: 0.9783\n\nEpoch 00024: val_accuracy did not improve from 0.97898\nEpoch 25/25\n225/225 [==============================] - 4s 19ms/step - loss: 0.0035 - accuracy: 0.9989 - val_loss: 0.0929 - val_accuracy: 0.9786\n\nEpoch 00025: val_accuracy did not improve from 0.97898\n",
          "output_type": "stream"
        }
      ]
    },
    {
      "cell_type": "code",
      "source": [
        "model.evaluate(X_test_padded, y_test)"
      ],
      "metadata": {
        "id": "5NPNEhWr1Xci",
        "execution": {
          "iopub.status.busy": "2021-12-29T19:24:00.256414Z",
          "iopub.execute_input": "2021-12-29T19:24:00.256810Z",
          "iopub.status.idle": "2021-12-29T19:24:01.882794Z",
          "shell.execute_reply.started": "2021-12-29T19:24:00.256744Z",
          "shell.execute_reply": "2021-12-29T19:24:01.881688Z"
        },
        "trusted": true,
        "outputId": "67276137-563e-4486-c3cb-2345f9f562be"
      },
      "execution_count": null,
      "outputs": [
        {
          "name": "stdout",
          "text": "281/281 [==============================] - 2s 6ms/step - loss: 0.0808 - accuracy: 0.9802\n",
          "output_type": "stream"
        },
        {
          "execution_count": 35,
          "output_type": "execute_result",
          "data": {
            "text/plain": "[0.08076272904872894, 0.98017817735672]"
          },
          "metadata": {}
        }
      ]
    },
    {
      "cell_type": "code",
      "source": [
        "predictions = (model.predict(X_test_padded) > 0.5).astype(\"int32\")"
      ],
      "metadata": {
        "id": "fi-xFDdg1XaH",
        "execution": {
          "iopub.status.busy": "2021-12-29T19:24:01.886155Z",
          "iopub.execute_input": "2021-12-29T19:24:01.886398Z",
          "iopub.status.idle": "2021-12-29T19:24:03.697141Z",
          "shell.execute_reply.started": "2021-12-29T19:24:01.886367Z",
          "shell.execute_reply": "2021-12-29T19:24:03.696123Z"
        },
        "trusted": true
      },
      "execution_count": null,
      "outputs": []
    },
    {
      "cell_type": "code",
      "source": [
        "print('Confusion Matrix')\n",
        "cm = confusion_matrix(y_test, predictions)\n",
        "print(sns.heatmap(confusion_matrix(y_test, predictions),annot=True,fmt=\"d\"))\n",
        "print(classification_report(y_test, predictions, digits=5))"
      ],
      "metadata": {
        "execution": {
          "iopub.status.busy": "2021-12-29T19:24:45.117934Z",
          "iopub.execute_input": "2021-12-29T19:24:45.118250Z",
          "iopub.status.idle": "2021-12-29T19:24:45.476709Z",
          "shell.execute_reply.started": "2021-12-29T19:24:45.118219Z",
          "shell.execute_reply": "2021-12-29T19:24:45.475690Z"
        },
        "trusted": true,
        "id": "kuXCXgMrwUQw",
        "outputId": "1883bd08-1d78-46a9-dd1b-e770422df1ea"
      },
      "execution_count": null,
      "outputs": [
        {
          "name": "stdout",
          "text": "Confusion Matrix\nAxesSubplot(0.125,0.125;0.62x0.755)\n              precision    recall  f1-score   support\n\n           0    0.98886   0.97272   0.98073      4656\n           1    0.97114   0.98821   0.97960      4324\n\n    accuracy                        0.98018      8980\n   macro avg    0.98000   0.98046   0.98016      8980\nweighted avg    0.98033   0.98018   0.98018      8980\n\n",
          "output_type": "stream"
        },
        {
          "output_type": "display_data",
          "data": {
            "text/plain": "<Figure size 432x288 with 2 Axes>",
            "image/png": "[encoded data removed]"
          },
          "metadata": {
            "needs_background": "light"
          }
        }
      ]
    },
    {
      "cell_type": "code",
      "source": [
        ""
      ],
      "metadata": {
        "id": "6WSlGPG3wUQw"
      },
      "execution_count": null,
      "outputs": []
    }
  ]
}
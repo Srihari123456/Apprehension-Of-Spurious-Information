{
  "metadata": {
    "kernelspec": {
      "language": "python",
      "display_name": "Python 3",
      "name": "python3"
    },
    "language_info": {
      "name": "python",
      "version": "3.7.12",
      "mimetype": "text/x-python",
      "codemirror_mode": {
        "name": "ipython",
        "version": 3
      },
      "pygments_lexer": "ipython3",
      "nbconvert_exporter": "python",
      "file_extension": ".py"
    },
    "colab": {
      "name": "NLP_MINI_PROJECT_COVIDFAKENEWS.ipynb",
      "provenance": []
    },
    "accelerator": "GPU"
  },
  "nbformat_minor": 0,
  "nbformat": 4,
  "cells": [
    {
      "cell_type": "code",
      "source": [
        "import nltk\n",
        "nltk.download('stopwords')\n",
        "nltk.download('wordnet')"
      ],
      "metadata": {
        "id": "z7mtKMFbKcr4",
        "outputId": "f9b7e000-da7f-4479-9e53-5ac92b649b1c",
        "execution": {
          "iopub.status.busy": "2021-12-26T16:36:12.866469Z",
          "iopub.execute_input": "2021-12-26T16:36:12.867047Z",
          "iopub.status.idle": "2021-12-26T16:36:14.337113Z",
          "shell.execute_reply.started": "2021-12-26T16:36:12.866936Z",
          "shell.execute_reply": "2021-12-26T16:36:14.336302Z"
        },
        "trusted": true,
        "colab": {
          "base_uri": "https://localhost:8080/"
        }
      },
      "execution_count": 1,
      "outputs": [
        {
          "output_type": "stream",
          "name": "stdout",
          "text": [
            "[nltk_data] Downloading package stopwords to /root/nltk_data...\n",
            "[nltk_data]   Unzipping corpora/stopwords.zip.\n",
            "[nltk_data] Downloading package wordnet to /root/nltk_data...\n",
            "[nltk_data]   Unzipping corpora/wordnet.zip.\n"
          ]
        },
        {
          "output_type": "execute_result",
          "data": {
            "text/plain": [
              "True"
            ]
          },
          "metadata": {},
          "execution_count": 1
        }
      ]
    },
    {
      "cell_type": "markdown",
      "source": [
        "### Imports"
      ],
      "metadata": {
        "id": "lIcOoI9vKIdm"
      }
    },
    {
      "cell_type": "code",
      "source": [
        "import pandas as pd \n",
        "import numpy as np \n",
        "\n",
        "from sklearn.model_selection import train_test_split\n",
        "\n",
        "import tensorflow as tf\n",
        "from tensorflow.keras.preprocessing.text import Tokenizer\n",
        "from tensorflow.keras.preprocessing.sequence import pad_sequences\n",
        "from tensorflow.keras.models import Sequential\n",
        "from tensorflow.keras.layers import Embedding, LSTM, Dense, Bidirectional, Flatten, GlobalAveragePooling1D,GRU, Dropout\n",
        "from tensorflow.keras.callbacks import ModelCheckpoint, EarlyStopping\n",
        "from keras.layers import Dropout\n",
        "\n",
        "import nltk\n",
        "import re\n",
        "from nltk.corpus import stopwords\n",
        "from textblob import Word, TextBlob\n",
        "\n",
        "import matplotlib.pyplot as plt\n",
        "from sklearn.metrics import classification_report, confusion_matrix, accuracy_score\n",
        "import seaborn as sns"
      ],
      "metadata": {
        "id": "S4EFho7fKIdv",
        "execution": {
          "iopub.status.busy": "2021-12-26T16:36:17.450786Z",
          "iopub.execute_input": "2021-12-26T16:36:17.451044Z",
          "iopub.status.idle": "2021-12-26T16:36:22.245878Z",
          "shell.execute_reply.started": "2021-12-26T16:36:17.451015Z",
          "shell.execute_reply": "2021-12-26T16:36:22.245161Z"
        },
        "trusted": true
      },
      "execution_count": 2,
      "outputs": []
    },
    {
      "cell_type": "markdown",
      "source": [
        "### Load Dataset"
      ],
      "metadata": {
        "id": "fdFUp559KIdz"
      }
    },
    {
      "cell_type": "code",
      "source": [
        "train_df = pd.read_csv('/content/Constraint_Train.csv')\n",
        "#train_df = pd.read_csv('../input/disastertweets/Constraint_Train.csv')"
      ],
      "metadata": {
        "id": "DoeBLEAPKId0",
        "execution": {
          "iopub.status.busy": "2021-12-26T16:36:22.248040Z",
          "iopub.execute_input": "2021-12-26T16:36:22.248431Z",
          "iopub.status.idle": "2021-12-26T16:36:22.317352Z",
          "shell.execute_reply.started": "2021-12-26T16:36:22.248397Z",
          "shell.execute_reply": "2021-12-26T16:36:22.316599Z"
        },
        "trusted": true
      },
      "execution_count": 3,
      "outputs": []
    },
    {
      "cell_type": "markdown",
      "source": [
        "### Data Preprocessing"
      ],
      "metadata": {
        "id": "qjLiSKQ8KId1"
      }
    },
    {
      "cell_type": "code",
      "source": [
        "train_df = train_df[['tweet','label']]"
      ],
      "metadata": {
        "id": "oRypfevNLJuu",
        "execution": {
          "iopub.status.busy": "2021-12-26T16:36:22.410656Z",
          "iopub.execute_input": "2021-12-26T16:36:22.410908Z",
          "iopub.status.idle": "2021-12-26T16:36:22.423236Z",
          "shell.execute_reply.started": "2021-12-26T16:36:22.410879Z",
          "shell.execute_reply": "2021-12-26T16:36:22.422345Z"
        },
        "trusted": true
      },
      "execution_count": 4,
      "outputs": []
    },
    {
      "cell_type": "code",
      "source": [
        "dataframe = pd.DataFrame(train_df, columns = ['tweet', 'label'])\n",
        "print(\"Given Dataframe :\\n\", dataframe) "
      ],
      "metadata": {
        "id": "tVHDMpW1Q_hZ",
        "outputId": "1d84fbbf-ccfa-4b90-a2ef-b92977f39c55",
        "execution": {
          "iopub.status.busy": "2021-12-26T16:36:24.393520Z",
          "iopub.execute_input": "2021-12-26T16:36:24.393777Z",
          "iopub.status.idle": "2021-12-26T16:36:24.404979Z",
          "shell.execute_reply.started": "2021-12-26T16:36:24.393747Z",
          "shell.execute_reply": "2021-12-26T16:36:24.404110Z"
        },
        "trusted": true,
        "colab": {
          "base_uri": "https://localhost:8080/"
        }
      },
      "execution_count": 5,
      "outputs": [
        {
          "output_type": "stream",
          "name": "stdout",
          "text": [
            "Given Dataframe :\n",
            "                                                   tweet label\n",
            "0     The CDC currently reports 99031 deaths. In gen...  real\n",
            "1     States reported 1121 deaths a small rise from ...  real\n",
            "2     Politically Correct Woman (Almost) Uses Pandem...  fake\n",
            "3     #IndiaFightsCorona: We have 1524 #COVID testin...  real\n",
            "4     Populous states can generate large case counts...  real\n",
            "...                                                 ...   ...\n",
            "6838                                                NaN   NaN\n",
            "6839                                                NaN   NaN\n",
            "6840                                                NaN   NaN\n",
            "6841                                                NaN   NaN\n",
            "6842                                                NaN  real\n",
            "\n",
            "[6843 rows x 2 columns]\n"
          ]
        }
      ]
    },
    {
      "cell_type": "code",
      "source": [
        "rslt_df = dataframe[dataframe['label'] == 'real']\n",
        "rslt_df['label'] = 1"
      ],
      "metadata": {
        "id": "Of6rEwR9SVst",
        "outputId": "c26dafab-0d6c-468b-b1c9-d4216ff9f6c8",
        "execution": {
          "iopub.status.busy": "2021-12-26T16:36:25.752294Z",
          "iopub.execute_input": "2021-12-26T16:36:25.752823Z",
          "iopub.status.idle": "2021-12-26T16:36:25.762081Z",
          "shell.execute_reply.started": "2021-12-26T16:36:25.752786Z",
          "shell.execute_reply": "2021-12-26T16:36:25.761220Z"
        },
        "trusted": true,
        "colab": {
          "base_uri": "https://localhost:8080/"
        }
      },
      "execution_count": 6,
      "outputs": [
        {
          "output_type": "stream",
          "name": "stderr",
          "text": [
            "/usr/local/lib/python3.7/dist-packages/ipykernel_launcher.py:2: SettingWithCopyWarning: \n",
            "A value is trying to be set on a copy of a slice from a DataFrame.\n",
            "Try using .loc[row_indexer,col_indexer] = value instead\n",
            "\n",
            "See the caveats in the documentation: https://pandas.pydata.org/pandas-docs/stable/user_guide/indexing.html#returning-a-view-versus-a-copy\n",
            "  \n"
          ]
        }
      ]
    },
    {
      "cell_type": "code",
      "source": [
        "fslt_df = dataframe[dataframe['label'] == 'fake']\n",
        "fslt_df['label'] = 0"
      ],
      "metadata": {
        "id": "NE8fbUtqSb-m",
        "outputId": "4f878a58-a286-413d-9e4b-333337d532df",
        "execution": {
          "iopub.status.busy": "2021-12-26T16:36:26.678208Z",
          "iopub.execute_input": "2021-12-26T16:36:26.678662Z",
          "iopub.status.idle": "2021-12-26T16:36:26.685846Z",
          "shell.execute_reply.started": "2021-12-26T16:36:26.678627Z",
          "shell.execute_reply": "2021-12-26T16:36:26.685020Z"
        },
        "trusted": true,
        "colab": {
          "base_uri": "https://localhost:8080/"
        }
      },
      "execution_count": 7,
      "outputs": [
        {
          "output_type": "stream",
          "name": "stderr",
          "text": [
            "/usr/local/lib/python3.7/dist-packages/ipykernel_launcher.py:2: SettingWithCopyWarning: \n",
            "A value is trying to be set on a copy of a slice from a DataFrame.\n",
            "Try using .loc[row_indexer,col_indexer] = value instead\n",
            "\n",
            "See the caveats in the documentation: https://pandas.pydata.org/pandas-docs/stable/user_guide/indexing.html#returning-a-view-versus-a-copy\n",
            "  \n"
          ]
        }
      ]
    },
    {
      "cell_type": "code",
      "source": [
        "frames = [fslt_df, rslt_df]\n",
        "total = pd.concat(frames)\n",
        "total"
      ],
      "metadata": {
        "id": "Gvfeslc7SnFN",
        "outputId": "8da53be8-e9cb-4cd1-80a2-1bdea605e4f7",
        "execution": {
          "iopub.status.busy": "2021-12-26T16:36:27.984687Z",
          "iopub.execute_input": "2021-12-26T16:36:27.985250Z",
          "iopub.status.idle": "2021-12-26T16:36:28.004410Z",
          "shell.execute_reply.started": "2021-12-26T16:36:27.985212Z",
          "shell.execute_reply": "2021-12-26T16:36:28.003635Z"
        },
        "trusted": true,
        "colab": {
          "base_uri": "https://localhost:8080/",
          "height": 423
        }
      },
      "execution_count": 8,
      "outputs": [
        {
          "output_type": "execute_result",
          "data": {
            "text/html": [
              "\n",
              "  <div id=\"df-b8f634bb-0ce2-432e-9a97-37783b72f803\">\n",
              "    <div class=\"colab-df-container\">\n",
              "      <div>\n",
              "<style scoped>\n",
              "    .dataframe tbody tr th:only-of-type {\n",
              "        vertical-align: middle;\n",
              "    }\n",
              "\n",
              "    .dataframe tbody tr th {\n",
              "        vertical-align: top;\n",
              "    }\n",
              "\n",
              "    .dataframe thead th {\n",
              "        text-align: right;\n",
              "    }\n",
              "</style>\n",
              "<table border=\"1\" class=\"dataframe\">\n",
              "  <thead>\n",
              "    <tr style=\"text-align: right;\">\n",
              "      <th></th>\n",
              "      <th>tweet</th>\n",
              "      <th>label</th>\n",
              "    </tr>\n",
              "  </thead>\n",
              "  <tbody>\n",
              "    <tr>\n",
              "      <th>2</th>\n",
              "      <td>Politically Correct Woman (Almost) Uses Pandem...</td>\n",
              "      <td>0</td>\n",
              "    </tr>\n",
              "    <tr>\n",
              "      <th>7</th>\n",
              "      <td>Obama Calls Trump’s Coronavirus Response A Cha...</td>\n",
              "      <td>0</td>\n",
              "    </tr>\n",
              "    <tr>\n",
              "      <th>8</th>\n",
              "      <td>???Clearly, the Obama administration did not l...</td>\n",
              "      <td>0</td>\n",
              "    </tr>\n",
              "    <tr>\n",
              "      <th>9</th>\n",
              "      <td>Retraction—Hydroxychloroquine or chloroquine w...</td>\n",
              "      <td>0</td>\n",
              "    </tr>\n",
              "    <tr>\n",
              "      <th>11</th>\n",
              "      <td>The NBA is poised to restart this month. In Ma...</td>\n",
              "      <td>0</td>\n",
              "    </tr>\n",
              "    <tr>\n",
              "      <th>...</th>\n",
              "      <td>...</td>\n",
              "      <td>...</td>\n",
              "    </tr>\n",
              "    <tr>\n",
              "      <th>6405</th>\n",
              "      <td>The cloth face coverings recommended to slow s...</td>\n",
              "      <td>1</td>\n",
              "    </tr>\n",
              "    <tr>\n",
              "      <th>6411</th>\n",
              "      <td>The latest updates from the Ministry of Health...</td>\n",
              "      <td>1</td>\n",
              "    </tr>\n",
              "    <tr>\n",
              "      <th>6414</th>\n",
              "      <td>Data from #COVIDNET show that after a period o...</td>\n",
              "      <td>1</td>\n",
              "    </tr>\n",
              "    <tr>\n",
              "      <th>6419</th>\n",
              "      <td>It has been 93 days since the last case of COV...</td>\n",
              "      <td>1</td>\n",
              "    </tr>\n",
              "    <tr>\n",
              "      <th>6842</th>\n",
              "      <td>NaN</td>\n",
              "      <td>1</td>\n",
              "    </tr>\n",
              "  </tbody>\n",
              "</table>\n",
              "<p>5981 rows × 2 columns</p>\n",
              "</div>\n",
              "      <button class=\"colab-df-convert\" onclick=\"convertToInteractive('df-b8f634bb-0ce2-432e-9a97-37783b72f803')\"\n",
              "              title=\"Convert this dataframe to an interactive table.\"\n",
              "              style=\"display:none;\">\n",
              "        \n",
              "  <svg xmlns=\"http://www.w3.org/2000/svg\" height=\"24px\"viewBox=\"0 0 24 24\"\n",
              "       width=\"24px\">\n",
              "    <path d=\"M0 0h24v24H0V0z\" fill=\"none\"/>\n",
              "    <path d=\"M18.56 5.44l.94 2.06.94-2.06 2.06-.94-2.06-.94-.94-2.06-.94 2.06-2.06.94zm-11 1L8.5 8.5l.94-2.06 2.06-.94-2.06-.94L8.5 2.5l-.94 2.06-2.06.94zm10 10l.94 2.06.94-2.06 2.06-.94-2.06-.94-.94-2.06-.94 2.06-2.06.94z\"/><path d=\"M17.41 7.96l-1.37-1.37c-.4-.4-.92-.59-1.43-.59-.52 0-1.04.2-1.43.59L10.3 9.45l-7.72 7.72c-.78.78-.78 2.05 0 2.83L4 21.41c.39.39.9.59 1.41.59.51 0 1.02-.2 1.41-.59l7.78-7.78 2.81-2.81c.8-.78.8-2.07 0-2.86zM5.41 20L4 18.59l7.72-7.72 1.47 1.35L5.41 20z\"/>\n",
              "  </svg>\n",
              "      </button>\n",
              "      \n",
              "  <style>\n",
              "    .colab-df-container {\n",
              "      display:flex;\n",
              "      flex-wrap:wrap;\n",
              "      gap: 12px;\n",
              "    }\n",
              "\n",
              "    .colab-df-convert {\n",
              "      background-color: #E8F0FE;\n",
              "      border: none;\n",
              "      border-radius: 50%;\n",
              "      cursor: pointer;\n",
              "      display: none;\n",
              "      fill: #1967D2;\n",
              "      height: 32px;\n",
              "      padding: 0 0 0 0;\n",
              "      width: 32px;\n",
              "    }\n",
              "\n",
              "    .colab-df-convert:hover {\n",
              "      background-color: #E2EBFA;\n",
              "      box-shadow: 0px 1px 2px rgba(60, 64, 67, 0.3), 0px 1px 3px 1px rgba(60, 64, 67, 0.15);\n",
              "      fill: #174EA6;\n",
              "    }\n",
              "\n",
              "    [theme=dark] .colab-df-convert {\n",
              "      background-color: #3B4455;\n",
              "      fill: #D2E3FC;\n",
              "    }\n",
              "\n",
              "    [theme=dark] .colab-df-convert:hover {\n",
              "      background-color: #434B5C;\n",
              "      box-shadow: 0px 1px 3px 1px rgba(0, 0, 0, 0.15);\n",
              "      filter: drop-shadow(0px 1px 2px rgba(0, 0, 0, 0.3));\n",
              "      fill: #FFFFFF;\n",
              "    }\n",
              "  </style>\n",
              "\n",
              "      <script>\n",
              "        const buttonEl =\n",
              "          document.querySelector('#df-b8f634bb-0ce2-432e-9a97-37783b72f803 button.colab-df-convert');\n",
              "        buttonEl.style.display =\n",
              "          google.colab.kernel.accessAllowed ? 'block' : 'none';\n",
              "\n",
              "        async function convertToInteractive(key) {\n",
              "          const element = document.querySelector('#df-b8f634bb-0ce2-432e-9a97-37783b72f803');\n",
              "          const dataTable =\n",
              "            await google.colab.kernel.invokeFunction('convertToInteractive',\n",
              "                                                     [key], {});\n",
              "          if (!dataTable) return;\n",
              "\n",
              "          const docLinkHtml = 'Like what you see? Visit the ' +\n",
              "            '<a target=\"_blank\" href=https://colab.research.google.com/notebooks/data_table.ipynb>data table notebook</a>'\n",
              "            + ' to learn more about interactive tables.';\n",
              "          element.innerHTML = '';\n",
              "          dataTable['output_type'] = 'display_data';\n",
              "          await google.colab.output.renderOutput(dataTable, element);\n",
              "          const docLink = document.createElement('div');\n",
              "          docLink.innerHTML = docLinkHtml;\n",
              "          element.appendChild(docLink);\n",
              "        }\n",
              "      </script>\n",
              "    </div>\n",
              "  </div>\n",
              "  "
            ],
            "text/plain": [
              "                                                  tweet  label\n",
              "2     Politically Correct Woman (Almost) Uses Pandem...      0\n",
              "7     Obama Calls Trump’s Coronavirus Response A Cha...      0\n",
              "8     ???Clearly, the Obama administration did not l...      0\n",
              "9     Retraction—Hydroxychloroquine or chloroquine w...      0\n",
              "11    The NBA is poised to restart this month. In Ma...      0\n",
              "...                                                 ...    ...\n",
              "6405  The cloth face coverings recommended to slow s...      1\n",
              "6411  The latest updates from the Ministry of Health...      1\n",
              "6414  Data from #COVIDNET show that after a period o...      1\n",
              "6419  It has been 93 days since the last case of COV...      1\n",
              "6842                                                NaN      1\n",
              "\n",
              "[5981 rows x 2 columns]"
            ]
          },
          "metadata": {},
          "execution_count": 8
        }
      ]
    },
    {
      "cell_type": "code",
      "source": [
        "total['label'].unique()"
      ],
      "metadata": {
        "id": "F3BZEnHmPCvw",
        "outputId": "06272957-f6ad-40f9-a26d-e793894c46f4",
        "execution": {
          "iopub.status.busy": "2021-12-26T16:36:29.471196Z",
          "iopub.execute_input": "2021-12-26T16:36:29.471647Z",
          "iopub.status.idle": "2021-12-26T16:36:29.478136Z",
          "shell.execute_reply.started": "2021-12-26T16:36:29.471611Z",
          "shell.execute_reply": "2021-12-26T16:36:29.477393Z"
        },
        "trusted": true,
        "colab": {
          "base_uri": "https://localhost:8080/"
        }
      },
      "execution_count": 9,
      "outputs": [
        {
          "output_type": "execute_result",
          "data": {
            "text/plain": [
              "array([0, 1])"
            ]
          },
          "metadata": {},
          "execution_count": 9
        }
      ]
    },
    {
      "cell_type": "code",
      "source": [
        "#train_df.drop(columns=['id'], axis=1, inplace=True)\n",
        "print(train_df.shape)"
      ],
      "metadata": {
        "id": "b_ZPaVUlKId2",
        "outputId": "50a89fd6-42af-4bce-8af4-32964cb7a844",
        "execution": {
          "iopub.status.busy": "2021-12-26T16:36:30.821294Z",
          "iopub.execute_input": "2021-12-26T16:36:30.821860Z",
          "iopub.status.idle": "2021-12-26T16:36:30.826283Z",
          "shell.execute_reply.started": "2021-12-26T16:36:30.821814Z",
          "shell.execute_reply": "2021-12-26T16:36:30.825537Z"
        },
        "trusted": true,
        "colab": {
          "base_uri": "https://localhost:8080/"
        }
      },
      "execution_count": 10,
      "outputs": [
        {
          "output_type": "stream",
          "name": "stdout",
          "text": [
            "(6843, 2)\n"
          ]
        }
      ]
    },
    {
      "cell_type": "code",
      "source": [
        "train_df = total\n",
        "type(train_df)"
      ],
      "metadata": {
        "id": "vgrZPqmNKId4",
        "outputId": "67b7eaf3-fe98-4861-f2f0-d49fc636a82f",
        "execution": {
          "iopub.status.busy": "2021-12-26T16:36:32.064882Z",
          "iopub.execute_input": "2021-12-26T16:36:32.065652Z",
          "iopub.status.idle": "2021-12-26T16:36:32.071449Z",
          "shell.execute_reply.started": "2021-12-26T16:36:32.065615Z",
          "shell.execute_reply": "2021-12-26T16:36:32.070765Z"
        },
        "trusted": true,
        "colab": {
          "base_uri": "https://localhost:8080/"
        }
      },
      "execution_count": 11,
      "outputs": [
        {
          "output_type": "execute_result",
          "data": {
            "text/plain": [
              "pandas.core.frame.DataFrame"
            ]
          },
          "metadata": {},
          "execution_count": 11
        }
      ]
    },
    {
      "cell_type": "code",
      "source": [
        "train_df = train_df[train_df['tweet'].notnull()]"
      ],
      "metadata": {
        "id": "QFQNnrrmUp3F",
        "execution": {
          "iopub.status.busy": "2021-12-26T16:36:33.410207Z",
          "iopub.execute_input": "2021-12-26T16:36:33.410739Z",
          "iopub.status.idle": "2021-12-26T16:36:33.418579Z",
          "shell.execute_reply.started": "2021-12-26T16:36:33.410704Z",
          "shell.execute_reply": "2021-12-26T16:36:33.417879Z"
        },
        "trusted": true
      },
      "execution_count": 12,
      "outputs": []
    },
    {
      "cell_type": "code",
      "source": [
        "train_df['tweet']=train_df['tweet'].apply(lambda x: \" \".join(x.lower() for x in x.split()))\n",
        "train_df[\"tweet\"]=train_df[\"tweet\"].str.replace('[^\\w\\s]', '').replace('\\d', '')\n",
        "\n",
        "sw=stopwords.words('english')\n",
        "train_df[\"tweet\"]=train_df[\"tweet\"].apply(lambda x: \" \".join(x for x in x.split() if x not in sw))\n",
        "train_df[\"tweet\"]=train_df[\"tweet\"].apply(lambda x:\" \".join([Word(word).lemmatize() for word in x.split()]))\n",
        "\n",
        "train_df.head()"
      ],
      "metadata": {
        "id": "0iv5Q8KDKId6",
        "outputId": "ff935f49-7960-4220-af16-e553d1e07e12",
        "execution": {
          "iopub.status.busy": "2021-12-26T16:36:34.441121Z",
          "iopub.execute_input": "2021-12-26T16:36:34.441565Z",
          "iopub.status.idle": "2021-12-26T16:36:37.482042Z",
          "shell.execute_reply.started": "2021-12-26T16:36:34.441530Z",
          "shell.execute_reply": "2021-12-26T16:36:37.481321Z"
        },
        "trusted": true,
        "colab": {
          "base_uri": "https://localhost:8080/",
          "height": 644
        }
      },
      "execution_count": 13,
      "outputs": [
        {
          "output_type": "stream",
          "name": "stderr",
          "text": [
            "/usr/local/lib/python3.7/dist-packages/ipykernel_launcher.py:1: SettingWithCopyWarning: \n",
            "A value is trying to be set on a copy of a slice from a DataFrame.\n",
            "Try using .loc[row_indexer,col_indexer] = value instead\n",
            "\n",
            "See the caveats in the documentation: https://pandas.pydata.org/pandas-docs/stable/user_guide/indexing.html#returning-a-view-versus-a-copy\n",
            "  \"\"\"Entry point for launching an IPython kernel.\n",
            "/usr/local/lib/python3.7/dist-packages/ipykernel_launcher.py:2: SettingWithCopyWarning: \n",
            "A value is trying to be set on a copy of a slice from a DataFrame.\n",
            "Try using .loc[row_indexer,col_indexer] = value instead\n",
            "\n",
            "See the caveats in the documentation: https://pandas.pydata.org/pandas-docs/stable/user_guide/indexing.html#returning-a-view-versus-a-copy\n",
            "  \n",
            "/usr/local/lib/python3.7/dist-packages/ipykernel_launcher.py:5: SettingWithCopyWarning: \n",
            "A value is trying to be set on a copy of a slice from a DataFrame.\n",
            "Try using .loc[row_indexer,col_indexer] = value instead\n",
            "\n",
            "See the caveats in the documentation: https://pandas.pydata.org/pandas-docs/stable/user_guide/indexing.html#returning-a-view-versus-a-copy\n",
            "  \"\"\"\n",
            "/usr/local/lib/python3.7/dist-packages/ipykernel_launcher.py:6: SettingWithCopyWarning: \n",
            "A value is trying to be set on a copy of a slice from a DataFrame.\n",
            "Try using .loc[row_indexer,col_indexer] = value instead\n",
            "\n",
            "See the caveats in the documentation: https://pandas.pydata.org/pandas-docs/stable/user_guide/indexing.html#returning-a-view-versus-a-copy\n",
            "  \n"
          ]
        },
        {
          "output_type": "execute_result",
          "data": {
            "text/html": [
              "\n",
              "  <div id=\"df-26a0fc93-2024-49d1-ab90-88f63c73135b\">\n",
              "    <div class=\"colab-df-container\">\n",
              "      <div>\n",
              "<style scoped>\n",
              "    .dataframe tbody tr th:only-of-type {\n",
              "        vertical-align: middle;\n",
              "    }\n",
              "\n",
              "    .dataframe tbody tr th {\n",
              "        vertical-align: top;\n",
              "    }\n",
              "\n",
              "    .dataframe thead th {\n",
              "        text-align: right;\n",
              "    }\n",
              "</style>\n",
              "<table border=\"1\" class=\"dataframe\">\n",
              "  <thead>\n",
              "    <tr style=\"text-align: right;\">\n",
              "      <th></th>\n",
              "      <th>tweet</th>\n",
              "      <th>label</th>\n",
              "    </tr>\n",
              "  </thead>\n",
              "  <tbody>\n",
              "    <tr>\n",
              "      <th>2</th>\n",
              "      <td>politically correct woman almost us pandemic e...</td>\n",
              "      <td>0</td>\n",
              "    </tr>\n",
              "    <tr>\n",
              "      <th>7</th>\n",
              "      <td>obama call trump coronavirus response chaotic ...</td>\n",
              "      <td>0</td>\n",
              "    </tr>\n",
              "    <tr>\n",
              "      <th>8</th>\n",
              "      <td>clearly obama administration leave kind game p...</td>\n",
              "      <td>0</td>\n",
              "    </tr>\n",
              "    <tr>\n",
              "      <th>9</th>\n",
              "      <td>retractionhydroxychloroquine chloroquine witho...</td>\n",
              "      <td>0</td>\n",
              "    </tr>\n",
              "    <tr>\n",
              "      <th>11</th>\n",
              "      <td>nba poised restart month march reported utah j...</td>\n",
              "      <td>0</td>\n",
              "    </tr>\n",
              "  </tbody>\n",
              "</table>\n",
              "</div>\n",
              "      <button class=\"colab-df-convert\" onclick=\"convertToInteractive('df-26a0fc93-2024-49d1-ab90-88f63c73135b')\"\n",
              "              title=\"Convert this dataframe to an interactive table.\"\n",
              "              style=\"display:none;\">\n",
              "        \n",
              "  <svg xmlns=\"http://www.w3.org/2000/svg\" height=\"24px\"viewBox=\"0 0 24 24\"\n",
              "       width=\"24px\">\n",
              "    <path d=\"M0 0h24v24H0V0z\" fill=\"none\"/>\n",
              "    <path d=\"M18.56 5.44l.94 2.06.94-2.06 2.06-.94-2.06-.94-.94-2.06-.94 2.06-2.06.94zm-11 1L8.5 8.5l.94-2.06 2.06-.94-2.06-.94L8.5 2.5l-.94 2.06-2.06.94zm10 10l.94 2.06.94-2.06 2.06-.94-2.06-.94-.94-2.06-.94 2.06-2.06.94z\"/><path d=\"M17.41 7.96l-1.37-1.37c-.4-.4-.92-.59-1.43-.59-.52 0-1.04.2-1.43.59L10.3 9.45l-7.72 7.72c-.78.78-.78 2.05 0 2.83L4 21.41c.39.39.9.59 1.41.59.51 0 1.02-.2 1.41-.59l7.78-7.78 2.81-2.81c.8-.78.8-2.07 0-2.86zM5.41 20L4 18.59l7.72-7.72 1.47 1.35L5.41 20z\"/>\n",
              "  </svg>\n",
              "      </button>\n",
              "      \n",
              "  <style>\n",
              "    .colab-df-container {\n",
              "      display:flex;\n",
              "      flex-wrap:wrap;\n",
              "      gap: 12px;\n",
              "    }\n",
              "\n",
              "    .colab-df-convert {\n",
              "      background-color: #E8F0FE;\n",
              "      border: none;\n",
              "      border-radius: 50%;\n",
              "      cursor: pointer;\n",
              "      display: none;\n",
              "      fill: #1967D2;\n",
              "      height: 32px;\n",
              "      padding: 0 0 0 0;\n",
              "      width: 32px;\n",
              "    }\n",
              "\n",
              "    .colab-df-convert:hover {\n",
              "      background-color: #E2EBFA;\n",
              "      box-shadow: 0px 1px 2px rgba(60, 64, 67, 0.3), 0px 1px 3px 1px rgba(60, 64, 67, 0.15);\n",
              "      fill: #174EA6;\n",
              "    }\n",
              "\n",
              "    [theme=dark] .colab-df-convert {\n",
              "      background-color: #3B4455;\n",
              "      fill: #D2E3FC;\n",
              "    }\n",
              "\n",
              "    [theme=dark] .colab-df-convert:hover {\n",
              "      background-color: #434B5C;\n",
              "      box-shadow: 0px 1px 3px 1px rgba(0, 0, 0, 0.15);\n",
              "      filter: drop-shadow(0px 1px 2px rgba(0, 0, 0, 0.3));\n",
              "      fill: #FFFFFF;\n",
              "    }\n",
              "  </style>\n",
              "\n",
              "      <script>\n",
              "        const buttonEl =\n",
              "          document.querySelector('#df-26a0fc93-2024-49d1-ab90-88f63c73135b button.colab-df-convert');\n",
              "        buttonEl.style.display =\n",
              "          google.colab.kernel.accessAllowed ? 'block' : 'none';\n",
              "\n",
              "        async function convertToInteractive(key) {\n",
              "          const element = document.querySelector('#df-26a0fc93-2024-49d1-ab90-88f63c73135b');\n",
              "          const dataTable =\n",
              "            await google.colab.kernel.invokeFunction('convertToInteractive',\n",
              "                                                     [key], {});\n",
              "          if (!dataTable) return;\n",
              "\n",
              "          const docLinkHtml = 'Like what you see? Visit the ' +\n",
              "            '<a target=\"_blank\" href=https://colab.research.google.com/notebooks/data_table.ipynb>data table notebook</a>'\n",
              "            + ' to learn more about interactive tables.';\n",
              "          element.innerHTML = '';\n",
              "          dataTable['output_type'] = 'display_data';\n",
              "          await google.colab.output.renderOutput(dataTable, element);\n",
              "          const docLink = document.createElement('div');\n",
              "          docLink.innerHTML = docLinkHtml;\n",
              "          element.appendChild(docLink);\n",
              "        }\n",
              "      </script>\n",
              "    </div>\n",
              "  </div>\n",
              "  "
            ],
            "text/plain": [
              "                                                tweet  label\n",
              "2   politically correct woman almost us pandemic e...      0\n",
              "7   obama call trump coronavirus response chaotic ...      0\n",
              "8   clearly obama administration leave kind game p...      0\n",
              "9   retractionhydroxychloroquine chloroquine witho...      0\n",
              "11  nba poised restart month march reported utah j...      0"
            ]
          },
          "metadata": {},
          "execution_count": 13
        }
      ]
    },
    {
      "cell_type": "markdown",
      "source": [
        "# Keras Embeddings"
      ],
      "metadata": {
        "id": "S_JIudJ1krGj"
      }
    },
    {
      "cell_type": "markdown",
      "source": [
        "### Splitting Data"
      ],
      "metadata": {
        "id": "9uQcOeTqKId8"
      }
    },
    {
      "cell_type": "code",
      "source": [
        "X_train, X_test, y_train, y_test = train_test_split(train_df['tweet'],train_df['label'], test_size=0.2, random_state=111)\n",
        "print(X_train.shape, y_train.shape, X_test.shape, y_test.shape)"
      ],
      "metadata": {
        "id": "h6RKTlovKId-",
        "outputId": "9a0baafb-cf9f-4a43-dc27-21b64546c9f0",
        "execution": {
          "iopub.status.busy": "2021-12-20T17:26:13.045757Z",
          "iopub.execute_input": "2021-12-20T17:26:13.046016Z",
          "iopub.status.idle": "2021-12-20T17:26:13.057481Z",
          "shell.execute_reply.started": "2021-12-20T17:26:13.045986Z",
          "shell.execute_reply": "2021-12-20T17:26:13.056584Z"
        },
        "trusted": true,
        "colab": {
          "base_uri": "https://localhost:8080/"
        }
      },
      "execution_count": 14,
      "outputs": [
        {
          "output_type": "stream",
          "name": "stdout",
          "text": [
            "(4784,) (4784,) (1196,) (1196,)\n"
          ]
        }
      ]
    },
    {
      "cell_type": "markdown",
      "source": [
        "### Tokenizing"
      ],
      "metadata": {
        "id": "p7Vfna-eKId_"
      }
    },
    {
      "cell_type": "code",
      "source": [
        "vocab_size = 10000\n",
        "oov_token = \"<OOV>\"\n",
        "tokenizer = Tokenizer(num_words=vocab_size, oov_token=oov_token)\n",
        "\n",
        "tokenizer.fit_on_texts(X_train)"
      ],
      "metadata": {
        "id": "8w1ie9sFKIeA",
        "execution": {
          "iopub.status.busy": "2021-12-20T17:26:14.810445Z",
          "iopub.execute_input": "2021-12-20T17:26:14.810977Z",
          "iopub.status.idle": "2021-12-20T17:26:14.927379Z",
          "shell.execute_reply.started": "2021-12-20T17:26:14.810937Z",
          "shell.execute_reply": "2021-12-20T17:26:14.92666Z"
        },
        "trusted": true
      },
      "execution_count": 15,
      "outputs": []
    },
    {
      "cell_type": "code",
      "source": [
        "X_train = tokenizer.texts_to_sequences(X_train)\n",
        "X_test = tokenizer.texts_to_sequences(X_test)"
      ],
      "metadata": {
        "id": "y1pNF1JKKIeB",
        "execution": {
          "iopub.status.busy": "2021-12-20T17:26:15.67773Z",
          "iopub.execute_input": "2021-12-20T17:26:15.67829Z",
          "iopub.status.idle": "2021-12-20T17:26:15.781474Z",
          "shell.execute_reply.started": "2021-12-20T17:26:15.678249Z",
          "shell.execute_reply": "2021-12-20T17:26:15.780792Z"
        },
        "trusted": true
      },
      "execution_count": 16,
      "outputs": []
    },
    {
      "cell_type": "code",
      "source": [
        "max_length = 120\n",
        "trunc_type = 'post'\n",
        "pad_type = 'post'\n",
        "\n",
        "X_train_padded = pad_sequences(X_train, maxlen=max_length, truncating=trunc_type, padding=pad_type)\n",
        "X_test_padded = pad_sequences(X_test, maxlen=max_length, truncating=trunc_type, padding=pad_type)"
      ],
      "metadata": {
        "id": "kL9sH2ucKIeC",
        "execution": {
          "iopub.status.busy": "2021-12-20T17:26:16.582367Z",
          "iopub.execute_input": "2021-12-20T17:26:16.582964Z",
          "iopub.status.idle": "2021-12-20T17:26:16.648418Z",
          "shell.execute_reply.started": "2021-12-20T17:26:16.582921Z",
          "shell.execute_reply": "2021-12-20T17:26:16.647738Z"
        },
        "trusted": true
      },
      "execution_count": 17,
      "outputs": []
    },
    {
      "cell_type": "code",
      "source": [
        "print(X_train_padded.shape, X_test_padded.shape)"
      ],
      "metadata": {
        "id": "hvnkvD13KIeD",
        "outputId": "a8a9dd72-ce52-4265-e8e4-cb88b10d0f80",
        "execution": {
          "iopub.status.busy": "2021-12-20T17:26:17.871705Z",
          "iopub.execute_input": "2021-12-20T17:26:17.872467Z",
          "iopub.status.idle": "2021-12-20T17:26:17.877864Z",
          "shell.execute_reply.started": "2021-12-20T17:26:17.872402Z",
          "shell.execute_reply": "2021-12-20T17:26:17.877077Z"
        },
        "trusted": true,
        "colab": {
          "base_uri": "https://localhost:8080/"
        }
      },
      "execution_count": 18,
      "outputs": [
        {
          "output_type": "stream",
          "name": "stdout",
          "text": [
            "(4784, 120) (1196, 120)\n"
          ]
        }
      ]
    },
    {
      "cell_type": "code",
      "source": [
        "print(type(X_train_padded), type(X_test_padded))\n",
        "print(type(y_train), type(y_test))\n",
        "y_train = np.array(y_train)\n",
        "y_test = np.array(y_test)\n",
        "print(type(X_train_padded), type(X_test_padded))\n",
        "print(type(y_train), type(y_test))"
      ],
      "metadata": {
        "id": "QwzHaJ2kKIeE",
        "outputId": "ed7fbabe-41eb-4389-d926-5546f50f5473",
        "execution": {
          "iopub.status.busy": "2021-12-20T17:26:18.600676Z",
          "iopub.execute_input": "2021-12-20T17:26:18.600929Z",
          "iopub.status.idle": "2021-12-20T17:26:18.6085Z",
          "shell.execute_reply.started": "2021-12-20T17:26:18.600899Z",
          "shell.execute_reply": "2021-12-20T17:26:18.607555Z"
        },
        "trusted": true,
        "colab": {
          "base_uri": "https://localhost:8080/"
        }
      },
      "execution_count": 19,
      "outputs": [
        {
          "output_type": "stream",
          "name": "stdout",
          "text": [
            "<class 'numpy.ndarray'> <class 'numpy.ndarray'>\n",
            "<class 'pandas.core.series.Series'> <class 'pandas.core.series.Series'>\n",
            "<class 'numpy.ndarray'> <class 'numpy.ndarray'>\n",
            "<class 'numpy.ndarray'> <class 'numpy.ndarray'>\n"
          ]
        }
      ]
    },
    {
      "cell_type": "markdown",
      "source": [
        "### Model Creation"
      ],
      "metadata": {
        "id": "j_HwQ4x8KIeF"
      }
    },
    {
      "cell_type": "code",
      "source": [
        "embedding_dim = 300"
      ],
      "metadata": {
        "id": "RisZkplSKIeF",
        "execution": {
          "iopub.status.busy": "2021-12-20T17:26:24.597127Z",
          "iopub.execute_input": "2021-12-20T17:26:24.597851Z",
          "iopub.status.idle": "2021-12-20T17:26:24.602823Z",
          "shell.execute_reply.started": "2021-12-20T17:26:24.597811Z",
          "shell.execute_reply": "2021-12-20T17:26:24.602099Z"
        },
        "trusted": true
      },
      "execution_count": 20,
      "outputs": []
    },
    {
      "cell_type": "code",
      "source": [
        "model = Sequential()\n",
        "# define CNN model\n",
        "model.add(Embedding(vocab_size, embedding_dim, input_length=max_length))\n",
        "model.add(tf.keras.layers.Conv1D(filters=32, kernel_size=8, activation='relu'))\n",
        "#model.add(tf.keras.layers.MaxPooling1D(pool_size=2))\n",
        "# define LSTM model\n",
        "model.add(Bidirectional(GRU(32, return_sequences=True)))\n",
        "model.add(Dropout(0.3))\n",
        "model.add(Flatten())\n",
        "model.add(Dense(32, activation=\"relu\"))\n",
        "model.add(Dense(1, activation=\"sigmoid\"))"
      ],
      "metadata": {
        "id": "6bXfDw4_Xrv4",
        "execution": {
          "iopub.status.busy": "2021-12-20T17:26:26.582082Z",
          "iopub.execute_input": "2021-12-20T17:26:26.582899Z",
          "iopub.status.idle": "2021-12-20T17:26:27.244767Z",
          "shell.execute_reply.started": "2021-12-20T17:26:26.58285Z",
          "shell.execute_reply": "2021-12-20T17:26:27.244079Z"
        },
        "trusted": true
      },
      "execution_count": 21,
      "outputs": []
    },
    {
      "cell_type": "code",
      "source": [
        "model.summary()"
      ],
      "metadata": {
        "id": "JxPfkF_DKIeH",
        "outputId": "6aa75c34-374d-40c9-8898-6b37e7fc473f",
        "execution": {
          "iopub.status.busy": "2021-12-19T06:24:27.222079Z",
          "iopub.execute_input": "2021-12-19T06:24:27.222329Z",
          "iopub.status.idle": "2021-12-19T06:24:27.233628Z",
          "shell.execute_reply.started": "2021-12-19T06:24:27.222301Z",
          "shell.execute_reply": "2021-12-19T06:24:27.232746Z"
        },
        "trusted": true,
        "colab": {
          "base_uri": "https://localhost:8080/"
        }
      },
      "execution_count": 22,
      "outputs": [
        {
          "output_type": "stream",
          "name": "stdout",
          "text": [
            "Model: \"sequential\"\n",
            "_________________________________________________________________\n",
            " Layer (type)                Output Shape              Param #   \n",
            "=================================================================\n",
            " embedding (Embedding)       (None, 120, 300)          3000000   \n",
            "                                                                 \n",
            " conv1d (Conv1D)             (None, 113, 32)           76832     \n",
            "                                                                 \n",
            " bidirectional (Bidirectiona  (None, 113, 64)          12672     \n",
            " l)                                                              \n",
            "                                                                 \n",
            " dropout (Dropout)           (None, 113, 64)           0         \n",
            "                                                                 \n",
            " flatten (Flatten)           (None, 7232)              0         \n",
            "                                                                 \n",
            " dense (Dense)               (None, 32)                231456    \n",
            "                                                                 \n",
            " dense_1 (Dense)             (None, 1)                 33        \n",
            "                                                                 \n",
            "=================================================================\n",
            "Total params: 3,320,993\n",
            "Trainable params: 3,320,993\n",
            "Non-trainable params: 0\n",
            "_________________________________________________________________\n"
          ]
        }
      ]
    },
    {
      "cell_type": "markdown",
      "source": [
        "### Model Compilation"
      ],
      "metadata": {
        "id": "z4A2It3wKIeI"
      }
    },
    {
      "cell_type": "code",
      "source": [
        "optimizer = tf.keras.optimizers.Adam(learning_rate = 0.0001)\n",
        "model.compile(\n",
        "    loss = \"binary_crossentropy\",\n",
        "    optimizer = optimizer,\n",
        "    metrics = [\"accuracy\"]\n",
        ")"
      ],
      "metadata": {
        "id": "ieo8gli0KIeJ",
        "execution": {
          "iopub.status.busy": "2021-12-20T17:26:31.880922Z",
          "iopub.execute_input": "2021-12-20T17:26:31.881517Z",
          "iopub.status.idle": "2021-12-20T17:26:31.893743Z",
          "shell.execute_reply.started": "2021-12-20T17:26:31.881475Z",
          "shell.execute_reply": "2021-12-20T17:26:31.892712Z"
        },
        "trusted": true
      },
      "execution_count": 23,
      "outputs": []
    },
    {
      "cell_type": "code",
      "source": [
        "filepath = 'my_checkpoint.ckpt'\n",
        "cp = ModelCheckpoint(\n",
        "    filepath=filepath,\n",
        "    save_weights_only=True,\n",
        "    save_best_only=True,\n",
        "    monitor='val_accuracy',\n",
        "    verbose=1\n",
        ")"
      ],
      "metadata": {
        "id": "Xj7AyxWNKIeJ",
        "execution": {
          "iopub.status.busy": "2021-12-20T17:26:32.611426Z",
          "iopub.execute_input": "2021-12-20T17:26:32.611722Z",
          "iopub.status.idle": "2021-12-20T17:26:32.620998Z",
          "shell.execute_reply.started": "2021-12-20T17:26:32.611688Z",
          "shell.execute_reply": "2021-12-20T17:26:32.619581Z"
        },
        "trusted": true
      },
      "execution_count": 24,
      "outputs": []
    },
    {
      "cell_type": "code",
      "source": [
        "ep = EarlyStopping(\n",
        "    monitor='val_accuracy', \n",
        "    patience=7,\n",
        ")"
      ],
      "metadata": {
        "id": "BOfA-iksKIeK",
        "execution": {
          "iopub.status.busy": "2021-12-20T17:26:33.900434Z",
          "iopub.execute_input": "2021-12-20T17:26:33.90096Z",
          "iopub.status.idle": "2021-12-20T17:26:33.904991Z",
          "shell.execute_reply.started": "2021-12-20T17:26:33.900922Z",
          "shell.execute_reply": "2021-12-20T17:26:33.904237Z"
        },
        "trusted": true
      },
      "execution_count": 25,
      "outputs": []
    },
    {
      "cell_type": "markdown",
      "source": [
        "### Model Training"
      ],
      "metadata": {
        "id": "-40no6miKIeL"
      }
    },
    {
      "cell_type": "code",
      "source": [
        "epochs=25\n",
        "history = model.fit(\n",
        "    X_train_padded, y_train,\n",
        "    validation_split = 0.2,\n",
        "    callbacks=[cp,ep],\n",
        "    batch_size=128,\n",
        "    epochs=epochs\n",
        ")"
      ],
      "metadata": {
        "id": "wxhBZqEpXzXk",
        "outputId": "7fa13f57-87e2-4959-b348-a1e3ac9c02a6",
        "execution": {
          "iopub.status.busy": "2021-12-20T17:26:45.283798Z",
          "iopub.execute_input": "2021-12-20T17:26:45.284529Z",
          "iopub.status.idle": "2021-12-20T17:26:55.213607Z",
          "shell.execute_reply.started": "2021-12-20T17:26:45.28448Z",
          "shell.execute_reply": "2021-12-20T17:26:55.212697Z"
        },
        "trusted": true,
        "colab": {
          "base_uri": "https://localhost:8080/"
        }
      },
      "execution_count": 27,
      "outputs": [
        {
          "output_type": "stream",
          "name": "stdout",
          "text": [
            "Epoch 1/25\n",
            "30/30 [==============================] - ETA: 0s - loss: 0.6765 - accuracy: 0.6368\n",
            "Epoch 00001: val_accuracy improved from -inf to 0.69070, saving model to my_checkpoint.ckpt\n",
            "30/30 [==============================] - 5s 168ms/step - loss: 0.6765 - accuracy: 0.6368 - val_loss: 0.6428 - val_accuracy: 0.6907\n",
            "Epoch 2/25\n",
            "30/30 [==============================] - ETA: 0s - loss: 0.5872 - accuracy: 0.7196\n",
            "Epoch 00002: val_accuracy improved from 0.69070 to 0.71891, saving model to my_checkpoint.ckpt\n",
            "30/30 [==============================] - 3s 94ms/step - loss: 0.5872 - accuracy: 0.7196 - val_loss: 0.5828 - val_accuracy: 0.7189\n",
            "Epoch 3/25\n",
            "30/30 [==============================] - ETA: 0s - loss: 0.5182 - accuracy: 0.7492\n",
            "Epoch 00003: val_accuracy improved from 0.71891 to 0.74713, saving model to my_checkpoint.ckpt\n",
            "30/30 [==============================] - 3s 94ms/step - loss: 0.5182 - accuracy: 0.7492 - val_loss: 0.5077 - val_accuracy: 0.7471\n",
            "Epoch 4/25\n",
            "30/30 [==============================] - ETA: 0s - loss: 0.4082 - accuracy: 0.8299\n",
            "Epoch 00004: val_accuracy improved from 0.74713 to 0.83177, saving model to my_checkpoint.ckpt\n",
            "30/30 [==============================] - 3s 91ms/step - loss: 0.4082 - accuracy: 0.8299 - val_loss: 0.3921 - val_accuracy: 0.8318\n",
            "Epoch 5/25\n",
            "30/30 [==============================] - ETA: 0s - loss: 0.2722 - accuracy: 0.9059\n",
            "Epoch 00005: val_accuracy improved from 0.83177 to 0.87147, saving model to my_checkpoint.ckpt\n",
            "30/30 [==============================] - 3s 94ms/step - loss: 0.2722 - accuracy: 0.9059 - val_loss: 0.3081 - val_accuracy: 0.8715\n",
            "Epoch 6/25\n",
            "30/30 [==============================] - ETA: 0s - loss: 0.1738 - accuracy: 0.9368\n",
            "Epoch 00006: val_accuracy improved from 0.87147 to 0.88297, saving model to my_checkpoint.ckpt\n",
            "30/30 [==============================] - 3s 92ms/step - loss: 0.1738 - accuracy: 0.9368 - val_loss: 0.2952 - val_accuracy: 0.8830\n",
            "Epoch 7/25\n",
            "30/30 [==============================] - ETA: 0s - loss: 0.1208 - accuracy: 0.9566\n",
            "Epoch 00007: val_accuracy improved from 0.88297 to 0.90282, saving model to my_checkpoint.ckpt\n",
            "30/30 [==============================] - 3s 92ms/step - loss: 0.1208 - accuracy: 0.9566 - val_loss: 0.2424 - val_accuracy: 0.9028\n",
            "Epoch 8/25\n",
            "30/30 [==============================] - ETA: 0s - loss: 0.0774 - accuracy: 0.9747\n",
            "Epoch 00008: val_accuracy improved from 0.90282 to 0.90805, saving model to my_checkpoint.ckpt\n",
            "30/30 [==============================] - 3s 89ms/step - loss: 0.0774 - accuracy: 0.9747 - val_loss: 0.2364 - val_accuracy: 0.9080\n",
            "Epoch 9/25\n",
            "30/30 [==============================] - ETA: 0s - loss: 0.0542 - accuracy: 0.9825\n",
            "Epoch 00009: val_accuracy did not improve from 0.90805\n",
            "30/30 [==============================] - 3s 86ms/step - loss: 0.0542 - accuracy: 0.9825 - val_loss: 0.2405 - val_accuracy: 0.9028\n",
            "Epoch 10/25\n",
            "30/30 [==============================] - ETA: 0s - loss: 0.0373 - accuracy: 0.9882\n",
            "Epoch 00010: val_accuracy improved from 0.90805 to 0.91014, saving model to my_checkpoint.ckpt\n",
            "30/30 [==============================] - 3s 89ms/step - loss: 0.0373 - accuracy: 0.9882 - val_loss: 0.2506 - val_accuracy: 0.9101\n",
            "Epoch 11/25\n",
            "30/30 [==============================] - ETA: 0s - loss: 0.0280 - accuracy: 0.9909\n",
            "Epoch 00011: val_accuracy did not improve from 0.91014\n",
            "30/30 [==============================] - 2s 81ms/step - loss: 0.0280 - accuracy: 0.9909 - val_loss: 0.2599 - val_accuracy: 0.9080\n",
            "Epoch 12/25\n",
            "30/30 [==============================] - ETA: 0s - loss: 0.0207 - accuracy: 0.9943\n",
            "Epoch 00012: val_accuracy improved from 0.91014 to 0.91223, saving model to my_checkpoint.ckpt\n",
            "30/30 [==============================] - 3s 85ms/step - loss: 0.0207 - accuracy: 0.9943 - val_loss: 0.2731 - val_accuracy: 0.9122\n",
            "Epoch 13/25\n",
            "30/30 [==============================] - ETA: 0s - loss: 0.0154 - accuracy: 0.9969\n",
            "Epoch 00013: val_accuracy did not improve from 0.91223\n",
            "30/30 [==============================] - 2s 78ms/step - loss: 0.0154 - accuracy: 0.9969 - val_loss: 0.2826 - val_accuracy: 0.9080\n",
            "Epoch 14/25\n",
            "30/30 [==============================] - ETA: 0s - loss: 0.0116 - accuracy: 0.9974\n",
            "Epoch 00014: val_accuracy did not improve from 0.91223\n",
            "30/30 [==============================] - 2s 79ms/step - loss: 0.0116 - accuracy: 0.9974 - val_loss: 0.2981 - val_accuracy: 0.9060\n",
            "Epoch 15/25\n",
            "30/30 [==============================] - ETA: 0s - loss: 0.0096 - accuracy: 0.9974\n",
            "Epoch 00015: val_accuracy did not improve from 0.91223\n",
            "30/30 [==============================] - 2s 81ms/step - loss: 0.0096 - accuracy: 0.9974 - val_loss: 0.3159 - val_accuracy: 0.9060\n",
            "Epoch 16/25\n",
            "30/30 [==============================] - ETA: 0s - loss: 0.0073 - accuracy: 0.9990\n",
            "Epoch 00016: val_accuracy did not improve from 0.91223\n",
            "30/30 [==============================] - 2s 80ms/step - loss: 0.0073 - accuracy: 0.9990 - val_loss: 0.3224 - val_accuracy: 0.8997\n",
            "Epoch 17/25\n",
            "30/30 [==============================] - ETA: 0s - loss: 0.0059 - accuracy: 0.9990\n",
            "Epoch 00017: val_accuracy did not improve from 0.91223\n",
            "30/30 [==============================] - 2s 78ms/step - loss: 0.0059 - accuracy: 0.9990 - val_loss: 0.3372 - val_accuracy: 0.9007\n",
            "Epoch 18/25\n",
            "30/30 [==============================] - ETA: 0s - loss: 0.0048 - accuracy: 0.9995\n",
            "Epoch 00018: val_accuracy did not improve from 0.91223\n",
            "30/30 [==============================] - 2s 81ms/step - loss: 0.0048 - accuracy: 0.9995 - val_loss: 0.3457 - val_accuracy: 0.9039\n",
            "Epoch 19/25\n",
            "30/30 [==============================] - ETA: 0s - loss: 0.0044 - accuracy: 0.9992\n",
            "Epoch 00019: val_accuracy did not improve from 0.91223\n",
            "30/30 [==============================] - 2s 81ms/step - loss: 0.0044 - accuracy: 0.9992 - val_loss: 0.3659 - val_accuracy: 0.9060\n"
          ]
        }
      ]
    },
    {
      "cell_type": "markdown",
      "source": [
        "### Graphs"
      ],
      "metadata": {
        "id": "1bVwNcHtKIeM"
      }
    },
    {
      "cell_type": "code",
      "source": [
        "print(history.history.keys())\n",
        "plt.axes().set(facecolor =\"white\")\n",
        "plt.plot(history.history['accuracy'],color='c')\n",
        "plt.plot(history.history['val_accuracy'],color='m')\n",
        "plt.title('model accuracy').set_color('black')\n",
        "plt.ylabel('accuracy').set_color('black')\n",
        "plt.xlabel('epoch').set_color('black')\n",
        "plt.legend(['train', 'validation'], loc='upper left')\n",
        "\n",
        "plt.show()\n",
        "\n",
        "plt.axes().set(facecolor =\"white\")\n",
        "plt.plot(history.history['loss'])\n",
        "plt.plot(history.history['val_loss'])\n",
        "plt.legend(['train', 'validation'], loc='upper left')\n",
        "plt.title('model loss').set_color('black')\n",
        "plt.ylabel('loss').set_color('black')\n",
        "plt.xlabel('epoch').set_color('black')\n",
        "plt.show()"
      ],
      "metadata": {
        "id": "pt4FDCU_KIeM",
        "outputId": "bcd84ecc-e036-42f8-be40-c6e652346723",
        "execution": {
          "iopub.status.busy": "2021-12-19T06:25:12.270365Z",
          "iopub.execute_input": "2021-12-19T06:25:12.270619Z",
          "iopub.status.idle": "2021-12-19T06:25:12.672572Z",
          "shell.execute_reply.started": "2021-12-19T06:25:12.27059Z",
          "shell.execute_reply": "2021-12-19T06:25:12.671911Z"
        },
        "trusted": true,
        "colab": {
          "base_uri": "https://localhost:8080/",
          "height": 591
        }
      },
      "execution_count": 28,
      "outputs": [
        {
          "output_type": "stream",
          "name": "stdout",
          "text": [
            "dict_keys(['loss', 'accuracy', 'val_loss', 'val_accuracy'])\n"
          ]
        },
        {
          "output_type": "display_data",
          "data": {
            "image/png": "[encoded data removed]",
            "text/plain": [
              "<Figure size 432x288 with 1 Axes>"
            ]
          },
          "metadata": {
            "needs_background": "light"
          }
        },
        {
          "output_type": "display_data",
          "data": {
            "image/png": "[encoded data removed]",
            "text/plain": [
              "<Figure size 432x288 with 1 Axes>"
            ]
          },
          "metadata": {
            "needs_background": "light"
          }
        }
      ]
    },
    {
      "cell_type": "markdown",
      "source": [
        "### Model Evaluation"
      ],
      "metadata": {
        "id": "nWywdobWKIeN"
      }
    },
    {
      "cell_type": "code",
      "source": [
        "model.evaluate(X_test_padded, y_test)"
      ],
      "metadata": {
        "id": "OmsuUsg_KIeO",
        "outputId": "bf3e3923-0534-4214-de58-10d618b864f9",
        "execution": {
          "iopub.status.busy": "2021-12-19T06:25:19.523229Z",
          "iopub.execute_input": "2021-12-19T06:25:19.523486Z",
          "iopub.status.idle": "2021-12-19T06:25:19.821281Z",
          "shell.execute_reply.started": "2021-12-19T06:25:19.523456Z",
          "shell.execute_reply": "2021-12-19T06:25:19.820496Z"
        },
        "trusted": true,
        "colab": {
          "base_uri": "https://localhost:8080/"
        }
      },
      "execution_count": 29,
      "outputs": [
        {
          "output_type": "stream",
          "name": "stdout",
          "text": [
            "38/38 [==============================] - 1s 24ms/step - loss: 0.3660 - accuracy: 0.8997\n"
          ]
        },
        {
          "output_type": "execute_result",
          "data": {
            "text/plain": [
              "[0.36598747968673706, 0.8996655344963074]"
            ]
          },
          "metadata": {},
          "execution_count": 29
        }
      ]
    },
    {
      "cell_type": "markdown",
      "source": [
        "### Predicting Test Data"
      ],
      "metadata": {
        "id": "U26W_vVzKIeR"
      }
    },
    {
      "cell_type": "code",
      "source": [
        "predictions = (model.predict(X_test_padded) > 0.5).astype(\"int32\")"
      ],
      "metadata": {
        "id": "ctDuQXtEKIeR",
        "execution": {
          "iopub.status.busy": "2021-12-20T17:27:08.709012Z",
          "iopub.execute_input": "2021-12-20T17:27:08.70962Z",
          "iopub.status.idle": "2021-12-20T17:27:09.435417Z",
          "shell.execute_reply.started": "2021-12-20T17:27:08.709578Z",
          "shell.execute_reply": "2021-12-20T17:27:09.434603Z"
        },
        "trusted": true
      },
      "execution_count": 30,
      "outputs": []
    },
    {
      "cell_type": "markdown",
      "source": [
        "### Accuracy"
      ],
      "metadata": {
        "id": "A-LU_eHtKIeS"
      }
    },
    {
      "cell_type": "code",
      "source": [
        "accuracy = accuracy_score(y_test, predictions)\n",
        "print(\"Testing Accuracy: \", accuracy)"
      ],
      "metadata": {
        "id": "LDK0gBt8YFHA",
        "outputId": "052317e5-f420-4e2c-c214-cb90596938d6",
        "execution": {
          "iopub.status.busy": "2021-12-20T17:27:10.900943Z",
          "iopub.execute_input": "2021-12-20T17:27:10.901531Z",
          "iopub.status.idle": "2021-12-20T17:27:10.908632Z",
          "shell.execute_reply.started": "2021-12-20T17:27:10.90149Z",
          "shell.execute_reply": "2021-12-20T17:27:10.907741Z"
        },
        "trusted": true,
        "colab": {
          "base_uri": "https://localhost:8080/"
        }
      },
      "execution_count": 31,
      "outputs": [
        {
          "output_type": "stream",
          "name": "stdout",
          "text": [
            "Testing Accuracy:  0.8996655518394648\n"
          ]
        }
      ]
    },
    {
      "cell_type": "markdown",
      "source": [
        "### Confusion Matrix"
      ],
      "metadata": {
        "id": "4kyXCeEFKIeT"
      }
    },
    {
      "cell_type": "code",
      "source": [
        "print('Confusion Matrix')\n",
        "cm = confusion_matrix(y_test, predictions)\n",
        "print(sns.heatmap(confusion_matrix(y_test, predictions),annot=True,fmt=\"d\"))\n",
        "print(classification_report(y_test, predictions, digits=5))"
      ],
      "metadata": {
        "id": "s9UF5uMWYHZV",
        "outputId": "a6f4b5da-4e71-4131-add8-0d7524c83db2",
        "execution": {
          "iopub.status.busy": "2021-12-20T17:27:14.536631Z",
          "iopub.execute_input": "2021-12-20T17:27:14.537255Z",
          "iopub.status.idle": "2021-12-20T17:27:14.770545Z",
          "shell.execute_reply.started": "2021-12-20T17:27:14.537213Z",
          "shell.execute_reply": "2021-12-20T17:27:14.769895Z"
        },
        "trusted": true,
        "colab": {
          "base_uri": "https://localhost:8080/",
          "height": 466
        }
      },
      "execution_count": 32,
      "outputs": [
        {
          "output_type": "stream",
          "name": "stdout",
          "text": [
            "Confusion Matrix\n",
            "AxesSubplot(0.125,0.125;0.62x0.755)\n",
            "              precision    recall  f1-score   support\n",
            "\n",
            "           0    0.88818   0.91749   0.90260       606\n",
            "           1    0.91228   0.88136   0.89655       590\n",
            "\n",
            "    accuracy                        0.89967      1196\n",
            "   macro avg    0.90023   0.89942   0.89957      1196\n",
            "weighted avg    0.90007   0.89967   0.89962      1196\n",
            "\n"
          ]
        },
        {
          "output_type": "display_data",
          "data": {
            "image/png": "[encoded data removed]",
            "text/plain": [
              "<Figure size 432x288 with 2 Axes>"
            ]
          },
          "metadata": {
            "needs_background": "light"
          }
        }
      ]
    },
    {
      "cell_type": "markdown",
      "source": [
        "### Predicting new tweets"
      ],
      "metadata": {
        "id": "6ocm9ql2KIeU"
      }
    },
    {
      "cell_type": "code",
      "source": [
        "def preprocess_tweet(new_tweet):    \n",
        "    new_tweet = new_tweet.lower()\n",
        "    new_tweet = re.sub('[^\\w\\s]', '', new_tweet)\n",
        "    new_tweet = re.sub('\\d', '', new_tweet)\n",
        "\n",
        "    new_tweet = \" \".join(x for x in new_tweet.split() if x not in sw)\n",
        "    new_tweet = \" \".join([Word(word).lemmatize() for word in new_tweet.split()])\n",
        "    print(\"On preprocessing:\", new_tweet)\n",
        "    \n",
        "    tokenizer.fit_on_texts(new_tweet)\n",
        "\n",
        "    new_tweet = tokenizer.texts_to_sequences([new_tweet])\n",
        "\n",
        "    new_tweet =  pad_sequences(new_tweet, maxlen=max_length, truncating=trunc_type, padding=pad_type)\n",
        "\n",
        "    return new_tweet\n",
        "\n",
        "def predict_newTweet(tweet):\n",
        "    print(\"Input Tweet: \", tweet)\n",
        "    emb_tweet = preprocess_tweet(tweet)\n",
        "    result = (model.predict(emb_tweet) > 0.5).astype(\"int32\")\n",
        "#     print(result)\n",
        "    print(\"Output: \" + \"Real News\" if result[0][0] == 1 else \"Fake News\")\n"
      ],
      "metadata": {
        "id": "GvPd9r5rKIeV",
        "execution": {
          "iopub.status.busy": "2021-12-19T06:26:06.93753Z",
          "iopub.execute_input": "2021-12-19T06:26:06.938009Z",
          "iopub.status.idle": "2021-12-19T06:26:06.946103Z",
          "shell.execute_reply.started": "2021-12-19T06:26:06.937971Z",
          "shell.execute_reply": "2021-12-19T06:26:06.945206Z"
        },
        "trusted": true
      },
      "execution_count": 33,
      "outputs": []
    },
    {
      "cell_type": "code",
      "source": [
        "new_tweet = \"There is a treasure hidden beside the lake\"\n",
        "predict_newTweet(new_tweet)"
      ],
      "metadata": {
        "id": "sZgNxeBnKIeW",
        "outputId": "3b393577-a371-41cf-cffd-51e58d125919",
        "execution": {
          "iopub.status.busy": "2021-12-19T06:26:44.202394Z",
          "iopub.execute_input": "2021-12-19T06:26:44.202662Z",
          "iopub.status.idle": "2021-12-19T06:26:44.263946Z",
          "shell.execute_reply.started": "2021-12-19T06:26:44.202625Z",
          "shell.execute_reply": "2021-12-19T06:26:44.263224Z"
        },
        "trusted": true,
        "colab": {
          "base_uri": "https://localhost:8080/"
        }
      },
      "execution_count": 34,
      "outputs": [
        {
          "output_type": "stream",
          "name": "stdout",
          "text": [
            "Input Tweet:  There is a treasure hidden beside the lake\n",
            "On preprocessing: treasure hidden beside lake\n",
            "Fake News\n"
          ]
        }
      ]
    },
    {
      "cell_type": "code",
      "source": [
        "new_tweet = \"Please Wear a mask when you step out.Masks are important to protect us from corona virus Maintain social distancing. 300 today are vaccinated. Get your vaccine when its your turn\"\n",
        "predict_newTweet(new_tweet)"
      ],
      "metadata": {
        "id": "_n0fuinHKIeW",
        "outputId": "fd3f1df8-fbc5-44c9-eebc-e17241cefe92",
        "execution": {
          "iopub.status.busy": "2021-12-19T06:28:57.673426Z",
          "iopub.execute_input": "2021-12-19T06:28:57.673709Z",
          "iopub.status.idle": "2021-12-19T06:28:57.73608Z",
          "shell.execute_reply.started": "2021-12-19T06:28:57.67366Z",
          "shell.execute_reply": "2021-12-19T06:28:57.735341Z"
        },
        "trusted": true,
        "colab": {
          "base_uri": "https://localhost:8080/"
        }
      },
      "execution_count": 37,
      "outputs": [
        {
          "output_type": "stream",
          "name": "stdout",
          "text": [
            "Input Tweet:  Please Wear a mask when you step out.Masks are important to protect us from corona virus Maintain social distancing. 300 today are vaccinated. Get your vaccine when its your turn\n",
            "On preprocessing: please wear mask step outmasks important protect u corona virus maintain social distancing today vaccinated get vaccine turn\n",
            "Output: Real News\n"
          ]
        }
      ]
    },
    {
      "cell_type": "markdown",
      "source": [
        "# Word2Vec Exploration"
      ],
      "metadata": {
        "id": "rlwQ-MJ17ud6"
      }
    },
    {
      "cell_type": "code",
      "source": [
        "import gensim\n",
        "X = [d.split() for d in train_df['tweet'].tolist()]\n",
        "DIM = 300\n",
        "w2v_model = gensim.models.Word2Vec(sentences = X, size = DIM, window = 10, min_count = 1)"
      ],
      "metadata": {
        "id": "KLNVwil87w9c"
      },
      "execution_count": 38,
      "outputs": []
    },
    {
      "cell_type": "code",
      "source": [
        "tokenizer = Tokenizer()\n",
        "tokenizer.fit_on_texts(X)\n",
        "X = tokenizer.texts_to_sequences(X)\n",
        "X = pad_sequences(X, maxlen = 120)\n",
        "vocab_size = len(tokenizer.word_index) + 1"
      ],
      "metadata": {
        "id": "imsYe-Yf70Fk"
      },
      "execution_count": 39,
      "outputs": []
    },
    {
      "cell_type": "code",
      "source": [
        "vocab = tokenizer.word_index\n",
        "def get_weight_matrix(model):\n",
        "    weight_matrix = np.zeros((vocab_size, DIM))\n",
        "\n",
        "    for word, i in vocab.items():\n",
        "        weight_matrix[i] = model.wv[word]\n",
        "\n",
        "    return weight_matrix"
      ],
      "metadata": {
        "id": "yHlYImC670B0"
      },
      "execution_count": 40,
      "outputs": []
    },
    {
      "cell_type": "code",
      "source": [
        "embedding_vectors = get_weight_matrix(w2v_model)\n",
        "embedding_vectors.shape\n",
        "max_length = 120"
      ],
      "metadata": {
        "id": "XTgktlg470Ah"
      },
      "execution_count": 41,
      "outputs": []
    },
    {
      "cell_type": "code",
      "source": [
        "import tensorflow as tf\n",
        "from tensorflow.keras.layers import Embedding, LSTM, Dense, Bidirectional, Flatten, GlobalAveragePooling1D\n",
        "model = Sequential()\n",
        "model.add(Embedding(vocab_size, output_dim = DIM, weights = [embedding_vectors], input_length = max_length, trainable = True))\n",
        "model.add(tf.keras.layers.Conv1D(filters=32, kernel_size=8, activation='relu'))\n",
        "model.add(tf.keras.layers.MaxPooling1D(pool_size=2))\n",
        "model.add(LSTM(32, return_sequences=True))\n",
        "#model.add(Bidirectional(GRU(32, return_sequences=True)))\n",
        "model.add(Dropout(0.3))\n",
        "model.add(Flatten())\n",
        "model.add(Dense(32, activation=\"relu\"))\n",
        "model.add(Dropout(0.3))\n",
        "model.add(Dense(1, activation=\"sigmoid\"))\n",
        "model.compile(optimizer = 'adam', loss = 'binary_crossentropy', metrics = ['acc'])"
      ],
      "metadata": {
        "id": "STAFsogI7z9m"
      },
      "execution_count": 42,
      "outputs": []
    },
    {
      "cell_type": "code",
      "source": [
        "X_train, X_test, y_train, y_test = train_test_split(X,train_df['label'], test_size=0.2, random_state=111)\n",
        "print(X_train.shape, y_train.shape, X_test.shape, y_test.shape)"
      ],
      "metadata": {
        "colab": {
          "base_uri": "https://localhost:8080/"
        },
        "id": "wTS7f29s7z8F",
        "outputId": "95a788cc-7bee-4ce1-ee00-4cc628412584"
      },
      "execution_count": 43,
      "outputs": [
        {
          "output_type": "stream",
          "name": "stdout",
          "text": [
            "(4784, 120) (4784,) (1196, 120) (1196,)\n"
          ]
        }
      ]
    },
    {
      "cell_type": "code",
      "source": [
        "optimizer = tf.keras.optimizers.Adam(learning_rate = 0.0001)\n",
        "model.compile(loss = \"binary_crossentropy\",optimizer = optimizer,metrics = [\"accuracy\"])\n",
        "filepath = 'my_checkpoint.ckpt'\n",
        "cp = ModelCheckpoint(filepath=filepath,save_weights_only=True,save_best_only=True,monitor='val_accuracy',verbose=1)\n",
        "ep = EarlyStopping(monitor='val_accuracy', patience=7,)"
      ],
      "metadata": {
        "id": "E-zfQTdU8EVr"
      },
      "execution_count": 44,
      "outputs": []
    },
    {
      "cell_type": "code",
      "source": [
        "epochs=25\n",
        "history = model.fit(\n",
        "    X_train, y_train,\n",
        "    validation_split = 0.2,\n",
        "    callbacks=[cp,ep],\n",
        "    batch_size=128,\n",
        "    epochs=epochs\n",
        ")"
      ],
      "metadata": {
        "colab": {
          "base_uri": "https://localhost:8080/"
        },
        "id": "CWWhUoUt8ES2",
        "outputId": "260c014d-6797-4d86-f52a-7517022704fa"
      },
      "execution_count": 45,
      "outputs": [
        {
          "output_type": "stream",
          "name": "stdout",
          "text": [
            "Epoch 1/25\n",
            "29/30 [============================>.] - ETA: 0s - loss: 0.6472 - accuracy: 0.6533\n",
            "Epoch 00001: val_accuracy improved from -inf to 0.68861, saving model to my_checkpoint.ckpt\n",
            "30/30 [==============================] - 7s 83ms/step - loss: 0.6470 - accuracy: 0.6546 - val_loss: 0.6316 - val_accuracy: 0.6886\n",
            "Epoch 2/25\n",
            "29/30 [============================>.] - ETA: 0s - loss: 0.6014 - accuracy: 0.7225\n",
            "Epoch 00002: val_accuracy improved from 0.68861 to 0.71473, saving model to my_checkpoint.ckpt\n",
            "30/30 [==============================] - 1s 42ms/step - loss: 0.6007 - accuracy: 0.7241 - val_loss: 0.5854 - val_accuracy: 0.7147\n",
            "Epoch 3/25\n",
            "29/30 [============================>.] - ETA: 0s - loss: 0.5569 - accuracy: 0.7357\n",
            "Epoch 00003: val_accuracy improved from 0.71473 to 0.72623, saving model to my_checkpoint.ckpt\n",
            "30/30 [==============================] - 1s 44ms/step - loss: 0.5552 - accuracy: 0.7374 - val_loss: 0.5538 - val_accuracy: 0.7262\n",
            "Epoch 4/25\n",
            "30/30 [==============================] - ETA: 0s - loss: 0.5260 - accuracy: 0.7481\n",
            "Epoch 00004: val_accuracy improved from 0.72623 to 0.74295, saving model to my_checkpoint.ckpt\n",
            "30/30 [==============================] - 2s 58ms/step - loss: 0.5260 - accuracy: 0.7481 - val_loss: 0.5328 - val_accuracy: 0.7429\n",
            "Epoch 5/25\n",
            "29/30 [============================>.] - ETA: 0s - loss: 0.5021 - accuracy: 0.7640\n",
            "Epoch 00005: val_accuracy improved from 0.74295 to 0.77116, saving model to my_checkpoint.ckpt\n",
            "30/30 [==============================] - 1s 41ms/step - loss: 0.5010 - accuracy: 0.7646 - val_loss: 0.4975 - val_accuracy: 0.7712\n",
            "Epoch 6/25\n",
            "29/30 [============================>.] - ETA: 0s - loss: 0.4545 - accuracy: 0.7980\n",
            "Epoch 00006: val_accuracy improved from 0.77116 to 0.79624, saving model to my_checkpoint.ckpt\n",
            "30/30 [==============================] - 2s 54ms/step - loss: 0.4547 - accuracy: 0.7988 - val_loss: 0.4635 - val_accuracy: 0.7962\n",
            "Epoch 7/25\n",
            "29/30 [============================>.] - ETA: 0s - loss: 0.4004 - accuracy: 0.8370\n",
            "Epoch 00007: val_accuracy improved from 0.79624 to 0.80564, saving model to my_checkpoint.ckpt\n",
            "30/30 [==============================] - 1s 48ms/step - loss: 0.4000 - accuracy: 0.8375 - val_loss: 0.4426 - val_accuracy: 0.8056\n",
            "Epoch 8/25\n",
            "29/30 [============================>.] - ETA: 0s - loss: 0.3481 - accuracy: 0.8683\n",
            "Epoch 00008: val_accuracy improved from 0.80564 to 0.82654, saving model to my_checkpoint.ckpt\n",
            "30/30 [==============================] - 1s 49ms/step - loss: 0.3479 - accuracy: 0.8680 - val_loss: 0.3992 - val_accuracy: 0.8265\n",
            "Epoch 9/25\n",
            "29/30 [============================>.] - ETA: 0s - loss: 0.3015 - accuracy: 0.8890\n",
            "Epoch 00009: val_accuracy improved from 0.82654 to 0.84117, saving model to my_checkpoint.ckpt\n",
            "30/30 [==============================] - 1s 46ms/step - loss: 0.3013 - accuracy: 0.8892 - val_loss: 0.3822 - val_accuracy: 0.8412\n",
            "Epoch 10/25\n",
            "29/30 [============================>.] - ETA: 0s - loss: 0.2540 - accuracy: 0.9081\n",
            "Epoch 00010: val_accuracy did not improve from 0.84117\n",
            "30/30 [==============================] - 1s 35ms/step - loss: 0.2551 - accuracy: 0.9065 - val_loss: 0.3593 - val_accuracy: 0.8412\n",
            "Epoch 11/25\n",
            "29/30 [============================>.] - ETA: 0s - loss: 0.2269 - accuracy: 0.9130\n",
            "Epoch 00011: val_accuracy improved from 0.84117 to 0.84535, saving model to my_checkpoint.ckpt\n",
            "30/30 [==============================] - 1s 44ms/step - loss: 0.2257 - accuracy: 0.9138 - val_loss: 0.3424 - val_accuracy: 0.8454\n",
            "Epoch 12/25\n",
            "29/30 [============================>.] - ETA: 0s - loss: 0.1895 - accuracy: 0.9318\n",
            "Epoch 00012: val_accuracy improved from 0.84535 to 0.85998, saving model to my_checkpoint.ckpt\n",
            "30/30 [==============================] - 1s 45ms/step - loss: 0.1891 - accuracy: 0.9318 - val_loss: 0.3314 - val_accuracy: 0.8600\n",
            "Epoch 13/25\n",
            "29/30 [============================>.] - ETA: 0s - loss: 0.1618 - accuracy: 0.9405\n",
            "Epoch 00013: val_accuracy did not improve from 0.85998\n",
            "30/30 [==============================] - 1s 37ms/step - loss: 0.1616 - accuracy: 0.9404 - val_loss: 0.3893 - val_accuracy: 0.8474\n",
            "Epoch 14/25\n",
            "29/30 [============================>.] - ETA: 0s - loss: 0.1468 - accuracy: 0.9437\n",
            "Epoch 00014: val_accuracy improved from 0.85998 to 0.86625, saving model to my_checkpoint.ckpt\n",
            "30/30 [==============================] - 1s 46ms/step - loss: 0.1472 - accuracy: 0.9436 - val_loss: 0.3463 - val_accuracy: 0.8662\n",
            "Epoch 15/25\n",
            "29/30 [============================>.] - ETA: 0s - loss: 0.1248 - accuracy: 0.9561\n",
            "Epoch 00015: val_accuracy improved from 0.86625 to 0.87461, saving model to my_checkpoint.ckpt\n",
            "30/30 [==============================] - 1s 44ms/step - loss: 0.1256 - accuracy: 0.9553 - val_loss: 0.3191 - val_accuracy: 0.8746\n",
            "Epoch 16/25\n",
            "29/30 [============================>.] - ETA: 0s - loss: 0.1091 - accuracy: 0.9639\n",
            "Epoch 00016: val_accuracy did not improve from 0.87461\n",
            "30/30 [==============================] - 1s 35ms/step - loss: 0.1104 - accuracy: 0.9634 - val_loss: 0.3200 - val_accuracy: 0.8746\n",
            "Epoch 17/25\n",
            "30/30 [==============================] - ETA: 0s - loss: 0.1057 - accuracy: 0.9624\n",
            "Epoch 00017: val_accuracy did not improve from 0.87461\n",
            "30/30 [==============================] - 1s 38ms/step - loss: 0.1057 - accuracy: 0.9624 - val_loss: 0.3895 - val_accuracy: 0.8704\n",
            "Epoch 18/25\n",
            "29/30 [============================>.] - ETA: 0s - loss: 0.0942 - accuracy: 0.9647\n",
            "Epoch 00018: val_accuracy improved from 0.87461 to 0.87670, saving model to my_checkpoint.ckpt\n",
            "30/30 [==============================] - 1s 44ms/step - loss: 0.0935 - accuracy: 0.9652 - val_loss: 0.3332 - val_accuracy: 0.8767\n",
            "Epoch 19/25\n",
            "29/30 [============================>.] - ETA: 0s - loss: 0.0777 - accuracy: 0.9725\n",
            "Epoch 00019: val_accuracy did not improve from 0.87670\n",
            "30/30 [==============================] - 1s 36ms/step - loss: 0.0771 - accuracy: 0.9728 - val_loss: 0.3872 - val_accuracy: 0.8767\n",
            "Epoch 20/25\n",
            "30/30 [==============================] - ETA: 0s - loss: 0.0673 - accuracy: 0.9788\n",
            "Epoch 00020: val_accuracy improved from 0.87670 to 0.87774, saving model to my_checkpoint.ckpt\n",
            "30/30 [==============================] - 1s 45ms/step - loss: 0.0673 - accuracy: 0.9788 - val_loss: 0.3643 - val_accuracy: 0.8777\n",
            "Epoch 21/25\n",
            "29/30 [============================>.] - ETA: 0s - loss: 0.0594 - accuracy: 0.9795\n",
            "Epoch 00021: val_accuracy did not improve from 0.87774\n",
            "30/30 [==============================] - 1s 37ms/step - loss: 0.0591 - accuracy: 0.9796 - val_loss: 0.3752 - val_accuracy: 0.8777\n",
            "Epoch 22/25\n",
            "29/30 [============================>.] - ETA: 0s - loss: 0.0531 - accuracy: 0.9841\n",
            "Epoch 00022: val_accuracy improved from 0.87774 to 0.88192, saving model to my_checkpoint.ckpt\n",
            "30/30 [==============================] - 1s 45ms/step - loss: 0.0526 - accuracy: 0.9843 - val_loss: 0.3612 - val_accuracy: 0.8819\n",
            "Epoch 23/25\n",
            "29/30 [============================>.] - ETA: 0s - loss: 0.0501 - accuracy: 0.9828\n",
            "Epoch 00023: val_accuracy improved from 0.88192 to 0.88610, saving model to my_checkpoint.ckpt\n",
            "30/30 [==============================] - 1s 43ms/step - loss: 0.0502 - accuracy: 0.9825 - val_loss: 0.3910 - val_accuracy: 0.8861\n",
            "Epoch 24/25\n",
            "29/30 [============================>.] - ETA: 0s - loss: 0.0458 - accuracy: 0.9868\n",
            "Epoch 00024: val_accuracy did not improve from 0.88610\n",
            "30/30 [==============================] - 1s 34ms/step - loss: 0.0451 - accuracy: 0.9872 - val_loss: 0.4444 - val_accuracy: 0.8777\n",
            "Epoch 25/25\n",
            "29/30 [============================>.] - ETA: 0s - loss: 0.0502 - accuracy: 0.9836\n",
            "Epoch 00025: val_accuracy improved from 0.88610 to 0.88715, saving model to my_checkpoint.ckpt\n",
            "30/30 [==============================] - 1s 42ms/step - loss: 0.0501 - accuracy: 0.9838 - val_loss: 0.3807 - val_accuracy: 0.8871\n"
          ]
        }
      ]
    },
    {
      "cell_type": "code",
      "source": [
        "model.evaluate(X_test, y_test)"
      ],
      "metadata": {
        "colab": {
          "base_uri": "https://localhost:8080/"
        },
        "id": "qaALpu2x8EPy",
        "outputId": "0b711029-2aef-4f24-a04d-59cad08cdd83"
      },
      "execution_count": 46,
      "outputs": [
        {
          "output_type": "stream",
          "name": "stdout",
          "text": [
            "38/38 [==============================] - 0s 8ms/step - loss: 0.3821 - accuracy: 0.8921\n"
          ]
        },
        {
          "output_type": "execute_result",
          "data": {
            "text/plain": [
              "[0.38206419348716736, 0.8921404480934143]"
            ]
          },
          "metadata": {},
          "execution_count": 46
        }
      ]
    },
    {
      "cell_type": "code",
      "source": [
        "predictions = (model.predict(X_test) > 0.5).astype(\"int32\")\n",
        "accuracy = accuracy_score(y_test, predictions)\n",
        "print(\"Testing Accuracy: \", accuracy)"
      ],
      "metadata": {
        "colab": {
          "base_uri": "https://localhost:8080/"
        },
        "id": "JorRujE88EOQ",
        "outputId": "66ae2dda-49f0-4d45-8972-62436bfd64fe"
      },
      "execution_count": 47,
      "outputs": [
        {
          "output_type": "stream",
          "name": "stdout",
          "text": [
            "Testing Accuracy:  0.8921404682274248\n"
          ]
        }
      ]
    },
    {
      "cell_type": "code",
      "source": [
        "print('Confusion Matrix')\n",
        "cm = confusion_matrix(y_test, predictions)\n",
        "print(sns.heatmap(confusion_matrix(y_test, predictions),annot=True,fmt=\"d\"))\n",
        "print(classification_report(y_test, predictions, digits=5))"
      ],
      "metadata": {
        "colab": {
          "base_uri": "https://localhost:8080/",
          "height": 466
        },
        "id": "JkVPVNXQ7zw4",
        "outputId": "ab2ade78-cade-4b89-fc44-1ff94aa9a985"
      },
      "execution_count": 48,
      "outputs": [
        {
          "output_type": "stream",
          "name": "stdout",
          "text": [
            "Confusion Matrix\n",
            "AxesSubplot(0.125,0.125;0.62x0.755)\n",
            "              precision    recall  f1-score   support\n",
            "\n",
            "           0    0.90084   0.88449   0.89259       606\n",
            "           1    0.88353   0.90000   0.89169       590\n",
            "\n",
            "    accuracy                        0.89214      1196\n",
            "   macro avg    0.89218   0.89224   0.89214      1196\n",
            "weighted avg    0.89230   0.89214   0.89214      1196\n",
            "\n"
          ]
        },
        {
          "output_type": "display_data",
          "data": {
            "image/png": "[encoded data removed]",
            "text/plain": [
              "<Figure size 432x288 with 2 Axes>"
            ]
          },
          "metadata": {
            "needs_background": "light"
          }
        }
      ]
    },
    {
      "cell_type": "markdown",
      "source": [
        "# Glove Exploration"
      ],
      "metadata": {
        "id": "AJVWfjbAmjmd"
      }
    },
    {
      "cell_type": "code",
      "source": [
        "from google.colab import drive\n",
        "drive.mount('/content/drive')"
      ],
      "metadata": {
        "colab": {
          "base_uri": "https://localhost:8080/"
        },
        "id": "6jGJ2YZ78ZPX",
        "outputId": "21c8ec4a-7a6a-4701-df40-80363fc67226"
      },
      "execution_count": 49,
      "outputs": [
        {
          "output_type": "stream",
          "name": "stdout",
          "text": [
            "Mounted at /content/drive\n"
          ]
        }
      ]
    },
    {
      "cell_type": "code",
      "source": [
        "X_train, X_test, y_train, y_test = train_test_split(train_df['tweet'],train_df['label'], test_size=0.2, random_state=111)\n",
        "print(X_train.shape, y_train.shape, X_test.shape, y_test.shape)"
      ],
      "metadata": {
        "id": "7wwPQOhGml5-",
        "outputId": "e451facb-2267-440c-e845-44be85333315",
        "execution": {
          "iopub.status.busy": "2021-12-20T17:23:53.47674Z",
          "iopub.execute_input": "2021-12-20T17:23:53.477394Z",
          "iopub.status.idle": "2021-12-20T17:23:53.487102Z",
          "shell.execute_reply.started": "2021-12-20T17:23:53.477346Z",
          "shell.execute_reply": "2021-12-20T17:23:53.486378Z"
        },
        "trusted": true,
        "colab": {
          "base_uri": "https://localhost:8080/"
        }
      },
      "execution_count": 50,
      "outputs": [
        {
          "output_type": "stream",
          "name": "stdout",
          "text": [
            "(4784,) (4784,) (1196,) (1196,)\n"
          ]
        }
      ]
    },
    {
      "cell_type": "code",
      "source": [
        "tokenizer = Tokenizer(num_words=5000)\n",
        "tokenizer.fit_on_texts(X_train)\n",
        "words_to_index = tokenizer.word_index"
      ],
      "metadata": {
        "id": "kwr_CG49mu4s",
        "execution": {
          "iopub.status.busy": "2021-12-20T17:23:56.981847Z",
          "iopub.execute_input": "2021-12-20T17:23:56.982543Z",
          "iopub.status.idle": "2021-12-20T17:23:57.099384Z",
          "shell.execute_reply.started": "2021-12-20T17:23:56.982504Z",
          "shell.execute_reply": "2021-12-20T17:23:57.098655Z"
        },
        "trusted": true
      },
      "execution_count": 51,
      "outputs": []
    },
    {
      "cell_type": "code",
      "source": [
        "def read_glove_vector(glove_vec):\n",
        "  with open(glove_vec, 'r', encoding='UTF-8') as f:\n",
        "    words = set()\n",
        "    word_to_vec_map = {}\n",
        "    for line in f:\n",
        "      w_line = line.split()\n",
        "      curr_word = w_line[0]\n",
        "      word_to_vec_map[curr_word] = np.array(w_line[1:], dtype=np.float64)\n",
        "\n",
        "  return word_to_vec_map"
      ],
      "metadata": {
        "id": "cdoEM3OCmxMs",
        "execution": {
          "iopub.status.busy": "2021-12-20T17:23:57.963333Z",
          "iopub.execute_input": "2021-12-20T17:23:57.96392Z",
          "iopub.status.idle": "2021-12-20T17:23:57.969461Z",
          "shell.execute_reply.started": "2021-12-20T17:23:57.96388Z",
          "shell.execute_reply": "2021-12-20T17:23:57.968432Z"
        },
        "trusted": true
      },
      "execution_count": 52,
      "outputs": []
    },
    {
      "cell_type": "code",
      "source": [
        "word_to_vec_map = read_glove_vector('/content/drive/MyDrive/a_fake_news_detection/glove.6B.50d.txt')\n",
        "maxLen = 120"
      ],
      "metadata": {
        "id": "NWa5n-MEmypA",
        "execution": {
          "iopub.status.busy": "2021-12-20T17:23:59.841742Z",
          "iopub.execute_input": "2021-12-20T17:23:59.84239Z",
          "iopub.status.idle": "2021-12-20T17:24:15.865917Z",
          "shell.execute_reply.started": "2021-12-20T17:23:59.842348Z",
          "shell.execute_reply": "2021-12-20T17:24:15.865166Z"
        },
        "trusted": true
      },
      "execution_count": 53,
      "outputs": []
    },
    {
      "cell_type": "code",
      "source": [
        "vocab_len = len(words_to_index) + 1\n",
        "embed_vector_len = word_to_vec_map['moon'].shape[0]\n",
        "emb_matrix = np.zeros((vocab_len, embed_vector_len))\n",
        "for word, index in words_to_index.items():\n",
        "  embedding_vector = word_to_vec_map.get(word)\n",
        "  if embedding_vector is not None:\n",
        "    emb_matrix[index, :] = embedding_vector\n",
        "\n",
        "#embedding_layer = Embedding(input_dim=vocab_len, output_dim=embed_vector_len, input_length=maxLen, weights = [emb_matrix], trainable=False)"
      ],
      "metadata": {
        "id": "IXTgMOFFm1pT",
        "execution": {
          "iopub.status.busy": "2021-12-20T17:24:15.867374Z",
          "iopub.execute_input": "2021-12-20T17:24:15.868073Z",
          "iopub.status.idle": "2021-12-20T17:24:15.901604Z",
          "shell.execute_reply.started": "2021-12-20T17:24:15.868022Z",
          "shell.execute_reply": "2021-12-20T17:24:15.900964Z"
        },
        "trusted": true
      },
      "execution_count": 54,
      "outputs": []
    },
    {
      "cell_type": "code",
      "source": [
        "X_train_padded = tokenizer.texts_to_sequences(X_train)\n",
        "X_train_padded = pad_sequences(X_train_padded, maxlen=maxLen, padding='post')\n",
        "X_test_padded = tokenizer.texts_to_sequences(X_test)\n",
        "X_test_padded = pad_sequences(X_test_padded, maxlen=maxLen, padding='post')"
      ],
      "metadata": {
        "id": "v8mDl46Jm5xj",
        "execution": {
          "iopub.status.busy": "2021-12-20T17:24:30.728694Z",
          "iopub.execute_input": "2021-12-20T17:24:30.729238Z",
          "iopub.status.idle": "2021-12-20T17:24:30.888399Z",
          "shell.execute_reply.started": "2021-12-20T17:24:30.729197Z",
          "shell.execute_reply": "2021-12-20T17:24:30.88766Z"
        },
        "trusted": true
      },
      "execution_count": 55,
      "outputs": []
    },
    {
      "cell_type": "code",
      "source": [
        "model = Sequential()\n",
        "# define CNN model\n",
        "#model.add(Embedding(vocab_size, embedding_dim, input_length=max_length))\n",
        "model.add(Embedding(input_dim=vocab_len, output_dim=embed_vector_len, input_length=120, weights = [emb_matrix], trainable=True))\n",
        "model.add(tf.keras.layers.Conv1D(filters=32, kernel_size=8, activation='relu'))\n",
        "model.add(tf.keras.layers.MaxPooling1D(pool_size=2))\n",
        "# define LSTM model\n",
        "model.add(Bidirectional(GRU(32, return_sequences=True)))\n",
        "#model.add(GRU(32, return_sequences=True))\n",
        "#model.add(Dropout(0.3))\n",
        "model.add(Flatten())\n",
        "model.add(Dense(32, activation=\"relu\"))\n",
        "model.add(Dense(1, activation=\"sigmoid\"))"
      ],
      "metadata": {
        "id": "q4J-MV3Ym8a_",
        "execution": {
          "iopub.status.busy": "2021-12-20T17:24:45.701624Z",
          "iopub.execute_input": "2021-12-20T17:24:45.701877Z",
          "iopub.status.idle": "2021-12-20T17:24:48.642121Z",
          "shell.execute_reply.started": "2021-12-20T17:24:45.701848Z",
          "shell.execute_reply": "2021-12-20T17:24:48.641412Z"
        },
        "trusted": true
      },
      "execution_count": 56,
      "outputs": []
    },
    {
      "cell_type": "code",
      "source": [
        "model.summary()"
      ],
      "metadata": {
        "execution": {
          "iopub.status.busy": "2021-12-20T17:24:53.356436Z",
          "iopub.execute_input": "2021-12-20T17:24:53.356756Z",
          "iopub.status.idle": "2021-12-20T17:24:53.367302Z",
          "shell.execute_reply.started": "2021-12-20T17:24:53.356719Z",
          "shell.execute_reply": "2021-12-20T17:24:53.366456Z"
        },
        "trusted": true,
        "colab": {
          "base_uri": "https://localhost:8080/"
        },
        "id": "C-p5T8j64Jxi",
        "outputId": "17a23869-a418-408f-95ab-b2f9bfc37d09"
      },
      "execution_count": 57,
      "outputs": [
        {
          "output_type": "stream",
          "name": "stdout",
          "text": [
            "Model: \"sequential_2\"\n",
            "_________________________________________________________________\n",
            " Layer (type)                Output Shape              Param #   \n",
            "=================================================================\n",
            " embedding_2 (Embedding)     (None, 120, 50)           738350    \n",
            "                                                                 \n",
            " conv1d_2 (Conv1D)           (None, 113, 32)           12832     \n",
            "                                                                 \n",
            " max_pooling1d_1 (MaxPooling  (None, 56, 32)           0         \n",
            " 1D)                                                             \n",
            "                                                                 \n",
            " bidirectional_1 (Bidirectio  (None, 56, 64)           12672     \n",
            " nal)                                                            \n",
            "                                                                 \n",
            " flatten_2 (Flatten)         (None, 3584)              0         \n",
            "                                                                 \n",
            " dense_4 (Dense)             (None, 32)                114720    \n",
            "                                                                 \n",
            " dense_5 (Dense)             (None, 1)                 33        \n",
            "                                                                 \n",
            "=================================================================\n",
            "Total params: 878,607\n",
            "Trainable params: 878,607\n",
            "Non-trainable params: 0\n",
            "_________________________________________________________________\n"
          ]
        }
      ]
    },
    {
      "cell_type": "code",
      "source": [
        "optimizer = tf.keras.optimizers.Adam(learning_rate = 0.0001)\n",
        "model.compile(loss = \"binary_crossentropy\",optimizer = optimizer,metrics = [\"accuracy\"])\n",
        "filepath = 'my_checkpoint.ckpt'\n",
        "cp = ModelCheckpoint(filepath=filepath,save_weights_only=True,save_best_only=True,monitor='val_accuracy',verbose=1)\n",
        "ep = EarlyStopping(monitor='val_accuracy', patience=7)"
      ],
      "metadata": {
        "id": "bYsVDl3SnAa0",
        "execution": {
          "iopub.status.busy": "2021-12-20T17:24:58.222555Z",
          "iopub.execute_input": "2021-12-20T17:24:58.22281Z",
          "iopub.status.idle": "2021-12-20T17:24:58.239121Z",
          "shell.execute_reply.started": "2021-12-20T17:24:58.222781Z",
          "shell.execute_reply": "2021-12-20T17:24:58.23839Z"
        },
        "trusted": true
      },
      "execution_count": 58,
      "outputs": []
    },
    {
      "cell_type": "code",
      "source": [
        "epochs=25\n",
        "history = model.fit(\n",
        "    X_train_padded, y_train,\n",
        "    validation_split = 0.2,\n",
        "    callbacks=[cp,ep],\n",
        "    batch_size=128,\n",
        "    epochs=epochs\n",
        ")"
      ],
      "metadata": {
        "id": "GJcgK4WBnCNW",
        "outputId": "8f08073b-e62a-41d1-e162-f34e5252247f",
        "execution": {
          "iopub.status.busy": "2021-12-20T17:25:02.42669Z",
          "iopub.execute_input": "2021-12-20T17:25:02.42695Z",
          "iopub.status.idle": "2021-12-20T17:25:22.923479Z",
          "shell.execute_reply.started": "2021-12-20T17:25:02.426912Z",
          "shell.execute_reply": "2021-12-20T17:25:22.922771Z"
        },
        "trusted": true,
        "colab": {
          "base_uri": "https://localhost:8080/"
        }
      },
      "execution_count": 59,
      "outputs": [
        {
          "output_type": "stream",
          "name": "stdout",
          "text": [
            "Epoch 1/25\n",
            "30/30 [==============================] - ETA: 0s - loss: 0.6690 - accuracy: 0.6057\n",
            "Epoch 00001: val_accuracy improved from -inf to 0.70219, saving model to my_checkpoint.ckpt\n",
            "30/30 [==============================] - 7s 76ms/step - loss: 0.6690 - accuracy: 0.6057 - val_loss: 0.6379 - val_accuracy: 0.7022\n",
            "Epoch 2/25\n",
            "29/30 [============================>.] - ETA: 0s - loss: 0.5927 - accuracy: 0.7349\n",
            "Epoch 00002: val_accuracy improved from 0.70219 to 0.70637, saving model to my_checkpoint.ckpt\n",
            "30/30 [==============================] - 1s 35ms/step - loss: 0.5913 - accuracy: 0.7353 - val_loss: 0.5836 - val_accuracy: 0.7064\n",
            "Epoch 3/25\n",
            "29/30 [============================>.] - ETA: 0s - loss: 0.5314 - accuracy: 0.7476\n",
            "Epoch 00003: val_accuracy improved from 0.70637 to 0.72518, saving model to my_checkpoint.ckpt\n",
            "30/30 [==============================] - 1s 36ms/step - loss: 0.5305 - accuracy: 0.7478 - val_loss: 0.5362 - val_accuracy: 0.7252\n",
            "Epoch 4/25\n",
            "29/30 [============================>.] - ETA: 0s - loss: 0.4790 - accuracy: 0.7772\n",
            "Epoch 00004: val_accuracy improved from 0.72518 to 0.76385, saving model to my_checkpoint.ckpt\n",
            "30/30 [==============================] - 1s 37ms/step - loss: 0.4780 - accuracy: 0.7782 - val_loss: 0.4914 - val_accuracy: 0.7638\n",
            "Epoch 5/25\n",
            "29/30 [============================>.] - ETA: 0s - loss: 0.4368 - accuracy: 0.8071\n",
            "Epoch 00005: val_accuracy improved from 0.76385 to 0.77743, saving model to my_checkpoint.ckpt\n",
            "30/30 [==============================] - 1s 37ms/step - loss: 0.4371 - accuracy: 0.8069 - val_loss: 0.4608 - val_accuracy: 0.7774\n",
            "Epoch 6/25\n",
            "29/30 [============================>.] - ETA: 0s - loss: 0.4081 - accuracy: 0.8225\n",
            "Epoch 00006: val_accuracy improved from 0.77743 to 0.79519, saving model to my_checkpoint.ckpt\n",
            "30/30 [==============================] - 1s 38ms/step - loss: 0.4074 - accuracy: 0.8228 - val_loss: 0.4337 - val_accuracy: 0.7952\n",
            "Epoch 7/25\n",
            "29/30 [============================>.] - ETA: 0s - loss: 0.3852 - accuracy: 0.8308\n",
            "Epoch 00007: val_accuracy improved from 0.79519 to 0.79937, saving model to my_checkpoint.ckpt\n",
            "30/30 [==============================] - 1s 40ms/step - loss: 0.3851 - accuracy: 0.8304 - val_loss: 0.4188 - val_accuracy: 0.7994\n",
            "Epoch 8/25\n",
            "29/30 [============================>.] - ETA: 0s - loss: 0.3663 - accuracy: 0.8416\n",
            "Epoch 00008: val_accuracy improved from 0.79937 to 0.80669, saving model to my_checkpoint.ckpt\n",
            "30/30 [==============================] - 1s 39ms/step - loss: 0.3649 - accuracy: 0.8417 - val_loss: 0.4039 - val_accuracy: 0.8067\n",
            "Epoch 9/25\n",
            "29/30 [============================>.] - ETA: 0s - loss: 0.3475 - accuracy: 0.8491\n",
            "Epoch 00009: val_accuracy improved from 0.80669 to 0.81923, saving model to my_checkpoint.ckpt\n",
            "30/30 [==============================] - 1s 39ms/step - loss: 0.3483 - accuracy: 0.8495 - val_loss: 0.3945 - val_accuracy: 0.8192\n",
            "Epoch 10/25\n",
            "29/30 [============================>.] - ETA: 0s - loss: 0.3323 - accuracy: 0.8599\n",
            "Epoch 00010: val_accuracy improved from 0.81923 to 0.82236, saving model to my_checkpoint.ckpt\n",
            "30/30 [==============================] - 1s 40ms/step - loss: 0.3335 - accuracy: 0.8594 - val_loss: 0.3830 - val_accuracy: 0.8224\n",
            "Epoch 11/25\n",
            "29/30 [============================>.] - ETA: 0s - loss: 0.3186 - accuracy: 0.8648\n",
            "Epoch 00011: val_accuracy did not improve from 0.82236\n",
            "30/30 [==============================] - 1s 37ms/step - loss: 0.3174 - accuracy: 0.8652 - val_loss: 0.3773 - val_accuracy: 0.8140\n",
            "Epoch 12/25\n",
            "29/30 [============================>.] - ETA: 0s - loss: 0.3058 - accuracy: 0.8680\n",
            "Epoch 00012: val_accuracy improved from 0.82236 to 0.83386, saving model to my_checkpoint.ckpt\n",
            "30/30 [==============================] - 1s 39ms/step - loss: 0.3061 - accuracy: 0.8675 - val_loss: 0.3660 - val_accuracy: 0.8339\n",
            "Epoch 13/25\n",
            "29/30 [============================>.] - ETA: 0s - loss: 0.2928 - accuracy: 0.8785\n",
            "Epoch 00013: val_accuracy improved from 0.83386 to 0.83908, saving model to my_checkpoint.ckpt\n",
            "30/30 [==============================] - 1s 39ms/step - loss: 0.2924 - accuracy: 0.8793 - val_loss: 0.3592 - val_accuracy: 0.8391\n",
            "Epoch 14/25\n",
            "29/30 [============================>.] - ETA: 0s - loss: 0.2795 - accuracy: 0.8801\n",
            "Epoch 00014: val_accuracy did not improve from 0.83908\n",
            "30/30 [==============================] - 1s 38ms/step - loss: 0.2808 - accuracy: 0.8788 - val_loss: 0.3536 - val_accuracy: 0.8349\n",
            "Epoch 15/25\n",
            "29/30 [============================>.] - ETA: 0s - loss: 0.2676 - accuracy: 0.8890\n",
            "Epoch 00015: val_accuracy improved from 0.83908 to 0.84222, saving model to my_checkpoint.ckpt\n",
            "30/30 [==============================] - 1s 39ms/step - loss: 0.2675 - accuracy: 0.8882 - val_loss: 0.3485 - val_accuracy: 0.8422\n",
            "Epoch 16/25\n",
            "29/30 [============================>.] - ETA: 0s - loss: 0.2586 - accuracy: 0.8941\n",
            "Epoch 00016: val_accuracy did not improve from 0.84222\n",
            "30/30 [==============================] - 1s 37ms/step - loss: 0.2576 - accuracy: 0.8944 - val_loss: 0.3552 - val_accuracy: 0.8422\n",
            "Epoch 17/25\n",
            "29/30 [============================>.] - ETA: 0s - loss: 0.2467 - accuracy: 0.8982\n",
            "Epoch 00017: val_accuracy improved from 0.84222 to 0.84848, saving model to my_checkpoint.ckpt\n",
            "30/30 [==============================] - 1s 39ms/step - loss: 0.2450 - accuracy: 0.8991 - val_loss: 0.3410 - val_accuracy: 0.8485\n",
            "Epoch 18/25\n",
            "29/30 [============================>.] - ETA: 0s - loss: 0.2334 - accuracy: 0.9046\n",
            "Epoch 00018: val_accuracy did not improve from 0.84848\n",
            "30/30 [==============================] - 1s 37ms/step - loss: 0.2336 - accuracy: 0.9041 - val_loss: 0.3336 - val_accuracy: 0.8485\n",
            "Epoch 19/25\n",
            "29/30 [============================>.] - ETA: 0s - loss: 0.2240 - accuracy: 0.9108\n",
            "Epoch 00019: val_accuracy improved from 0.84848 to 0.85475, saving model to my_checkpoint.ckpt\n",
            "30/30 [==============================] - 1s 39ms/step - loss: 0.2247 - accuracy: 0.9104 - val_loss: 0.3317 - val_accuracy: 0.8548\n",
            "Epoch 20/25\n",
            "29/30 [============================>.] - ETA: 0s - loss: 0.2159 - accuracy: 0.9116\n",
            "Epoch 00020: val_accuracy did not improve from 0.85475\n",
            "30/30 [==============================] - 1s 38ms/step - loss: 0.2157 - accuracy: 0.9119 - val_loss: 0.3285 - val_accuracy: 0.8548\n",
            "Epoch 21/25\n",
            "29/30 [============================>.] - ETA: 0s - loss: 0.2034 - accuracy: 0.9235\n",
            "Epoch 00021: val_accuracy improved from 0.85475 to 0.86102, saving model to my_checkpoint.ckpt\n",
            "30/30 [==============================] - 2s 58ms/step - loss: 0.2030 - accuracy: 0.9234 - val_loss: 0.3250 - val_accuracy: 0.8610\n",
            "Epoch 22/25\n",
            "30/30 [==============================] - ETA: 0s - loss: 0.1941 - accuracy: 0.9263\n",
            "Epoch 00022: val_accuracy improved from 0.86102 to 0.86416, saving model to my_checkpoint.ckpt\n",
            "30/30 [==============================] - 2s 57ms/step - loss: 0.1941 - accuracy: 0.9263 - val_loss: 0.3226 - val_accuracy: 0.8642\n",
            "Epoch 23/25\n",
            "30/30 [==============================] - ETA: 0s - loss: 0.1826 - accuracy: 0.9321\n",
            "Epoch 00023: val_accuracy did not improve from 0.86416\n",
            "30/30 [==============================] - 1s 39ms/step - loss: 0.1826 - accuracy: 0.9321 - val_loss: 0.3230 - val_accuracy: 0.8516\n",
            "Epoch 24/25\n",
            "29/30 [============================>.] - ETA: 0s - loss: 0.1744 - accuracy: 0.9345\n",
            "Epoch 00024: val_accuracy did not improve from 0.86416\n",
            "30/30 [==============================] - 1s 37ms/step - loss: 0.1727 - accuracy: 0.9355 - val_loss: 0.3181 - val_accuracy: 0.8631\n",
            "Epoch 25/25\n",
            "29/30 [============================>.] - ETA: 0s - loss: 0.1625 - accuracy: 0.9397\n",
            "Epoch 00025: val_accuracy did not improve from 0.86416\n",
            "30/30 [==============================] - 1s 38ms/step - loss: 0.1631 - accuracy: 0.9399 - val_loss: 0.3193 - val_accuracy: 0.8621\n"
          ]
        }
      ]
    },
    {
      "cell_type": "code",
      "source": [
        "model.evaluate(X_test_padded, y_test)"
      ],
      "metadata": {
        "id": "XKLfUfhqnGal",
        "outputId": "dfc6434b-2e16-4fa0-8918-3b2bcf60820c",
        "execution": {
          "iopub.status.busy": "2021-12-20T17:25:29.101268Z",
          "iopub.execute_input": "2021-12-20T17:25:29.101694Z",
          "iopub.status.idle": "2021-12-20T17:25:29.434144Z",
          "shell.execute_reply.started": "2021-12-20T17:25:29.101657Z",
          "shell.execute_reply": "2021-12-20T17:25:29.433275Z"
        },
        "trusted": true,
        "colab": {
          "base_uri": "https://localhost:8080/"
        }
      },
      "execution_count": 60,
      "outputs": [
        {
          "output_type": "stream",
          "name": "stdout",
          "text": [
            "38/38 [==============================] - 1s 12ms/step - loss: 0.3220 - accuracy: 0.8587\n"
          ]
        },
        {
          "output_type": "execute_result",
          "data": {
            "text/plain": [
              "[0.3220472037792206, 0.8586956262588501]"
            ]
          },
          "metadata": {},
          "execution_count": 60
        }
      ]
    },
    {
      "cell_type": "code",
      "source": [
        "predictions = (model.predict(X_test_padded) >= 0.5).astype(\"int32\")\n",
        "accuracy = accuracy_score(y_test, predictions)\n",
        "print(\"Testing Accuracy: \", accuracy)"
      ],
      "metadata": {
        "id": "ij5bfkzrnJav",
        "outputId": "d921b7ba-a9d1-4fee-a497-19e85a7e959f",
        "execution": {
          "iopub.status.busy": "2021-12-20T17:25:32.531728Z",
          "iopub.execute_input": "2021-12-20T17:25:32.531993Z",
          "iopub.status.idle": "2021-12-20T17:25:33.180785Z",
          "shell.execute_reply.started": "2021-12-20T17:25:32.531962Z",
          "shell.execute_reply": "2021-12-20T17:25:33.180094Z"
        },
        "trusted": true,
        "colab": {
          "base_uri": "https://localhost:8080/"
        }
      },
      "execution_count": 61,
      "outputs": [
        {
          "output_type": "stream",
          "name": "stdout",
          "text": [
            "Testing Accuracy:  0.8586956521739131\n"
          ]
        }
      ]
    },
    {
      "cell_type": "code",
      "source": [
        "print('Confusion Matrix')\n",
        "cm = confusion_matrix(y_test, predictions)\n",
        "print(sns.heatmap(confusion_matrix(y_test, predictions),annot=True,fmt=\"d\"))\n",
        "print(classification_report(y_test, predictions, digits=5))"
      ],
      "metadata": {
        "execution": {
          "iopub.status.busy": "2021-12-20T17:25:39.234921Z",
          "iopub.execute_input": "2021-12-20T17:25:39.235202Z",
          "iopub.status.idle": "2021-12-20T17:25:39.470672Z",
          "shell.execute_reply.started": "2021-12-20T17:25:39.235172Z",
          "shell.execute_reply": "2021-12-20T17:25:39.469918Z"
        },
        "trusted": true,
        "colab": {
          "base_uri": "https://localhost:8080/",
          "height": 466
        },
        "id": "RZV5FSvX4Jxi",
        "outputId": "b00cbf0e-5882-4f54-f861-442c51069445"
      },
      "execution_count": 62,
      "outputs": [
        {
          "output_type": "stream",
          "name": "stdout",
          "text": [
            "Confusion Matrix\n",
            "AxesSubplot(0.125,0.125;0.62x0.755)\n",
            "              precision    recall  f1-score   support\n",
            "\n",
            "           0    0.88401   0.83003   0.85617       606\n",
            "           1    0.83573   0.88814   0.86113       590\n",
            "\n",
            "    accuracy                        0.85870      1196\n",
            "   macro avg    0.85987   0.85908   0.85865      1196\n",
            "weighted avg    0.86019   0.85870   0.85862      1196\n",
            "\n"
          ]
        },
        {
          "output_type": "display_data",
          "data": {
            "image/png": "[encoded data removed]",
            "text/plain": [
              "<Figure size 432x288 with 2 Axes>"
            ]
          },
          "metadata": {
            "needs_background": "light"
          }
        }
      ]
    },
    {
      "cell_type": "code",
      "source": [
        ""
      ],
      "metadata": {
        "id": "2gVasS8Z4Jxj"
      },
      "execution_count": null,
      "outputs": []
    },
    {
      "cell_type": "markdown",
      "source": [
        "# BERT Exploration"
      ],
      "metadata": {
        "id": "BGSRrfTL4JxT"
      }
    },
    {
      "cell_type": "code",
      "source": [
        "X_train, X_test, y_train, y_test = train_test_split(train_df['tweet'],train_df['label'], test_size=0.2, random_state=111)\n",
        "print(X_train.shape, y_train.shape, X_test.shape, y_test.shape)"
      ],
      "metadata": {
        "execution": {
          "iopub.status.busy": "2021-12-26T16:36:40.140450Z",
          "iopub.execute_input": "2021-12-26T16:36:40.140915Z",
          "iopub.status.idle": "2021-12-26T16:36:40.151742Z",
          "shell.execute_reply.started": "2021-12-26T16:36:40.140876Z",
          "shell.execute_reply": "2021-12-26T16:36:40.150890Z"
        },
        "trusted": true,
        "id": "vDNM-D3x4JxU",
        "outputId": "21947e8f-76e8-4b0c-f850-a1f9924356e8"
      },
      "execution_count": null,
      "outputs": [
        {
          "name": "stdout",
          "text": "(4784,) (4784,) (1196,) (1196,)\n",
          "output_type": "stream"
        }
      ]
    },
    {
      "cell_type": "code",
      "source": [
        "bert_abstract = \"\"\n",
        "for sent in X_train:\n",
        "    bert_abstract += sent +\" \""
      ],
      "metadata": {
        "execution": {
          "iopub.status.busy": "2021-12-26T16:36:42.525069Z",
          "iopub.execute_input": "2021-12-26T16:36:42.525325Z",
          "iopub.status.idle": "2021-12-26T16:36:42.533330Z",
          "shell.execute_reply.started": "2021-12-26T16:36:42.525298Z",
          "shell.execute_reply": "2021-12-26T16:36:42.532632Z"
        },
        "trusted": true,
        "id": "-oEYSzUN4JxU"
      },
      "execution_count": null,
      "outputs": []
    },
    {
      "cell_type": "code",
      "source": [
        "len(bert_abstract)"
      ],
      "metadata": {
        "execution": {
          "iopub.status.busy": "2021-12-26T16:36:44.168395Z",
          "iopub.execute_input": "2021-12-26T16:36:44.169043Z",
          "iopub.status.idle": "2021-12-26T16:36:44.174764Z",
          "shell.execute_reply.started": "2021-12-26T16:36:44.169007Z",
          "shell.execute_reply": "2021-12-26T16:36:44.174078Z"
        },
        "trusted": true,
        "id": "CelQEndW4JxV",
        "outputId": "8581f957-f42a-4c8f-80bf-bcc1bc006005"
      },
      "execution_count": null,
      "outputs": [
        {
          "execution_count": 16,
          "output_type": "execute_result",
          "data": {
            "text/plain": "613822"
          },
          "metadata": {}
        }
      ]
    },
    {
      "cell_type": "code",
      "source": [
        "!pip install transformers -U"
      ],
      "metadata": {
        "execution": {
          "iopub.status.busy": "2021-12-26T16:36:47.607299Z",
          "iopub.execute_input": "2021-12-26T16:36:47.607998Z",
          "iopub.status.idle": "2021-12-26T16:37:01.945360Z",
          "shell.execute_reply.started": "2021-12-26T16:36:47.607933Z",
          "shell.execute_reply": "2021-12-26T16:37:01.944512Z"
        },
        "trusted": true,
        "id": "ssLg2UOm4JxV",
        "outputId": "0a28c074-3949-4918-d224-0f9c064c5e3e"
      },
      "execution_count": null,
      "outputs": [
        {
          "name": "stdout",
          "text": "Requirement already satisfied: transformers in /opt/conda/lib/python3.7/site-packages (4.12.5)\nCollecting transformers\n  Downloading transformers-4.15.0-py3-none-any.whl (3.4 MB)\n     |████████████████████████████████| 3.4 MB 608 kB/s            \n\u001b[?25hRequirement already satisfied: tokenizers<0.11,>=0.10.1 in /opt/conda/lib/python3.7/site-packages (from transformers) (0.10.3)\nRequirement already satisfied: huggingface-hub<1.0,>=0.1.0 in /opt/conda/lib/python3.7/site-packages (from transformers) (0.1.2)\nRequirement already satisfied: pyyaml>=5.1 in /opt/conda/lib/python3.7/site-packages (from transformers) (6.0)\nRequirement already satisfied: regex!=2019.12.17 in /opt/conda/lib/python3.7/site-packages (from transformers) (2021.11.10)\nRequirement already satisfied: sacremoses in /opt/conda/lib/python3.7/site-packages (from transformers) (0.0.46)\nRequirement already satisfied: requests in /opt/conda/lib/python3.7/site-packages (from transformers) (2.25.1)\nRequirement already satisfied: tqdm>=4.27 in /opt/conda/lib/python3.7/site-packages (from transformers) (4.62.3)\nRequirement already satisfied: filelock in /opt/conda/lib/python3.7/site-packages (from transformers) (3.3.2)\nRequirement already satisfied: importlib-metadata in /opt/conda/lib/python3.7/site-packages (from transformers) (4.8.2)\nRequirement already satisfied: numpy>=1.17 in /opt/conda/lib/python3.7/site-packages (from transformers) (1.19.5)\nRequirement already satisfied: packaging>=20.0 in /opt/conda/lib/python3.7/site-packages (from transformers) (21.0)\nRequirement already satisfied: typing-extensions>=3.7.4.3 in /opt/conda/lib/python3.7/site-packages (from huggingface-hub<1.0,>=0.1.0->transformers) (3.10.0.2)\nRequirement already satisfied: pyparsing>=2.0.2 in /opt/conda/lib/python3.7/site-packages (from packaging>=20.0->transformers) (3.0.6)\nRequirement already satisfied: zipp>=0.5 in /opt/conda/lib/python3.7/site-packages (from importlib-metadata->transformers) (3.6.0)\nRequirement already satisfied: idna<3,>=2.5 in /opt/conda/lib/python3.7/site-packages (from requests->transformers) (2.10)\nRequirement already satisfied: urllib3<1.27,>=1.21.1 in /opt/conda/lib/python3.7/site-packages (from requests->transformers) (1.26.7)\nRequirement already satisfied: certifi>=2017.4.17 in /opt/conda/lib/python3.7/site-packages (from requests->transformers) (2021.10.8)\nRequirement already satisfied: chardet<5,>=3.0.2 in /opt/conda/lib/python3.7/site-packages (from requests->transformers) (4.0.0)\nRequirement already satisfied: six in /opt/conda/lib/python3.7/site-packages (from sacremoses->transformers) (1.16.0)\nRequirement already satisfied: click in /opt/conda/lib/python3.7/site-packages (from sacremoses->transformers) (8.0.3)\nRequirement already satisfied: joblib in /opt/conda/lib/python3.7/site-packages (from sacremoses->transformers) (1.1.0)\nInstalling collected packages: transformers\n  Attempting uninstall: transformers\n    Found existing installation: transformers 4.12.5\n    Uninstalling transformers-4.12.5:\n      Successfully uninstalled transformers-4.12.5\n\u001b[31mERROR: pip's dependency resolver does not currently take into account all the packages that are installed. This behaviour is the source of the following dependency conflicts.\nallennlp 2.8.0 requires transformers<4.13,>=4.1, but you have transformers 4.15.0 which is incompatible.\u001b[0m\nSuccessfully installed transformers-4.15.0\n\u001b[33mWARNING: Running pip as the 'root' user can result in broken permissions and conflicting behaviour with the system package manager. It is recommended to use a virtual environment instead: https://pip.pypa.io/warnings/venv\u001b[0m\n",
          "output_type": "stream"
        }
      ]
    },
    {
      "cell_type": "code",
      "source": [
        "import tensorflow as tf\n",
        "from transformers import BertTokenizer, TFBertModel\n",
        "\n",
        "tokenizer = BertTokenizer.from_pretrained('bert-base-uncased')\n",
        "model = TFBertModel.from_pretrained('bert-base-uncased')\n",
        "input_ids = tf.constant(tokenizer.encode(bert_abstract))[None, :6000]  # Batch size 1\n",
        "outputs = model(input_ids)\n",
        "last_hidden_states = outputs[0]"
      ],
      "metadata": {
        "execution": {
          "iopub.status.busy": "2021-12-26T16:37:01.947624Z",
          "iopub.execute_input": "2021-12-26T16:37:01.948106Z",
          "iopub.status.idle": "2021-12-26T16:37:34.156431Z",
          "shell.execute_reply.started": "2021-12-26T16:37:01.948061Z",
          "shell.execute_reply": "2021-12-26T16:37:34.155676Z"
        },
        "trusted": true,
        "colab": {
          "referenced_widgets": [
            "dbca6411b073447ba7a647a45a5fd81b",
            "c355731ac3f649658b8b06693fc95cf8",
            "65c33a790c2e48ba9cc873212d5cc8fe",
            "f10e9b9436bc47aea0b8f7cf1e2e78fe",
            "359b60cebe0a4eda8f1c9167ff7650ea"
          ]
        },
        "id": "o_J6xQjs4JxW",
        "outputId": "d6e2c095-c0eb-4680-9395-3fb361af657c"
      },
      "execution_count": null,
      "outputs": [
        {
          "output_type": "display_data",
          "data": {
            "text/plain": "Downloading:   0%|          | 0.00/226k [00:00<?, ?B/s]",
            "application/vnd.jupyter.widget-view+json": {
              "version_major": 2,
              "version_minor": 0,
              "model_id": "dbca6411b073447ba7a647a45a5fd81b"
            }
          },
          "metadata": {}
        },
        {
          "output_type": "display_data",
          "data": {
            "text/plain": "Downloading:   0%|          | 0.00/28.0 [00:00<?, ?B/s]",
            "application/vnd.jupyter.widget-view+json": {
              "version_major": 2,
              "version_minor": 0,
              "model_id": "c355731ac3f649658b8b06693fc95cf8"
            }
          },
          "metadata": {}
        },
        {
          "output_type": "display_data",
          "data": {
            "text/plain": "Downloading:   0%|          | 0.00/455k [00:00<?, ?B/s]",
            "application/vnd.jupyter.widget-view+json": {
              "version_major": 2,
              "version_minor": 0,
              "model_id": "65c33a790c2e48ba9cc873212d5cc8fe"
            }
          },
          "metadata": {}
        },
        {
          "output_type": "display_data",
          "data": {
            "text/plain": "Downloading:   0%|          | 0.00/570 [00:00<?, ?B/s]",
            "application/vnd.jupyter.widget-view+json": {
              "version_major": 2,
              "version_minor": 0,
              "model_id": "f10e9b9436bc47aea0b8f7cf1e2e78fe"
            }
          },
          "metadata": {}
        },
        {
          "output_type": "display_data",
          "data": {
            "text/plain": "Downloading:   0%|          | 0.00/511M [00:00<?, ?B/s]",
            "application/vnd.jupyter.widget-view+json": {
              "version_major": 2,
              "version_minor": 0,
              "model_id": "359b60cebe0a4eda8f1c9167ff7650ea"
            }
          },
          "metadata": {}
        },
        {
          "name": "stderr",
          "text": "2021-12-26 16:37:23.230278: I tensorflow/stream_executor/cuda/cuda_gpu_executor.cc:937] successful NUMA node read from SysFS had negative value (-1), but there must be at least one NUMA node, so returning NUMA node zero\n2021-12-26 16:37:23.231862: I tensorflow/stream_executor/cuda/cuda_gpu_executor.cc:937] successful NUMA node read from SysFS had negative value (-1), but there must be at least one NUMA node, so returning NUMA node zero\n2021-12-26 16:37:23.232840: I tensorflow/stream_executor/cuda/cuda_gpu_executor.cc:937] successful NUMA node read from SysFS had negative value (-1), but there must be at least one NUMA node, so returning NUMA node zero\n2021-12-26 16:37:23.234081: I tensorflow/core/platform/cpu_feature_guard.cc:142] This TensorFlow binary is optimized with oneAPI Deep Neural Network Library (oneDNN) to use the following CPU instructions in performance-critical operations:  AVX2 AVX512F FMA\nTo enable them in other operations, rebuild TensorFlow with the appropriate compiler flags.\n2021-12-26 16:37:23.235291: I tensorflow/stream_executor/cuda/cuda_gpu_executor.cc:937] successful NUMA node read from SysFS had negative value (-1), but there must be at least one NUMA node, so returning NUMA node zero\n2021-12-26 16:37:23.236255: I tensorflow/stream_executor/cuda/cuda_gpu_executor.cc:937] successful NUMA node read from SysFS had negative value (-1), but there must be at least one NUMA node, so returning NUMA node zero\n2021-12-26 16:37:23.237188: I tensorflow/stream_executor/cuda/cuda_gpu_executor.cc:937] successful NUMA node read from SysFS had negative value (-1), but there must be at least one NUMA node, so returning NUMA node zero\n2021-12-26 16:37:27.973935: I tensorflow/stream_executor/cuda/cuda_gpu_executor.cc:937] successful NUMA node read from SysFS had negative value (-1), but there must be at least one NUMA node, so returning NUMA node zero\n2021-12-26 16:37:27.974823: I tensorflow/stream_executor/cuda/cuda_gpu_executor.cc:937] successful NUMA node read from SysFS had negative value (-1), but there must be at least one NUMA node, so returning NUMA node zero\n2021-12-26 16:37:27.975576: I tensorflow/stream_executor/cuda/cuda_gpu_executor.cc:937] successful NUMA node read from SysFS had negative value (-1), but there must be at least one NUMA node, so returning NUMA node zero\n2021-12-26 16:37:27.976206: I tensorflow/core/common_runtime/gpu/gpu_device.cc:1510] Created device /job:localhost/replica:0/task:0/device:GPU:0 with 14959 MB memory:  -> device: 0, name: Tesla P100-PCIE-16GB, pci bus id: 0000:00:04.0, compute capability: 6.0\nSome layers from the model checkpoint at bert-base-uncased were not used when initializing TFBertModel: ['mlm___cls', 'nsp___cls']\n- This IS expected if you are initializing TFBertModel from the checkpoint of a model trained on another task or with another architecture (e.g. initializing a BertForSequenceClassification model from a BertForPreTraining model).\n- This IS NOT expected if you are initializing TFBertModel from the checkpoint of a model that you expect to be exactly identical (initializing a BertForSequenceClassification model from a BertForSequenceClassification model).\nAll the layers of TFBertModel were initialized from the model checkpoint at bert-base-uncased.\nIf your task is similar to the task the model of the checkpoint was trained on, you can already use TFBertModel for predictions without further training.\nToken indices sequence length is longer than the specified maximum sequence length for this model (135377 > 512). Running this sequence through the model will result in indexing errors\n",
          "output_type": "stream"
        }
      ]
    },
    {
      "cell_type": "code",
      "source": [
        "import numpy as np\n",
        "emb_matrix = np.array(last_hidden_states)\n",
        "emb_matrix = emb_matrix[0]"
      ],
      "metadata": {
        "execution": {
          "iopub.status.busy": "2021-12-26T16:37:38.522539Z",
          "iopub.execute_input": "2021-12-26T16:37:38.522802Z",
          "iopub.status.idle": "2021-12-26T16:37:38.535745Z",
          "shell.execute_reply.started": "2021-12-26T16:37:38.522773Z",
          "shell.execute_reply": "2021-12-26T16:37:38.535006Z"
        },
        "trusted": true,
        "id": "_uBeemvv4JxW"
      },
      "execution_count": null,
      "outputs": []
    },
    {
      "cell_type": "code",
      "source": [
        "emb_matrix.shape"
      ],
      "metadata": {
        "execution": {
          "iopub.status.busy": "2021-12-26T16:37:39.429674Z",
          "iopub.execute_input": "2021-12-26T16:37:39.430141Z",
          "iopub.status.idle": "2021-12-26T16:37:39.435744Z",
          "shell.execute_reply.started": "2021-12-26T16:37:39.430103Z",
          "shell.execute_reply": "2021-12-26T16:37:39.434809Z"
        },
        "trusted": true,
        "id": "ceKHzwba4JxX",
        "outputId": "43da4658-443e-4cce-dc5d-2c612717ed6b"
      },
      "execution_count": null,
      "outputs": [
        {
          "execution_count": 20,
          "output_type": "execute_result",
          "data": {
            "text/plain": "(6000, 768)"
          },
          "metadata": {}
        }
      ]
    },
    {
      "cell_type": "code",
      "source": [
        "tokenizer = Tokenizer(num_words=5000)\n",
        "tokenizer.fit_on_texts(X_train)\n",
        "words_to_index = tokenizer.word_index"
      ],
      "metadata": {
        "execution": {
          "iopub.status.busy": "2021-12-26T16:37:42.748394Z",
          "iopub.execute_input": "2021-12-26T16:37:42.748648Z",
          "iopub.status.idle": "2021-12-26T16:37:42.871107Z",
          "shell.execute_reply.started": "2021-12-26T16:37:42.748618Z",
          "shell.execute_reply": "2021-12-26T16:37:42.870360Z"
        },
        "trusted": true,
        "id": "fU8hCNyo4JxX"
      },
      "execution_count": null,
      "outputs": []
    },
    {
      "cell_type": "code",
      "source": [
        "maxLen = 120\n",
        "X_train_padded = tokenizer.texts_to_sequences(X_train)\n",
        "X_train_padded = pad_sequences(X_train_padded, maxlen=maxLen, padding='post')\n",
        "X_test_padded = tokenizer.texts_to_sequences(X_test)\n",
        "X_test_padded = pad_sequences(X_test_padded, maxlen=maxLen, padding='post')"
      ],
      "metadata": {
        "execution": {
          "iopub.status.busy": "2021-12-26T16:37:43.244496Z",
          "iopub.execute_input": "2021-12-26T16:37:43.245210Z",
          "iopub.status.idle": "2021-12-26T16:37:43.414322Z",
          "shell.execute_reply.started": "2021-12-26T16:37:43.245163Z",
          "shell.execute_reply": "2021-12-26T16:37:43.413505Z"
        },
        "trusted": true,
        "id": "pnxld1gf4JxX"
      },
      "execution_count": null,
      "outputs": []
    },
    {
      "cell_type": "code",
      "source": [
        "model = Sequential()\n",
        "# define CNN model\n",
        "#model.add(Embedding(vocab_size, embedding_dim, input_length=max_length))\n",
        "model.add(Embedding(input_dim=6000, output_dim=768, input_length=120, weights = [emb_matrix], trainable=True))\n",
        "model.add(tf.keras.layers.Conv1D(filters=32, kernel_size=8, activation='relu'))\n",
        "model.add(tf.keras.layers.MaxPooling1D(pool_size=2))\n",
        "model.add(Bidirectional(GRU(32, return_sequences=True)))\n",
        "#model.add(GRU(32, return_sequences=True))\n",
        "model.add(Dropout(0.3))\n",
        "model.add(Flatten())\n",
        "model.add(Dense(32, activation=\"relu\"))\n",
        "model.add(Dropout(0.3))\n",
        "model.add(Dense(1, activation=\"sigmoid\"))"
      ],
      "metadata": {
        "execution": {
          "iopub.status.busy": "2021-12-26T16:51:25.025396Z",
          "iopub.execute_input": "2021-12-26T16:51:25.025926Z",
          "iopub.status.idle": "2021-12-26T16:51:25.428131Z",
          "shell.execute_reply.started": "2021-12-26T16:51:25.025888Z",
          "shell.execute_reply": "2021-12-26T16:51:25.427419Z"
        },
        "trusted": true,
        "id": "0NEg0isc4JxX"
      },
      "execution_count": null,
      "outputs": []
    },
    {
      "cell_type": "code",
      "source": [
        "optimizer = tf.keras.optimizers.Adam(learning_rate = 0.0001)\n",
        "model.compile(loss = \"binary_crossentropy\",optimizer = optimizer,metrics = [\"accuracy\"])\n",
        "filepath = 'my_checkpoint.ckpt'\n",
        "cp = ModelCheckpoint(filepath=filepath,save_weights_only=True,save_best_only=True,monitor='val_accuracy',verbose=1)\n",
        "ep = EarlyStopping(monitor='val_accuracy', patience=7)"
      ],
      "metadata": {
        "execution": {
          "iopub.status.busy": "2021-12-26T16:51:25.520092Z",
          "iopub.execute_input": "2021-12-26T16:51:25.520329Z",
          "iopub.status.idle": "2021-12-26T16:51:25.531522Z",
          "shell.execute_reply.started": "2021-12-26T16:51:25.520301Z",
          "shell.execute_reply": "2021-12-26T16:51:25.530694Z"
        },
        "trusted": true,
        "id": "-mS_5xzP4JxY"
      },
      "execution_count": null,
      "outputs": []
    },
    {
      "cell_type": "code",
      "source": [
        "epochs=25\n",
        "history = model.fit(\n",
        "    X_train_padded, y_train,\n",
        "    validation_split = 0.2,\n",
        "    callbacks=[cp,ep],\n",
        "    batch_size=128,\n",
        "    epochs=epochs\n",
        ")"
      ],
      "metadata": {
        "execution": {
          "iopub.status.busy": "2021-12-26T16:51:26.071394Z",
          "iopub.execute_input": "2021-12-26T16:51:26.071747Z",
          "iopub.status.idle": "2021-12-26T16:51:46.721525Z",
          "shell.execute_reply.started": "2021-12-26T16:51:26.071711Z",
          "shell.execute_reply": "2021-12-26T16:51:46.720172Z"
        },
        "trusted": true,
        "id": "6vV4Q4NA4JxY",
        "outputId": "fd0fbd57-9e34-44f7-ced0-fb7ce95fc6cf"
      },
      "execution_count": null,
      "outputs": [
        {
          "name": "stdout",
          "text": "Epoch 1/25\n30/30 [==============================] - 4s 36ms/step - loss: 0.6451 - accuracy: 0.6423 - val_loss: 0.5883 - val_accuracy: 0.7043\n\nEpoch 00001: val_accuracy improved from -inf to 0.70428, saving model to my_checkpoint.ckpt\nEpoch 2/25\n30/30 [==============================] - 1s 18ms/step - loss: 0.5634 - accuracy: 0.7303 - val_loss: 0.5581 - val_accuracy: 0.7252\n\nEpoch 00002: val_accuracy improved from 0.70428 to 0.72518, saving model to my_checkpoint.ckpt\nEpoch 3/25\n30/30 [==============================] - 1s 19ms/step - loss: 0.5363 - accuracy: 0.7361 - val_loss: 0.5406 - val_accuracy: 0.7346\n\nEpoch 00003: val_accuracy improved from 0.72518 to 0.73459, saving model to my_checkpoint.ckpt\nEpoch 4/25\n30/30 [==============================] - 1s 23ms/step - loss: 0.5260 - accuracy: 0.7486 - val_loss: 0.5292 - val_accuracy: 0.7471\n\nEpoch 00004: val_accuracy improved from 0.73459 to 0.74713, saving model to my_checkpoint.ckpt\nEpoch 5/25\n30/30 [==============================] - 1s 19ms/step - loss: 0.5074 - accuracy: 0.7643 - val_loss: 0.5166 - val_accuracy: 0.7492\n\nEpoch 00005: val_accuracy improved from 0.74713 to 0.74922, saving model to my_checkpoint.ckpt\nEpoch 6/25\n30/30 [==============================] - 1s 18ms/step - loss: 0.4957 - accuracy: 0.7695 - val_loss: 0.5016 - val_accuracy: 0.7607\n\nEpoch 00006: val_accuracy improved from 0.74922 to 0.76071, saving model to my_checkpoint.ckpt\nEpoch 7/25\n30/30 [==============================] - 1s 18ms/step - loss: 0.4651 - accuracy: 0.7917 - val_loss: 0.4843 - val_accuracy: 0.7628\n\nEpoch 00007: val_accuracy improved from 0.76071 to 0.76280, saving model to my_checkpoint.ckpt\nEpoch 8/25\n30/30 [==============================] - 1s 18ms/step - loss: 0.4268 - accuracy: 0.8171 - val_loss: 0.4575 - val_accuracy: 0.7806\n\nEpoch 00008: val_accuracy improved from 0.76280 to 0.78056, saving model to my_checkpoint.ckpt\nEpoch 9/25\n30/30 [==============================] - 1s 19ms/step - loss: 0.3840 - accuracy: 0.8393 - val_loss: 0.4133 - val_accuracy: 0.8046\n\nEpoch 00009: val_accuracy improved from 0.78056 to 0.80460, saving model to my_checkpoint.ckpt\nEpoch 10/25\n30/30 [==============================] - 1s 19ms/step - loss: 0.3421 - accuracy: 0.8599 - val_loss: 0.4004 - val_accuracy: 0.8224\n\nEpoch 00010: val_accuracy improved from 0.80460 to 0.82236, saving model to my_checkpoint.ckpt\nEpoch 11/25\n30/30 [==============================] - 1s 18ms/step - loss: 0.3317 - accuracy: 0.8581 - val_loss: 0.3658 - val_accuracy: 0.8339\n\nEpoch 00011: val_accuracy improved from 0.82236 to 0.83386, saving model to my_checkpoint.ckpt\nEpoch 12/25\n30/30 [==============================] - 1s 18ms/step - loss: 0.2575 - accuracy: 0.9057 - val_loss: 0.3362 - val_accuracy: 0.8527\n\nEpoch 00012: val_accuracy improved from 0.83386 to 0.85266, saving model to my_checkpoint.ckpt\nEpoch 13/25\n30/30 [==============================] - 1s 18ms/step - loss: 0.2348 - accuracy: 0.9093 - val_loss: 0.3473 - val_accuracy: 0.8516\n\nEpoch 00013: val_accuracy did not improve from 0.85266\nEpoch 14/25\n30/30 [==============================] - 1s 18ms/step - loss: 0.1966 - accuracy: 0.9242 - val_loss: 0.3600 - val_accuracy: 0.8548\n\nEpoch 00014: val_accuracy improved from 0.85266 to 0.85475, saving model to my_checkpoint.ckpt\nEpoch 15/25\n30/30 [==============================] - 1s 18ms/step - loss: 0.1681 - accuracy: 0.9425 - val_loss: 0.3052 - val_accuracy: 0.8809\n\nEpoch 00015: val_accuracy improved from 0.85475 to 0.88088, saving model to my_checkpoint.ckpt\nEpoch 16/25\n30/30 [==============================] - 1s 19ms/step - loss: 0.1490 - accuracy: 0.9449 - val_loss: 0.2965 - val_accuracy: 0.8882\n\nEpoch 00016: val_accuracy improved from 0.88088 to 0.88819, saving model to my_checkpoint.ckpt\nEpoch 17/25\n30/30 [==============================] - 1s 19ms/step - loss: 0.1308 - accuracy: 0.9579 - val_loss: 0.2811 - val_accuracy: 0.8861\n\nEpoch 00017: val_accuracy did not improve from 0.88819\nEpoch 18/25\n30/30 [==============================] - 1s 18ms/step - loss: 0.1069 - accuracy: 0.9639 - val_loss: 0.2843 - val_accuracy: 0.8934\n\nEpoch 00018: val_accuracy improved from 0.88819 to 0.89342, saving model to my_checkpoint.ckpt\nEpoch 19/25\n30/30 [==============================] - 1s 21ms/step - loss: 0.0893 - accuracy: 0.9705 - val_loss: 0.2806 - val_accuracy: 0.9028\n\nEpoch 00019: val_accuracy improved from 0.89342 to 0.90282, saving model to my_checkpoint.ckpt\nEpoch 20/25\n30/30 [==============================] - 1s 18ms/step - loss: 0.0799 - accuracy: 0.9733 - val_loss: 0.2891 - val_accuracy: 0.9007\n\nEpoch 00020: val_accuracy did not improve from 0.90282\nEpoch 21/25\n30/30 [==============================] - 1s 18ms/step - loss: 0.0703 - accuracy: 0.9765 - val_loss: 0.3305 - val_accuracy: 0.8924\n\nEpoch 00021: val_accuracy did not improve from 0.90282\nEpoch 22/25\n30/30 [==============================] - 1s 18ms/step - loss: 0.0563 - accuracy: 0.9822 - val_loss: 0.3407 - val_accuracy: 0.8976\n\nEpoch 00022: val_accuracy did not improve from 0.90282\nEpoch 23/25\n30/30 [==============================] - 1s 18ms/step - loss: 0.0524 - accuracy: 0.9859 - val_loss: 0.3435 - val_accuracy: 0.8997\n\nEpoch 00023: val_accuracy did not improve from 0.90282\nEpoch 24/25\n30/30 [==============================] - 1s 18ms/step - loss: 0.0413 - accuracy: 0.9880 - val_loss: 0.3431 - val_accuracy: 0.9018\n\nEpoch 00024: val_accuracy did not improve from 0.90282\nEpoch 25/25\n30/30 [==============================] - 1s 18ms/step - loss: 0.0392 - accuracy: 0.9893 - val_loss: 0.3365 - val_accuracy: 0.9091\n\nEpoch 00025: val_accuracy improved from 0.90282 to 0.90909, saving model to my_checkpoint.ckpt\n",
          "output_type": "stream"
        }
      ]
    },
    {
      "cell_type": "code",
      "source": [
        "model.evaluate(X_test_padded, y_test)"
      ],
      "metadata": {
        "execution": {
          "iopub.status.busy": "2021-12-26T16:51:46.723569Z",
          "iopub.execute_input": "2021-12-26T16:51:46.723848Z",
          "iopub.status.idle": "2021-12-26T16:51:46.981576Z",
          "shell.execute_reply.started": "2021-12-26T16:51:46.723811Z",
          "shell.execute_reply": "2021-12-26T16:51:46.980810Z"
        },
        "trusted": true,
        "id": "QwWyak-f4JxY",
        "outputId": "278cc7e4-756a-467f-f3aa-76cedbf8c59d"
      },
      "execution_count": null,
      "outputs": [
        {
          "name": "stdout",
          "text": "38/38 [==============================] - 0s 5ms/step - loss: 0.3302 - accuracy: 0.8913\n",
          "output_type": "stream"
        },
        {
          "execution_count": 70,
          "output_type": "execute_result",
          "data": {
            "text/plain": "[0.33015817403793335, 0.8913043737411499]"
          },
          "metadata": {}
        }
      ]
    },
    {
      "cell_type": "code",
      "source": [
        "predictions = (model.predict(X_test_padded) > 0.5).astype(\"int32\")"
      ],
      "metadata": {
        "execution": {
          "iopub.status.busy": "2021-12-26T16:51:46.983047Z",
          "iopub.execute_input": "2021-12-26T16:51:46.983304Z",
          "iopub.status.idle": "2021-12-26T16:51:47.592021Z",
          "shell.execute_reply.started": "2021-12-26T16:51:46.983269Z",
          "shell.execute_reply": "2021-12-26T16:51:47.591291Z"
        },
        "trusted": true,
        "id": "Fv-DrQqw4JxY"
      },
      "execution_count": null,
      "outputs": []
    },
    {
      "cell_type": "code",
      "source": [
        "print('Confusion Matrix')\n",
        "cm = confusion_matrix(y_test, predictions)\n",
        "print(sns.heatmap(confusion_matrix(y_test, predictions),annot=True,fmt=\"d\"))\n",
        "print(classification_report(y_test, predictions, digits=5))"
      ],
      "metadata": {
        "execution": {
          "iopub.status.busy": "2021-12-26T16:51:47.593737Z",
          "iopub.execute_input": "2021-12-26T16:51:47.594009Z",
          "iopub.status.idle": "2021-12-26T16:51:47.816490Z",
          "shell.execute_reply.started": "2021-12-26T16:51:47.593950Z",
          "shell.execute_reply": "2021-12-26T16:51:47.815756Z"
        },
        "trusted": true,
        "id": "Q1GehyLg4JxZ",
        "outputId": "56253bf8-0916-48c6-8d51-a29f5f887047"
      },
      "execution_count": null,
      "outputs": [
        {
          "name": "stdout",
          "text": "Confusion Matrix\nAxesSubplot(0.125,0.125;0.62x0.755)\n              precision    recall  f1-score   support\n\n           0    0.87898   0.91089   0.89465       606\n           1    0.90493   0.87119   0.88774       590\n\n    accuracy                        0.89130      1196\n   macro avg    0.89196   0.89104   0.89119      1196\nweighted avg    0.89178   0.89130   0.89124      1196\n\n",
          "output_type": "stream"
        },
        {
          "output_type": "display_data",
          "data": {
            "text/plain": "<Figure size 432x288 with 2 Axes>",
            "image/png": "[encoded data removed]"
          },
          "metadata": {
            "needs_background": "light"
          }
        }
      ]
    }
  ]
}
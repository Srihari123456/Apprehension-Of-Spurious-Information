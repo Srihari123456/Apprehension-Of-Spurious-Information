{
  "nbformat": 4,
  "nbformat_minor": 0,
  "metadata": {
    "kernelspec": {
      "display_name": "Python 3",
      "language": "python",
      "name": "python3"
    },
    "language_info": {
      "codemirror_mode": {
        "name": "ipython",
        "version": 3
      },
      "file_extension": ".py",
      "mimetype": "text/x-python",
      "name": "python",
      "nbconvert_exporter": "python",
      "pygments_lexer": "ipython3",
      "version": "3.8.8"
    },
    "colab": {
      "name": "NLP-Project-LIAR-Dataset.ipynb",
      "provenance": [],
      "collapsed_sections": [
        "MoSQkAGUotQ-",
        "yitqfCeLhxbq",
        "oU3ly-Xihxbt",
        "tI__wJ3Zhxby",
        "uVBm59ethxb1",
        "mjpn9U9rhxb3",
        "iPhk1Dyxhxb4",
        "94IFViuUhxb5",
        "4j5niwWihxb7",
        "TQh5IKL4hxb8",
        "9Im9aKp0hxb9",
        "B-Yjx_Bmhxb9",
        "iufG5p1Chxb-",
        "ia23DFJRhxb_"
      ]
    },
    "accelerator": "GPU",
    "widgets": {
      "application/vnd.jupyter.widget-state+json": {
        "978166d3152c4bbe9a9279bfdbed78a0": {
          "model_module": "@jupyter-widgets/controls",
          "model_name": "HBoxModel",
          "model_module_version": "1.5.0",
          "state": {
            "_view_name": "HBoxView",
            "_dom_classes": [],
            "_model_name": "HBoxModel",
            "_view_module": "@jupyter-widgets/controls",
            "_model_module_version": "1.5.0",
            "_view_count": null,
            "_view_module_version": "1.5.0",
            "box_style": "",
            "layout": "IPY_MODEL_455696c7653440bfaa73aef1b03a7d7a",
            "_model_module": "@jupyter-widgets/controls",
            "children": [
              "IPY_MODEL_cf252fbf985d4c989eebe2234ccf6958",
              "IPY_MODEL_f43ad7b360be435c910e16ac8f16628c",
              "IPY_MODEL_a39e302d46b54e53ae81d774c1dd2c2d"
            ]
          }
        },
        "455696c7653440bfaa73aef1b03a7d7a": {
          "model_module": "@jupyter-widgets/base",
          "model_name": "LayoutModel",
          "model_module_version": "1.2.0",
          "state": {
            "_view_name": "LayoutView",
            "grid_template_rows": null,
            "right": null,
            "justify_content": null,
            "_view_module": "@jupyter-widgets/base",
            "overflow": null,
            "_model_module_version": "1.2.0",
            "_view_count": null,
            "flex_flow": null,
            "width": null,
            "min_width": null,
            "border": null,
            "align_items": null,
            "bottom": null,
            "_model_module": "@jupyter-widgets/base",
            "top": null,
            "grid_column": null,
            "overflow_y": null,
            "overflow_x": null,
            "grid_auto_flow": null,
            "grid_area": null,
            "grid_template_columns": null,
            "flex": null,
            "_model_name": "LayoutModel",
            "justify_items": null,
            "grid_row": null,
            "max_height": null,
            "align_content": null,
            "visibility": null,
            "align_self": null,
            "height": null,
            "min_height": null,
            "padding": null,
            "grid_auto_rows": null,
            "grid_gap": null,
            "max_width": null,
            "order": null,
            "_view_module_version": "1.2.0",
            "grid_template_areas": null,
            "object_position": null,
            "object_fit": null,
            "grid_auto_columns": null,
            "margin": null,
            "display": null,
            "left": null
          }
        },
        "cf252fbf985d4c989eebe2234ccf6958": {
          "model_module": "@jupyter-widgets/controls",
          "model_name": "HTMLModel",
          "model_module_version": "1.5.0",
          "state": {
            "_view_name": "HTMLView",
            "style": "IPY_MODEL_b6ff265016c74c588f7809806541ec63",
            "_dom_classes": [],
            "description": "",
            "_model_name": "HTMLModel",
            "placeholder": "​",
            "_view_module": "@jupyter-widgets/controls",
            "_model_module_version": "1.5.0",
            "value": "Downloading: 100%",
            "_view_count": null,
            "_view_module_version": "1.5.0",
            "description_tooltip": null,
            "_model_module": "@jupyter-widgets/controls",
            "layout": "IPY_MODEL_fcc11da9ec914223b28bd92123435215"
          }
        },
        "f43ad7b360be435c910e16ac8f16628c": {
          "model_module": "@jupyter-widgets/controls",
          "model_name": "FloatProgressModel",
          "model_module_version": "1.5.0",
          "state": {
            "_view_name": "ProgressView",
            "style": "IPY_MODEL_e199479728d2493cb9fe77f1b4ea3a43",
            "_dom_classes": [],
            "description": "",
            "_model_name": "FloatProgressModel",
            "bar_style": "success",
            "max": 231508,
            "_view_module": "@jupyter-widgets/controls",
            "_model_module_version": "1.5.0",
            "value": 231508,
            "_view_count": null,
            "_view_module_version": "1.5.0",
            "orientation": "horizontal",
            "min": 0,
            "description_tooltip": null,
            "_model_module": "@jupyter-widgets/controls",
            "layout": "IPY_MODEL_f8fdb4ee18ed4e0d8eddafea39be73ea"
          }
        },
        "a39e302d46b54e53ae81d774c1dd2c2d": {
          "model_module": "@jupyter-widgets/controls",
          "model_name": "HTMLModel",
          "model_module_version": "1.5.0",
          "state": {
            "_view_name": "HTMLView",
            "style": "IPY_MODEL_2141c018ca3648acab03cf9677a44c1f",
            "_dom_classes": [],
            "description": "",
            "_model_name": "HTMLModel",
            "placeholder": "​",
            "_view_module": "@jupyter-widgets/controls",
            "_model_module_version": "1.5.0",
            "value": " 226k/226k [00:00&lt;00:00, 544kB/s]",
            "_view_count": null,
            "_view_module_version": "1.5.0",
            "description_tooltip": null,
            "_model_module": "@jupyter-widgets/controls",
            "layout": "IPY_MODEL_ced6410c91cb4c3d952f0a6eb018a61d"
          }
        },
        "b6ff265016c74c588f7809806541ec63": {
          "model_module": "@jupyter-widgets/controls",
          "model_name": "DescriptionStyleModel",
          "model_module_version": "1.5.0",
          "state": {
            "_view_name": "StyleView",
            "_model_name": "DescriptionStyleModel",
            "description_width": "",
            "_view_module": "@jupyter-widgets/base",
            "_model_module_version": "1.5.0",
            "_view_count": null,
            "_view_module_version": "1.2.0",
            "_model_module": "@jupyter-widgets/controls"
          }
        },
        "fcc11da9ec914223b28bd92123435215": {
          "model_module": "@jupyter-widgets/base",
          "model_name": "LayoutModel",
          "model_module_version": "1.2.0",
          "state": {
            "_view_name": "LayoutView",
            "grid_template_rows": null,
            "right": null,
            "justify_content": null,
            "_view_module": "@jupyter-widgets/base",
            "overflow": null,
            "_model_module_version": "1.2.0",
            "_view_count": null,
            "flex_flow": null,
            "width": null,
            "min_width": null,
            "border": null,
            "align_items": null,
            "bottom": null,
            "_model_module": "@jupyter-widgets/base",
            "top": null,
            "grid_column": null,
            "overflow_y": null,
            "overflow_x": null,
            "grid_auto_flow": null,
            "grid_area": null,
            "grid_template_columns": null,
            "flex": null,
            "_model_name": "LayoutModel",
            "justify_items": null,
            "grid_row": null,
            "max_height": null,
            "align_content": null,
            "visibility": null,
            "align_self": null,
            "height": null,
            "min_height": null,
            "padding": null,
            "grid_auto_rows": null,
            "grid_gap": null,
            "max_width": null,
            "order": null,
            "_view_module_version": "1.2.0",
            "grid_template_areas": null,
            "object_position": null,
            "object_fit": null,
            "grid_auto_columns": null,
            "margin": null,
            "display": null,
            "left": null
          }
        },
        "e199479728d2493cb9fe77f1b4ea3a43": {
          "model_module": "@jupyter-widgets/controls",
          "model_name": "ProgressStyleModel",
          "model_module_version": "1.5.0",
          "state": {
            "_view_name": "StyleView",
            "_model_name": "ProgressStyleModel",
            "description_width": "",
            "_view_module": "@jupyter-widgets/base",
            "_model_module_version": "1.5.0",
            "_view_count": null,
            "_view_module_version": "1.2.0",
            "bar_color": null,
            "_model_module": "@jupyter-widgets/controls"
          }
        },
        "f8fdb4ee18ed4e0d8eddafea39be73ea": {
          "model_module": "@jupyter-widgets/base",
          "model_name": "LayoutModel",
          "model_module_version": "1.2.0",
          "state": {
            "_view_name": "LayoutView",
            "grid_template_rows": null,
            "right": null,
            "justify_content": null,
            "_view_module": "@jupyter-widgets/base",
            "overflow": null,
            "_model_module_version": "1.2.0",
            "_view_count": null,
            "flex_flow": null,
            "width": null,
            "min_width": null,
            "border": null,
            "align_items": null,
            "bottom": null,
            "_model_module": "@jupyter-widgets/base",
            "top": null,
            "grid_column": null,
            "overflow_y": null,
            "overflow_x": null,
            "grid_auto_flow": null,
            "grid_area": null,
            "grid_template_columns": null,
            "flex": null,
            "_model_name": "LayoutModel",
            "justify_items": null,
            "grid_row": null,
            "max_height": null,
            "align_content": null,
            "visibility": null,
            "align_self": null,
            "height": null,
            "min_height": null,
            "padding": null,
            "grid_auto_rows": null,
            "grid_gap": null,
            "max_width": null,
            "order": null,
            "_view_module_version": "1.2.0",
            "grid_template_areas": null,
            "object_position": null,
            "object_fit": null,
            "grid_auto_columns": null,
            "margin": null,
            "display": null,
            "left": null
          }
        },
        "2141c018ca3648acab03cf9677a44c1f": {
          "model_module": "@jupyter-widgets/controls",
          "model_name": "DescriptionStyleModel",
          "model_module_version": "1.5.0",
          "state": {
            "_view_name": "StyleView",
            "_model_name": "DescriptionStyleModel",
            "description_width": "",
            "_view_module": "@jupyter-widgets/base",
            "_model_module_version": "1.5.0",
            "_view_count": null,
            "_view_module_version": "1.2.0",
            "_model_module": "@jupyter-widgets/controls"
          }
        },
        "ced6410c91cb4c3d952f0a6eb018a61d": {
          "model_module": "@jupyter-widgets/base",
          "model_name": "LayoutModel",
          "model_module_version": "1.2.0",
          "state": {
            "_view_name": "LayoutView",
            "grid_template_rows": null,
            "right": null,
            "justify_content": null,
            "_view_module": "@jupyter-widgets/base",
            "overflow": null,
            "_model_module_version": "1.2.0",
            "_view_count": null,
            "flex_flow": null,
            "width": null,
            "min_width": null,
            "border": null,
            "align_items": null,
            "bottom": null,
            "_model_module": "@jupyter-widgets/base",
            "top": null,
            "grid_column": null,
            "overflow_y": null,
            "overflow_x": null,
            "grid_auto_flow": null,
            "grid_area": null,
            "grid_template_columns": null,
            "flex": null,
            "_model_name": "LayoutModel",
            "justify_items": null,
            "grid_row": null,
            "max_height": null,
            "align_content": null,
            "visibility": null,
            "align_self": null,
            "height": null,
            "min_height": null,
            "padding": null,
            "grid_auto_rows": null,
            "grid_gap": null,
            "max_width": null,
            "order": null,
            "_view_module_version": "1.2.0",
            "grid_template_areas": null,
            "object_position": null,
            "object_fit": null,
            "grid_auto_columns": null,
            "margin": null,
            "display": null,
            "left": null
          }
        },
        "af5968fd2dc349ec80511d66cb0f0e4e": {
          "model_module": "@jupyter-widgets/controls",
          "model_name": "HBoxModel",
          "model_module_version": "1.5.0",
          "state": {
            "_view_name": "HBoxView",
            "_dom_classes": [],
            "_model_name": "HBoxModel",
            "_view_module": "@jupyter-widgets/controls",
            "_model_module_version": "1.5.0",
            "_view_count": null,
            "_view_module_version": "1.5.0",
            "box_style": "",
            "layout": "IPY_MODEL_3c2f623c0fec4375a32df9a8882a9ff0",
            "_model_module": "@jupyter-widgets/controls",
            "children": [
              "IPY_MODEL_67f25a2e62ea471883532d00d7cdf5f2",
              "IPY_MODEL_6eccbe79e77e4511a52c3033390e90ce",
              "IPY_MODEL_7cd0ea9252b742479385c53760f6ea0d"
            ]
          }
        },
        "3c2f623c0fec4375a32df9a8882a9ff0": {
          "model_module": "@jupyter-widgets/base",
          "model_name": "LayoutModel",
          "model_module_version": "1.2.0",
          "state": {
            "_view_name": "LayoutView",
            "grid_template_rows": null,
            "right": null,
            "justify_content": null,
            "_view_module": "@jupyter-widgets/base",
            "overflow": null,
            "_model_module_version": "1.2.0",
            "_view_count": null,
            "flex_flow": null,
            "width": null,
            "min_width": null,
            "border": null,
            "align_items": null,
            "bottom": null,
            "_model_module": "@jupyter-widgets/base",
            "top": null,
            "grid_column": null,
            "overflow_y": null,
            "overflow_x": null,
            "grid_auto_flow": null,
            "grid_area": null,
            "grid_template_columns": null,
            "flex": null,
            "_model_name": "LayoutModel",
            "justify_items": null,
            "grid_row": null,
            "max_height": null,
            "align_content": null,
            "visibility": null,
            "align_self": null,
            "height": null,
            "min_height": null,
            "padding": null,
            "grid_auto_rows": null,
            "grid_gap": null,
            "max_width": null,
            "order": null,
            "_view_module_version": "1.2.0",
            "grid_template_areas": null,
            "object_position": null,
            "object_fit": null,
            "grid_auto_columns": null,
            "margin": null,
            "display": null,
            "left": null
          }
        },
        "67f25a2e62ea471883532d00d7cdf5f2": {
          "model_module": "@jupyter-widgets/controls",
          "model_name": "HTMLModel",
          "model_module_version": "1.5.0",
          "state": {
            "_view_name": "HTMLView",
            "style": "IPY_MODEL_5b3014e9a3db4eddb5a320434b90ce2d",
            "_dom_classes": [],
            "description": "",
            "_model_name": "HTMLModel",
            "placeholder": "​",
            "_view_module": "@jupyter-widgets/controls",
            "_model_module_version": "1.5.0",
            "value": "Downloading: 100%",
            "_view_count": null,
            "_view_module_version": "1.5.0",
            "description_tooltip": null,
            "_model_module": "@jupyter-widgets/controls",
            "layout": "IPY_MODEL_6a7beec70f3148cb82e5fe855f878c00"
          }
        },
        "6eccbe79e77e4511a52c3033390e90ce": {
          "model_module": "@jupyter-widgets/controls",
          "model_name": "FloatProgressModel",
          "model_module_version": "1.5.0",
          "state": {
            "_view_name": "ProgressView",
            "style": "IPY_MODEL_ad4e7edf56e048cc9d12aa2db4cd4c9e",
            "_dom_classes": [],
            "description": "",
            "_model_name": "FloatProgressModel",
            "bar_style": "success",
            "max": 28,
            "_view_module": "@jupyter-widgets/controls",
            "_model_module_version": "1.5.0",
            "value": 28,
            "_view_count": null,
            "_view_module_version": "1.5.0",
            "orientation": "horizontal",
            "min": 0,
            "description_tooltip": null,
            "_model_module": "@jupyter-widgets/controls",
            "layout": "IPY_MODEL_7a57dec882e641be98255bd6378ef763"
          }
        },
        "7cd0ea9252b742479385c53760f6ea0d": {
          "model_module": "@jupyter-widgets/controls",
          "model_name": "HTMLModel",
          "model_module_version": "1.5.0",
          "state": {
            "_view_name": "HTMLView",
            "style": "IPY_MODEL_a06b587c075e4c59b5ef65d0517d900d",
            "_dom_classes": [],
            "description": "",
            "_model_name": "HTMLModel",
            "placeholder": "​",
            "_view_module": "@jupyter-widgets/controls",
            "_model_module_version": "1.5.0",
            "value": " 28.0/28.0 [00:00&lt;00:00, 726B/s]",
            "_view_count": null,
            "_view_module_version": "1.5.0",
            "description_tooltip": null,
            "_model_module": "@jupyter-widgets/controls",
            "layout": "IPY_MODEL_beeaeeaec98248458822d04daf56b05a"
          }
        },
        "5b3014e9a3db4eddb5a320434b90ce2d": {
          "model_module": "@jupyter-widgets/controls",
          "model_name": "DescriptionStyleModel",
          "model_module_version": "1.5.0",
          "state": {
            "_view_name": "StyleView",
            "_model_name": "DescriptionStyleModel",
            "description_width": "",
            "_view_module": "@jupyter-widgets/base",
            "_model_module_version": "1.5.0",
            "_view_count": null,
            "_view_module_version": "1.2.0",
            "_model_module": "@jupyter-widgets/controls"
          }
        },
        "6a7beec70f3148cb82e5fe855f878c00": {
          "model_module": "@jupyter-widgets/base",
          "model_name": "LayoutModel",
          "model_module_version": "1.2.0",
          "state": {
            "_view_name": "LayoutView",
            "grid_template_rows": null,
            "right": null,
            "justify_content": null,
            "_view_module": "@jupyter-widgets/base",
            "overflow": null,
            "_model_module_version": "1.2.0",
            "_view_count": null,
            "flex_flow": null,
            "width": null,
            "min_width": null,
            "border": null,
            "align_items": null,
            "bottom": null,
            "_model_module": "@jupyter-widgets/base",
            "top": null,
            "grid_column": null,
            "overflow_y": null,
            "overflow_x": null,
            "grid_auto_flow": null,
            "grid_area": null,
            "grid_template_columns": null,
            "flex": null,
            "_model_name": "LayoutModel",
            "justify_items": null,
            "grid_row": null,
            "max_height": null,
            "align_content": null,
            "visibility": null,
            "align_self": null,
            "height": null,
            "min_height": null,
            "padding": null,
            "grid_auto_rows": null,
            "grid_gap": null,
            "max_width": null,
            "order": null,
            "_view_module_version": "1.2.0",
            "grid_template_areas": null,
            "object_position": null,
            "object_fit": null,
            "grid_auto_columns": null,
            "margin": null,
            "display": null,
            "left": null
          }
        },
        "ad4e7edf56e048cc9d12aa2db4cd4c9e": {
          "model_module": "@jupyter-widgets/controls",
          "model_name": "ProgressStyleModel",
          "model_module_version": "1.5.0",
          "state": {
            "_view_name": "StyleView",
            "_model_name": "ProgressStyleModel",
            "description_width": "",
            "_view_module": "@jupyter-widgets/base",
            "_model_module_version": "1.5.0",
            "_view_count": null,
            "_view_module_version": "1.2.0",
            "bar_color": null,
            "_model_module": "@jupyter-widgets/controls"
          }
        },
        "7a57dec882e641be98255bd6378ef763": {
          "model_module": "@jupyter-widgets/base",
          "model_name": "LayoutModel",
          "model_module_version": "1.2.0",
          "state": {
            "_view_name": "LayoutView",
            "grid_template_rows": null,
            "right": null,
            "justify_content": null,
            "_view_module": "@jupyter-widgets/base",
            "overflow": null,
            "_model_module_version": "1.2.0",
            "_view_count": null,
            "flex_flow": null,
            "width": null,
            "min_width": null,
            "border": null,
            "align_items": null,
            "bottom": null,
            "_model_module": "@jupyter-widgets/base",
            "top": null,
            "grid_column": null,
            "overflow_y": null,
            "overflow_x": null,
            "grid_auto_flow": null,
            "grid_area": null,
            "grid_template_columns": null,
            "flex": null,
            "_model_name": "LayoutModel",
            "justify_items": null,
            "grid_row": null,
            "max_height": null,
            "align_content": null,
            "visibility": null,
            "align_self": null,
            "height": null,
            "min_height": null,
            "padding": null,
            "grid_auto_rows": null,
            "grid_gap": null,
            "max_width": null,
            "order": null,
            "_view_module_version": "1.2.0",
            "grid_template_areas": null,
            "object_position": null,
            "object_fit": null,
            "grid_auto_columns": null,
            "margin": null,
            "display": null,
            "left": null
          }
        },
        "a06b587c075e4c59b5ef65d0517d900d": {
          "model_module": "@jupyter-widgets/controls",
          "model_name": "DescriptionStyleModel",
          "model_module_version": "1.5.0",
          "state": {
            "_view_name": "StyleView",
            "_model_name": "DescriptionStyleModel",
            "description_width": "",
            "_view_module": "@jupyter-widgets/base",
            "_model_module_version": "1.5.0",
            "_view_count": null,
            "_view_module_version": "1.2.0",
            "_model_module": "@jupyter-widgets/controls"
          }
        },
        "beeaeeaec98248458822d04daf56b05a": {
          "model_module": "@jupyter-widgets/base",
          "model_name": "LayoutModel",
          "model_module_version": "1.2.0",
          "state": {
            "_view_name": "LayoutView",
            "grid_template_rows": null,
            "right": null,
            "justify_content": null,
            "_view_module": "@jupyter-widgets/base",
            "overflow": null,
            "_model_module_version": "1.2.0",
            "_view_count": null,
            "flex_flow": null,
            "width": null,
            "min_width": null,
            "border": null,
            "align_items": null,
            "bottom": null,
            "_model_module": "@jupyter-widgets/base",
            "top": null,
            "grid_column": null,
            "overflow_y": null,
            "overflow_x": null,
            "grid_auto_flow": null,
            "grid_area": null,
            "grid_template_columns": null,
            "flex": null,
            "_model_name": "LayoutModel",
            "justify_items": null,
            "grid_row": null,
            "max_height": null,
            "align_content": null,
            "visibility": null,
            "align_self": null,
            "height": null,
            "min_height": null,
            "padding": null,
            "grid_auto_rows": null,
            "grid_gap": null,
            "max_width": null,
            "order": null,
            "_view_module_version": "1.2.0",
            "grid_template_areas": null,
            "object_position": null,
            "object_fit": null,
            "grid_auto_columns": null,
            "margin": null,
            "display": null,
            "left": null
          }
        },
        "e13a5ac0bd1240cdb35e8fb5b62917a8": {
          "model_module": "@jupyter-widgets/controls",
          "model_name": "HBoxModel",
          "model_module_version": "1.5.0",
          "state": {
            "_view_name": "HBoxView",
            "_dom_classes": [],
            "_model_name": "HBoxModel",
            "_view_module": "@jupyter-widgets/controls",
            "_model_module_version": "1.5.0",
            "_view_count": null,
            "_view_module_version": "1.5.0",
            "box_style": "",
            "layout": "IPY_MODEL_6b0c0ecdafd340448be11848cc97d673",
            "_model_module": "@jupyter-widgets/controls",
            "children": [
              "IPY_MODEL_f1ecc5d1b514447fa8506c74ed0026af",
              "IPY_MODEL_3b666c80d41d47bf8e60bf40a72c8534",
              "IPY_MODEL_6161e9e45c6d4d4387341aa34c90dcac"
            ]
          }
        },
        "6b0c0ecdafd340448be11848cc97d673": {
          "model_module": "@jupyter-widgets/base",
          "model_name": "LayoutModel",
          "model_module_version": "1.2.0",
          "state": {
            "_view_name": "LayoutView",
            "grid_template_rows": null,
            "right": null,
            "justify_content": null,
            "_view_module": "@jupyter-widgets/base",
            "overflow": null,
            "_model_module_version": "1.2.0",
            "_view_count": null,
            "flex_flow": null,
            "width": null,
            "min_width": null,
            "border": null,
            "align_items": null,
            "bottom": null,
            "_model_module": "@jupyter-widgets/base",
            "top": null,
            "grid_column": null,
            "overflow_y": null,
            "overflow_x": null,
            "grid_auto_flow": null,
            "grid_area": null,
            "grid_template_columns": null,
            "flex": null,
            "_model_name": "LayoutModel",
            "justify_items": null,
            "grid_row": null,
            "max_height": null,
            "align_content": null,
            "visibility": null,
            "align_self": null,
            "height": null,
            "min_height": null,
            "padding": null,
            "grid_auto_rows": null,
            "grid_gap": null,
            "max_width": null,
            "order": null,
            "_view_module_version": "1.2.0",
            "grid_template_areas": null,
            "object_position": null,
            "object_fit": null,
            "grid_auto_columns": null,
            "margin": null,
            "display": null,
            "left": null
          }
        },
        "f1ecc5d1b514447fa8506c74ed0026af": {
          "model_module": "@jupyter-widgets/controls",
          "model_name": "HTMLModel",
          "model_module_version": "1.5.0",
          "state": {
            "_view_name": "HTMLView",
            "style": "IPY_MODEL_0dc43afce51046fcbec90766970a0bac",
            "_dom_classes": [],
            "description": "",
            "_model_name": "HTMLModel",
            "placeholder": "​",
            "_view_module": "@jupyter-widgets/controls",
            "_model_module_version": "1.5.0",
            "value": "Downloading: 100%",
            "_view_count": null,
            "_view_module_version": "1.5.0",
            "description_tooltip": null,
            "_model_module": "@jupyter-widgets/controls",
            "layout": "IPY_MODEL_54982a5b4fee4ee894ee191462d5ebdc"
          }
        },
        "3b666c80d41d47bf8e60bf40a72c8534": {
          "model_module": "@jupyter-widgets/controls",
          "model_name": "FloatProgressModel",
          "model_module_version": "1.5.0",
          "state": {
            "_view_name": "ProgressView",
            "style": "IPY_MODEL_4dd3ea3624434ab5a5d9a9e8cb7b9a09",
            "_dom_classes": [],
            "description": "",
            "_model_name": "FloatProgressModel",
            "bar_style": "success",
            "max": 466062,
            "_view_module": "@jupyter-widgets/controls",
            "_model_module_version": "1.5.0",
            "value": 466062,
            "_view_count": null,
            "_view_module_version": "1.5.0",
            "orientation": "horizontal",
            "min": 0,
            "description_tooltip": null,
            "_model_module": "@jupyter-widgets/controls",
            "layout": "IPY_MODEL_48b32289fad54d93a0ef6a4b0f1a9ed2"
          }
        },
        "6161e9e45c6d4d4387341aa34c90dcac": {
          "model_module": "@jupyter-widgets/controls",
          "model_name": "HTMLModel",
          "model_module_version": "1.5.0",
          "state": {
            "_view_name": "HTMLView",
            "style": "IPY_MODEL_0be7974cc0a8462fb2522b7573d0f40a",
            "_dom_classes": [],
            "description": "",
            "_model_name": "HTMLModel",
            "placeholder": "​",
            "_view_module": "@jupyter-widgets/controls",
            "_model_module_version": "1.5.0",
            "value": " 455k/455k [00:00&lt;00:00, 746kB/s]",
            "_view_count": null,
            "_view_module_version": "1.5.0",
            "description_tooltip": null,
            "_model_module": "@jupyter-widgets/controls",
            "layout": "IPY_MODEL_51063ecffbd545d0aee81a6bcbbe5519"
          }
        },
        "0dc43afce51046fcbec90766970a0bac": {
          "model_module": "@jupyter-widgets/controls",
          "model_name": "DescriptionStyleModel",
          "model_module_version": "1.5.0",
          "state": {
            "_view_name": "StyleView",
            "_model_name": "DescriptionStyleModel",
            "description_width": "",
            "_view_module": "@jupyter-widgets/base",
            "_model_module_version": "1.5.0",
            "_view_count": null,
            "_view_module_version": "1.2.0",
            "_model_module": "@jupyter-widgets/controls"
          }
        },
        "54982a5b4fee4ee894ee191462d5ebdc": {
          "model_module": "@jupyter-widgets/base",
          "model_name": "LayoutModel",
          "model_module_version": "1.2.0",
          "state": {
            "_view_name": "LayoutView",
            "grid_template_rows": null,
            "right": null,
            "justify_content": null,
            "_view_module": "@jupyter-widgets/base",
            "overflow": null,
            "_model_module_version": "1.2.0",
            "_view_count": null,
            "flex_flow": null,
            "width": null,
            "min_width": null,
            "border": null,
            "align_items": null,
            "bottom": null,
            "_model_module": "@jupyter-widgets/base",
            "top": null,
            "grid_column": null,
            "overflow_y": null,
            "overflow_x": null,
            "grid_auto_flow": null,
            "grid_area": null,
            "grid_template_columns": null,
            "flex": null,
            "_model_name": "LayoutModel",
            "justify_items": null,
            "grid_row": null,
            "max_height": null,
            "align_content": null,
            "visibility": null,
            "align_self": null,
            "height": null,
            "min_height": null,
            "padding": null,
            "grid_auto_rows": null,
            "grid_gap": null,
            "max_width": null,
            "order": null,
            "_view_module_version": "1.2.0",
            "grid_template_areas": null,
            "object_position": null,
            "object_fit": null,
            "grid_auto_columns": null,
            "margin": null,
            "display": null,
            "left": null
          }
        },
        "4dd3ea3624434ab5a5d9a9e8cb7b9a09": {
          "model_module": "@jupyter-widgets/controls",
          "model_name": "ProgressStyleModel",
          "model_module_version": "1.5.0",
          "state": {
            "_view_name": "StyleView",
            "_model_name": "ProgressStyleModel",
            "description_width": "",
            "_view_module": "@jupyter-widgets/base",
            "_model_module_version": "1.5.0",
            "_view_count": null,
            "_view_module_version": "1.2.0",
            "bar_color": null,
            "_model_module": "@jupyter-widgets/controls"
          }
        },
        "48b32289fad54d93a0ef6a4b0f1a9ed2": {
          "model_module": "@jupyter-widgets/base",
          "model_name": "LayoutModel",
          "model_module_version": "1.2.0",
          "state": {
            "_view_name": "LayoutView",
            "grid_template_rows": null,
            "right": null,
            "justify_content": null,
            "_view_module": "@jupyter-widgets/base",
            "overflow": null,
            "_model_module_version": "1.2.0",
            "_view_count": null,
            "flex_flow": null,
            "width": null,
            "min_width": null,
            "border": null,
            "align_items": null,
            "bottom": null,
            "_model_module": "@jupyter-widgets/base",
            "top": null,
            "grid_column": null,
            "overflow_y": null,
            "overflow_x": null,
            "grid_auto_flow": null,
            "grid_area": null,
            "grid_template_columns": null,
            "flex": null,
            "_model_name": "LayoutModel",
            "justify_items": null,
            "grid_row": null,
            "max_height": null,
            "align_content": null,
            "visibility": null,
            "align_self": null,
            "height": null,
            "min_height": null,
            "padding": null,
            "grid_auto_rows": null,
            "grid_gap": null,
            "max_width": null,
            "order": null,
            "_view_module_version": "1.2.0",
            "grid_template_areas": null,
            "object_position": null,
            "object_fit": null,
            "grid_auto_columns": null,
            "margin": null,
            "display": null,
            "left": null
          }
        },
        "0be7974cc0a8462fb2522b7573d0f40a": {
          "model_module": "@jupyter-widgets/controls",
          "model_name": "DescriptionStyleModel",
          "model_module_version": "1.5.0",
          "state": {
            "_view_name": "StyleView",
            "_model_name": "DescriptionStyleModel",
            "description_width": "",
            "_view_module": "@jupyter-widgets/base",
            "_model_module_version": "1.5.0",
            "_view_count": null,
            "_view_module_version": "1.2.0",
            "_model_module": "@jupyter-widgets/controls"
          }
        },
        "51063ecffbd545d0aee81a6bcbbe5519": {
          "model_module": "@jupyter-widgets/base",
          "model_name": "LayoutModel",
          "model_module_version": "1.2.0",
          "state": {
            "_view_name": "LayoutView",
            "grid_template_rows": null,
            "right": null,
            "justify_content": null,
            "_view_module": "@jupyter-widgets/base",
            "overflow": null,
            "_model_module_version": "1.2.0",
            "_view_count": null,
            "flex_flow": null,
            "width": null,
            "min_width": null,
            "border": null,
            "align_items": null,
            "bottom": null,
            "_model_module": "@jupyter-widgets/base",
            "top": null,
            "grid_column": null,
            "overflow_y": null,
            "overflow_x": null,
            "grid_auto_flow": null,
            "grid_area": null,
            "grid_template_columns": null,
            "flex": null,
            "_model_name": "LayoutModel",
            "justify_items": null,
            "grid_row": null,
            "max_height": null,
            "align_content": null,
            "visibility": null,
            "align_self": null,
            "height": null,
            "min_height": null,
            "padding": null,
            "grid_auto_rows": null,
            "grid_gap": null,
            "max_width": null,
            "order": null,
            "_view_module_version": "1.2.0",
            "grid_template_areas": null,
            "object_position": null,
            "object_fit": null,
            "grid_auto_columns": null,
            "margin": null,
            "display": null,
            "left": null
          }
        },
        "7d334ad1c3f84f238cf7547b35a84947": {
          "model_module": "@jupyter-widgets/controls",
          "model_name": "HBoxModel",
          "model_module_version": "1.5.0",
          "state": {
            "_view_name": "HBoxView",
            "_dom_classes": [],
            "_model_name": "HBoxModel",
            "_view_module": "@jupyter-widgets/controls",
            "_model_module_version": "1.5.0",
            "_view_count": null,
            "_view_module_version": "1.5.0",
            "box_style": "",
            "layout": "IPY_MODEL_468cf3dc30814a6695db135c7f9de20b",
            "_model_module": "@jupyter-widgets/controls",
            "children": [
              "IPY_MODEL_787b9d4f114f413bac39b70b2e3cd8c4",
              "IPY_MODEL_ed11528376e341779eb253a36c05e92a",
              "IPY_MODEL_7decfd6f18ab426c90cd873fd64cad9a"
            ]
          }
        },
        "468cf3dc30814a6695db135c7f9de20b": {
          "model_module": "@jupyter-widgets/base",
          "model_name": "LayoutModel",
          "model_module_version": "1.2.0",
          "state": {
            "_view_name": "LayoutView",
            "grid_template_rows": null,
            "right": null,
            "justify_content": null,
            "_view_module": "@jupyter-widgets/base",
            "overflow": null,
            "_model_module_version": "1.2.0",
            "_view_count": null,
            "flex_flow": null,
            "width": null,
            "min_width": null,
            "border": null,
            "align_items": null,
            "bottom": null,
            "_model_module": "@jupyter-widgets/base",
            "top": null,
            "grid_column": null,
            "overflow_y": null,
            "overflow_x": null,
            "grid_auto_flow": null,
            "grid_area": null,
            "grid_template_columns": null,
            "flex": null,
            "_model_name": "LayoutModel",
            "justify_items": null,
            "grid_row": null,
            "max_height": null,
            "align_content": null,
            "visibility": null,
            "align_self": null,
            "height": null,
            "min_height": null,
            "padding": null,
            "grid_auto_rows": null,
            "grid_gap": null,
            "max_width": null,
            "order": null,
            "_view_module_version": "1.2.0",
            "grid_template_areas": null,
            "object_position": null,
            "object_fit": null,
            "grid_auto_columns": null,
            "margin": null,
            "display": null,
            "left": null
          }
        },
        "787b9d4f114f413bac39b70b2e3cd8c4": {
          "model_module": "@jupyter-widgets/controls",
          "model_name": "HTMLModel",
          "model_module_version": "1.5.0",
          "state": {
            "_view_name": "HTMLView",
            "style": "IPY_MODEL_2d13b267f4674a9897aec827e370a416",
            "_dom_classes": [],
            "description": "",
            "_model_name": "HTMLModel",
            "placeholder": "​",
            "_view_module": "@jupyter-widgets/controls",
            "_model_module_version": "1.5.0",
            "value": "Downloading: 100%",
            "_view_count": null,
            "_view_module_version": "1.5.0",
            "description_tooltip": null,
            "_model_module": "@jupyter-widgets/controls",
            "layout": "IPY_MODEL_254a2f4f283e4dfe855278267e9ac19e"
          }
        },
        "ed11528376e341779eb253a36c05e92a": {
          "model_module": "@jupyter-widgets/controls",
          "model_name": "FloatProgressModel",
          "model_module_version": "1.5.0",
          "state": {
            "_view_name": "ProgressView",
            "style": "IPY_MODEL_05fdf45e7c6445ff9ef03288aaf7e76d",
            "_dom_classes": [],
            "description": "",
            "_model_name": "FloatProgressModel",
            "bar_style": "success",
            "max": 570,
            "_view_module": "@jupyter-widgets/controls",
            "_model_module_version": "1.5.0",
            "value": 570,
            "_view_count": null,
            "_view_module_version": "1.5.0",
            "orientation": "horizontal",
            "min": 0,
            "description_tooltip": null,
            "_model_module": "@jupyter-widgets/controls",
            "layout": "IPY_MODEL_f18bb5995189463d8153010097c55577"
          }
        },
        "7decfd6f18ab426c90cd873fd64cad9a": {
          "model_module": "@jupyter-widgets/controls",
          "model_name": "HTMLModel",
          "model_module_version": "1.5.0",
          "state": {
            "_view_name": "HTMLView",
            "style": "IPY_MODEL_64c81c5ebb444591834d22822429d122",
            "_dom_classes": [],
            "description": "",
            "_model_name": "HTMLModel",
            "placeholder": "​",
            "_view_module": "@jupyter-widgets/controls",
            "_model_module_version": "1.5.0",
            "value": " 570/570 [00:00&lt;00:00, 12.5kB/s]",
            "_view_count": null,
            "_view_module_version": "1.5.0",
            "description_tooltip": null,
            "_model_module": "@jupyter-widgets/controls",
            "layout": "IPY_MODEL_419ce9196e054f108580665c05166f5b"
          }
        },
        "2d13b267f4674a9897aec827e370a416": {
          "model_module": "@jupyter-widgets/controls",
          "model_name": "DescriptionStyleModel",
          "model_module_version": "1.5.0",
          "state": {
            "_view_name": "StyleView",
            "_model_name": "DescriptionStyleModel",
            "description_width": "",
            "_view_module": "@jupyter-widgets/base",
            "_model_module_version": "1.5.0",
            "_view_count": null,
            "_view_module_version": "1.2.0",
            "_model_module": "@jupyter-widgets/controls"
          }
        },
        "254a2f4f283e4dfe855278267e9ac19e": {
          "model_module": "@jupyter-widgets/base",
          "model_name": "LayoutModel",
          "model_module_version": "1.2.0",
          "state": {
            "_view_name": "LayoutView",
            "grid_template_rows": null,
            "right": null,
            "justify_content": null,
            "_view_module": "@jupyter-widgets/base",
            "overflow": null,
            "_model_module_version": "1.2.0",
            "_view_count": null,
            "flex_flow": null,
            "width": null,
            "min_width": null,
            "border": null,
            "align_items": null,
            "bottom": null,
            "_model_module": "@jupyter-widgets/base",
            "top": null,
            "grid_column": null,
            "overflow_y": null,
            "overflow_x": null,
            "grid_auto_flow": null,
            "grid_area": null,
            "grid_template_columns": null,
            "flex": null,
            "_model_name": "LayoutModel",
            "justify_items": null,
            "grid_row": null,
            "max_height": null,
            "align_content": null,
            "visibility": null,
            "align_self": null,
            "height": null,
            "min_height": null,
            "padding": null,
            "grid_auto_rows": null,
            "grid_gap": null,
            "max_width": null,
            "order": null,
            "_view_module_version": "1.2.0",
            "grid_template_areas": null,
            "object_position": null,
            "object_fit": null,
            "grid_auto_columns": null,
            "margin": null,
            "display": null,
            "left": null
          }
        },
        "05fdf45e7c6445ff9ef03288aaf7e76d": {
          "model_module": "@jupyter-widgets/controls",
          "model_name": "ProgressStyleModel",
          "model_module_version": "1.5.0",
          "state": {
            "_view_name": "StyleView",
            "_model_name": "ProgressStyleModel",
            "description_width": "",
            "_view_module": "@jupyter-widgets/base",
            "_model_module_version": "1.5.0",
            "_view_count": null,
            "_view_module_version": "1.2.0",
            "bar_color": null,
            "_model_module": "@jupyter-widgets/controls"
          }
        },
        "f18bb5995189463d8153010097c55577": {
          "model_module": "@jupyter-widgets/base",
          "model_name": "LayoutModel",
          "model_module_version": "1.2.0",
          "state": {
            "_view_name": "LayoutView",
            "grid_template_rows": null,
            "right": null,
            "justify_content": null,
            "_view_module": "@jupyter-widgets/base",
            "overflow": null,
            "_model_module_version": "1.2.0",
            "_view_count": null,
            "flex_flow": null,
            "width": null,
            "min_width": null,
            "border": null,
            "align_items": null,
            "bottom": null,
            "_model_module": "@jupyter-widgets/base",
            "top": null,
            "grid_column": null,
            "overflow_y": null,
            "overflow_x": null,
            "grid_auto_flow": null,
            "grid_area": null,
            "grid_template_columns": null,
            "flex": null,
            "_model_name": "LayoutModel",
            "justify_items": null,
            "grid_row": null,
            "max_height": null,
            "align_content": null,
            "visibility": null,
            "align_self": null,
            "height": null,
            "min_height": null,
            "padding": null,
            "grid_auto_rows": null,
            "grid_gap": null,
            "max_width": null,
            "order": null,
            "_view_module_version": "1.2.0",
            "grid_template_areas": null,
            "object_position": null,
            "object_fit": null,
            "grid_auto_columns": null,
            "margin": null,
            "display": null,
            "left": null
          }
        },
        "64c81c5ebb444591834d22822429d122": {
          "model_module": "@jupyter-widgets/controls",
          "model_name": "DescriptionStyleModel",
          "model_module_version": "1.5.0",
          "state": {
            "_view_name": "StyleView",
            "_model_name": "DescriptionStyleModel",
            "description_width": "",
            "_view_module": "@jupyter-widgets/base",
            "_model_module_version": "1.5.0",
            "_view_count": null,
            "_view_module_version": "1.2.0",
            "_model_module": "@jupyter-widgets/controls"
          }
        },
        "419ce9196e054f108580665c05166f5b": {
          "model_module": "@jupyter-widgets/base",
          "model_name": "LayoutModel",
          "model_module_version": "1.2.0",
          "state": {
            "_view_name": "LayoutView",
            "grid_template_rows": null,
            "right": null,
            "justify_content": null,
            "_view_module": "@jupyter-widgets/base",
            "overflow": null,
            "_model_module_version": "1.2.0",
            "_view_count": null,
            "flex_flow": null,
            "width": null,
            "min_width": null,
            "border": null,
            "align_items": null,
            "bottom": null,
            "_model_module": "@jupyter-widgets/base",
            "top": null,
            "grid_column": null,
            "overflow_y": null,
            "overflow_x": null,
            "grid_auto_flow": null,
            "grid_area": null,
            "grid_template_columns": null,
            "flex": null,
            "_model_name": "LayoutModel",
            "justify_items": null,
            "grid_row": null,
            "max_height": null,
            "align_content": null,
            "visibility": null,
            "align_self": null,
            "height": null,
            "min_height": null,
            "padding": null,
            "grid_auto_rows": null,
            "grid_gap": null,
            "max_width": null,
            "order": null,
            "_view_module_version": "1.2.0",
            "grid_template_areas": null,
            "object_position": null,
            "object_fit": null,
            "grid_auto_columns": null,
            "margin": null,
            "display": null,
            "left": null
          }
        },
        "ab5c541636f14b7cb5d6f8fbbe3b6501": {
          "model_module": "@jupyter-widgets/controls",
          "model_name": "HBoxModel",
          "model_module_version": "1.5.0",
          "state": {
            "_view_name": "HBoxView",
            "_dom_classes": [],
            "_model_name": "HBoxModel",
            "_view_module": "@jupyter-widgets/controls",
            "_model_module_version": "1.5.0",
            "_view_count": null,
            "_view_module_version": "1.5.0",
            "box_style": "",
            "layout": "IPY_MODEL_fcb45ddc339b4763b74283a9993d11b4",
            "_model_module": "@jupyter-widgets/controls",
            "children": [
              "IPY_MODEL_bfae3f9bc4ba43bcbfe1f92333d29670",
              "IPY_MODEL_cbfba76d005643eba6422180e06ef330",
              "IPY_MODEL_d59bae87523446f2bcfa10748b528c71"
            ]
          }
        },
        "fcb45ddc339b4763b74283a9993d11b4": {
          "model_module": "@jupyter-widgets/base",
          "model_name": "LayoutModel",
          "model_module_version": "1.2.0",
          "state": {
            "_view_name": "LayoutView",
            "grid_template_rows": null,
            "right": null,
            "justify_content": null,
            "_view_module": "@jupyter-widgets/base",
            "overflow": null,
            "_model_module_version": "1.2.0",
            "_view_count": null,
            "flex_flow": null,
            "width": null,
            "min_width": null,
            "border": null,
            "align_items": null,
            "bottom": null,
            "_model_module": "@jupyter-widgets/base",
            "top": null,
            "grid_column": null,
            "overflow_y": null,
            "overflow_x": null,
            "grid_auto_flow": null,
            "grid_area": null,
            "grid_template_columns": null,
            "flex": null,
            "_model_name": "LayoutModel",
            "justify_items": null,
            "grid_row": null,
            "max_height": null,
            "align_content": null,
            "visibility": null,
            "align_self": null,
            "height": null,
            "min_height": null,
            "padding": null,
            "grid_auto_rows": null,
            "grid_gap": null,
            "max_width": null,
            "order": null,
            "_view_module_version": "1.2.0",
            "grid_template_areas": null,
            "object_position": null,
            "object_fit": null,
            "grid_auto_columns": null,
            "margin": null,
            "display": null,
            "left": null
          }
        },
        "bfae3f9bc4ba43bcbfe1f92333d29670": {
          "model_module": "@jupyter-widgets/controls",
          "model_name": "HTMLModel",
          "model_module_version": "1.5.0",
          "state": {
            "_view_name": "HTMLView",
            "style": "IPY_MODEL_ceb89b77387f4646ab8400f5a88b5d49",
            "_dom_classes": [],
            "description": "",
            "_model_name": "HTMLModel",
            "placeholder": "​",
            "_view_module": "@jupyter-widgets/controls",
            "_model_module_version": "1.5.0",
            "value": "Downloading: 100%",
            "_view_count": null,
            "_view_module_version": "1.5.0",
            "description_tooltip": null,
            "_model_module": "@jupyter-widgets/controls",
            "layout": "IPY_MODEL_d9ca3e2ceb724903b7d3afb9b39cafda"
          }
        },
        "cbfba76d005643eba6422180e06ef330": {
          "model_module": "@jupyter-widgets/controls",
          "model_name": "FloatProgressModel",
          "model_module_version": "1.5.0",
          "state": {
            "_view_name": "ProgressView",
            "style": "IPY_MODEL_33f31b36eb1d4f459384d8e0a794a27e",
            "_dom_classes": [],
            "description": "",
            "_model_name": "FloatProgressModel",
            "bar_style": "success",
            "max": 536063208,
            "_view_module": "@jupyter-widgets/controls",
            "_model_module_version": "1.5.0",
            "value": 536063208,
            "_view_count": null,
            "_view_module_version": "1.5.0",
            "orientation": "horizontal",
            "min": 0,
            "description_tooltip": null,
            "_model_module": "@jupyter-widgets/controls",
            "layout": "IPY_MODEL_ceae4d523f0548a49971bc0d410858a0"
          }
        },
        "d59bae87523446f2bcfa10748b528c71": {
          "model_module": "@jupyter-widgets/controls",
          "model_name": "HTMLModel",
          "model_module_version": "1.5.0",
          "state": {
            "_view_name": "HTMLView",
            "style": "IPY_MODEL_d97b4df499b444da9d9b62f29c9afa46",
            "_dom_classes": [],
            "description": "",
            "_model_name": "HTMLModel",
            "placeholder": "​",
            "_view_module": "@jupyter-widgets/controls",
            "_model_module_version": "1.5.0",
            "value": " 511M/511M [00:16&lt;00:00, 29.9MB/s]",
            "_view_count": null,
            "_view_module_version": "1.5.0",
            "description_tooltip": null,
            "_model_module": "@jupyter-widgets/controls",
            "layout": "IPY_MODEL_68cb14039e654b4fbfdf157441ae27ef"
          }
        },
        "ceb89b77387f4646ab8400f5a88b5d49": {
          "model_module": "@jupyter-widgets/controls",
          "model_name": "DescriptionStyleModel",
          "model_module_version": "1.5.0",
          "state": {
            "_view_name": "StyleView",
            "_model_name": "DescriptionStyleModel",
            "description_width": "",
            "_view_module": "@jupyter-widgets/base",
            "_model_module_version": "1.5.0",
            "_view_count": null,
            "_view_module_version": "1.2.0",
            "_model_module": "@jupyter-widgets/controls"
          }
        },
        "d9ca3e2ceb724903b7d3afb9b39cafda": {
          "model_module": "@jupyter-widgets/base",
          "model_name": "LayoutModel",
          "model_module_version": "1.2.0",
          "state": {
            "_view_name": "LayoutView",
            "grid_template_rows": null,
            "right": null,
            "justify_content": null,
            "_view_module": "@jupyter-widgets/base",
            "overflow": null,
            "_model_module_version": "1.2.0",
            "_view_count": null,
            "flex_flow": null,
            "width": null,
            "min_width": null,
            "border": null,
            "align_items": null,
            "bottom": null,
            "_model_module": "@jupyter-widgets/base",
            "top": null,
            "grid_column": null,
            "overflow_y": null,
            "overflow_x": null,
            "grid_auto_flow": null,
            "grid_area": null,
            "grid_template_columns": null,
            "flex": null,
            "_model_name": "LayoutModel",
            "justify_items": null,
            "grid_row": null,
            "max_height": null,
            "align_content": null,
            "visibility": null,
            "align_self": null,
            "height": null,
            "min_height": null,
            "padding": null,
            "grid_auto_rows": null,
            "grid_gap": null,
            "max_width": null,
            "order": null,
            "_view_module_version": "1.2.0",
            "grid_template_areas": null,
            "object_position": null,
            "object_fit": null,
            "grid_auto_columns": null,
            "margin": null,
            "display": null,
            "left": null
          }
        },
        "33f31b36eb1d4f459384d8e0a794a27e": {
          "model_module": "@jupyter-widgets/controls",
          "model_name": "ProgressStyleModel",
          "model_module_version": "1.5.0",
          "state": {
            "_view_name": "StyleView",
            "_model_name": "ProgressStyleModel",
            "description_width": "",
            "_view_module": "@jupyter-widgets/base",
            "_model_module_version": "1.5.0",
            "_view_count": null,
            "_view_module_version": "1.2.0",
            "bar_color": null,
            "_model_module": "@jupyter-widgets/controls"
          }
        },
        "ceae4d523f0548a49971bc0d410858a0": {
          "model_module": "@jupyter-widgets/base",
          "model_name": "LayoutModel",
          "model_module_version": "1.2.0",
          "state": {
            "_view_name": "LayoutView",
            "grid_template_rows": null,
            "right": null,
            "justify_content": null,
            "_view_module": "@jupyter-widgets/base",
            "overflow": null,
            "_model_module_version": "1.2.0",
            "_view_count": null,
            "flex_flow": null,
            "width": null,
            "min_width": null,
            "border": null,
            "align_items": null,
            "bottom": null,
            "_model_module": "@jupyter-widgets/base",
            "top": null,
            "grid_column": null,
            "overflow_y": null,
            "overflow_x": null,
            "grid_auto_flow": null,
            "grid_area": null,
            "grid_template_columns": null,
            "flex": null,
            "_model_name": "LayoutModel",
            "justify_items": null,
            "grid_row": null,
            "max_height": null,
            "align_content": null,
            "visibility": null,
            "align_self": null,
            "height": null,
            "min_height": null,
            "padding": null,
            "grid_auto_rows": null,
            "grid_gap": null,
            "max_width": null,
            "order": null,
            "_view_module_version": "1.2.0",
            "grid_template_areas": null,
            "object_position": null,
            "object_fit": null,
            "grid_auto_columns": null,
            "margin": null,
            "display": null,
            "left": null
          }
        },
        "d97b4df499b444da9d9b62f29c9afa46": {
          "model_module": "@jupyter-widgets/controls",
          "model_name": "DescriptionStyleModel",
          "model_module_version": "1.5.0",
          "state": {
            "_view_name": "StyleView",
            "_model_name": "DescriptionStyleModel",
            "description_width": "",
            "_view_module": "@jupyter-widgets/base",
            "_model_module_version": "1.5.0",
            "_view_count": null,
            "_view_module_version": "1.2.0",
            "_model_module": "@jupyter-widgets/controls"
          }
        },
        "68cb14039e654b4fbfdf157441ae27ef": {
          "model_module": "@jupyter-widgets/base",
          "model_name": "LayoutModel",
          "model_module_version": "1.2.0",
          "state": {
            "_view_name": "LayoutView",
            "grid_template_rows": null,
            "right": null,
            "justify_content": null,
            "_view_module": "@jupyter-widgets/base",
            "overflow": null,
            "_model_module_version": "1.2.0",
            "_view_count": null,
            "flex_flow": null,
            "width": null,
            "min_width": null,
            "border": null,
            "align_items": null,
            "bottom": null,
            "_model_module": "@jupyter-widgets/base",
            "top": null,
            "grid_column": null,
            "overflow_y": null,
            "overflow_x": null,
            "grid_auto_flow": null,
            "grid_area": null,
            "grid_template_columns": null,
            "flex": null,
            "_model_name": "LayoutModel",
            "justify_items": null,
            "grid_row": null,
            "max_height": null,
            "align_content": null,
            "visibility": null,
            "align_self": null,
            "height": null,
            "min_height": null,
            "padding": null,
            "grid_auto_rows": null,
            "grid_gap": null,
            "max_width": null,
            "order": null,
            "_view_module_version": "1.2.0",
            "grid_template_areas": null,
            "object_position": null,
            "object_fit": null,
            "grid_auto_columns": null,
            "margin": null,
            "display": null,
            "left": null
          }
        }
      }
    }
  },
  "cells": [
    {
      "cell_type": "code",
      "metadata": {
        "id": "YELt4VXIh4GQ",
        "colab": {
          "base_uri": "https://localhost:8080/"
        },
        "outputId": "38b8e409-a349-43de-d4dc-13e86c633ae5"
      },
      "source": [
        "import nltk\n",
        "nltk.download('stopwords')\n",
        "nltk.download('wordnet')"
      ],
      "execution_count": 1,
      "outputs": [
        {
          "output_type": "stream",
          "name": "stdout",
          "text": [
            "[nltk_data] Downloading package stopwords to /root/nltk_data...\n",
            "[nltk_data]   Unzipping corpora/stopwords.zip.\n",
            "[nltk_data] Downloading package wordnet to /root/nltk_data...\n",
            "[nltk_data]   Unzipping corpora/wordnet.zip.\n"
          ]
        },
        {
          "output_type": "execute_result",
          "data": {
            "text/plain": [
              "True"
            ]
          },
          "metadata": {},
          "execution_count": 1
        }
      ]
    },
    {
      "cell_type": "markdown",
      "metadata": {
        "id": "BA54xP0RhxbU"
      },
      "source": [
        "### Imports"
      ]
    },
    {
      "cell_type": "code",
      "source": [
        "from google.colab import drive\n",
        "drive.mount('/content/drive')"
      ],
      "metadata": {
        "colab": {
          "base_uri": "https://localhost:8080/"
        },
        "id": "ecIgMW9GFNus",
        "outputId": "1926ae83-7edd-4109-e83c-3dac8801fce6"
      },
      "execution_count": 2,
      "outputs": [
        {
          "output_type": "stream",
          "name": "stdout",
          "text": [
            "Mounted at /content/drive\n"
          ]
        }
      ]
    },
    {
      "cell_type": "code",
      "metadata": {
        "execution": {
          "iopub.execute_input": "2021-05-20T20:26:17.070200Z",
          "iopub.status.busy": "2021-05-20T20:26:17.069902Z",
          "iopub.status.idle": "2021-05-20T20:26:23.104849Z",
          "shell.execute_reply": "2021-05-20T20:26:23.103988Z",
          "shell.execute_reply.started": "2021-05-20T20:26:17.070127Z"
        },
        "id": "-roB0wLrhxbd"
      },
      "source": [
        "import pandas as pd \n",
        "import numpy as np \n",
        "\n",
        "from sklearn.model_selection import train_test_split\n",
        "\n",
        "import tensorflow as tf\n",
        "from tensorflow.keras.preprocessing.text import Tokenizer\n",
        "from tensorflow.keras.preprocessing.sequence import pad_sequences\n",
        "from tensorflow.keras.models import Sequential\n",
        "from tensorflow.keras.layers import Embedding, LSTM, Dense, Bidirectional, Flatten, GlobalAveragePooling1D, Dropout,GRU\n",
        "from tensorflow.keras.callbacks import ModelCheckpoint, EarlyStopping\n",
        "\n",
        "import nltk\n",
        "import re\n",
        "from nltk.corpus import stopwords\n",
        "from textblob import Word\n",
        "\n",
        "import matplotlib.pyplot as plt\n",
        "from sklearn.metrics import classification_report, confusion_matrix, accuracy_score\n",
        "import seaborn as sns"
      ],
      "execution_count": 12,
      "outputs": []
    },
    {
      "cell_type": "markdown",
      "metadata": {
        "id": "laoC1_ighxbh"
      },
      "source": [
        "### Load Dataset"
      ]
    },
    {
      "cell_type": "code",
      "metadata": {
        "execution": {
          "iopub.execute_input": "2021-05-20T20:26:43.380269Z",
          "iopub.status.busy": "2021-05-20T20:26:43.379940Z",
          "iopub.status.idle": "2021-05-20T20:26:43.429913Z",
          "shell.execute_reply": "2021-05-20T20:26:43.429076Z",
          "shell.execute_reply.started": "2021-05-20T20:26:43.380241Z"
        },
        "id": "lH4z1pcAhxbi"
      },
      "source": [
        "train_df = pd.read_csv('/content/train.tsv', sep='\\t', header=0)"
      ],
      "execution_count": 4,
      "outputs": []
    },
    {
      "cell_type": "code",
      "metadata": {
        "colab": {
          "base_uri": "https://localhost:8080/",
          "height": 337
        },
        "id": "yCs9qJDvkznB",
        "outputId": "570d1237-03b2-4502-e2bd-e8fa26c00092"
      },
      "source": [
        "train_df.head()"
      ],
      "execution_count": 5,
      "outputs": [
        {
          "output_type": "execute_result",
          "data": {
            "text/html": [
              "\n",
              "  <div id=\"df-9264aca4-d640-4050-b13d-08c19c850fd1\">\n",
              "    <div class=\"colab-df-container\">\n",
              "      <div>\n",
              "<style scoped>\n",
              "    .dataframe tbody tr th:only-of-type {\n",
              "        vertical-align: middle;\n",
              "    }\n",
              "\n",
              "    .dataframe tbody tr th {\n",
              "        vertical-align: top;\n",
              "    }\n",
              "\n",
              "    .dataframe thead th {\n",
              "        text-align: right;\n",
              "    }\n",
              "</style>\n",
              "<table border=\"1\" class=\"dataframe\">\n",
              "  <thead>\n",
              "    <tr style=\"text-align: right;\">\n",
              "      <th></th>\n",
              "      <th>id</th>\n",
              "      <th>label</th>\n",
              "      <th>statement</th>\n",
              "      <th>subject</th>\n",
              "      <th>speaker</th>\n",
              "      <th>job</th>\n",
              "      <th>state</th>\n",
              "      <th>party</th>\n",
              "      <th>btc</th>\n",
              "      <th>fc</th>\n",
              "      <th>htc</th>\n",
              "      <th>mtc</th>\n",
              "      <th>pfc</th>\n",
              "      <th>context</th>\n",
              "    </tr>\n",
              "  </thead>\n",
              "  <tbody>\n",
              "    <tr>\n",
              "      <th>0</th>\n",
              "      <td>2635.json</td>\n",
              "      <td>false</td>\n",
              "      <td>Says the Annies List political group supports ...</td>\n",
              "      <td>abortion</td>\n",
              "      <td>dwayne-bohac</td>\n",
              "      <td>State representative</td>\n",
              "      <td>Texas</td>\n",
              "      <td>republican</td>\n",
              "      <td>0.0</td>\n",
              "      <td>1.0</td>\n",
              "      <td>0.0</td>\n",
              "      <td>0.0</td>\n",
              "      <td>0.0</td>\n",
              "      <td>a mailer</td>\n",
              "    </tr>\n",
              "    <tr>\n",
              "      <th>1</th>\n",
              "      <td>10540.json</td>\n",
              "      <td>half-true</td>\n",
              "      <td>When did the decline of coal start? It started...</td>\n",
              "      <td>energy,history,job-accomplishments</td>\n",
              "      <td>scott-surovell</td>\n",
              "      <td>State delegate</td>\n",
              "      <td>Virginia</td>\n",
              "      <td>democrat</td>\n",
              "      <td>0.0</td>\n",
              "      <td>0.0</td>\n",
              "      <td>1.0</td>\n",
              "      <td>1.0</td>\n",
              "      <td>0.0</td>\n",
              "      <td>a floor speech.</td>\n",
              "    </tr>\n",
              "    <tr>\n",
              "      <th>2</th>\n",
              "      <td>324.json</td>\n",
              "      <td>mostly-true</td>\n",
              "      <td>Hillary Clinton agrees with John McCain \"by vo...</td>\n",
              "      <td>foreign-policy</td>\n",
              "      <td>barack-obama</td>\n",
              "      <td>President</td>\n",
              "      <td>Illinois</td>\n",
              "      <td>democrat</td>\n",
              "      <td>70.0</td>\n",
              "      <td>71.0</td>\n",
              "      <td>160.0</td>\n",
              "      <td>163.0</td>\n",
              "      <td>9.0</td>\n",
              "      <td>Denver</td>\n",
              "    </tr>\n",
              "    <tr>\n",
              "      <th>3</th>\n",
              "      <td>1123.json</td>\n",
              "      <td>false</td>\n",
              "      <td>Health care reform legislation is likely to ma...</td>\n",
              "      <td>health-care</td>\n",
              "      <td>blog-posting</td>\n",
              "      <td>NaN</td>\n",
              "      <td>NaN</td>\n",
              "      <td>none</td>\n",
              "      <td>7.0</td>\n",
              "      <td>19.0</td>\n",
              "      <td>3.0</td>\n",
              "      <td>5.0</td>\n",
              "      <td>44.0</td>\n",
              "      <td>a news release</td>\n",
              "    </tr>\n",
              "    <tr>\n",
              "      <th>4</th>\n",
              "      <td>9028.json</td>\n",
              "      <td>half-true</td>\n",
              "      <td>The economic turnaround started at the end of ...</td>\n",
              "      <td>economy,jobs</td>\n",
              "      <td>charlie-crist</td>\n",
              "      <td>NaN</td>\n",
              "      <td>Florida</td>\n",
              "      <td>democrat</td>\n",
              "      <td>15.0</td>\n",
              "      <td>9.0</td>\n",
              "      <td>20.0</td>\n",
              "      <td>19.0</td>\n",
              "      <td>2.0</td>\n",
              "      <td>an interview on CNN</td>\n",
              "    </tr>\n",
              "  </tbody>\n",
              "</table>\n",
              "</div>\n",
              "      <button class=\"colab-df-convert\" onclick=\"convertToInteractive('df-9264aca4-d640-4050-b13d-08c19c850fd1')\"\n",
              "              title=\"Convert this dataframe to an interactive table.\"\n",
              "              style=\"display:none;\">\n",
              "        \n",
              "  <svg xmlns=\"http://www.w3.org/2000/svg\" height=\"24px\"viewBox=\"0 0 24 24\"\n",
              "       width=\"24px\">\n",
              "    <path d=\"M0 0h24v24H0V0z\" fill=\"none\"/>\n",
              "    <path d=\"M18.56 5.44l.94 2.06.94-2.06 2.06-.94-2.06-.94-.94-2.06-.94 2.06-2.06.94zm-11 1L8.5 8.5l.94-2.06 2.06-.94-2.06-.94L8.5 2.5l-.94 2.06-2.06.94zm10 10l.94 2.06.94-2.06 2.06-.94-2.06-.94-.94-2.06-.94 2.06-2.06.94z\"/><path d=\"M17.41 7.96l-1.37-1.37c-.4-.4-.92-.59-1.43-.59-.52 0-1.04.2-1.43.59L10.3 9.45l-7.72 7.72c-.78.78-.78 2.05 0 2.83L4 21.41c.39.39.9.59 1.41.59.51 0 1.02-.2 1.41-.59l7.78-7.78 2.81-2.81c.8-.78.8-2.07 0-2.86zM5.41 20L4 18.59l7.72-7.72 1.47 1.35L5.41 20z\"/>\n",
              "  </svg>\n",
              "      </button>\n",
              "      \n",
              "  <style>\n",
              "    .colab-df-container {\n",
              "      display:flex;\n",
              "      flex-wrap:wrap;\n",
              "      gap: 12px;\n",
              "    }\n",
              "\n",
              "    .colab-df-convert {\n",
              "      background-color: #E8F0FE;\n",
              "      border: none;\n",
              "      border-radius: 50%;\n",
              "      cursor: pointer;\n",
              "      display: none;\n",
              "      fill: #1967D2;\n",
              "      height: 32px;\n",
              "      padding: 0 0 0 0;\n",
              "      width: 32px;\n",
              "    }\n",
              "\n",
              "    .colab-df-convert:hover {\n",
              "      background-color: #E2EBFA;\n",
              "      box-shadow: 0px 1px 2px rgba(60, 64, 67, 0.3), 0px 1px 3px 1px rgba(60, 64, 67, 0.15);\n",
              "      fill: #174EA6;\n",
              "    }\n",
              "\n",
              "    [theme=dark] .colab-df-convert {\n",
              "      background-color: #3B4455;\n",
              "      fill: #D2E3FC;\n",
              "    }\n",
              "\n",
              "    [theme=dark] .colab-df-convert:hover {\n",
              "      background-color: #434B5C;\n",
              "      box-shadow: 0px 1px 3px 1px rgba(0, 0, 0, 0.15);\n",
              "      filter: drop-shadow(0px 1px 2px rgba(0, 0, 0, 0.3));\n",
              "      fill: #FFFFFF;\n",
              "    }\n",
              "  </style>\n",
              "\n",
              "      <script>\n",
              "        const buttonEl =\n",
              "          document.querySelector('#df-9264aca4-d640-4050-b13d-08c19c850fd1 button.colab-df-convert');\n",
              "        buttonEl.style.display =\n",
              "          google.colab.kernel.accessAllowed ? 'block' : 'none';\n",
              "\n",
              "        async function convertToInteractive(key) {\n",
              "          const element = document.querySelector('#df-9264aca4-d640-4050-b13d-08c19c850fd1');\n",
              "          const dataTable =\n",
              "            await google.colab.kernel.invokeFunction('convertToInteractive',\n",
              "                                                     [key], {});\n",
              "          if (!dataTable) return;\n",
              "\n",
              "          const docLinkHtml = 'Like what you see? Visit the ' +\n",
              "            '<a target=\"_blank\" href=https://colab.research.google.com/notebooks/data_table.ipynb>data table notebook</a>'\n",
              "            + ' to learn more about interactive tables.';\n",
              "          element.innerHTML = '';\n",
              "          dataTable['output_type'] = 'display_data';\n",
              "          await google.colab.output.renderOutput(dataTable, element);\n",
              "          const docLink = document.createElement('div');\n",
              "          docLink.innerHTML = docLinkHtml;\n",
              "          element.appendChild(docLink);\n",
              "        }\n",
              "      </script>\n",
              "    </div>\n",
              "  </div>\n",
              "  "
            ],
            "text/plain": [
              "           id        label  ...   pfc              context\n",
              "0   2635.json        false  ...   0.0             a mailer\n",
              "1  10540.json    half-true  ...   0.0      a floor speech.\n",
              "2    324.json  mostly-true  ...   9.0               Denver\n",
              "3   1123.json        false  ...  44.0       a news release\n",
              "4   9028.json    half-true  ...   2.0  an interview on CNN\n",
              "\n",
              "[5 rows x 14 columns]"
            ]
          },
          "metadata": {},
          "execution_count": 5
        }
      ]
    },
    {
      "cell_type": "code",
      "metadata": {
        "id": "7T3REhrPkyqs"
      },
      "source": [
        "train_df = train_df[['statement','label']]"
      ],
      "execution_count": 6,
      "outputs": []
    },
    {
      "cell_type": "code",
      "metadata": {
        "id": "kpeBK37klEM_"
      },
      "source": [
        "for index in range(len(train_df['label'])):\n",
        "     if(train_df.iloc[index]['label'] == 'true' or train_df.iloc[index]['label'] == 'mostly-true' or train_df.iloc[index]['label'] == 'half-true'):\n",
        "       train_df.iloc[index]['label'] = 'true'\n",
        "      \n",
        "     if(train_df.iloc[index]['label'] == 'barely-true' or train_df.iloc[index]['label'] == 'false' or train_df.iloc[index]['label'] == 'pants-fire'):\n",
        "       train_df.iloc[index]['label'] = 'false'"
      ],
      "execution_count": 7,
      "outputs": []
    },
    {
      "cell_type": "code",
      "metadata": {
        "id": "6ttOcaiXlSFY",
        "colab": {
          "base_uri": "https://localhost:8080/",
          "height": 206
        },
        "outputId": "ccbfc158-1bf3-4c72-daa2-c50157b9496f"
      },
      "source": [
        "train_df.head()"
      ],
      "execution_count": 8,
      "outputs": [
        {
          "output_type": "execute_result",
          "data": {
            "text/html": [
              "\n",
              "  <div id=\"df-575c9c79-04ec-4607-b6ba-bc4fbd8622e0\">\n",
              "    <div class=\"colab-df-container\">\n",
              "      <div>\n",
              "<style scoped>\n",
              "    .dataframe tbody tr th:only-of-type {\n",
              "        vertical-align: middle;\n",
              "    }\n",
              "\n",
              "    .dataframe tbody tr th {\n",
              "        vertical-align: top;\n",
              "    }\n",
              "\n",
              "    .dataframe thead th {\n",
              "        text-align: right;\n",
              "    }\n",
              "</style>\n",
              "<table border=\"1\" class=\"dataframe\">\n",
              "  <thead>\n",
              "    <tr style=\"text-align: right;\">\n",
              "      <th></th>\n",
              "      <th>statement</th>\n",
              "      <th>label</th>\n",
              "    </tr>\n",
              "  </thead>\n",
              "  <tbody>\n",
              "    <tr>\n",
              "      <th>0</th>\n",
              "      <td>Says the Annies List political group supports ...</td>\n",
              "      <td>false</td>\n",
              "    </tr>\n",
              "    <tr>\n",
              "      <th>1</th>\n",
              "      <td>When did the decline of coal start? It started...</td>\n",
              "      <td>true</td>\n",
              "    </tr>\n",
              "    <tr>\n",
              "      <th>2</th>\n",
              "      <td>Hillary Clinton agrees with John McCain \"by vo...</td>\n",
              "      <td>true</td>\n",
              "    </tr>\n",
              "    <tr>\n",
              "      <th>3</th>\n",
              "      <td>Health care reform legislation is likely to ma...</td>\n",
              "      <td>false</td>\n",
              "    </tr>\n",
              "    <tr>\n",
              "      <th>4</th>\n",
              "      <td>The economic turnaround started at the end of ...</td>\n",
              "      <td>true</td>\n",
              "    </tr>\n",
              "  </tbody>\n",
              "</table>\n",
              "</div>\n",
              "      <button class=\"colab-df-convert\" onclick=\"convertToInteractive('df-575c9c79-04ec-4607-b6ba-bc4fbd8622e0')\"\n",
              "              title=\"Convert this dataframe to an interactive table.\"\n",
              "              style=\"display:none;\">\n",
              "        \n",
              "  <svg xmlns=\"http://www.w3.org/2000/svg\" height=\"24px\"viewBox=\"0 0 24 24\"\n",
              "       width=\"24px\">\n",
              "    <path d=\"M0 0h24v24H0V0z\" fill=\"none\"/>\n",
              "    <path d=\"M18.56 5.44l.94 2.06.94-2.06 2.06-.94-2.06-.94-.94-2.06-.94 2.06-2.06.94zm-11 1L8.5 8.5l.94-2.06 2.06-.94-2.06-.94L8.5 2.5l-.94 2.06-2.06.94zm10 10l.94 2.06.94-2.06 2.06-.94-2.06-.94-.94-2.06-.94 2.06-2.06.94z\"/><path d=\"M17.41 7.96l-1.37-1.37c-.4-.4-.92-.59-1.43-.59-.52 0-1.04.2-1.43.59L10.3 9.45l-7.72 7.72c-.78.78-.78 2.05 0 2.83L4 21.41c.39.39.9.59 1.41.59.51 0 1.02-.2 1.41-.59l7.78-7.78 2.81-2.81c.8-.78.8-2.07 0-2.86zM5.41 20L4 18.59l7.72-7.72 1.47 1.35L5.41 20z\"/>\n",
              "  </svg>\n",
              "      </button>\n",
              "      \n",
              "  <style>\n",
              "    .colab-df-container {\n",
              "      display:flex;\n",
              "      flex-wrap:wrap;\n",
              "      gap: 12px;\n",
              "    }\n",
              "\n",
              "    .colab-df-convert {\n",
              "      background-color: #E8F0FE;\n",
              "      border: none;\n",
              "      border-radius: 50%;\n",
              "      cursor: pointer;\n",
              "      display: none;\n",
              "      fill: #1967D2;\n",
              "      height: 32px;\n",
              "      padding: 0 0 0 0;\n",
              "      width: 32px;\n",
              "    }\n",
              "\n",
              "    .colab-df-convert:hover {\n",
              "      background-color: #E2EBFA;\n",
              "      box-shadow: 0px 1px 2px rgba(60, 64, 67, 0.3), 0px 1px 3px 1px rgba(60, 64, 67, 0.15);\n",
              "      fill: #174EA6;\n",
              "    }\n",
              "\n",
              "    [theme=dark] .colab-df-convert {\n",
              "      background-color: #3B4455;\n",
              "      fill: #D2E3FC;\n",
              "    }\n",
              "\n",
              "    [theme=dark] .colab-df-convert:hover {\n",
              "      background-color: #434B5C;\n",
              "      box-shadow: 0px 1px 3px 1px rgba(0, 0, 0, 0.15);\n",
              "      filter: drop-shadow(0px 1px 2px rgba(0, 0, 0, 0.3));\n",
              "      fill: #FFFFFF;\n",
              "    }\n",
              "  </style>\n",
              "\n",
              "      <script>\n",
              "        const buttonEl =\n",
              "          document.querySelector('#df-575c9c79-04ec-4607-b6ba-bc4fbd8622e0 button.colab-df-convert');\n",
              "        buttonEl.style.display =\n",
              "          google.colab.kernel.accessAllowed ? 'block' : 'none';\n",
              "\n",
              "        async function convertToInteractive(key) {\n",
              "          const element = document.querySelector('#df-575c9c79-04ec-4607-b6ba-bc4fbd8622e0');\n",
              "          const dataTable =\n",
              "            await google.colab.kernel.invokeFunction('convertToInteractive',\n",
              "                                                     [key], {});\n",
              "          if (!dataTable) return;\n",
              "\n",
              "          const docLinkHtml = 'Like what you see? Visit the ' +\n",
              "            '<a target=\"_blank\" href=https://colab.research.google.com/notebooks/data_table.ipynb>data table notebook</a>'\n",
              "            + ' to learn more about interactive tables.';\n",
              "          element.innerHTML = '';\n",
              "          dataTable['output_type'] = 'display_data';\n",
              "          await google.colab.output.renderOutput(dataTable, element);\n",
              "          const docLink = document.createElement('div');\n",
              "          docLink.innerHTML = docLinkHtml;\n",
              "          element.appendChild(docLink);\n",
              "        }\n",
              "      </script>\n",
              "    </div>\n",
              "  </div>\n",
              "  "
            ],
            "text/plain": [
              "                                           statement  label\n",
              "0  Says the Annies List political group supports ...  false\n",
              "1  When did the decline of coal start? It started...   true\n",
              "2  Hillary Clinton agrees with John McCain \"by vo...   true\n",
              "3  Health care reform legislation is likely to ma...  false\n",
              "4  The economic turnaround started at the end of ...   true"
            ]
          },
          "metadata": {},
          "execution_count": 8
        }
      ]
    },
    {
      "cell_type": "code",
      "metadata": {
        "id": "0SiYve6tlX0s",
        "colab": {
          "base_uri": "https://localhost:8080/"
        },
        "outputId": "f35f89ff-2063-4aab-f723-e4442e64a2d2"
      },
      "source": [
        "rslt_df = train_df[train_df['label'] == 'true']\n",
        "rslt_df['label'] = 1\n",
        "fslt_df = train_df[train_df['label'] == 'false']\n",
        "fslt_df['label'] = 0\n",
        "frames = [fslt_df, rslt_df]\n",
        "train_df = pd.concat(frames)"
      ],
      "execution_count": 9,
      "outputs": [
        {
          "output_type": "stream",
          "name": "stderr",
          "text": [
            "/usr/local/lib/python3.7/dist-packages/ipykernel_launcher.py:2: SettingWithCopyWarning: \n",
            "A value is trying to be set on a copy of a slice from a DataFrame.\n",
            "Try using .loc[row_indexer,col_indexer] = value instead\n",
            "\n",
            "See the caveats in the documentation: https://pandas.pydata.org/pandas-docs/stable/user_guide/indexing.html#returning-a-view-versus-a-copy\n",
            "  \n",
            "/usr/local/lib/python3.7/dist-packages/ipykernel_launcher.py:4: SettingWithCopyWarning: \n",
            "A value is trying to be set on a copy of a slice from a DataFrame.\n",
            "Try using .loc[row_indexer,col_indexer] = value instead\n",
            "\n",
            "See the caveats in the documentation: https://pandas.pydata.org/pandas-docs/stable/user_guide/indexing.html#returning-a-view-versus-a-copy\n",
            "  after removing the cwd from sys.path.\n"
          ]
        }
      ]
    },
    {
      "cell_type": "code",
      "metadata": {
        "id": "HMXhNJxUlo-x",
        "colab": {
          "base_uri": "https://localhost:8080/",
          "height": 423
        },
        "outputId": "2e4786b9-c1ce-4f64-b03a-35eb914fcd70"
      },
      "source": [
        "train_df = train_df[train_df['statement'].notnull()]\n",
        "train_df"
      ],
      "execution_count": 10,
      "outputs": [
        {
          "output_type": "execute_result",
          "data": {
            "text/html": [
              "\n",
              "  <div id=\"df-e586ec4b-7a87-4e10-8557-4951ffda958b\">\n",
              "    <div class=\"colab-df-container\">\n",
              "      <div>\n",
              "<style scoped>\n",
              "    .dataframe tbody tr th:only-of-type {\n",
              "        vertical-align: middle;\n",
              "    }\n",
              "\n",
              "    .dataframe tbody tr th {\n",
              "        vertical-align: top;\n",
              "    }\n",
              "\n",
              "    .dataframe thead th {\n",
              "        text-align: right;\n",
              "    }\n",
              "</style>\n",
              "<table border=\"1\" class=\"dataframe\">\n",
              "  <thead>\n",
              "    <tr style=\"text-align: right;\">\n",
              "      <th></th>\n",
              "      <th>statement</th>\n",
              "      <th>label</th>\n",
              "    </tr>\n",
              "  </thead>\n",
              "  <tbody>\n",
              "    <tr>\n",
              "      <th>0</th>\n",
              "      <td>Says the Annies List political group supports ...</td>\n",
              "      <td>0</td>\n",
              "    </tr>\n",
              "    <tr>\n",
              "      <th>3</th>\n",
              "      <td>Health care reform legislation is likely to ma...</td>\n",
              "      <td>0</td>\n",
              "    </tr>\n",
              "    <tr>\n",
              "      <th>6</th>\n",
              "      <td>Jim Dunnam has not lived in the district he re...</td>\n",
              "      <td>0</td>\n",
              "    </tr>\n",
              "    <tr>\n",
              "      <th>12</th>\n",
              "      <td>When Mitt Romney was governor of Massachusetts...</td>\n",
              "      <td>0</td>\n",
              "    </tr>\n",
              "    <tr>\n",
              "      <th>14</th>\n",
              "      <td>Most of the (Affordable Care Act) has already ...</td>\n",
              "      <td>0</td>\n",
              "    </tr>\n",
              "    <tr>\n",
              "      <th>...</th>\n",
              "      <td>...</td>\n",
              "      <td>...</td>\n",
              "    </tr>\n",
              "    <tr>\n",
              "      <th>10232</th>\n",
              "      <td>Eighty percent of the net new jobs created in ...</td>\n",
              "      <td>1</td>\n",
              "    </tr>\n",
              "    <tr>\n",
              "      <th>10234</th>\n",
              "      <td>Under the ruling of the Supreme Court, any lob...</td>\n",
              "      <td>1</td>\n",
              "    </tr>\n",
              "    <tr>\n",
              "      <th>10235</th>\n",
              "      <td>There are a larger number of shark attacks in ...</td>\n",
              "      <td>1</td>\n",
              "    </tr>\n",
              "    <tr>\n",
              "      <th>10236</th>\n",
              "      <td>Democrats have now become the party of the [At...</td>\n",
              "      <td>1</td>\n",
              "    </tr>\n",
              "    <tr>\n",
              "      <th>10237</th>\n",
              "      <td>Says an alternative to Social Security that op...</td>\n",
              "      <td>1</td>\n",
              "    </tr>\n",
              "  </tbody>\n",
              "</table>\n",
              "<p>10240 rows × 2 columns</p>\n",
              "</div>\n",
              "      <button class=\"colab-df-convert\" onclick=\"convertToInteractive('df-e586ec4b-7a87-4e10-8557-4951ffda958b')\"\n",
              "              title=\"Convert this dataframe to an interactive table.\"\n",
              "              style=\"display:none;\">\n",
              "        \n",
              "  <svg xmlns=\"http://www.w3.org/2000/svg\" height=\"24px\"viewBox=\"0 0 24 24\"\n",
              "       width=\"24px\">\n",
              "    <path d=\"M0 0h24v24H0V0z\" fill=\"none\"/>\n",
              "    <path d=\"M18.56 5.44l.94 2.06.94-2.06 2.06-.94-2.06-.94-.94-2.06-.94 2.06-2.06.94zm-11 1L8.5 8.5l.94-2.06 2.06-.94-2.06-.94L8.5 2.5l-.94 2.06-2.06.94zm10 10l.94 2.06.94-2.06 2.06-.94-2.06-.94-.94-2.06-.94 2.06-2.06.94z\"/><path d=\"M17.41 7.96l-1.37-1.37c-.4-.4-.92-.59-1.43-.59-.52 0-1.04.2-1.43.59L10.3 9.45l-7.72 7.72c-.78.78-.78 2.05 0 2.83L4 21.41c.39.39.9.59 1.41.59.51 0 1.02-.2 1.41-.59l7.78-7.78 2.81-2.81c.8-.78.8-2.07 0-2.86zM5.41 20L4 18.59l7.72-7.72 1.47 1.35L5.41 20z\"/>\n",
              "  </svg>\n",
              "      </button>\n",
              "      \n",
              "  <style>\n",
              "    .colab-df-container {\n",
              "      display:flex;\n",
              "      flex-wrap:wrap;\n",
              "      gap: 12px;\n",
              "    }\n",
              "\n",
              "    .colab-df-convert {\n",
              "      background-color: #E8F0FE;\n",
              "      border: none;\n",
              "      border-radius: 50%;\n",
              "      cursor: pointer;\n",
              "      display: none;\n",
              "      fill: #1967D2;\n",
              "      height: 32px;\n",
              "      padding: 0 0 0 0;\n",
              "      width: 32px;\n",
              "    }\n",
              "\n",
              "    .colab-df-convert:hover {\n",
              "      background-color: #E2EBFA;\n",
              "      box-shadow: 0px 1px 2px rgba(60, 64, 67, 0.3), 0px 1px 3px 1px rgba(60, 64, 67, 0.15);\n",
              "      fill: #174EA6;\n",
              "    }\n",
              "\n",
              "    [theme=dark] .colab-df-convert {\n",
              "      background-color: #3B4455;\n",
              "      fill: #D2E3FC;\n",
              "    }\n",
              "\n",
              "    [theme=dark] .colab-df-convert:hover {\n",
              "      background-color: #434B5C;\n",
              "      box-shadow: 0px 1px 3px 1px rgba(0, 0, 0, 0.15);\n",
              "      filter: drop-shadow(0px 1px 2px rgba(0, 0, 0, 0.3));\n",
              "      fill: #FFFFFF;\n",
              "    }\n",
              "  </style>\n",
              "\n",
              "      <script>\n",
              "        const buttonEl =\n",
              "          document.querySelector('#df-e586ec4b-7a87-4e10-8557-4951ffda958b button.colab-df-convert');\n",
              "        buttonEl.style.display =\n",
              "          google.colab.kernel.accessAllowed ? 'block' : 'none';\n",
              "\n",
              "        async function convertToInteractive(key) {\n",
              "          const element = document.querySelector('#df-e586ec4b-7a87-4e10-8557-4951ffda958b');\n",
              "          const dataTable =\n",
              "            await google.colab.kernel.invokeFunction('convertToInteractive',\n",
              "                                                     [key], {});\n",
              "          if (!dataTable) return;\n",
              "\n",
              "          const docLinkHtml = 'Like what you see? Visit the ' +\n",
              "            '<a target=\"_blank\" href=https://colab.research.google.com/notebooks/data_table.ipynb>data table notebook</a>'\n",
              "            + ' to learn more about interactive tables.';\n",
              "          element.innerHTML = '';\n",
              "          dataTable['output_type'] = 'display_data';\n",
              "          await google.colab.output.renderOutput(dataTable, element);\n",
              "          const docLink = document.createElement('div');\n",
              "          docLink.innerHTML = docLinkHtml;\n",
              "          element.appendChild(docLink);\n",
              "        }\n",
              "      </script>\n",
              "    </div>\n",
              "  </div>\n",
              "  "
            ],
            "text/plain": [
              "                                               statement  label\n",
              "0      Says the Annies List political group supports ...      0\n",
              "3      Health care reform legislation is likely to ma...      0\n",
              "6      Jim Dunnam has not lived in the district he re...      0\n",
              "12     When Mitt Romney was governor of Massachusetts...      0\n",
              "14     Most of the (Affordable Care Act) has already ...      0\n",
              "...                                                  ...    ...\n",
              "10232  Eighty percent of the net new jobs created in ...      1\n",
              "10234  Under the ruling of the Supreme Court, any lob...      1\n",
              "10235  There are a larger number of shark attacks in ...      1\n",
              "10236  Democrats have now become the party of the [At...      1\n",
              "10237  Says an alternative to Social Security that op...      1\n",
              "\n",
              "[10240 rows x 2 columns]"
            ]
          },
          "metadata": {},
          "execution_count": 10
        }
      ]
    },
    {
      "cell_type": "markdown",
      "metadata": {
        "id": "JcZ7srCKhxbj"
      },
      "source": [
        "### Data Preprocessing"
      ]
    },
    {
      "cell_type": "code",
      "metadata": {
        "execution": {
          "iopub.execute_input": "2021-05-20T20:27:11.738160Z",
          "iopub.status.busy": "2021-05-20T20:27:11.737835Z",
          "iopub.status.idle": "2021-05-20T20:27:14.258043Z",
          "shell.execute_reply": "2021-05-20T20:27:14.257062Z",
          "shell.execute_reply.started": "2021-05-20T20:27:11.738130Z"
        },
        "colab": {
          "base_uri": "https://localhost:8080/",
          "height": 206
        },
        "id": "XuccecWshxbo",
        "outputId": "cab70618-cf60-4a1e-9079-32e21e97aac4"
      },
      "source": [
        "train_df[\"statement\"]=train_df[\"statement\"].apply(lambda x: \" \".join(x.lower() for x in x.split()))\n",
        "train_df[\"statement\"]=train_df[\"statement\"].str.replace('[^\\w\\s]', '').replace('\\d', '')\n",
        "\n",
        "sw=stopwords.words('english')\n",
        "train_df[\"statement\"]=train_df[\"statement\"].apply(lambda x: \" \".join(x for x in x.split() if x not in sw))\n",
        "train_df[\"statement\"]=train_df[\"statement\"].apply(lambda x:\" \".join([Word(word).lemmatize() for word in x.split()]))\n",
        "\n",
        "train_df.tail()"
      ],
      "execution_count": 13,
      "outputs": [
        {
          "output_type": "execute_result",
          "data": {
            "text/html": [
              "\n",
              "  <div id=\"df-e35ef7c9-f3cc-42ad-b48a-6f82231548bf\">\n",
              "    <div class=\"colab-df-container\">\n",
              "      <div>\n",
              "<style scoped>\n",
              "    .dataframe tbody tr th:only-of-type {\n",
              "        vertical-align: middle;\n",
              "    }\n",
              "\n",
              "    .dataframe tbody tr th {\n",
              "        vertical-align: top;\n",
              "    }\n",
              "\n",
              "    .dataframe thead th {\n",
              "        text-align: right;\n",
              "    }\n",
              "</style>\n",
              "<table border=\"1\" class=\"dataframe\">\n",
              "  <thead>\n",
              "    <tr style=\"text-align: right;\">\n",
              "      <th></th>\n",
              "      <th>statement</th>\n",
              "      <th>label</th>\n",
              "    </tr>\n",
              "  </thead>\n",
              "  <tbody>\n",
              "    <tr>\n",
              "      <th>10232</th>\n",
              "      <td>eighty percent net new job created state texas...</td>\n",
              "      <td>1</td>\n",
              "    </tr>\n",
              "    <tr>\n",
              "      <th>10234</th>\n",
              "      <td>ruling supreme court lobbyist could go legisla...</td>\n",
              "      <td>1</td>\n",
              "    </tr>\n",
              "    <tr>\n",
              "      <th>10235</th>\n",
              "      <td>larger number shark attack florida case voter ...</td>\n",
              "      <td>1</td>\n",
              "    </tr>\n",
              "    <tr>\n",
              "      <th>10236</th>\n",
              "      <td>democrat become party atlanta metro area black</td>\n",
              "      <td>1</td>\n",
              "    </tr>\n",
              "    <tr>\n",
              "      <th>10237</th>\n",
              "      <td>say alternative social security operates galve...</td>\n",
              "      <td>1</td>\n",
              "    </tr>\n",
              "  </tbody>\n",
              "</table>\n",
              "</div>\n",
              "      <button class=\"colab-df-convert\" onclick=\"convertToInteractive('df-e35ef7c9-f3cc-42ad-b48a-6f82231548bf')\"\n",
              "              title=\"Convert this dataframe to an interactive table.\"\n",
              "              style=\"display:none;\">\n",
              "        \n",
              "  <svg xmlns=\"http://www.w3.org/2000/svg\" height=\"24px\"viewBox=\"0 0 24 24\"\n",
              "       width=\"24px\">\n",
              "    <path d=\"M0 0h24v24H0V0z\" fill=\"none\"/>\n",
              "    <path d=\"M18.56 5.44l.94 2.06.94-2.06 2.06-.94-2.06-.94-.94-2.06-.94 2.06-2.06.94zm-11 1L8.5 8.5l.94-2.06 2.06-.94-2.06-.94L8.5 2.5l-.94 2.06-2.06.94zm10 10l.94 2.06.94-2.06 2.06-.94-2.06-.94-.94-2.06-.94 2.06-2.06.94z\"/><path d=\"M17.41 7.96l-1.37-1.37c-.4-.4-.92-.59-1.43-.59-.52 0-1.04.2-1.43.59L10.3 9.45l-7.72 7.72c-.78.78-.78 2.05 0 2.83L4 21.41c.39.39.9.59 1.41.59.51 0 1.02-.2 1.41-.59l7.78-7.78 2.81-2.81c.8-.78.8-2.07 0-2.86zM5.41 20L4 18.59l7.72-7.72 1.47 1.35L5.41 20z\"/>\n",
              "  </svg>\n",
              "      </button>\n",
              "      \n",
              "  <style>\n",
              "    .colab-df-container {\n",
              "      display:flex;\n",
              "      flex-wrap:wrap;\n",
              "      gap: 12px;\n",
              "    }\n",
              "\n",
              "    .colab-df-convert {\n",
              "      background-color: #E8F0FE;\n",
              "      border: none;\n",
              "      border-radius: 50%;\n",
              "      cursor: pointer;\n",
              "      display: none;\n",
              "      fill: #1967D2;\n",
              "      height: 32px;\n",
              "      padding: 0 0 0 0;\n",
              "      width: 32px;\n",
              "    }\n",
              "\n",
              "    .colab-df-convert:hover {\n",
              "      background-color: #E2EBFA;\n",
              "      box-shadow: 0px 1px 2px rgba(60, 64, 67, 0.3), 0px 1px 3px 1px rgba(60, 64, 67, 0.15);\n",
              "      fill: #174EA6;\n",
              "    }\n",
              "\n",
              "    [theme=dark] .colab-df-convert {\n",
              "      background-color: #3B4455;\n",
              "      fill: #D2E3FC;\n",
              "    }\n",
              "\n",
              "    [theme=dark] .colab-df-convert:hover {\n",
              "      background-color: #434B5C;\n",
              "      box-shadow: 0px 1px 3px 1px rgba(0, 0, 0, 0.15);\n",
              "      filter: drop-shadow(0px 1px 2px rgba(0, 0, 0, 0.3));\n",
              "      fill: #FFFFFF;\n",
              "    }\n",
              "  </style>\n",
              "\n",
              "      <script>\n",
              "        const buttonEl =\n",
              "          document.querySelector('#df-e35ef7c9-f3cc-42ad-b48a-6f82231548bf button.colab-df-convert');\n",
              "        buttonEl.style.display =\n",
              "          google.colab.kernel.accessAllowed ? 'block' : 'none';\n",
              "\n",
              "        async function convertToInteractive(key) {\n",
              "          const element = document.querySelector('#df-e35ef7c9-f3cc-42ad-b48a-6f82231548bf');\n",
              "          const dataTable =\n",
              "            await google.colab.kernel.invokeFunction('convertToInteractive',\n",
              "                                                     [key], {});\n",
              "          if (!dataTable) return;\n",
              "\n",
              "          const docLinkHtml = 'Like what you see? Visit the ' +\n",
              "            '<a target=\"_blank\" href=https://colab.research.google.com/notebooks/data_table.ipynb>data table notebook</a>'\n",
              "            + ' to learn more about interactive tables.';\n",
              "          element.innerHTML = '';\n",
              "          dataTable['output_type'] = 'display_data';\n",
              "          await google.colab.output.renderOutput(dataTable, element);\n",
              "          const docLink = document.createElement('div');\n",
              "          docLink.innerHTML = docLinkHtml;\n",
              "          element.appendChild(docLink);\n",
              "        }\n",
              "      </script>\n",
              "    </div>\n",
              "  </div>\n",
              "  "
            ],
            "text/plain": [
              "                                               statement  label\n",
              "10232  eighty percent net new job created state texas...      1\n",
              "10234  ruling supreme court lobbyist could go legisla...      1\n",
              "10235  larger number shark attack florida case voter ...      1\n",
              "10236     democrat become party atlanta metro area black      1\n",
              "10237  say alternative social security operates galve...      1"
            ]
          },
          "metadata": {},
          "execution_count": 13
        }
      ]
    },
    {
      "cell_type": "markdown",
      "metadata": {
        "id": "MoSQkAGUotQ-"
      },
      "source": [
        "# Normal Embeddings"
      ]
    },
    {
      "cell_type": "markdown",
      "metadata": {
        "id": "yitqfCeLhxbq"
      },
      "source": [
        "### Splitting Data"
      ]
    },
    {
      "cell_type": "code",
      "metadata": {
        "execution": {
          "iopub.execute_input": "2021-05-20T20:27:14.509510Z",
          "iopub.status.busy": "2021-05-20T20:27:14.509178Z",
          "iopub.status.idle": "2021-05-20T20:27:14.518955Z",
          "shell.execute_reply": "2021-05-20T20:27:14.517913Z",
          "shell.execute_reply.started": "2021-05-20T20:27:14.509477Z"
        },
        "colab": {
          "base_uri": "https://localhost:8080/"
        },
        "id": "7s4whxoFhxbs",
        "outputId": "cf797972-abe6-4b4a-a0a1-87560c2cbebb"
      },
      "source": [
        "X_train, X_test, y_train, y_test = train_test_split(train_df['statement'],train_df['label'], test_size=0.2, random_state=111)\n",
        "print(X_train.shape, y_train.shape, X_test.shape, y_test.shape)"
      ],
      "execution_count": 14,
      "outputs": [
        {
          "output_type": "stream",
          "name": "stdout",
          "text": [
            "(8192,) (8192,) (2048,) (2048,)\n"
          ]
        }
      ]
    },
    {
      "cell_type": "markdown",
      "metadata": {
        "id": "oU3ly-Xihxbt"
      },
      "source": [
        "### Tokenizing"
      ]
    },
    {
      "cell_type": "code",
      "metadata": {
        "execution": {
          "iopub.execute_input": "2021-05-20T20:28:05.148798Z",
          "iopub.status.busy": "2021-05-20T20:28:05.148432Z",
          "iopub.status.idle": "2021-05-20T20:28:05.263324Z",
          "shell.execute_reply": "2021-05-20T20:28:05.262369Z",
          "shell.execute_reply.started": "2021-05-20T20:28:05.148768Z"
        },
        "id": "WYQ4dylrhxbu"
      },
      "source": [
        "vocab_size = 10000\n",
        "oov_token = \"<OOV>\"\n",
        "tokenizer = Tokenizer(num_words=vocab_size, oov_token=oov_token)\n",
        "\n",
        "tokenizer.fit_on_texts(X_train)"
      ],
      "execution_count": 15,
      "outputs": []
    },
    {
      "cell_type": "code",
      "metadata": {
        "execution": {
          "iopub.execute_input": "2021-05-20T20:28:06.410956Z",
          "iopub.status.busy": "2021-05-20T20:28:06.410590Z",
          "iopub.status.idle": "2021-05-20T20:28:06.516333Z",
          "shell.execute_reply": "2021-05-20T20:28:06.515476Z",
          "shell.execute_reply.started": "2021-05-20T20:28:06.410926Z"
        },
        "id": "yrEXBRlihxbv"
      },
      "source": [
        "X_train = tokenizer.texts_to_sequences(X_train)\n",
        "X_test = tokenizer.texts_to_sequences(X_test)"
      ],
      "execution_count": 16,
      "outputs": []
    },
    {
      "cell_type": "code",
      "metadata": {
        "execution": {
          "iopub.execute_input": "2021-05-20T20:28:07.597053Z",
          "iopub.status.busy": "2021-05-20T20:28:07.596717Z",
          "iopub.status.idle": "2021-05-20T20:28:07.657357Z",
          "shell.execute_reply": "2021-05-20T20:28:07.656561Z",
          "shell.execute_reply.started": "2021-05-20T20:28:07.597024Z"
        },
        "id": "MhC78YSphxbv"
      },
      "source": [
        "max_length = 120\n",
        "trunc_type = 'post'\n",
        "pad_type = 'post'\n",
        "\n",
        "X_train_padded = pad_sequences(X_train, maxlen=max_length, truncating=trunc_type, padding=pad_type)\n",
        "X_test_padded = pad_sequences(X_test, maxlen=max_length, truncating=trunc_type, padding=pad_type)"
      ],
      "execution_count": 17,
      "outputs": []
    },
    {
      "cell_type": "code",
      "metadata": {
        "execution": {
          "iopub.execute_input": "2021-05-20T20:28:08.796168Z",
          "iopub.status.busy": "2021-05-20T20:28:08.795845Z",
          "iopub.status.idle": "2021-05-20T20:28:08.801176Z",
          "shell.execute_reply": "2021-05-20T20:28:08.800028Z",
          "shell.execute_reply.started": "2021-05-20T20:28:08.796138Z"
        },
        "colab": {
          "base_uri": "https://localhost:8080/"
        },
        "id": "BpKrnUmBhxbw",
        "outputId": "2a96b6cb-cc27-4f09-bb06-feb480c2e32a"
      },
      "source": [
        "print(X_train_padded.shape, X_test_padded.shape)"
      ],
      "execution_count": 18,
      "outputs": [
        {
          "output_type": "stream",
          "name": "stdout",
          "text": [
            "(8192, 120) (2048, 120)\n"
          ]
        }
      ]
    },
    {
      "cell_type": "code",
      "metadata": {
        "execution": {
          "iopub.execute_input": "2021-05-20T20:28:12.341957Z",
          "iopub.status.busy": "2021-05-20T20:28:12.341647Z",
          "iopub.status.idle": "2021-05-20T20:28:12.348803Z",
          "shell.execute_reply": "2021-05-20T20:28:12.347957Z",
          "shell.execute_reply.started": "2021-05-20T20:28:12.341930Z"
        },
        "colab": {
          "base_uri": "https://localhost:8080/"
        },
        "id": "Eq93bqy_hxbx",
        "outputId": "4a1b95a1-3f8b-4861-c99f-fd5a53f80645"
      },
      "source": [
        "print(type(X_train_padded), type(X_test_padded))\n",
        "print(type(y_train), type(y_test))\n",
        "y_train = np.array(y_train)\n",
        "y_test = np.array(y_test)\n",
        "print(type(X_train_padded), type(X_test_padded))\n",
        "print(type(y_train), type(y_test))"
      ],
      "execution_count": 19,
      "outputs": [
        {
          "output_type": "stream",
          "name": "stdout",
          "text": [
            "<class 'numpy.ndarray'> <class 'numpy.ndarray'>\n",
            "<class 'pandas.core.series.Series'> <class 'pandas.core.series.Series'>\n",
            "<class 'numpy.ndarray'> <class 'numpy.ndarray'>\n",
            "<class 'numpy.ndarray'> <class 'numpy.ndarray'>\n"
          ]
        }
      ]
    },
    {
      "cell_type": "markdown",
      "metadata": {
        "id": "tI__wJ3Zhxby"
      },
      "source": [
        "### Model Creation"
      ]
    },
    {
      "cell_type": "code",
      "metadata": {
        "execution": {
          "iopub.execute_input": "2021-05-20T20:40:05.300726Z",
          "iopub.status.busy": "2021-05-20T20:40:05.300341Z",
          "iopub.status.idle": "2021-05-20T20:40:05.304303Z",
          "shell.execute_reply": "2021-05-20T20:40:05.303429Z",
          "shell.execute_reply.started": "2021-05-20T20:40:05.300693Z"
        },
        "id": "1PBQuU3fhxby"
      },
      "source": [
        "embedding_dim = 300"
      ],
      "execution_count": 20,
      "outputs": []
    },
    {
      "cell_type": "code",
      "metadata": {
        "id": "pKGoqWjunOBX"
      },
      "source": [
        "model = Sequential()\n",
        "# define CNN model\n",
        "model.add(Embedding(vocab_size, embedding_dim, input_length=max_length))\n",
        "model.add(tf.keras.layers.Conv1D(filters=32, kernel_size=8, activation='relu'))\n",
        "#model.add(tf.keras.layers.MaxPooling1D(pool_size=2))\n",
        "# define LSTM model\n",
        "model.add(GRU(32, return_sequences=True))\n",
        "#model.add(Dropout(0.4))\n",
        "model.add(Flatten())\n",
        "model.add(Dense(32, activation=\"relu\"))\n",
        "model.add(Dense(1, activation=\"sigmoid\"))"
      ],
      "execution_count": 21,
      "outputs": []
    },
    {
      "cell_type": "code",
      "metadata": {
        "execution": {
          "iopub.execute_input": "2021-05-20T20:40:58.364127Z",
          "iopub.status.busy": "2021-05-20T20:40:58.363810Z",
          "iopub.status.idle": "2021-05-20T20:40:58.373825Z",
          "shell.execute_reply": "2021-05-20T20:40:58.372688Z",
          "shell.execute_reply.started": "2021-05-20T20:40:58.364099Z"
        },
        "colab": {
          "base_uri": "https://localhost:8080/"
        },
        "id": "4IPrHKFmhxb0",
        "outputId": "29b8dd9c-6f96-4e80-8035-1f11f05572d1"
      },
      "source": [
        "model.summary()"
      ],
      "execution_count": 22,
      "outputs": [
        {
          "output_type": "stream",
          "name": "stdout",
          "text": [
            "Model: \"sequential\"\n",
            "_________________________________________________________________\n",
            " Layer (type)                Output Shape              Param #   \n",
            "=================================================================\n",
            " embedding (Embedding)       (None, 120, 300)          3000000   \n",
            "                                                                 \n",
            " conv1d (Conv1D)             (None, 113, 32)           76832     \n",
            "                                                                 \n",
            " gru (GRU)                   (None, 113, 32)           6336      \n",
            "                                                                 \n",
            " flatten (Flatten)           (None, 3616)              0         \n",
            "                                                                 \n",
            " dense (Dense)               (None, 32)                115744    \n",
            "                                                                 \n",
            " dense_1 (Dense)             (None, 1)                 33        \n",
            "                                                                 \n",
            "=================================================================\n",
            "Total params: 3,198,945\n",
            "Trainable params: 3,198,945\n",
            "Non-trainable params: 0\n",
            "_________________________________________________________________\n"
          ]
        }
      ]
    },
    {
      "cell_type": "markdown",
      "metadata": {
        "id": "uVBm59ethxb1"
      },
      "source": [
        "### Model Compilation"
      ]
    },
    {
      "cell_type": "code",
      "metadata": {
        "execution": {
          "iopub.execute_input": "2021-05-20T20:41:00.510869Z",
          "iopub.status.busy": "2021-05-20T20:41:00.510542Z",
          "iopub.status.idle": "2021-05-20T20:41:00.522747Z",
          "shell.execute_reply": "2021-05-20T20:41:00.521728Z",
          "shell.execute_reply.started": "2021-05-20T20:41:00.510834Z"
        },
        "colab": {
          "base_uri": "https://localhost:8080/"
        },
        "id": "WGB3oEn2hxb1",
        "outputId": "60f15e77-771e-4f6a-a20f-d4eb388c2a0d"
      },
      "source": [
        "optimizer = tf.keras.optimizers.Adam(lr = 0.0001)\n",
        "model.compile(\n",
        "    loss = \"binary_crossentropy\",\n",
        "    optimizer = optimizer,\n",
        "    metrics = [\"accuracy\"]\n",
        ")"
      ],
      "execution_count": 23,
      "outputs": [
        {
          "output_type": "stream",
          "name": "stderr",
          "text": [
            "/usr/local/lib/python3.7/dist-packages/keras/optimizer_v2/adam.py:105: UserWarning: The `lr` argument is deprecated, use `learning_rate` instead.\n",
            "  super(Adam, self).__init__(name, **kwargs)\n"
          ]
        }
      ]
    },
    {
      "cell_type": "code",
      "metadata": {
        "execution": {
          "iopub.execute_input": "2021-05-20T20:41:00.778530Z",
          "iopub.status.busy": "2021-05-20T20:41:00.778199Z",
          "iopub.status.idle": "2021-05-20T20:41:00.783283Z",
          "shell.execute_reply": "2021-05-20T20:41:00.782061Z",
          "shell.execute_reply.started": "2021-05-20T20:41:00.778497Z"
        },
        "id": "reQb6Fu-hxb2"
      },
      "source": [
        "filepath = 'my_checkpoint.ckpt'\n",
        "cp = ModelCheckpoint(\n",
        "    filepath=filepath,\n",
        "    save_weights_only=True,\n",
        "    save_best_only=True,\n",
        "    monitor='val_accuracy',\n",
        "    verbose=1\n",
        ")"
      ],
      "execution_count": 24,
      "outputs": []
    },
    {
      "cell_type": "code",
      "metadata": {
        "execution": {
          "iopub.execute_input": "2021-05-20T20:41:01.305825Z",
          "iopub.status.busy": "2021-05-20T20:41:01.305445Z",
          "iopub.status.idle": "2021-05-20T20:41:01.309908Z",
          "shell.execute_reply": "2021-05-20T20:41:01.308840Z",
          "shell.execute_reply.started": "2021-05-20T20:41:01.305779Z"
        },
        "id": "VkOUzT63hxb3"
      },
      "source": [
        "ep = EarlyStopping(\n",
        "    monitor='val_accuracy', \n",
        "    patience=7,\n",
        ")"
      ],
      "execution_count": 25,
      "outputs": []
    },
    {
      "cell_type": "markdown",
      "metadata": {
        "id": "mjpn9U9rhxb3"
      },
      "source": [
        "### Model Training"
      ]
    },
    {
      "cell_type": "code",
      "metadata": {
        "colab": {
          "base_uri": "https://localhost:8080/"
        },
        "id": "Kxwf4hetnSHy",
        "outputId": "64bf0f1e-73fb-4d94-a079-eb0375f9ca05"
      },
      "source": [
        "epochs=25\n",
        "history = model.fit(\n",
        "    X_train_padded, y_train,\n",
        "    validation_split = 0.2,\n",
        "    callbacks=[cp,ep],\n",
        "    batch_size=128,\n",
        "    epochs=epochs\n",
        ")"
      ],
      "execution_count": 26,
      "outputs": [
        {
          "output_type": "stream",
          "name": "stdout",
          "text": [
            "Epoch 1/25\n",
            "52/52 [==============================] - ETA: 0s - loss: 0.6876 - accuracy: 0.5510\n",
            "Epoch 00001: val_accuracy improved from -inf to 0.55949, saving model to my_checkpoint.ckpt\n",
            "52/52 [==============================] - 16s 65ms/step - loss: 0.6876 - accuracy: 0.5510 - val_loss: 0.6859 - val_accuracy: 0.5595\n",
            "Epoch 2/25\n",
            "51/52 [============================>.] - ETA: 0s - loss: 0.6865 - accuracy: 0.5544\n",
            "Epoch 00002: val_accuracy did not improve from 0.55949\n",
            "52/52 [==============================] - 2s 38ms/step - loss: 0.6865 - accuracy: 0.5544 - val_loss: 0.6853 - val_accuracy: 0.5595\n",
            "Epoch 3/25\n",
            "51/52 [============================>.] - ETA: 0s - loss: 0.6829 - accuracy: 0.5545\n",
            "Epoch 00003: val_accuracy did not improve from 0.55949\n",
            "52/52 [==============================] - 2s 34ms/step - loss: 0.6830 - accuracy: 0.5542 - val_loss: 0.6830 - val_accuracy: 0.5595\n",
            "Epoch 4/25\n",
            "51/52 [============================>.] - ETA: 0s - loss: 0.6634 - accuracy: 0.5797\n",
            "Epoch 00004: val_accuracy improved from 0.55949 to 0.57535, saving model to my_checkpoint.ckpt\n",
            "52/52 [==============================] - 2s 37ms/step - loss: 0.6632 - accuracy: 0.5800 - val_loss: 0.6695 - val_accuracy: 0.5754\n",
            "Epoch 5/25\n",
            "51/52 [============================>.] - ETA: 0s - loss: 0.5906 - accuracy: 0.7105\n",
            "Epoch 00005: val_accuracy did not improve from 0.57535\n",
            "52/52 [==============================] - 2s 44ms/step - loss: 0.5911 - accuracy: 0.7099 - val_loss: 0.6871 - val_accuracy: 0.5686\n",
            "Epoch 6/25\n",
            "51/52 [============================>.] - ETA: 0s - loss: 0.4795 - accuracy: 0.7901\n",
            "Epoch 00006: val_accuracy improved from 0.57535 to 0.58206, saving model to my_checkpoint.ckpt\n",
            "52/52 [==============================] - 2s 43ms/step - loss: 0.4794 - accuracy: 0.7902 - val_loss: 0.7513 - val_accuracy: 0.5821\n",
            "Epoch 7/25\n",
            "51/52 [============================>.] - ETA: 0s - loss: 0.3686 - accuracy: 0.8470\n",
            "Epoch 00007: val_accuracy did not improve from 0.58206\n",
            "52/52 [==============================] - 2s 35ms/step - loss: 0.3687 - accuracy: 0.8469 - val_loss: 0.8807 - val_accuracy: 0.5680\n",
            "Epoch 8/25\n",
            "51/52 [============================>.] - ETA: 0s - loss: 0.2758 - accuracy: 0.8923\n",
            "Epoch 00008: val_accuracy did not improve from 0.58206\n",
            "52/52 [==============================] - 2s 35ms/step - loss: 0.2766 - accuracy: 0.8923 - val_loss: 1.0776 - val_accuracy: 0.5662\n",
            "Epoch 9/25\n",
            "51/52 [============================>.] - ETA: 0s - loss: 0.2098 - accuracy: 0.9208\n",
            "Epoch 00009: val_accuracy did not improve from 0.58206\n",
            "52/52 [==============================] - 2s 35ms/step - loss: 0.2100 - accuracy: 0.9210 - val_loss: 1.2337 - val_accuracy: 0.5601\n",
            "Epoch 10/25\n",
            "51/52 [============================>.] - ETA: 0s - loss: 0.1468 - accuracy: 0.9481\n",
            "Epoch 00010: val_accuracy did not improve from 0.58206\n",
            "52/52 [==============================] - 2s 35ms/step - loss: 0.1467 - accuracy: 0.9480 - val_loss: 1.4996 - val_accuracy: 0.5601\n",
            "Epoch 11/25\n",
            "51/52 [============================>.] - ETA: 0s - loss: 0.1076 - accuracy: 0.9632\n",
            "Epoch 00011: val_accuracy did not improve from 0.58206\n",
            "52/52 [==============================] - 2s 35ms/step - loss: 0.1073 - accuracy: 0.9634 - val_loss: 1.6716 - val_accuracy: 0.5485\n",
            "Epoch 12/25\n",
            "51/52 [============================>.] - ETA: 0s - loss: 0.0778 - accuracy: 0.9779\n",
            "Epoch 00012: val_accuracy did not improve from 0.58206\n",
            "52/52 [==============================] - 2s 35ms/step - loss: 0.0778 - accuracy: 0.9779 - val_loss: 1.8622 - val_accuracy: 0.5540\n",
            "Epoch 13/25\n",
            "51/52 [============================>.] - ETA: 0s - loss: 0.0577 - accuracy: 0.9842\n",
            "Epoch 00013: val_accuracy did not improve from 0.58206\n",
            "52/52 [==============================] - 2s 35ms/step - loss: 0.0576 - accuracy: 0.9843 - val_loss: 2.1759 - val_accuracy: 0.5613\n"
          ]
        }
      ]
    },
    {
      "cell_type": "markdown",
      "metadata": {
        "id": "iPhk1Dyxhxb4"
      },
      "source": [
        "### Graphs"
      ]
    },
    {
      "cell_type": "code",
      "metadata": {
        "execution": {
          "iopub.execute_input": "2021-05-20T20:41:35.180835Z",
          "iopub.status.busy": "2021-05-20T20:41:35.180381Z",
          "iopub.status.idle": "2021-05-20T20:41:35.506258Z",
          "shell.execute_reply": "2021-05-20T20:41:35.505312Z",
          "shell.execute_reply.started": "2021-05-20T20:41:35.180793Z"
        },
        "colab": {
          "base_uri": "https://localhost:8080/",
          "height": 591
        },
        "id": "jIJEqfq7hxb4",
        "outputId": "a8d650dd-87fd-4c91-fe7a-1bdeeb53846a"
      },
      "source": [
        "print(history.history.keys())\n",
        "plt.axes().set(facecolor =\"white\")\n",
        "plt.plot(history.history['accuracy'],color='c')\n",
        "plt.plot(history.history['val_accuracy'],color='m')\n",
        "plt.title('model accuracy').set_color('black')\n",
        "plt.ylabel('accuracy').set_color('black')\n",
        "plt.xlabel('epoch').set_color('black')\n",
        "plt.legend(['train', 'validation'], loc='upper left')\n",
        "\n",
        "plt.show()\n",
        "\n",
        "plt.axes().set(facecolor =\"white\")\n",
        "plt.plot(history.history['loss'])\n",
        "plt.plot(history.history['val_loss'])\n",
        "plt.legend(['train', 'validation'], loc='upper left')\n",
        "plt.title('model loss').set_color('black')\n",
        "plt.ylabel('loss').set_color('black')\n",
        "plt.xlabel('epoch').set_color('black')\n",
        "plt.show()"
      ],
      "execution_count": 29,
      "outputs": [
        {
          "output_type": "stream",
          "name": "stdout",
          "text": [
            "dict_keys(['loss', 'accuracy', 'val_loss', 'val_accuracy'])\n"
          ]
        },
        {
          "output_type": "display_data",
          "data": {
            "image/png": "[encoded data removed]",
            "text/plain": [
              "<Figure size 432x288 with 1 Axes>"
            ]
          },
          "metadata": {
            "needs_background": "light"
          }
        },
        {
          "output_type": "display_data",
          "data": {
            "image/png": "[encoded data removed]",
            "text/plain": [
              "<Figure size 432x288 with 1 Axes>"
            ]
          },
          "metadata": {
            "needs_background": "light"
          }
        }
      ]
    },
    {
      "cell_type": "markdown",
      "metadata": {
        "id": "94IFViuUhxb5"
      },
      "source": [
        "### Model Evaluation"
      ]
    },
    {
      "cell_type": "code",
      "metadata": {
        "execution": {
          "iopub.execute_input": "2021-05-20T20:41:45.852551Z",
          "iopub.status.busy": "2021-05-20T20:41:45.852185Z",
          "iopub.status.idle": "2021-05-20T20:41:46.114674Z",
          "shell.execute_reply": "2021-05-20T20:41:46.113903Z",
          "shell.execute_reply.started": "2021-05-20T20:41:45.852519Z"
        },
        "colab": {
          "base_uri": "https://localhost:8080/"
        },
        "id": "r53RkXUDhxb6",
        "outputId": "2a78a67b-ac93-49e6-d984-a435edeffbf6"
      },
      "source": [
        "model.evaluate(X_test_padded, y_test)"
      ],
      "execution_count": 30,
      "outputs": [
        {
          "output_type": "stream",
          "name": "stdout",
          "text": [
            "64/64 [==============================] - 2s 12ms/step - loss: 2.1862 - accuracy: 0.5752\n"
          ]
        },
        {
          "output_type": "execute_result",
          "data": {
            "text/plain": [
              "[2.186184883117676, 0.5751953125]"
            ]
          },
          "metadata": {},
          "execution_count": 30
        }
      ]
    },
    {
      "cell_type": "markdown",
      "metadata": {
        "id": "9Im9aKp0hxb9"
      },
      "source": [
        "### Predicting Test Data"
      ]
    },
    {
      "cell_type": "code",
      "metadata": {
        "execution": {
          "iopub.execute_input": "2021-05-20T20:41:50.474321Z",
          "iopub.status.busy": "2021-05-20T20:41:50.474007Z",
          "iopub.status.idle": "2021-05-20T20:41:50.929058Z",
          "shell.execute_reply": "2021-05-20T20:41:50.928208Z",
          "shell.execute_reply.started": "2021-05-20T20:41:50.474291Z"
        },
        "id": "2LNfB0E2hxb9"
      },
      "source": [
        "predictions = (model.predict(X_test_padded) > 0.5).astype(\"int32\")"
      ],
      "execution_count": 31,
      "outputs": []
    },
    {
      "cell_type": "markdown",
      "metadata": {
        "id": "B-Yjx_Bmhxb9"
      },
      "source": [
        "### Accuracy"
      ]
    },
    {
      "cell_type": "code",
      "metadata": {
        "execution": {
          "iopub.execute_input": "2021-05-20T20:41:52.636851Z",
          "iopub.status.busy": "2021-05-20T20:41:52.636525Z",
          "iopub.status.idle": "2021-05-20T20:41:52.643869Z",
          "shell.execute_reply": "2021-05-20T20:41:52.641355Z",
          "shell.execute_reply.started": "2021-05-20T20:41:52.636816Z"
        },
        "colab": {
          "base_uri": "https://localhost:8080/"
        },
        "id": "g3F3dnVChxb-",
        "outputId": "9f9a586e-bf84-4413-da5d-090244f3bbfe"
      },
      "source": [
        "accuracy = accuracy_score(y_test, predictions)\n",
        "print(\"Testing Accuracy: \", accuracy)"
      ],
      "execution_count": 32,
      "outputs": [
        {
          "output_type": "stream",
          "name": "stdout",
          "text": [
            "Testing Accuracy:  0.5751953125\n"
          ]
        }
      ]
    },
    {
      "cell_type": "markdown",
      "metadata": {
        "id": "iufG5p1Chxb-"
      },
      "source": [
        "### Confusion Matrix"
      ]
    },
    {
      "cell_type": "code",
      "metadata": {
        "execution": {
          "iopub.execute_input": "2021-05-20T20:42:08.660153Z",
          "iopub.status.busy": "2021-05-20T20:42:08.659823Z",
          "iopub.status.idle": "2021-05-20T20:42:08.874883Z",
          "shell.execute_reply": "2021-05-20T20:42:08.873866Z",
          "shell.execute_reply.started": "2021-05-20T20:42:08.660122Z"
        },
        "colab": {
          "base_uri": "https://localhost:8080/",
          "height": 466
        },
        "id": "04NqNz80hxb-",
        "outputId": "c149bce2-49ae-41a0-c7b4-74d9a7a1ef77"
      },
      "source": [
        "print('Confusion Matrix')\n",
        "cm = confusion_matrix(y_test, predictions)\n",
        "print(sns.heatmap(confusion_matrix(y_test, predictions),annot=True,fmt=\"d\"))\n",
        "print(classification_report(y_test, predictions, digits=5))"
      ],
      "execution_count": 33,
      "outputs": [
        {
          "output_type": "stream",
          "name": "stdout",
          "text": [
            "Confusion Matrix\n",
            "AxesSubplot(0.125,0.125;0.62x0.755)\n",
            "              precision    recall  f1-score   support\n",
            "\n",
            "           0    0.48286   0.39953   0.43726       846\n",
            "           1    0.62315   0.69884   0.65882      1202\n",
            "\n",
            "    accuracy                        0.57520      2048\n",
            "   macro avg    0.55300   0.54918   0.54804      2048\n",
            "weighted avg    0.56519   0.57520   0.56730      2048\n",
            "\n"
          ]
        },
        {
          "output_type": "display_data",
          "data": {
            "image/png": "[encoded data removed]",
            "text/plain": [
              "<Figure size 432x288 with 2 Axes>"
            ]
          },
          "metadata": {
            "needs_background": "light"
          }
        }
      ]
    },
    {
      "cell_type": "markdown",
      "metadata": {
        "id": "ia23DFJRhxb_"
      },
      "source": [
        "### Predicting new tweets"
      ]
    },
    {
      "cell_type": "code",
      "metadata": {
        "execution": {
          "iopub.execute_input": "2021-05-20T20:44:21.353757Z",
          "iopub.status.busy": "2021-05-20T20:44:21.353404Z",
          "iopub.status.idle": "2021-05-20T20:44:21.360617Z",
          "shell.execute_reply": "2021-05-20T20:44:21.359677Z",
          "shell.execute_reply.started": "2021-05-20T20:44:21.353725Z"
        },
        "id": "hbZBbVm-hxb_"
      },
      "source": [
        "def preprocess_tweet(new_tweet):    \n",
        "    new_tweet = new_tweet.lower()\n",
        "    new_tweet = re.sub('[^\\w\\s]', '', new_tweet)\n",
        "    new_tweet = re.sub('\\d', '', new_tweet)\n",
        "\n",
        "    new_tweet = \" \".join(x for x in new_tweet.split() if x not in sw)\n",
        "    new_tweet = \" \".join([Word(word).lemmatize() for word in new_tweet.split()])\n",
        "    print(\"On processing::\", new_tweet)\n",
        "    \n",
        "    tokenizer.fit_on_texts(new_tweet)\n",
        "\n",
        "    new_tweet = tokenizer.texts_to_sequences([new_tweet])\n",
        "\n",
        "    new_tweet =  pad_sequences(new_tweet, maxlen=max_length, truncating=trunc_type, padding=pad_type)\n",
        "\n",
        "    return new_tweet\n",
        "\n",
        "def predict_newTweet(tweet):\n",
        "    print(\"Input Tweet: \", tweet)\n",
        "    emb_tweet = preprocess_tweet(tweet)\n",
        "    result =  (model.predict(emb_tweet) > 0.5).astype(\"int32\")\n",
        "#     print(result)\n",
        "    print(\"Output: \" + \"Real News\" if result[0][0] == 1 else \"Fake News\")\n"
      ],
      "execution_count": 34,
      "outputs": []
    },
    {
      "cell_type": "code",
      "metadata": {
        "execution": {
          "iopub.execute_input": "2021-05-20T20:44:48.963673Z",
          "iopub.status.busy": "2021-05-20T20:44:48.963278Z",
          "iopub.status.idle": "2021-05-20T20:44:49.023514Z",
          "shell.execute_reply": "2021-05-20T20:44:49.022664Z",
          "shell.execute_reply.started": "2021-05-20T20:44:48.963642Z"
        },
        "id": "vrrgChYehxcA",
        "colab": {
          "base_uri": "https://localhost:8080/"
        },
        "outputId": "a95d47f8-6883-46cb-b609-51ffdf14d579"
      },
      "source": [
        "new_tweet = \"Fires start in apartment buildings in Chicago; injuring 20 civilians #CNN\"\n",
        "predict_newTweet(new_tweet)"
      ],
      "execution_count": 36,
      "outputs": [
        {
          "output_type": "stream",
          "name": "stdout",
          "text": [
            "Input Tweet:  Fires start in apartment buildings in Chicago; injuring 20 civilians #CNN\n",
            "On processing:: fire start apartment building chicago injuring civilian cnn\n",
            "Output: Real News\n"
          ]
        }
      ]
    },
    {
      "cell_type": "code",
      "source": [
        "new_tweet = \"Supreme cour has provided a new order which states an alternative to democrats\"\n",
        "predict_newTweet(new_tweet)"
      ],
      "metadata": {
        "colab": {
          "base_uri": "https://localhost:8080/"
        },
        "id": "YbuVnHDzGd1I",
        "outputId": "c23a61d6-e041-480b-eb73-189b382e114f"
      },
      "execution_count": 37,
      "outputs": [
        {
          "output_type": "stream",
          "name": "stdout",
          "text": [
            "Input Tweet:  Supreme cour has provided a new order which states an alternative to democrats\n",
            "On processing:: supreme cour provided new order state alternative democrat\n",
            "Output: Real News\n"
          ]
        }
      ]
    },
    {
      "cell_type": "code",
      "metadata": {
        "execution": {
          "iopub.execute_input": "2021-05-20T20:45:00.388015Z",
          "iopub.status.busy": "2021-05-20T20:45:00.387682Z",
          "iopub.status.idle": "2021-05-20T20:45:00.446083Z",
          "shell.execute_reply": "2021-05-20T20:45:00.445300Z",
          "shell.execute_reply.started": "2021-05-20T20:45:00.387986Z"
        },
        "id": "vRV_Or3-hxcA",
        "colab": {
          "base_uri": "https://localhost:8080/"
        },
        "outputId": "78297d66-a712-4355-aa55-34a7753158dc"
      },
      "source": [
        "new_tweet = \"Tomorrow is a holiday\"\n",
        "predict_newTweet(new_tweet)"
      ],
      "execution_count": 35,
      "outputs": [
        {
          "output_type": "stream",
          "name": "stdout",
          "text": [
            "Input Tweet:  Tomorrow is a holiday\n",
            "On processing:: tomorrow holiday\n",
            "Fake News\n"
          ]
        }
      ]
    },
    {
      "cell_type": "markdown",
      "metadata": {
        "id": "kOayAbH5oyGY"
      },
      "source": [
        "# Word2Vec Exploration"
      ]
    },
    {
      "cell_type": "code",
      "metadata": {
        "id": "9jjpJk0YqFGQ"
      },
      "source": [
        "import gensim\n",
        "X = [d.split() for d in train_df['statement'].tolist()]\n",
        "DIM = 300\n",
        "w2v_model = gensim.models.Word2Vec(sentences = X, size = DIM, window = 10, min_count = 1)\n",
        "#w2v_model = gensim.models.FastText(sentences = X, size = DIM, window = 10, min_count = 1)"
      ],
      "execution_count": 38,
      "outputs": []
    },
    {
      "cell_type": "code",
      "metadata": {
        "id": "XEVhtIeMqHwU"
      },
      "source": [
        "tokenizer = Tokenizer()\n",
        "tokenizer.fit_on_texts(X)"
      ],
      "execution_count": 39,
      "outputs": []
    },
    {
      "cell_type": "code",
      "metadata": {
        "id": "znaq84k9qJsK"
      },
      "source": [
        "X = tokenizer.texts_to_sequences(X)"
      ],
      "execution_count": 40,
      "outputs": []
    },
    {
      "cell_type": "code",
      "metadata": {
        "id": "MTZUNnCMqLpn"
      },
      "source": [
        "X = pad_sequences(X, maxlen = 120)\n",
        "vocab_size = len(tokenizer.word_index) + 1"
      ],
      "execution_count": 41,
      "outputs": []
    },
    {
      "cell_type": "code",
      "metadata": {
        "id": "AXHWTlMQqNjw"
      },
      "source": [
        "vocab = tokenizer.word_index\n",
        "def get_weight_matrix(model):\n",
        "    weight_matrix = np.zeros((vocab_size, DIM))\n",
        "\n",
        "    for word, i in vocab.items():\n",
        "        weight_matrix[i] = model.wv[word]\n",
        "\n",
        "    return weight_matrix"
      ],
      "execution_count": 42,
      "outputs": []
    },
    {
      "cell_type": "code",
      "metadata": {
        "id": "-z0yJnekqPck"
      },
      "source": [
        "embedding_vectors = get_weight_matrix(w2v_model)\n",
        "embedding_vectors.shape\n",
        "max_length = 120"
      ],
      "execution_count": 43,
      "outputs": []
    },
    {
      "cell_type": "code",
      "metadata": {
        "id": "u4G8xmgRqR7b"
      },
      "source": [
        "import tensorflow as tf\n",
        "from tensorflow.keras.layers import Embedding, LSTM, Dense, Bidirectional, Flatten\n",
        "model = Sequential()\n",
        "model.add(Embedding(vocab_size, output_dim = DIM, weights = [embedding_vectors], input_length = max_length, trainable = True))\n",
        "model.add(tf.keras.layers.Conv1D(filters=32, kernel_size=8, activation='relu'))\n",
        "model.add(tf.keras.layers.MaxPooling1D(pool_size=2))\n",
        "#model.add(GRU(32, return_sequences=True))\n",
        "model.add(Bidirectional(GRU(32, return_sequences=True)))\n",
        "#model.add(Dropout(0.3))\n",
        "model.add(Flatten())\n",
        "model.add(Dense(32, activation=\"relu\"))\n",
        "#model.add(Dropout(0.3))\n",
        "model.add(Dense(1, activation=\"sigmoid\"))\n",
        "model.compile(optimizer = 'adam', loss = 'binary_crossentropy', metrics = ['acc'])"
      ],
      "execution_count": 44,
      "outputs": []
    },
    {
      "cell_type": "code",
      "metadata": {
        "id": "nfiIQse1qVBi",
        "colab": {
          "base_uri": "https://localhost:8080/"
        },
        "outputId": "438f0748-0bdb-4ceb-bb8e-ea96dd9d652d"
      },
      "source": [
        "X_train, X_test, y_train, y_test = train_test_split(X,train_df['label'], test_size=0.2, random_state=111)\n",
        "print(X_train.shape, y_train.shape, X_test.shape, y_test.shape)"
      ],
      "execution_count": 45,
      "outputs": [
        {
          "output_type": "stream",
          "name": "stdout",
          "text": [
            "(8192, 120) (8192,) (2048, 120) (2048,)\n"
          ]
        }
      ]
    },
    {
      "cell_type": "code",
      "metadata": {
        "id": "gs5UL2gLqYmr"
      },
      "source": [
        "optimizer = tf.keras.optimizers.Adam(learning_rate = 0.0001)\n",
        "model.compile(loss = \"binary_crossentropy\",optimizer = optimizer,metrics = [\"accuracy\"])\n",
        "filepath = 'my_checkpoint.ckpt'\n",
        "cp = ModelCheckpoint(filepath=filepath,save_weights_only=True,save_best_only=True,monitor='val_accuracy',verbose=1)\n",
        "ep = EarlyStopping(monitor='val_accuracy', patience=7,)"
      ],
      "execution_count": 46,
      "outputs": []
    },
    {
      "cell_type": "code",
      "metadata": {
        "id": "vCUUCLkZqbNj",
        "colab": {
          "base_uri": "https://localhost:8080/"
        },
        "outputId": "b0ec48f8-ac6c-4fef-f9a0-43346e511092"
      },
      "source": [
        "epochs=25\n",
        "history = model.fit(\n",
        "    X_train, y_train,\n",
        "    validation_split = 0.2,\n",
        "    callbacks=[cp,ep],\n",
        "    batch_size=128,\n",
        "    epochs=epochs\n",
        ")"
      ],
      "execution_count": 47,
      "outputs": [
        {
          "output_type": "stream",
          "name": "stdout",
          "text": [
            "Epoch 1/25\n",
            "52/52 [==============================] - ETA: 0s - loss: 0.6864 - accuracy: 0.5538\n",
            "Epoch 00001: val_accuracy improved from -inf to 0.55949, saving model to my_checkpoint.ckpt\n",
            "52/52 [==============================] - 7s 64ms/step - loss: 0.6864 - accuracy: 0.5538 - val_loss: 0.6850 - val_accuracy: 0.5595\n",
            "Epoch 2/25\n",
            "51/52 [============================>.] - ETA: 0s - loss: 0.6845 - accuracy: 0.5562\n",
            "Epoch 00002: val_accuracy improved from 0.55949 to 0.56071, saving model to my_checkpoint.ckpt\n",
            "52/52 [==============================] - 2s 41ms/step - loss: 0.6846 - accuracy: 0.5559 - val_loss: 0.6848 - val_accuracy: 0.5607\n",
            "Epoch 3/25\n",
            "51/52 [============================>.] - ETA: 0s - loss: 0.6829 - accuracy: 0.5571\n",
            "Epoch 00003: val_accuracy improved from 0.56071 to 0.56315, saving model to my_checkpoint.ckpt\n",
            "52/52 [==============================] - 2s 41ms/step - loss: 0.6829 - accuracy: 0.5568 - val_loss: 0.6843 - val_accuracy: 0.5631\n",
            "Epoch 4/25\n",
            "51/52 [============================>.] - ETA: 0s - loss: 0.6816 - accuracy: 0.5604\n",
            "Epoch 00004: val_accuracy did not improve from 0.56315\n",
            "52/52 [==============================] - 2s 38ms/step - loss: 0.6814 - accuracy: 0.5607 - val_loss: 0.6828 - val_accuracy: 0.5619\n",
            "Epoch 5/25\n",
            "51/52 [============================>.] - ETA: 0s - loss: 0.6746 - accuracy: 0.5702\n",
            "Epoch 00005: val_accuracy improved from 0.56315 to 0.56803, saving model to my_checkpoint.ckpt\n",
            "52/52 [==============================] - 2s 40ms/step - loss: 0.6745 - accuracy: 0.5706 - val_loss: 0.6795 - val_accuracy: 0.5680\n",
            "Epoch 6/25\n",
            "51/52 [============================>.] - ETA: 0s - loss: 0.6594 - accuracy: 0.6048\n",
            "Epoch 00006: val_accuracy improved from 0.56803 to 0.59793, saving model to my_checkpoint.ckpt\n",
            "52/52 [==============================] - 2s 41ms/step - loss: 0.6591 - accuracy: 0.6057 - val_loss: 0.6698 - val_accuracy: 0.5979\n",
            "Epoch 7/25\n",
            "51/52 [============================>.] - ETA: 0s - loss: 0.6221 - accuracy: 0.6697\n",
            "Epoch 00007: val_accuracy improved from 0.59793 to 0.61684, saving model to my_checkpoint.ckpt\n",
            "52/52 [==============================] - 2s 41ms/step - loss: 0.6219 - accuracy: 0.6698 - val_loss: 0.6664 - val_accuracy: 0.6168\n",
            "Epoch 8/25\n",
            "51/52 [============================>.] - ETA: 0s - loss: 0.5758 - accuracy: 0.7206\n",
            "Epoch 00008: val_accuracy did not improve from 0.61684\n",
            "52/52 [==============================] - 2s 38ms/step - loss: 0.5758 - accuracy: 0.7204 - val_loss: 0.6732 - val_accuracy: 0.5961\n",
            "Epoch 9/25\n",
            "51/52 [============================>.] - ETA: 0s - loss: 0.4998 - accuracy: 0.7823\n",
            "Epoch 00009: val_accuracy did not improve from 0.61684\n",
            "52/52 [==============================] - 2s 38ms/step - loss: 0.4997 - accuracy: 0.7824 - val_loss: 0.7060 - val_accuracy: 0.5827\n",
            "Epoch 10/25\n",
            "51/52 [============================>.] - ETA: 0s - loss: 0.4263 - accuracy: 0.8177\n",
            "Epoch 00010: val_accuracy did not improve from 0.61684\n",
            "52/52 [==============================] - 2s 38ms/step - loss: 0.4264 - accuracy: 0.8175 - val_loss: 0.7522 - val_accuracy: 0.5998\n",
            "Epoch 11/25\n",
            "51/52 [============================>.] - ETA: 0s - loss: 0.3597 - accuracy: 0.8488\n",
            "Epoch 00011: val_accuracy did not improve from 0.61684\n",
            "52/52 [==============================] - 2s 39ms/step - loss: 0.3598 - accuracy: 0.8486 - val_loss: 0.8373 - val_accuracy: 0.5772\n",
            "Epoch 12/25\n",
            "51/52 [============================>.] - ETA: 0s - loss: 0.2968 - accuracy: 0.8811\n",
            "Epoch 00012: val_accuracy did not improve from 0.61684\n",
            "52/52 [==============================] - 2s 38ms/step - loss: 0.2976 - accuracy: 0.8808 - val_loss: 0.9061 - val_accuracy: 0.5760\n",
            "Epoch 13/25\n",
            "51/52 [============================>.] - ETA: 0s - loss: 0.2307 - accuracy: 0.9139\n",
            "Epoch 00013: val_accuracy did not improve from 0.61684\n",
            "52/52 [==============================] - 2s 38ms/step - loss: 0.2311 - accuracy: 0.9135 - val_loss: 1.0464 - val_accuracy: 0.5882\n",
            "Epoch 14/25\n",
            "51/52 [============================>.] - ETA: 0s - loss: 0.1962 - accuracy: 0.9231\n",
            "Epoch 00014: val_accuracy did not improve from 0.61684\n",
            "52/52 [==============================] - 2s 38ms/step - loss: 0.1957 - accuracy: 0.9234 - val_loss: 1.2184 - val_accuracy: 0.5400\n"
          ]
        }
      ]
    },
    {
      "cell_type": "code",
      "metadata": {
        "id": "mLZR7zJIqdC4",
        "colab": {
          "base_uri": "https://localhost:8080/"
        },
        "outputId": "f8272c3b-6c6a-421e-fe7d-f15b4db1afb5"
      },
      "source": [
        "model.evaluate(X_test, y_test)"
      ],
      "execution_count": 48,
      "outputs": [
        {
          "output_type": "stream",
          "name": "stdout",
          "text": [
            "64/64 [==============================] - 1s 9ms/step - loss: 1.2564 - accuracy: 0.5293\n"
          ]
        },
        {
          "output_type": "execute_result",
          "data": {
            "text/plain": [
              "[1.256399393081665, 0.529296875]"
            ]
          },
          "metadata": {},
          "execution_count": 48
        }
      ]
    },
    {
      "cell_type": "code",
      "metadata": {
        "id": "r_FyBPY1qfwD",
        "colab": {
          "base_uri": "https://localhost:8080/"
        },
        "outputId": "27a935ce-f6c8-4822-9bea-45396e652abd"
      },
      "source": [
        "predictions = (model.predict(X_test) > 0.5).astype(\"int32\")\n",
        "accuracy = accuracy_score(y_test, predictions)\n",
        "print(\"Testing Accuracy: \", accuracy)"
      ],
      "execution_count": 49,
      "outputs": [
        {
          "output_type": "stream",
          "name": "stdout",
          "text": [
            "Testing Accuracy:  0.529296875\n"
          ]
        }
      ]
    },
    {
      "cell_type": "code",
      "metadata": {
        "id": "T4fEJnfWqhu-",
        "colab": {
          "base_uri": "https://localhost:8080/",
          "height": 466
        },
        "outputId": "bdd17d00-2b1f-4122-ebb7-0ade8c910e97"
      },
      "source": [
        "print('Confusion Matrix')\n",
        "cm = confusion_matrix(y_test, predictions)\n",
        "print(sns.heatmap(confusion_matrix(y_test, predictions),annot=True,fmt=\"d\"))\n",
        "print(classification_report(y_test, predictions, digits=5))"
      ],
      "execution_count": 50,
      "outputs": [
        {
          "output_type": "stream",
          "name": "stdout",
          "text": [
            "Confusion Matrix\n",
            "AxesSubplot(0.125,0.125;0.62x0.755)\n",
            "              precision    recall  f1-score   support\n",
            "\n",
            "           0    0.45227   0.66076   0.53698       846\n",
            "           1    0.64655   0.43677   0.52135      1202\n",
            "\n",
            "    accuracy                        0.52930      2048\n",
            "   macro avg    0.54941   0.54876   0.52917      2048\n",
            "weighted avg    0.56629   0.52930   0.52781      2048\n",
            "\n"
          ]
        },
        {
          "output_type": "display_data",
          "data": {
            "image/png": "[encoded data removed]",
            "text/plain": [
              "<Figure size 432x288 with 2 Axes>"
            ]
          },
          "metadata": {
            "needs_background": "light"
          }
        }
      ]
    },
    {
      "cell_type": "markdown",
      "metadata": {
        "id": "KriVWYYQo2tR"
      },
      "source": [
        "# Glove Exploration"
      ]
    },
    {
      "cell_type": "code",
      "metadata": {
        "id": "fWCito3CpfRn",
        "colab": {
          "base_uri": "https://localhost:8080/"
        },
        "outputId": "24907bc9-c955-4170-eb07-5eb230e9ab4a"
      },
      "source": [
        "X_train, X_test, y_train, y_test = train_test_split(train_df['statement'],train_df['label'], test_size=0.2, random_state=111)\n",
        "print(X_train.shape, y_train.shape, X_test.shape, y_test.shape)"
      ],
      "execution_count": 51,
      "outputs": [
        {
          "output_type": "stream",
          "name": "stdout",
          "text": [
            "(8192,) (8192,) (2048,) (2048,)\n"
          ]
        }
      ]
    },
    {
      "cell_type": "code",
      "metadata": {
        "id": "kuECHkwkpi3n"
      },
      "source": [
        "tokenizer = Tokenizer(num_words=5000)\n",
        "tokenizer.fit_on_texts(X_train)\n",
        "words_to_index = tokenizer.word_index"
      ],
      "execution_count": 52,
      "outputs": []
    },
    {
      "cell_type": "code",
      "metadata": {
        "id": "Fw15KDVZplVx"
      },
      "source": [
        "def read_glove_vector(glove_vec):\n",
        "  with open(glove_vec, 'r', encoding='UTF-8') as f:\n",
        "    words = set()\n",
        "    word_to_vec_map = {}\n",
        "    for line in f:\n",
        "      w_line = line.split()\n",
        "      curr_word = w_line[0]\n",
        "      word_to_vec_map[curr_word] = np.array(w_line[1:], dtype=np.float64)\n",
        "\n",
        "  return word_to_vec_map"
      ],
      "execution_count": 53,
      "outputs": []
    },
    {
      "cell_type": "code",
      "metadata": {
        "id": "05qmQQfJpnnw"
      },
      "source": [
        "word_to_vec_map = read_glove_vector('/content/drive/MyDrive/a_fake_news_detection/glove.6B.50d.txt')\n",
        "maxLen = 120"
      ],
      "execution_count": 54,
      "outputs": []
    },
    {
      "cell_type": "code",
      "metadata": {
        "id": "Kx_U8etjpp8R"
      },
      "source": [
        "vocab_len = len(words_to_index) + 1\n",
        "embed_vector_len = word_to_vec_map['moon'].shape[0]\n",
        "emb_matrix = np.zeros((vocab_len, embed_vector_len))"
      ],
      "execution_count": 55,
      "outputs": []
    },
    {
      "cell_type": "code",
      "metadata": {
        "id": "cJLa4EB50zvk"
      },
      "source": [
        "for word, index in words_to_index.items():\n",
        "  embedding_vector = word_to_vec_map.get(word)\n",
        "  if embedding_vector is not None:\n",
        "    emb_matrix[index, :] = embedding_vector"
      ],
      "execution_count": 56,
      "outputs": []
    },
    {
      "cell_type": "code",
      "metadata": {
        "id": "1JlBsg0-ps_v"
      },
      "source": [
        "X_train_padded = tokenizer.texts_to_sequences(X_train)\n",
        "X_train_padded = pad_sequences(X_train_padded, maxlen=maxLen, padding='post')\n",
        "X_test_padded = tokenizer.texts_to_sequences(X_test)\n",
        "X_test_padded = pad_sequences(X_test_padded, maxlen=maxLen, padding='post')"
      ],
      "execution_count": 57,
      "outputs": []
    },
    {
      "cell_type": "code",
      "metadata": {
        "id": "zfXM7MHEpvrZ"
      },
      "source": [
        "model = Sequential()\n",
        "# define CNN model\n",
        "#model.add(Embedding(vocab_size, embedding_dim, input_length=max_length))\n",
        "model.add(Embedding(input_dim=vocab_len, output_dim=embed_vector_len, input_length=120, weights = [emb_matrix], trainable=True))\n",
        "model.add(tf.keras.layers.Conv1D(filters=32, kernel_size=8, activation='relu'))\n",
        "model.add(tf.keras.layers.MaxPooling1D(pool_size=2))\n",
        "# define LSTM model\n",
        "model.add(Bidirectional(GRU(32, return_sequences=True)))\n",
        "#model.add(GRU(32, return_sequences=True))\n",
        "#model.add(Dropout(0.3))\n",
        "model.add(Flatten())\n",
        "model.add(Dense(32, activation=\"relu\"))\n",
        "#model.add(Dropout(0.3))\n",
        "model.add(Dense(1, activation=\"sigmoid\"))"
      ],
      "execution_count": 59,
      "outputs": []
    },
    {
      "cell_type": "code",
      "metadata": {
        "id": "llZiCiV0pxs-"
      },
      "source": [
        "optimizer = tf.keras.optimizers.Adam(learning_rate = 0.0001)\n",
        "model.compile(loss = \"binary_crossentropy\",optimizer = optimizer,metrics = [\"accuracy\"])\n",
        "filepath = 'my_checkpoint.ckpt'\n",
        "cp = ModelCheckpoint(filepath=filepath,save_weights_only=True,save_best_only=True,monitor='val_accuracy',verbose=1)\n",
        "ep = EarlyStopping(monitor='val_accuracy', patience=7)"
      ],
      "execution_count": 60,
      "outputs": []
    },
    {
      "cell_type": "code",
      "metadata": {
        "id": "lHsk92IhpzzZ",
        "colab": {
          "base_uri": "https://localhost:8080/"
        },
        "outputId": "913489b5-7787-493d-af6d-bd486941bd0a"
      },
      "source": [
        "epochs=25\n",
        "history = model.fit(\n",
        "    X_train_padded, y_train,\n",
        "    validation_split = 0.2,\n",
        "    callbacks=[cp,ep],\n",
        "    batch_size=128,\n",
        "    epochs=epochs\n",
        ")"
      ],
      "execution_count": 61,
      "outputs": [
        {
          "output_type": "stream",
          "name": "stdout",
          "text": [
            "Epoch 1/25\n",
            "52/52 [==============================] - ETA: 0s - loss: 0.6827 - accuracy: 0.5590\n",
            "Epoch 00001: val_accuracy improved from -inf to 0.56071, saving model to my_checkpoint.ckpt\n",
            "52/52 [==============================] - 7s 53ms/step - loss: 0.6827 - accuracy: 0.5590 - val_loss: 0.6826 - val_accuracy: 0.5607\n",
            "Epoch 2/25\n",
            "51/52 [============================>.] - ETA: 0s - loss: 0.6756 - accuracy: 0.5761\n",
            "Epoch 00002: val_accuracy improved from 0.56071 to 0.57657, saving model to my_checkpoint.ckpt\n",
            "52/52 [==============================] - 2s 32ms/step - loss: 0.6755 - accuracy: 0.5764 - val_loss: 0.6788 - val_accuracy: 0.5766\n",
            "Epoch 3/25\n",
            "51/52 [============================>.] - ETA: 0s - loss: 0.6699 - accuracy: 0.5953\n",
            "Epoch 00003: val_accuracy did not improve from 0.57657\n",
            "52/52 [==============================] - 2s 32ms/step - loss: 0.6699 - accuracy: 0.5953 - val_loss: 0.6755 - val_accuracy: 0.5723\n",
            "Epoch 4/25\n",
            "51/52 [============================>.] - ETA: 0s - loss: 0.6646 - accuracy: 0.5990\n",
            "Epoch 00004: val_accuracy improved from 0.57657 to 0.58328, saving model to my_checkpoint.ckpt\n",
            "52/52 [==============================] - 2s 35ms/step - loss: 0.6648 - accuracy: 0.5987 - val_loss: 0.6737 - val_accuracy: 0.5833\n",
            "Epoch 5/25\n",
            "51/52 [============================>.] - ETA: 0s - loss: 0.6603 - accuracy: 0.6054\n",
            "Epoch 00005: val_accuracy improved from 0.58328 to 0.58511, saving model to my_checkpoint.ckpt\n",
            "52/52 [==============================] - 2s 34ms/step - loss: 0.6600 - accuracy: 0.6060 - val_loss: 0.6718 - val_accuracy: 0.5851\n",
            "Epoch 6/25\n",
            "51/52 [============================>.] - ETA: 0s - loss: 0.6559 - accuracy: 0.6098\n",
            "Epoch 00006: val_accuracy did not improve from 0.58511\n",
            "52/52 [==============================] - 2s 36ms/step - loss: 0.6559 - accuracy: 0.6099 - val_loss: 0.6736 - val_accuracy: 0.5772\n",
            "Epoch 7/25\n",
            "51/52 [============================>.] - ETA: 0s - loss: 0.6499 - accuracy: 0.6213\n",
            "Epoch 00007: val_accuracy did not improve from 0.58511\n",
            "52/52 [==============================] - 2s 36ms/step - loss: 0.6501 - accuracy: 0.6212 - val_loss: 0.6725 - val_accuracy: 0.5802\n",
            "Epoch 8/25\n",
            "51/52 [============================>.] - ETA: 0s - loss: 0.6445 - accuracy: 0.6296\n",
            "Epoch 00008: val_accuracy did not improve from 0.58511\n",
            "52/52 [==============================] - 2s 36ms/step - loss: 0.6442 - accuracy: 0.6298 - val_loss: 0.6722 - val_accuracy: 0.5796\n",
            "Epoch 9/25\n",
            "51/52 [============================>.] - ETA: 0s - loss: 0.6381 - accuracy: 0.6328\n",
            "Epoch 00009: val_accuracy did not improve from 0.58511\n",
            "52/52 [==============================] - 2s 35ms/step - loss: 0.6376 - accuracy: 0.6333 - val_loss: 0.6779 - val_accuracy: 0.5802\n",
            "Epoch 10/25\n",
            "51/52 [============================>.] - ETA: 0s - loss: 0.6319 - accuracy: 0.6475\n",
            "Epoch 00010: val_accuracy did not improve from 0.58511\n",
            "52/52 [==============================] - 2s 36ms/step - loss: 0.6319 - accuracy: 0.6476 - val_loss: 0.6764 - val_accuracy: 0.5766\n",
            "Epoch 11/25\n",
            "51/52 [============================>.] - ETA: 0s - loss: 0.6244 - accuracy: 0.6527\n",
            "Epoch 00011: val_accuracy did not improve from 0.58511\n",
            "52/52 [==============================] - 2s 36ms/step - loss: 0.6243 - accuracy: 0.6528 - val_loss: 0.6777 - val_accuracy: 0.5747\n",
            "Epoch 12/25\n",
            "51/52 [============================>.] - ETA: 0s - loss: 0.6165 - accuracy: 0.6645\n",
            "Epoch 00012: val_accuracy did not improve from 0.58511\n",
            "52/52 [==============================] - 2s 36ms/step - loss: 0.6165 - accuracy: 0.6646 - val_loss: 0.6830 - val_accuracy: 0.5735\n"
          ]
        }
      ]
    },
    {
      "cell_type": "code",
      "metadata": {
        "id": "OjrSD7gsp2Gl",
        "colab": {
          "base_uri": "https://localhost:8080/"
        },
        "outputId": "a74b4789-da9e-443a-f457-ecfa8141293f"
      },
      "source": [
        "model.evaluate(X_test_padded, y_test)"
      ],
      "execution_count": 62,
      "outputs": [
        {
          "output_type": "stream",
          "name": "stdout",
          "text": [
            "64/64 [==============================] - 2s 11ms/step - loss: 0.6748 - accuracy: 0.5894\n"
          ]
        },
        {
          "output_type": "execute_result",
          "data": {
            "text/plain": [
              "[0.6747572422027588, 0.58935546875]"
            ]
          },
          "metadata": {},
          "execution_count": 62
        }
      ]
    },
    {
      "cell_type": "code",
      "metadata": {
        "id": "nFCWgHSGp41-",
        "colab": {
          "base_uri": "https://localhost:8080/"
        },
        "outputId": "6377b558-eeee-46e8-e243-47e0781f93fa"
      },
      "source": [
        "predictions = (model.predict(X_test_padded) > 0.5).astype(\"int32\")\n",
        "accuracy = accuracy_score(y_test, predictions)\n",
        "print(\"Testing Accuracy: \", accuracy)"
      ],
      "execution_count": 63,
      "outputs": [
        {
          "output_type": "stream",
          "name": "stdout",
          "text": [
            "Testing Accuracy:  0.58935546875\n"
          ]
        }
      ]
    },
    {
      "cell_type": "code",
      "metadata": {
        "id": "gve_JsHSp-hk",
        "colab": {
          "base_uri": "https://localhost:8080/",
          "height": 466
        },
        "outputId": "9a2506b2-91d9-4861-d0fd-5047b4b0e72b"
      },
      "source": [
        "print('Confusion Matrix')\n",
        "cm = confusion_matrix(y_test, predictions)\n",
        "print(sns.heatmap(confusion_matrix(y_test, predictions),annot=True,fmt=\"d\"))\n",
        "print(classification_report(y_test, predictions, digits=5))"
      ],
      "execution_count": 64,
      "outputs": [
        {
          "output_type": "stream",
          "name": "stdout",
          "text": [
            "Confusion Matrix\n",
            "AxesSubplot(0.125,0.125;0.62x0.755)\n",
            "              precision    recall  f1-score   support\n",
            "\n",
            "           0    0.50368   0.40426   0.44852       846\n",
            "           1    0.63185   0.71963   0.67289      1202\n",
            "\n",
            "    accuracy                        0.58936      2048\n",
            "   macro avg    0.56776   0.56194   0.56071      2048\n",
            "weighted avg    0.57890   0.58936   0.58021      2048\n",
            "\n"
          ]
        },
        {
          "output_type": "display_data",
          "data": {
            "image/png": "[encoded data removed]",
            "text/plain": [
              "<Figure size 432x288 with 2 Axes>"
            ]
          },
          "metadata": {
            "needs_background": "light"
          }
        }
      ]
    },
    {
      "cell_type": "markdown",
      "source": [
        "# BERT Explore"
      ],
      "metadata": {
        "id": "FQbd8e7gIsWx"
      }
    },
    {
      "cell_type": "code",
      "source": [
        "X_train, X_test, y_train, y_test = train_test_split(train_df['statement'],train_df['label'], test_size=0.2, random_state=111)\n",
        "print(X_train.shape, y_train.shape, X_test.shape, y_test.shape)"
      ],
      "metadata": {
        "colab": {
          "base_uri": "https://localhost:8080/"
        },
        "id": "tYIoOKsHIu0y",
        "outputId": "d9092b9a-7f29-45ee-d98c-f2cad663df8a"
      },
      "execution_count": 65,
      "outputs": [
        {
          "output_type": "stream",
          "name": "stdout",
          "text": [
            "(8192,) (8192,) (2048,) (2048,)\n"
          ]
        }
      ]
    },
    {
      "cell_type": "code",
      "source": [
        "bert_abstract = \"\"\n",
        "for sent in X_train:\n",
        "    bert_abstract += sent +\" \"\n",
        "\n",
        "len(bert_abstract)"
      ],
      "metadata": {
        "colab": {
          "base_uri": "https://localhost:8080/"
        },
        "id": "zURhy6MzI2Mr",
        "outputId": "2bc68289-6d4b-47c0-cb4c-aa973b4b2164"
      },
      "execution_count": 66,
      "outputs": [
        {
          "output_type": "execute_result",
          "data": {
            "text/plain": [
              "622854"
            ]
          },
          "metadata": {},
          "execution_count": 66
        }
      ]
    },
    {
      "cell_type": "code",
      "source": [
        "!pip install transformers -U"
      ],
      "metadata": {
        "colab": {
          "base_uri": "https://localhost:8080/"
        },
        "id": "TlWRyv9II2IS",
        "outputId": "2ffdcebe-605f-4528-f400-0deb35736254"
      },
      "execution_count": 67,
      "outputs": [
        {
          "output_type": "stream",
          "name": "stdout",
          "text": [
            "Collecting transformers\n",
            "  Downloading transformers-4.15.0-py3-none-any.whl (3.4 MB)\n",
            "\u001b[K     |████████████████████████████████| 3.4 MB 10.7 MB/s \n",
            "\u001b[?25hRequirement already satisfied: packaging>=20.0 in /usr/local/lib/python3.7/dist-packages (from transformers) (21.3)\n",
            "Requirement already satisfied: filelock in /usr/local/lib/python3.7/dist-packages (from transformers) (3.4.0)\n",
            "Requirement already satisfied: tqdm>=4.27 in /usr/local/lib/python3.7/dist-packages (from transformers) (4.62.3)\n",
            "Requirement already satisfied: regex!=2019.12.17 in /usr/local/lib/python3.7/dist-packages (from transformers) (2019.12.20)\n",
            "Requirement already satisfied: numpy>=1.17 in /usr/local/lib/python3.7/dist-packages (from transformers) (1.19.5)\n",
            "Collecting pyyaml>=5.1\n",
            "  Downloading PyYAML-6.0-cp37-cp37m-manylinux_2_5_x86_64.manylinux1_x86_64.manylinux_2_12_x86_64.manylinux2010_x86_64.whl (596 kB)\n",
            "\u001b[K     |████████████████████████████████| 596 kB 27.4 MB/s \n",
            "\u001b[?25hCollecting huggingface-hub<1.0,>=0.1.0\n",
            "  Downloading huggingface_hub-0.2.1-py3-none-any.whl (61 kB)\n",
            "\u001b[K     |████████████████████████████████| 61 kB 410 kB/s \n",
            "\u001b[?25hRequirement already satisfied: requests in /usr/local/lib/python3.7/dist-packages (from transformers) (2.23.0)\n",
            "Collecting sacremoses\n",
            "  Downloading sacremoses-0.0.46-py3-none-any.whl (895 kB)\n",
            "\u001b[K     |████████████████████████████████| 895 kB 39.0 MB/s \n",
            "\u001b[?25hCollecting tokenizers<0.11,>=0.10.1\n",
            "  Downloading tokenizers-0.10.3-cp37-cp37m-manylinux_2_5_x86_64.manylinux1_x86_64.manylinux_2_12_x86_64.manylinux2010_x86_64.whl (3.3 MB)\n",
            "\u001b[K     |████████████████████████████████| 3.3 MB 24.2 MB/s \n",
            "\u001b[?25hRequirement already satisfied: importlib-metadata in /usr/local/lib/python3.7/dist-packages (from transformers) (4.8.2)\n",
            "Requirement already satisfied: typing-extensions>=3.7.4.3 in /usr/local/lib/python3.7/dist-packages (from huggingface-hub<1.0,>=0.1.0->transformers) (3.10.0.2)\n",
            "Requirement already satisfied: pyparsing!=3.0.5,>=2.0.2 in /usr/local/lib/python3.7/dist-packages (from packaging>=20.0->transformers) (3.0.6)\n",
            "Requirement already satisfied: zipp>=0.5 in /usr/local/lib/python3.7/dist-packages (from importlib-metadata->transformers) (3.6.0)\n",
            "Requirement already satisfied: chardet<4,>=3.0.2 in /usr/local/lib/python3.7/dist-packages (from requests->transformers) (3.0.4)\n",
            "Requirement already satisfied: idna<3,>=2.5 in /usr/local/lib/python3.7/dist-packages (from requests->transformers) (2.10)\n",
            "Requirement already satisfied: certifi>=2017.4.17 in /usr/local/lib/python3.7/dist-packages (from requests->transformers) (2021.10.8)\n",
            "Requirement already satisfied: urllib3!=1.25.0,!=1.25.1,<1.26,>=1.21.1 in /usr/local/lib/python3.7/dist-packages (from requests->transformers) (1.24.3)\n",
            "Requirement already satisfied: click in /usr/local/lib/python3.7/dist-packages (from sacremoses->transformers) (7.1.2)\n",
            "Requirement already satisfied: six in /usr/local/lib/python3.7/dist-packages (from sacremoses->transformers) (1.15.0)\n",
            "Requirement already satisfied: joblib in /usr/local/lib/python3.7/dist-packages (from sacremoses->transformers) (1.1.0)\n",
            "Installing collected packages: pyyaml, tokenizers, sacremoses, huggingface-hub, transformers\n",
            "  Attempting uninstall: pyyaml\n",
            "    Found existing installation: PyYAML 3.13\n",
            "    Uninstalling PyYAML-3.13:\n",
            "      Successfully uninstalled PyYAML-3.13\n",
            "Successfully installed huggingface-hub-0.2.1 pyyaml-6.0 sacremoses-0.0.46 tokenizers-0.10.3 transformers-4.15.0\n"
          ]
        }
      ]
    },
    {
      "cell_type": "code",
      "source": [
        "import tensorflow as tf\n",
        "from transformers import BertTokenizer, TFBertModel\n",
        "\n",
        "tokenizer = BertTokenizer.from_pretrained('bert-base-uncased')\n",
        "model = TFBertModel.from_pretrained('bert-base-uncased')\n",
        "input_ids = tf.constant(tokenizer.encode(bert_abstract))[None, :6000]\n",
        "outputs = model(input_ids)\n",
        "last_hidden_states = outputs[0]"
      ],
      "metadata": {
        "colab": {
          "base_uri": "https://localhost:8080/",
          "height": 306,
          "referenced_widgets": [
            "978166d3152c4bbe9a9279bfdbed78a0",
            "455696c7653440bfaa73aef1b03a7d7a",
            "cf252fbf985d4c989eebe2234ccf6958",
            "f43ad7b360be435c910e16ac8f16628c",
            "a39e302d46b54e53ae81d774c1dd2c2d",
            "b6ff265016c74c588f7809806541ec63",
            "fcc11da9ec914223b28bd92123435215",
            "e199479728d2493cb9fe77f1b4ea3a43",
            "f8fdb4ee18ed4e0d8eddafea39be73ea",
            "2141c018ca3648acab03cf9677a44c1f",
            "ced6410c91cb4c3d952f0a6eb018a61d",
            "af5968fd2dc349ec80511d66cb0f0e4e",
            "3c2f623c0fec4375a32df9a8882a9ff0",
            "67f25a2e62ea471883532d00d7cdf5f2",
            "6eccbe79e77e4511a52c3033390e90ce",
            "7cd0ea9252b742479385c53760f6ea0d",
            "5b3014e9a3db4eddb5a320434b90ce2d",
            "6a7beec70f3148cb82e5fe855f878c00",
            "ad4e7edf56e048cc9d12aa2db4cd4c9e",
            "7a57dec882e641be98255bd6378ef763",
            "a06b587c075e4c59b5ef65d0517d900d",
            "beeaeeaec98248458822d04daf56b05a",
            "e13a5ac0bd1240cdb35e8fb5b62917a8",
            "6b0c0ecdafd340448be11848cc97d673",
            "f1ecc5d1b514447fa8506c74ed0026af",
            "3b666c80d41d47bf8e60bf40a72c8534",
            "6161e9e45c6d4d4387341aa34c90dcac",
            "0dc43afce51046fcbec90766970a0bac",
            "54982a5b4fee4ee894ee191462d5ebdc",
            "4dd3ea3624434ab5a5d9a9e8cb7b9a09",
            "48b32289fad54d93a0ef6a4b0f1a9ed2",
            "0be7974cc0a8462fb2522b7573d0f40a",
            "51063ecffbd545d0aee81a6bcbbe5519",
            "7d334ad1c3f84f238cf7547b35a84947",
            "468cf3dc30814a6695db135c7f9de20b",
            "787b9d4f114f413bac39b70b2e3cd8c4",
            "ed11528376e341779eb253a36c05e92a",
            "7decfd6f18ab426c90cd873fd64cad9a",
            "2d13b267f4674a9897aec827e370a416",
            "254a2f4f283e4dfe855278267e9ac19e",
            "05fdf45e7c6445ff9ef03288aaf7e76d",
            "f18bb5995189463d8153010097c55577",
            "64c81c5ebb444591834d22822429d122",
            "419ce9196e054f108580665c05166f5b",
            "ab5c541636f14b7cb5d6f8fbbe3b6501",
            "fcb45ddc339b4763b74283a9993d11b4",
            "bfae3f9bc4ba43bcbfe1f92333d29670",
            "cbfba76d005643eba6422180e06ef330",
            "d59bae87523446f2bcfa10748b528c71",
            "ceb89b77387f4646ab8400f5a88b5d49",
            "d9ca3e2ceb724903b7d3afb9b39cafda",
            "33f31b36eb1d4f459384d8e0a794a27e",
            "ceae4d523f0548a49971bc0d410858a0",
            "d97b4df499b444da9d9b62f29c9afa46",
            "68cb14039e654b4fbfdf157441ae27ef"
          ]
        },
        "id": "xIJqhivUI2Bz",
        "outputId": "c7e8d2f0-afab-41af-a4d8-c1e4210601aa"
      },
      "execution_count": 68,
      "outputs": [
        {
          "output_type": "display_data",
          "data": {
            "application/vnd.jupyter.widget-view+json": {
              "model_id": "978166d3152c4bbe9a9279bfdbed78a0",
              "version_minor": 0,
              "version_major": 2
            },
            "text/plain": [
              "Downloading:   0%|          | 0.00/226k [00:00<?, ?B/s]"
            ]
          },
          "metadata": {}
        },
        {
          "output_type": "display_data",
          "data": {
            "application/vnd.jupyter.widget-view+json": {
              "model_id": "af5968fd2dc349ec80511d66cb0f0e4e",
              "version_minor": 0,
              "version_major": 2
            },
            "text/plain": [
              "Downloading:   0%|          | 0.00/28.0 [00:00<?, ?B/s]"
            ]
          },
          "metadata": {}
        },
        {
          "output_type": "display_data",
          "data": {
            "application/vnd.jupyter.widget-view+json": {
              "model_id": "e13a5ac0bd1240cdb35e8fb5b62917a8",
              "version_minor": 0,
              "version_major": 2
            },
            "text/plain": [
              "Downloading:   0%|          | 0.00/455k [00:00<?, ?B/s]"
            ]
          },
          "metadata": {}
        },
        {
          "output_type": "display_data",
          "data": {
            "application/vnd.jupyter.widget-view+json": {
              "model_id": "7d334ad1c3f84f238cf7547b35a84947",
              "version_minor": 0,
              "version_major": 2
            },
            "text/plain": [
              "Downloading:   0%|          | 0.00/570 [00:00<?, ?B/s]"
            ]
          },
          "metadata": {}
        },
        {
          "output_type": "display_data",
          "data": {
            "application/vnd.jupyter.widget-view+json": {
              "model_id": "ab5c541636f14b7cb5d6f8fbbe3b6501",
              "version_minor": 0,
              "version_major": 2
            },
            "text/plain": [
              "Downloading:   0%|          | 0.00/511M [00:00<?, ?B/s]"
            ]
          },
          "metadata": {}
        },
        {
          "output_type": "stream",
          "name": "stderr",
          "text": [
            "Some layers from the model checkpoint at bert-base-uncased were not used when initializing TFBertModel: ['mlm___cls', 'nsp___cls']\n",
            "- This IS expected if you are initializing TFBertModel from the checkpoint of a model trained on another task or with another architecture (e.g. initializing a BertForSequenceClassification model from a BertForPreTraining model).\n",
            "- This IS NOT expected if you are initializing TFBertModel from the checkpoint of a model that you expect to be exactly identical (initializing a BertForSequenceClassification model from a BertForSequenceClassification model).\n",
            "All the layers of TFBertModel were initialized from the model checkpoint at bert-base-uncased.\n",
            "If your task is similar to the task the model of the checkpoint was trained on, you can already use TFBertModel for predictions without further training.\n",
            "Token indices sequence length is longer than the specified maximum sequence length for this model (102196 > 512). Running this sequence through the model will result in indexing errors\n"
          ]
        }
      ]
    },
    {
      "cell_type": "code",
      "source": [
        "import numpy as np\n",
        "emb_matrix = np.array(last_hidden_states)\n",
        "emb_matrix = emb_matrix[0]\n",
        "print(emb_matrix.shape)"
      ],
      "metadata": {
        "colab": {
          "base_uri": "https://localhost:8080/"
        },
        "id": "ESkr1cu3JDhP",
        "outputId": "7d3d4247-7c3c-4be7-ca17-cb709f5d86c2"
      },
      "execution_count": 69,
      "outputs": [
        {
          "output_type": "stream",
          "name": "stdout",
          "text": [
            "(6000, 768)\n"
          ]
        }
      ]
    },
    {
      "cell_type": "code",
      "source": [
        "tokenizer = Tokenizer(num_words=5000)\n",
        "tokenizer.fit_on_texts(X_train)\n",
        "words_to_index = tokenizer.word_index"
      ],
      "metadata": {
        "id": "ulZdov6ZJDeH"
      },
      "execution_count": 70,
      "outputs": []
    },
    {
      "cell_type": "code",
      "source": [
        "maxLen = 120\n",
        "X_train_padded = tokenizer.texts_to_sequences(X_train)\n",
        "X_train_padded = pad_sequences(X_train_padded, maxlen=maxLen, padding='post')\n",
        "X_test_padded = tokenizer.texts_to_sequences(X_test)\n",
        "X_test_padded = pad_sequences(X_test_padded, maxlen=maxLen, padding='post')"
      ],
      "metadata": {
        "id": "Cd-7tEpFJQ5r"
      },
      "execution_count": 71,
      "outputs": []
    },
    {
      "cell_type": "code",
      "source": [
        "model = Sequential()\n",
        "# define CNN model\n",
        "#model.add(Embedding(vocab_size, embedding_dim, input_length=max_length))\n",
        "model.add(Embedding(input_dim=6000, output_dim=768, input_length=120, weights = [emb_matrix], trainable=True))\n",
        "model.add(tf.keras.layers.Conv1D(filters=32, kernel_size=8, activation='relu'))\n",
        "model.add(tf.keras.layers.MaxPooling1D(pool_size=2))\n",
        "model.add(Bidirectional(GRU(32, return_sequences=True)))\n",
        "#model.add(GRU(32, return_sequences=True))\n",
        "model.add(Dropout(0.3))\n",
        "model.add(Flatten())\n",
        "model.add(Dense(32, activation=\"relu\"))\n",
        "model.add(Dropout(0.3))\n",
        "model.add(Dense(1, activation=\"sigmoid\"))"
      ],
      "metadata": {
        "id": "oy0t1r9MJQ2O"
      },
      "execution_count": 72,
      "outputs": []
    },
    {
      "cell_type": "code",
      "source": [
        "optimizer = tf.keras.optimizers.Adam(learning_rate = 0.0001)\n",
        "model.compile(loss = \"binary_crossentropy\",optimizer = optimizer,metrics = [\"accuracy\"])\n",
        "filepath = 'my_checkpoint.ckpt'\n",
        "cp = ModelCheckpoint(filepath=filepath,save_weights_only=True,save_best_only=True,monitor='val_accuracy',verbose=1)\n",
        "ep = EarlyStopping(monitor='val_accuracy', patience=7)"
      ],
      "metadata": {
        "id": "WdEeEiLNJQrT"
      },
      "execution_count": 73,
      "outputs": []
    },
    {
      "cell_type": "code",
      "source": [
        "epochs=25\n",
        "history = model.fit(\n",
        "    X_train_padded, y_train,\n",
        "    validation_split = 0.2,\n",
        "    callbacks=[cp,ep],\n",
        "    batch_size=128,\n",
        "    epochs=epochs\n",
        ")"
      ],
      "metadata": {
        "colab": {
          "base_uri": "https://localhost:8080/"
        },
        "id": "XA8W8VX0JYcq",
        "outputId": "a2fd450f-5b81-480f-ea98-6debcafedf7d"
      },
      "execution_count": 74,
      "outputs": [
        {
          "output_type": "stream",
          "name": "stdout",
          "text": [
            "Epoch 1/25\n",
            "52/52 [==============================] - ETA: 0s - loss: 0.6909 - accuracy: 0.5430\n",
            "Epoch 00001: val_accuracy improved from -inf to 0.55949, saving model to my_checkpoint.ckpt\n",
            "52/52 [==============================] - 9s 87ms/step - loss: 0.6909 - accuracy: 0.5430 - val_loss: 0.6856 - val_accuracy: 0.5595\n",
            "Epoch 2/25\n",
            "51/52 [============================>.] - ETA: 0s - loss: 0.6847 - accuracy: 0.5524\n",
            "Epoch 00002: val_accuracy did not improve from 0.55949\n",
            "52/52 [==============================] - 3s 54ms/step - loss: 0.6847 - accuracy: 0.5529 - val_loss: 0.6871 - val_accuracy: 0.5577\n",
            "Epoch 3/25\n",
            "51/52 [============================>.] - ETA: 0s - loss: 0.6822 - accuracy: 0.5553\n",
            "Epoch 00003: val_accuracy did not improve from 0.55949\n",
            "52/52 [==============================] - 3s 55ms/step - loss: 0.6825 - accuracy: 0.5547 - val_loss: 0.6869 - val_accuracy: 0.5595\n",
            "Epoch 4/25\n",
            "51/52 [============================>.] - ETA: 0s - loss: 0.6829 - accuracy: 0.5565\n",
            "Epoch 00004: val_accuracy improved from 0.55949 to 0.56254, saving model to my_checkpoint.ckpt\n",
            "52/52 [==============================] - 3s 58ms/step - loss: 0.6829 - accuracy: 0.5565 - val_loss: 0.6872 - val_accuracy: 0.5625\n",
            "Epoch 5/25\n",
            "51/52 [============================>.] - ETA: 0s - loss: 0.6805 - accuracy: 0.5555\n",
            "Epoch 00005: val_accuracy did not improve from 0.56254\n",
            "52/52 [==============================] - 3s 54ms/step - loss: 0.6806 - accuracy: 0.5549 - val_loss: 0.6856 - val_accuracy: 0.5595\n",
            "Epoch 6/25\n",
            "51/52 [============================>.] - ETA: 0s - loss: 0.6789 - accuracy: 0.5602\n",
            "Epoch 00006: val_accuracy improved from 0.56254 to 0.56559, saving model to my_checkpoint.ckpt\n",
            "52/52 [==============================] - 3s 58ms/step - loss: 0.6787 - accuracy: 0.5605 - val_loss: 0.6845 - val_accuracy: 0.5656\n",
            "Epoch 7/25\n",
            "51/52 [============================>.] - ETA: 0s - loss: 0.6751 - accuracy: 0.5734\n",
            "Epoch 00007: val_accuracy did not improve from 0.56559\n",
            "52/52 [==============================] - 3s 55ms/step - loss: 0.6752 - accuracy: 0.5733 - val_loss: 0.6998 - val_accuracy: 0.5607\n",
            "Epoch 8/25\n",
            "51/52 [============================>.] - ETA: 0s - loss: 0.6738 - accuracy: 0.5833\n",
            "Epoch 00008: val_accuracy did not improve from 0.56559\n",
            "52/52 [==============================] - 3s 55ms/step - loss: 0.6737 - accuracy: 0.5835 - val_loss: 0.6818 - val_accuracy: 0.5644\n",
            "Epoch 9/25\n",
            "51/52 [============================>.] - ETA: 0s - loss: 0.6642 - accuracy: 0.6066\n",
            "Epoch 00009: val_accuracy improved from 0.56559 to 0.56681, saving model to my_checkpoint.ckpt\n",
            "52/52 [==============================] - 3s 57ms/step - loss: 0.6642 - accuracy: 0.6067 - val_loss: 0.6835 - val_accuracy: 0.5668\n",
            "Epoch 10/25\n",
            "51/52 [============================>.] - ETA: 0s - loss: 0.6541 - accuracy: 0.6222\n",
            "Epoch 00010: val_accuracy improved from 0.56681 to 0.57108, saving model to my_checkpoint.ckpt\n",
            "52/52 [==============================] - 3s 58ms/step - loss: 0.6541 - accuracy: 0.6225 - val_loss: 0.6775 - val_accuracy: 0.5711\n",
            "Epoch 11/25\n",
            "51/52 [============================>.] - ETA: 0s - loss: 0.6344 - accuracy: 0.6489\n",
            "Epoch 00011: val_accuracy did not improve from 0.57108\n",
            "52/52 [==============================] - 3s 56ms/step - loss: 0.6343 - accuracy: 0.6489 - val_loss: 0.6778 - val_accuracy: 0.5644\n",
            "Epoch 12/25\n",
            "51/52 [============================>.] - ETA: 0s - loss: 0.6125 - accuracy: 0.6752\n",
            "Epoch 00012: val_accuracy improved from 0.57108 to 0.57962, saving model to my_checkpoint.ckpt\n",
            "52/52 [==============================] - 3s 58ms/step - loss: 0.6125 - accuracy: 0.6754 - val_loss: 0.6804 - val_accuracy: 0.5796\n",
            "Epoch 13/25\n",
            "51/52 [============================>.] - ETA: 0s - loss: 0.5813 - accuracy: 0.7071\n",
            "Epoch 00013: val_accuracy improved from 0.57962 to 0.58328, saving model to my_checkpoint.ckpt\n",
            "52/52 [==============================] - 3s 58ms/step - loss: 0.5810 - accuracy: 0.7076 - val_loss: 0.6825 - val_accuracy: 0.5833\n",
            "Epoch 14/25\n",
            "51/52 [============================>.] - ETA: 0s - loss: 0.5425 - accuracy: 0.7417\n",
            "Epoch 00014: val_accuracy did not improve from 0.58328\n",
            "52/52 [==============================] - 3s 62ms/step - loss: 0.5423 - accuracy: 0.7416 - val_loss: 0.6917 - val_accuracy: 0.5778\n",
            "Epoch 15/25\n",
            "51/52 [============================>.] - ETA: 0s - loss: 0.4788 - accuracy: 0.7963\n",
            "Epoch 00015: val_accuracy did not improve from 0.58328\n",
            "52/52 [==============================] - 3s 66ms/step - loss: 0.4786 - accuracy: 0.7961 - val_loss: 0.7257 - val_accuracy: 0.5821\n",
            "Epoch 16/25\n",
            "51/52 [============================>.] - ETA: 0s - loss: 0.4256 - accuracy: 0.8257\n",
            "Epoch 00016: val_accuracy did not improve from 0.58328\n",
            "52/52 [==============================] - 3s 66ms/step - loss: 0.4257 - accuracy: 0.8256 - val_loss: 0.7519 - val_accuracy: 0.5705\n",
            "Epoch 17/25\n",
            "51/52 [============================>.] - ETA: 0s - loss: 0.3899 - accuracy: 0.8390\n",
            "Epoch 00017: val_accuracy did not improve from 0.58328\n",
            "52/52 [==============================] - 3s 58ms/step - loss: 0.3903 - accuracy: 0.8384 - val_loss: 0.7754 - val_accuracy: 0.5790\n",
            "Epoch 18/25\n",
            "51/52 [============================>.] - ETA: 0s - loss: 0.3174 - accuracy: 0.8808\n",
            "Epoch 00018: val_accuracy did not improve from 0.58328\n",
            "52/52 [==============================] - 3s 62ms/step - loss: 0.3170 - accuracy: 0.8811 - val_loss: 0.8460 - val_accuracy: 0.5833\n",
            "Epoch 19/25\n",
            "51/52 [============================>.] - ETA: 0s - loss: 0.2724 - accuracy: 0.8975\n",
            "Epoch 00019: val_accuracy did not improve from 0.58328\n",
            "52/52 [==============================] - 3s 64ms/step - loss: 0.2722 - accuracy: 0.8978 - val_loss: 0.9006 - val_accuracy: 0.5674\n",
            "Epoch 20/25\n",
            "52/52 [==============================] - ETA: 0s - loss: 0.2129 - accuracy: 0.9249\n",
            "Epoch 00020: val_accuracy did not improve from 0.58328\n",
            "52/52 [==============================] - 3s 63ms/step - loss: 0.2129 - accuracy: 0.9249 - val_loss: 1.0018 - val_accuracy: 0.5778\n"
          ]
        }
      ]
    },
    {
      "cell_type": "code",
      "source": [
        "model.evaluate(X_test_padded, y_test)"
      ],
      "metadata": {
        "colab": {
          "base_uri": "https://localhost:8080/"
        },
        "id": "hbYnzH8qJYYu",
        "outputId": "330107ef-c26f-4c2a-998c-ed8ea3ef2e3c"
      },
      "execution_count": 75,
      "outputs": [
        {
          "output_type": "stream",
          "name": "stdout",
          "text": [
            "64/64 [==============================] - 3s 20ms/step - loss: 0.9861 - accuracy: 0.5815\n"
          ]
        }
      ]
    },
    {
      "cell_type": "code",
      "source": [
        "predictions = (model.predict(X_test_padded) > 0.5).astype(\"int32\")"
      ],
      "metadata": {
        "id": "xXYy18lzJoe5"
      },
      "execution_count": 76,
      "outputs": []
    },
    {
      "cell_type": "code",
      "source": [
        "print('Confusion Matrix')\n",
        "cm = confusion_matrix(y_test, predictions)\n",
        "print(sns.heatmap(confusion_matrix(y_test, predictions),annot=True,fmt=\"d\"))\n",
        "print(classification_report(y_test, predictions, digits=5))"
      ],
      "metadata": {
        "colab": {
          "base_uri": "https://localhost:8080/",
          "height": 466
        },
        "id": "xUnoBQfGJf9P",
        "outputId": "9b829bb2-b744-4e67-9695-db2f2a913ffe"
      },
      "execution_count": 77,
      "outputs": [
        {
          "output_type": "stream",
          "name": "stdout",
          "text": [
            "Confusion Matrix\n",
            "AxesSubplot(0.125,0.125;0.62x0.755)\n",
            "              precision    recall  f1-score   support\n",
            "\n",
            "           0    0.49134   0.36879   0.42134       846\n",
            "           1    0.62208   0.73128   0.67228      1202\n",
            "\n",
            "    accuracy                        0.58154      2048\n",
            "   macro avg    0.55671   0.55004   0.54681      2048\n",
            "weighted avg    0.56807   0.58154   0.56862      2048\n",
            "\n"
          ]
        },
        {
          "output_type": "display_data",
          "data": {
            "image/png": "[encoded data removed]",
            "text/plain": [
              "<Figure size 432x288 with 2 Axes>"
            ]
          },
          "metadata": {
            "needs_background": "light"
          }
        }
      ]
    }
  ]
}